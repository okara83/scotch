{
 "cells": [
  {
   "cell_type": "code",
   "execution_count": 1,
   "id": "778e5d85",
   "metadata": {
    "ExecuteTime": {
     "end_time": "2021-10-25T18:33:06.393441Z",
     "start_time": "2021-10-25T18:33:05.107747Z"
    },
    "cell_id": "00000-27e4f7a9-192e-4a0a-bad3-dfd518d50d11",
    "deepnote_cell_type": "code"
   },
   "outputs": [
    {
     "name": "stdout",
     "output_type": "stream",
     "text": [
      "Error processing line 3 of /usr/local/Cellar/python@3.9/3.9.9/Frameworks/Python.framework/Versions/3.9/lib/python3.9/site-packages/googleapis_common_protos-1.54.0-py3.10-nspkg.pth:\n",
      "\n",
      "  Traceback (most recent call last):\n",
      "    File \"/usr/local/Cellar/python@3.9/3.9.9/Frameworks/Python.framework/Versions/3.9/lib/python3.9/site.py\", line 169, in addpackage\n",
      "      exec(line)\n",
      "    File \"<string>\", line 1, in <module>\n",
      "    File \"<frozen importlib._bootstrap>\", line 562, in module_from_spec\n",
      "  AttributeError: 'NoneType' object has no attribute 'loader'\n",
      "\n",
      "Remainder of file ignored\n",
      "\u001b[33mDEPRECATION: Configuring installation scheme with distutils config files is deprecated and will no longer work in the near future. If you are using a Homebrew or Linuxbrew Python, please see discussion at https://github.com/Homebrew/homebrew-core/issues/76621\u001b[0m\u001b[33m\n",
      "\u001b[0m\u001b[33mWARNING: Ignoring invalid distribution -orch (/usr/local/lib/python3.9/site-packages)\u001b[0m\u001b[33m\n",
      "\u001b[0m\u001b[33mWARNING: Ignoring invalid distribution -orch (/usr/local/lib/python3.9/site-packages)\u001b[0m\u001b[33m\n",
      "\u001b[0mCollecting pipe\n",
      "  Downloading pipe-1.6.0-py2.py3-none-any.whl (6.8 kB)\n",
      "\u001b[33mWARNING: Ignoring invalid distribution -orch (/usr/local/lib/python3.9/site-packages)\u001b[0m\u001b[33m\n",
      "\u001b[0mInstalling collected packages: pipe\n",
      "\u001b[33m  DEPRECATION: Configuring installation scheme with distutils config files is deprecated and will no longer work in the near future. If you are using a Homebrew or Linuxbrew Python, please see discussion at https://github.com/Homebrew/homebrew-core/issues/76621\u001b[0m\u001b[33m\n",
      "\u001b[0m\u001b[33mDEPRECATION: Configuring installation scheme with distutils config files is deprecated and will no longer work in the near future. If you are using a Homebrew or Linuxbrew Python, please see discussion at https://github.com/Homebrew/homebrew-core/issues/76621\u001b[0m\u001b[33m\n",
      "\u001b[0m\u001b[33mWARNING: Ignoring invalid distribution -orch (/usr/local/lib/python3.9/site-packages)\u001b[0m\u001b[33m\n",
      "\u001b[0mSuccessfully installed pipe-1.6.0\n",
      "\u001b[33mWARNING: Ignoring invalid distribution -orch (/usr/local/lib/python3.9/site-packages)\u001b[0m\u001b[33m\n",
      "\u001b[0m\u001b[33mWARNING: Ignoring invalid distribution -orch (/usr/local/lib/python3.9/site-packages)\u001b[0m\u001b[33m\n",
      "\u001b[0m"
     ]
    }
   ],
   "source": [
    "!pip install pipe "
   ]
  },
  {
   "cell_type": "markdown",
   "id": "0ec519ee",
   "metadata": {
    "cell_id": "00001-bb774ebf-68de-40a7-bb88-e08cd2e240ad",
    "deepnote_cell_type": "markdown"
   },
   "source": [
    "# Pipe"
   ]
  },
  {
   "cell_type": "markdown",
   "id": "7a5e59b6",
   "metadata": {
    "cell_id": "00002-bdfaa40e-77bb-429b-bb04-d7254f436e33",
    "deepnote_cell_type": "markdown"
   },
   "source": [
    "## Filter Elements in an Iterable"
   ]
  },
  {
   "cell_type": "code",
   "execution_count": 2,
   "id": "2229d8ff",
   "metadata": {
    "ExecuteTime": {
     "end_time": "2021-10-25T19:52:16.459509Z",
     "start_time": "2021-10-25T19:52:16.446153Z"
    },
    "cell_id": "00003-1d4e179d-0b15-4b2f-9c99-f2f44b349cce",
    "deepnote_cell_type": "code"
   },
   "outputs": [],
   "source": [
    "from pipe import where"
   ]
  },
  {
   "cell_type": "code",
   "execution_count": 3,
   "id": "dd43467a",
   "metadata": {
    "ExecuteTime": {
     "end_time": "2021-10-25T18:50:54.776198Z",
     "start_time": "2021-10-25T18:50:54.752098Z"
    },
    "cell_id": "00004-1bae35e5-9f67-426a-a4c1-061eee822390",
    "deepnote_cell_type": "code"
   },
   "outputs": [
    {
     "data": {
      "text/plain": [
       "[2, 4]"
      ]
     },
     "execution_count": 3,
     "metadata": {},
     "output_type": "execute_result"
    }
   ],
   "source": [
    "arr = [1, 2, 3, 4, 5]\n",
    "\n",
    "# filter using list comprehension\n",
    "[x for x in arr if x % 2 == 0]"
   ]
  },
  {
   "cell_type": "code",
   "execution_count": 4,
   "id": "809005d8",
   "metadata": {
    "ExecuteTime": {
     "end_time": "2021-10-25T18:50:54.990550Z",
     "start_time": "2021-10-25T18:50:54.980052Z"
    },
    "cell_id": "00005-3ca928bc-42b8-42e1-9740-39aeace2189b",
    "deepnote_cell_type": "code"
   },
   "outputs": [
    {
     "data": {
      "text/plain": [
       "[2, 4]"
      ]
     },
     "execution_count": 4,
     "metadata": {},
     "output_type": "execute_result"
    }
   ],
   "source": [
    "# filter using pipe\n",
    "list(arr | where(lambda x: x % 2 == 0))"
   ]
  },
  {
   "cell_type": "markdown",
   "id": "fa660fd4",
   "metadata": {
    "cell_id": "00006-0e0646e7-9b0e-4f59-891a-6da01efa57e0",
    "deepnote_cell_type": "markdown"
   },
   "source": [
    "## Apply a Function to an Iterable"
   ]
  },
  {
   "cell_type": "code",
   "execution_count": 5,
   "id": "7e298fcf",
   "metadata": {
    "ExecuteTime": {
     "end_time": "2021-10-25T19:52:18.297097Z",
     "start_time": "2021-10-25T19:52:18.286221Z"
    },
    "cell_id": "00007-16181dd8-eda0-4d88-8212-161faba59c46",
    "deepnote_cell_type": "code"
   },
   "outputs": [],
   "source": [
    "from pipe import select"
   ]
  },
  {
   "cell_type": "code",
   "execution_count": 6,
   "id": "e6398333",
   "metadata": {
    "ExecuteTime": {
     "end_time": "2021-10-25T20:35:15.350102Z",
     "start_time": "2021-10-25T20:35:15.336337Z"
    },
    "cell_id": "00008-40cd5716-7cf2-4360-9ea9-bc788f45c358",
    "deepnote_cell_type": "code"
   },
   "outputs": [],
   "source": [
    "arr = [1, 2, 3, 4, 5]"
   ]
  },
  {
   "cell_type": "code",
   "execution_count": 7,
   "id": "b4fb1725",
   "metadata": {
    "ExecuteTime": {
     "end_time": "2021-10-25T21:01:48.869701Z",
     "start_time": "2021-10-25T21:01:48.848103Z"
    },
    "cell_id": "00009-c2da6ec8-ded8-4d54-bcff-2b21fe3512b0",
    "deepnote_cell_type": "code"
   },
   "outputs": [
    {
     "data": {
      "text/plain": [
       "[2, 4, 6, 8, 10]"
      ]
     },
     "execution_count": 7,
     "metadata": {},
     "output_type": "execute_result"
    }
   ],
   "source": [
    "list(arr | select(lambda x: x * 2))"
   ]
  },
  {
   "cell_type": "code",
   "execution_count": 8,
   "id": "3f779692",
   "metadata": {
    "ExecuteTime": {
     "end_time": "2021-10-25T20:35:15.737753Z",
     "start_time": "2021-10-25T20:35:15.720069Z"
    },
    "cell_id": "00010-bdcfd7ac-e8ed-457b-86e2-e237a7494916",
    "deepnote_cell_type": "code"
   },
   "outputs": [
    {
     "data": {
      "text/plain": [
       "[4, 8]"
      ]
     },
     "execution_count": 8,
     "metadata": {},
     "output_type": "execute_result"
    }
   ],
   "source": [
    "# Instead of this\n",
    "list(map(lambda x: x * 2, filter(lambda x: x % 2 == 0, arr)))"
   ]
  },
  {
   "cell_type": "code",
   "execution_count": 9,
   "id": "96ed2b2d",
   "metadata": {
    "ExecuteTime": {
     "end_time": "2021-10-25T18:50:58.624345Z",
     "start_time": "2021-10-25T18:50:58.614678Z"
    },
    "cell_id": "00011-b2a3ec03-eac4-46e7-905d-c687d055ff21",
    "deepnote_cell_type": "code"
   },
   "outputs": [
    {
     "data": {
      "text/plain": [
       "[4, 8]"
      ]
     },
     "execution_count": 9,
     "metadata": {},
     "output_type": "execute_result"
    }
   ],
   "source": [
    "# use pipe\n",
    "list(arr | where(lambda x: x % 2 == 0) | select(lambda x: x * 2))"
   ]
  },
  {
   "cell_type": "code",
   "execution_count": 10,
   "id": "6891928b",
   "metadata": {
    "ExecuteTime": {
     "end_time": "2021-10-25T18:50:59.669236Z",
     "start_time": "2021-10-25T18:50:59.656856Z"
    },
    "cell_id": "00012-b131a402-8188-4317-b4dd-5b3eead3780c",
    "deepnote_cell_type": "code"
   },
   "outputs": [
    {
     "data": {
      "text/plain": [
       "[2, 4, 6, 8, 10]"
      ]
     },
     "execution_count": 10,
     "metadata": {},
     "output_type": "execute_result"
    }
   ],
   "source": [
    "# the order matters\n",
    "list(arr | select(lambda x: x * 2) | where(lambda x: x % 2 == 0))"
   ]
  },
  {
   "cell_type": "markdown",
   "id": "70122f70",
   "metadata": {
    "cell_id": "00013-1ebb0b43-a039-42e7-93e8-01c3cddf3372",
    "deepnote_cell_type": "markdown"
   },
   "source": [
    "## Unfold Iterables"
   ]
  },
  {
   "cell_type": "markdown",
   "id": "ad05e5f1",
   "metadata": {
    "cell_id": "00014-dd824d02-53d7-469e-abbe-aca32c4eef96",
    "deepnote_cell_type": "markdown"
   },
   "source": [
    "### Chain"
   ]
  },
  {
   "cell_type": "code",
   "execution_count": 11,
   "id": "432fc483",
   "metadata": {
    "ExecuteTime": {
     "end_time": "2021-10-25T20:09:28.081385Z",
     "start_time": "2021-10-25T20:09:28.064972Z"
    },
    "cell_id": "00015-080a880d-0581-48bb-ba83-e05808693b1b",
    "deepnote_cell_type": "code"
   },
   "outputs": [],
   "source": [
    "from pipe import chain"
   ]
  },
  {
   "cell_type": "code",
   "execution_count": 12,
   "id": "720d8421",
   "metadata": {
    "ExecuteTime": {
     "end_time": "2021-10-25T21:13:19.172600Z",
     "start_time": "2021-10-25T21:13:19.156362Z"
    },
    "cell_id": "00016-3085d7c5-f818-49fe-ae35-b83baae63f3a",
    "deepnote_cell_type": "code"
   },
   "outputs": [
    {
     "data": {
      "text/plain": [
       "[1, 2, [3], 4, 5]"
      ]
     },
     "execution_count": 12,
     "metadata": {},
     "output_type": "execute_result"
    }
   ],
   "source": [
    "nested = [[1, 2, [3]], [4, 5]]\n",
    "list(nested | chain)"
   ]
  },
  {
   "cell_type": "markdown",
   "id": "01207748",
   "metadata": {
    "cell_id": "00017-3f581ddf-066d-4ba2-a8c3-a4f51c71c5e9",
    "deepnote_cell_type": "markdown"
   },
   "source": [
    "### Traverse"
   ]
  },
  {
   "cell_type": "code",
   "execution_count": 13,
   "id": "61828594",
   "metadata": {
    "ExecuteTime": {
     "end_time": "2021-10-25T21:13:23.231048Z",
     "start_time": "2021-10-25T21:13:23.219400Z"
    },
    "cell_id": "00018-bad5b875-6fbf-4f75-8b05-3a79c7b81ce4",
    "deepnote_cell_type": "code"
   },
   "outputs": [],
   "source": [
    "from pipe import traverse"
   ]
  },
  {
   "cell_type": "code",
   "execution_count": 14,
   "id": "5a796f50",
   "metadata": {
    "ExecuteTime": {
     "end_time": "2021-10-25T21:13:23.647017Z",
     "start_time": "2021-10-25T21:13:23.629314Z"
    },
    "cell_id": "00019-8b9c900c-da2b-4929-87ac-1b50999fcc96",
    "deepnote_cell_type": "code"
   },
   "outputs": [
    {
     "data": {
      "text/plain": [
       "[1, 2, 3, 4, 5]"
      ]
     },
     "execution_count": 14,
     "metadata": {},
     "output_type": "execute_result"
    }
   ],
   "source": [
    "list(nested | traverse)"
   ]
  },
  {
   "cell_type": "code",
   "execution_count": 15,
   "id": "8c9df7c1",
   "metadata": {
    "ExecuteTime": {
     "end_time": "2021-10-25T20:09:18.501348Z",
     "start_time": "2021-10-25T20:09:18.477861Z"
    },
    "cell_id": "00020-f299305c-c642-4389-aa90-ceb517655bb3",
    "deepnote_cell_type": "code"
   },
   "outputs": [],
   "source": [
    "fruits = [\n",
    "    {\"name\": \"apple\", \"price\": [2, 5]},\n",
    "    {\"name\": \"orange\", \"price\": 4},\n",
    "    {\"name\": \"grape\", \"price\": 5},\n",
    "]"
   ]
  },
  {
   "cell_type": "code",
   "execution_count": 16,
   "id": "ec766974",
   "metadata": {
    "ExecuteTime": {
     "end_time": "2021-10-25T20:11:09.178646Z",
     "start_time": "2021-10-25T20:11:09.159361Z"
    },
    "cell_id": "00021-bbfe052f-2d46-4e1b-a996-23fa1c62ab5a",
    "deepnote_cell_type": "code"
   },
   "outputs": [
    {
     "data": {
      "text/plain": [
       "[2, 5, 4, 5]"
      ]
     },
     "execution_count": 16,
     "metadata": {},
     "output_type": "execute_result"
    }
   ],
   "source": [
    "list(fruits | select(lambda fruit: fruit[\"price\"]) | traverse)"
   ]
  },
  {
   "cell_type": "markdown",
   "id": "53ab688b",
   "metadata": {
    "cell_id": "00022-9278ff61-f707-48f2-8e23-a0750c47a9c0",
    "deepnote_cell_type": "markdown"
   },
   "source": [
    "## Group Elements"
   ]
  },
  {
   "cell_type": "code",
   "execution_count": 17,
   "id": "8c342922",
   "metadata": {
    "ExecuteTime": {
     "end_time": "2021-10-25T19:57:45.490794Z",
     "start_time": "2021-10-25T19:57:45.476222Z"
    },
    "cell_id": "00023-4b0d1a1d-e2ae-4f9a-83c3-739c8109839d",
    "deepnote_cell_type": "code"
   },
   "outputs": [],
   "source": [
    "from pipe import groupby"
   ]
  },
  {
   "cell_type": "code",
   "execution_count": 18,
   "id": "a3a187d7",
   "metadata": {
    "ExecuteTime": {
     "end_time": "2021-10-26T20:37:56.918025Z",
     "start_time": "2021-10-26T20:37:56.878314Z"
    },
    "cell_id": "00024-35a498fa-44a2-414b-b3fb-41d7a6421c8c",
    "deepnote_cell_type": "code",
    "scrolled": true
   },
   "outputs": [
    {
     "data": {
      "text/plain": [
       "[{'Even': [2, 4, 6, 8]}, {'Odd': [1, 3, 5, 7, 9]}]"
      ]
     },
     "execution_count": 18,
     "metadata": {},
     "output_type": "execute_result"
    }
   ],
   "source": [
    "list(\n",
    "    (1, 2, 3, 4, 5, 6, 7, 8, 9)\n",
    "    | groupby(lambda x: \"Even\" if x % 2==0 else \"Odd\")\n",
    "    | select(lambda x: {x[0]: list(x[1])})\n",
    ")"
   ]
  },
  {
   "cell_type": "code",
   "execution_count": 19,
   "id": "e9bd5498",
   "metadata": {
    "ExecuteTime": {
     "end_time": "2021-10-26T20:27:02.962096Z",
     "start_time": "2021-10-26T20:27:02.912311Z"
    },
    "cell_id": "00025-9cce93f5-de3a-450f-b2d8-c9a6f2c88c34",
    "deepnote_cell_type": "code"
   },
   "outputs": [
    {
     "data": {
      "text/plain": [
       "[{'Even': [4, 6, 8]}, {'Odd': [3, 5, 7, 9]}]"
      ]
     },
     "execution_count": 19,
     "metadata": {},
     "output_type": "execute_result"
    }
   ],
   "source": [
    "list(\n",
    "    (1, 2, 3, 4, 5, 6, 7, 8, 9)\n",
    "    | groupby(lambda x: \"Even\" if x % 2==0 else \"Odd\")\n",
    "    | select(lambda x: {x[0]: list(x[1] | where(lambda x: x > 2))})\n",
    ")"
   ]
  },
  {
   "cell_type": "markdown",
   "id": "fb552008",
   "metadata": {
    "cell_id": "00026-b4d35f8e-33cd-48cb-ad3f-d638bdfc5713",
    "deepnote_cell_type": "markdown"
   },
   "source": [
    "## Deduplicate"
   ]
  },
  {
   "cell_type": "code",
   "execution_count": 20,
   "id": "b7241d20",
   "metadata": {
    "ExecuteTime": {
     "end_time": "2021-10-25T19:53:32.339486Z",
     "start_time": "2021-10-25T19:53:32.321816Z"
    },
    "cell_id": "00027-be3dc835-e3ae-41d6-95e5-51e9bdfa44c7",
    "deepnote_cell_type": "code"
   },
   "outputs": [],
   "source": [
    "from pipe import dedup\n",
    "\n",
    "arr = [1, 2, 2, 3, 4, 5, 6, 6, 7, 9, 3, 3, 1]"
   ]
  },
  {
   "cell_type": "code",
   "execution_count": 21,
   "id": "ec90d609",
   "metadata": {
    "ExecuteTime": {
     "end_time": "2021-10-25T19:08:11.849306Z",
     "start_time": "2021-10-25T19:08:11.840281Z"
    },
    "cell_id": "00028-6c7e076d-54ea-4809-bcaf-223d2061b6cd",
    "deepnote_cell_type": "code"
   },
   "outputs": [
    {
     "data": {
      "text/plain": [
       "[1, 2, 3, 4, 5, 6, 7, 9]"
      ]
     },
     "execution_count": 21,
     "metadata": {},
     "output_type": "execute_result"
    }
   ],
   "source": [
    "list(arr | dedup)"
   ]
  },
  {
   "cell_type": "code",
   "execution_count": 22,
   "id": "e9317262",
   "metadata": {
    "ExecuteTime": {
     "end_time": "2021-10-25T20:08:09.641825Z",
     "start_time": "2021-10-25T20:08:09.622675Z"
    },
    "cell_id": "00029-af896944-8f7c-4264-8def-27ef54501380",
    "deepnote_cell_type": "code"
   },
   "outputs": [
    {
     "data": {
      "text/plain": [
       "[1, 5]"
      ]
     },
     "execution_count": 22,
     "metadata": {},
     "output_type": "execute_result"
    }
   ],
   "source": [
    "# Get one element that is smaller than 5 and one element that is larger than or equal to 5\n",
    "list(arr | dedup(lambda key: key < 5))"
   ]
  },
  {
   "cell_type": "code",
   "execution_count": 23,
   "id": "0a2a043c",
   "metadata": {
    "ExecuteTime": {
     "end_time": "2021-10-25T19:52:46.916462Z",
     "start_time": "2021-10-25T19:52:46.890970Z"
    },
    "cell_id": "00030-32b22bfb-c87c-4bb5-a397-abb6f6ffb16a",
    "deepnote_cell_type": "code"
   },
   "outputs": [],
   "source": [
    "data = [\n",
    "    {\"name\": \"apple\", \"count\": 2},\n",
    "    {\"name\": \"orange\", \"count\": 4},\n",
    "    {\"name\": \"grape\", \"count\": None},\n",
    "    {\"name\": \"orange\", \"count\": 7},\n",
    "]"
   ]
  },
  {
   "cell_type": "code",
   "execution_count": 24,
   "id": "6ff47f1d",
   "metadata": {
    "ExecuteTime": {
     "end_time": "2021-10-25T19:53:35.577805Z",
     "start_time": "2021-10-25T19:53:35.551557Z"
    },
    "cell_id": "00031-7c850e6d-8a33-4bfe-b529-2207c97082ad",
    "deepnote_cell_type": "code"
   },
   "outputs": [
    {
     "data": {
      "text/plain": [
       "[2, 4]"
      ]
     },
     "execution_count": 24,
     "metadata": {},
     "output_type": "execute_result"
    }
   ],
   "source": [
    "list(\n",
    "    data\n",
    "    | dedup(key=lambda fruit: fruit[\"name\"])\n",
    "    | select(lambda fruit: fruit[\"count\"])\n",
    "    | where(lambda count: isinstance(count, int))\n",
    ")"
   ]
  }
 ],
 "metadata": {
  "deepnote": {},
  "deepnote_execution_queue": [],
  "deepnote_notebook_id": "855b20ae-1bdb-4a48-b403-ad701fb93ee2",
  "interpreter": {
   "hash": "81fd2c32c01ae2ba49907a34c36447a670709039fbd002790bd1125f246cf4a2"
  },
  "kernelspec": {
   "display_name": "Python 3 (ipykernel)",
   "language": "python",
   "name": "python3"
  },
  "language_info": {
   "codemirror_mode": {
    "name": "ipython",
    "version": 3
   },
   "file_extension": ".py",
   "mimetype": "text/x-python",
   "name": "python",
   "nbconvert_exporter": "python",
   "pygments_lexer": "ipython3",
   "version": "3.9.9"
  },
  "toc": {
   "base_numbering": 1,
   "nav_menu": {},
   "number_sections": true,
   "sideBar": true,
   "skip_h1_title": false,
   "title_cell": "Table of Contents",
   "title_sidebar": "Contents",
   "toc_cell": false,
   "toc_position": {},
   "toc_section_display": true,
   "toc_window_display": false
  }
 },
 "nbformat": 4,
 "nbformat_minor": 5
}
