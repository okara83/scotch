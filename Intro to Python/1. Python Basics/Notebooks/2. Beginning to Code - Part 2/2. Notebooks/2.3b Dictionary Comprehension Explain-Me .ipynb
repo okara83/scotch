{
  "nbformat": 4,
  "nbformat_minor": 0,
  "metadata": {
    "colab": {
      "name": "Dictionary_Comprehension-ExplainMe.ipynb",
      "private_outputs": true,
      "provenance": [],
      "collapsed_sections": []
    },
    "kernelspec": {
      "name": "python3",
      "display_name": "Python 3"
    },
    "language_info": {
      "name": "python"
    }
  },
  "cells": [
    {
      "cell_type": "code",
      "source": [
        "names_list = [\"Onur\",\"Cosku\",\"Muhittin\",\"Tommy\"]"
      ],
      "metadata": {
        "id": "BQQiaL3Igy92"
      },
      "execution_count": null,
      "outputs": []
    },
    {
      "cell_type": "code",
      "execution_count": null,
      "metadata": {
        "id": "pNaJTVvegceh"
      },
      "outputs": [],
      "source": [
        "dict_comprehension_1 = dict([(elem, names_list[indx-1]) for indx,elem in enumerate(names_list)])"
      ]
    },
    {
      "cell_type": "code",
      "source": [
        "dict_comprehension_2 ={elem : names_list[indx-1] for indx,elem in enumerate(names_list)}"
      ],
      "metadata": {
        "id": "KHr6aG_ngecO"
      },
      "execution_count": null,
      "outputs": []
    },
    {
      "cell_type": "code",
      "source": [
        "dict_comprehension_1"
      ],
      "metadata": {
        "id": "ir50yjL4glL5"
      },
      "execution_count": null,
      "outputs": []
    },
    {
      "cell_type": "code",
      "source": [
        "dict_comprehension_2"
      ],
      "metadata": {
        "id": "8qZi9xVBhRmc"
      },
      "execution_count": null,
      "outputs": []
    },
    {
      "cell_type": "code",
      "source": [
        ""
      ],
      "metadata": {
        "id": "UaIrqKynhTlM"
      },
      "execution_count": null,
      "outputs": []
    },
    {
      "cell_type": "code",
      "source": [
        ""
      ],
      "metadata": {
        "id": "Ju0wXzWbk9gv"
      },
      "execution_count": null,
      "outputs": []
    }
  ]
}