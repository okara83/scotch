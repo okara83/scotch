{
  "nbformat": 4,
  "nbformat_minor": 0,
  "metadata": {
    "colab": {
      "name": "list comprehensions.ipynb",
      "private_outputs": true,
      "provenance": [],
      "collapsed_sections": []
    },
    "kernelspec": {
      "name": "python3",
      "display_name": "Python 3"
    },
    "language_info": {
      "name": "python"
    }
  },
  "cells": [
    {
      "cell_type": "markdown",
      "source": [
        "# In this Notebook we will find that:\n",
        "- List comprehension is an elegant way to define and create lists based on existing lists.\n",
        "- List comprehension is generally more compact and faster than normal functions and loops for creating list.\n",
        "- However, we should avoid writing very long list comprehensions in one line to ensure that code is user-friendly.\n",
        "- Remember, every list comprehension can be rewritten in for loop, but every for loop can’t be rewritten in the form of list comprehension."
      ],
      "metadata": {
        "id": "g5m4qyJP0IiM"
      }
    },
    {
      "cell_type": "markdown",
      "source": [
        "# List Comprehension vs For Loop in Python\n",
        "Suppose, we want to separate the letters of the word human and add the letters as items of a list. The first thing that comes in mind would be using for loop.\n"
      ],
      "metadata": {
        "id": "_m0CJS6rxCq_"
      }
    },
    {
      "cell_type": "markdown",
      "source": [
        "Example 1: Iterating through a string Using for Loop"
      ],
      "metadata": {
        "id": "ynWchmggxOcZ"
      }
    },
    {
      "cell_type": "code",
      "execution_count": null,
      "metadata": {
        "id": "lS7EBi2cxAj0"
      },
      "outputs": [],
      "source": [
        "h_letters = []\n",
        "\n",
        "for letter in 'human':\n",
        "    h_letters.append(letter)\n",
        "\n",
        "print(h_letters)"
      ]
    },
    {
      "cell_type": "markdown",
      "source": [
        "However, Python has an easier way to solve this issue using List Comprehension. List comprehension is an elegant way to define and create lists based on existing lists.\n",
        "\n",
        "Let’s see how the above program can be written using list comprehensions."
      ],
      "metadata": {
        "id": "2nj7hi7kxcEJ"
      }
    },
    {
      "cell_type": "markdown",
      "source": [
        "Example 2: Iterating through a string Using List Comprehension"
      ],
      "metadata": {
        "id": "GN2JBRm0xgyQ"
      }
    },
    {
      "cell_type": "code",
      "source": [
        "h_letters = [ letter for letter in 'human' ]\n",
        "print( h_letters)"
      ],
      "metadata": {
        "id": "BCPG-iYgxM7o"
      },
      "execution_count": null,
      "outputs": []
    },
    {
      "cell_type": "markdown",
      "source": [
        "In the above example, a new list is assigned to variable h_letters, and list contains the items of the iterable string 'human'. We call print() function to receive the output.\n"
      ],
      "metadata": {
        "id": "BygwStkjxCtU"
      }
    },
    {
      "cell_type": "markdown",
      "source": [
        "# Syntax of List Comprehension\n",
        "`` [expression for item in list] ``"
      ],
      "metadata": {
        "id": "NaTYqcXBxzHI"
      }
    },
    {
      "cell_type": "markdown",
      "source": [
        "We can now identify where list comprehensions are used.\n",
        "\n",
        "If you noticed, human is a string, not a list. This is the power of list comprehension. It can identify when it receives a string or a tuple and work on it like a list.\n",
        "\n",
        "You can do that using loops. However, not every loop can be rewritten as list comprehension. But as you learn and get comfortable with list comprehensions, you will find yourself replacing more and more loops with this elegant syntax."
      ],
      "metadata": {
        "id": "h4zHa--Sx7Tx"
      }
    },
    {
      "cell_type": "markdown",
      "source": [
        "# List Comprehensions vs Lambda functions\n",
        "List comprehensions aren’t the only way to work on lists. Various built-in functions and lambda functions can create and modify lists in less lines of code.\n"
      ],
      "metadata": {
        "id": "fJxBm58SyDLu"
      }
    },
    {
      "cell_type": "markdown",
      "source": [
        "Example 3: Using Lambda functions inside List"
      ],
      "metadata": {
        "id": "sRhguD-VyHZH"
      }
    },
    {
      "cell_type": "code",
      "source": [
        "letters = list(map(lambda x: x, 'human'))\n",
        "print(letters)"
      ],
      "metadata": {
        "id": "w8_6lUPCyKQq"
      },
      "execution_count": null,
      "outputs": []
    },
    {
      "cell_type": "markdown",
      "source": [
        "However, list comprehensions are usually more human readable than lambda functions. It is easier to understand what the programmer was trying to accomplish when list comprehensions are used.\n"
      ],
      "metadata": {
        "id": "42_jQNvJyHa-"
      }
    },
    {
      "cell_type": "markdown",
      "source": [
        "# Conditionals in List Comprehension\n",
        "List comprehensions can utilize conditional statement to modify existing list (or other tuples). We will create list that uses mathematical operators, integers, and range().\n"
      ],
      "metadata": {
        "id": "f50sKjzlyXsV"
      }
    },
    {
      "cell_type": "code",
      "source": [
        "number_list = [ x for x in range(20) if x % 2 == 0] #The list number_list will be populated by the items in range from 0-19 if the item's value is divisible by 2.\n",
        "print(number_list)"
      ],
      "metadata": {
        "id": "yMx-R1dnxxaT"
      },
      "execution_count": null,
      "outputs": []
    },
    {
      "cell_type": "markdown",
      "source": [
        "Example 5: Nested IF with List Comprehension"
      ],
      "metadata": {
        "id": "IZ0-SrFuykji"
      }
    },
    {
      "cell_type": "code",
      "source": [
        "num_list = [y for y in range(100) if y % 2 == 0 if y % 5 == 0]\n",
        "print(num_list)"
      ],
      "metadata": {
        "id": "78g2CcpoycOR"
      },
      "execution_count": null,
      "outputs": []
    },
    {
      "cell_type": "markdown",
      "source": [
        "Above, list comprehension checks:\n",
        "- Is y divisible by 2 or not?\n",
        "- Is y divisible by 5 or not?\n",
        "- If y satisfies both conditions, y is appended to num_list."
      ],
      "metadata": {
        "id": "QK3X102IysXe"
      }
    },
    {
      "cell_type": "markdown",
      "source": [
        "Example 6: if...else With List Comprehension"
      ],
      "metadata": {
        "id": "OqCJcwV0yz07"
      }
    },
    {
      "cell_type": "code",
      "source": [
        "obj = [\"Even\" if i%2==0 else \"Odd\" for i in range(10)] #Here, list comprehension will check the 10 numbers from 0 to 9. If i is divisible by 2, then Even is appended to the obj list. If not, Odd is appended.\n",
        "print(obj)"
      ],
      "metadata": {
        "id": "CnnTYwUbyqxA"
      },
      "execution_count": null,
      "outputs": []
    },
    {
      "cell_type": "markdown",
      "source": [
        "# Nested Loops in List Comprehension\n",
        "Suppose, we need to compute the transpose of a matrix that requires nested for loop. Let’s see how it is done using normal for loop first.\n"
      ],
      "metadata": {
        "id": "21hAYvtXy9s7"
      }
    },
    {
      "cell_type": "markdown",
      "source": [
        "Example 7: Transpose of Matrix using Nested Loops"
      ],
      "metadata": {
        "id": "z9SEluEMy9vS"
      }
    },
    {
      "cell_type": "code",
      "source": [
        "transposed = []\n",
        "matrix = [[1, 2, 3, 4], [4, 5, 6, 8]]\n",
        "\n",
        "for i in range(len(matrix[0])): #this uses two for loops to find transpose of the matrix.\n",
        "    transposed_row = []\n",
        "\n",
        "    for row in matrix:\n",
        "        transposed_row.append(row[i])\n",
        "    transposed.append(transposed_row)\n",
        "\n",
        "print(transposed)"
      ],
      "metadata": {
        "id": "aBJPH9k8y4p8"
      },
      "execution_count": null,
      "outputs": []
    },
    {
      "cell_type": "markdown",
      "source": [
        "## You can also perform nested iteration inside a list comprehension. In this section, we will find transpose of a matrix using nested loop inside list comprehension."
      ],
      "metadata": {
        "id": "U2T3eVj_zO31"
      }
    },
    {
      "cell_type": "markdown",
      "source": [
        "Example 8: Transpose of a Matrix using List Comprehension"
      ],
      "metadata": {
        "id": "65Kcs3zgzkuL"
      }
    },
    {
      "cell_type": "code",
      "source": [
        "matrix = [[1, 2], [3,4], [5,6], [7,8]]\n",
        "transpose = [[row[i] for row in matrix] for i in range(2)]\n",
        "print (transpose)"
      ],
      "metadata": {
        "id": "DCDiFdkgzkGr"
      },
      "execution_count": null,
      "outputs": []
    },
    {
      "cell_type": "markdown",
      "source": [
        "In above program, we have a variable matrix which have 4 rows and 2 columns.We need to find transpose of the matrix. For that, we used list comprehension.\n",
        "\n",
        "**``Note: The nested loops in list comprehension don’t work like normal nested loops. ``In the above program, for i in range(2) is executed before row[i] for row in matrix. Hence at first, a value is assigned to i then item directed by row[i] is appended in the transpose variable."
      ],
      "metadata": {
        "id": "hCaQzpebzyv-"
      }
    },
    {
      "cell_type": "markdown",
      "source": [
        "# Key Points to Remember:\n",
        "- List comprehension is an elegant way to define and create lists based on existing lists.\n",
        "- List comprehension is generally more compact and faster than normal functions and loops for creating list.\n",
        "- However, we should avoid writing very long list comprehensions in one line to ensure that code is user-friendly.\n",
        "- Remember, every list comprehension can be rewritten in for loop, but every for loop can’t be rewritten in the form of list comprehension."
      ],
      "metadata": {
        "id": "356ECpgkzymO"
      }
    },
    {
      "cell_type": "code",
      "source": [
        ""
      ],
      "metadata": {
        "id": "TOR_MmvTzJ_d"
      },
      "execution_count": null,
      "outputs": []
    }
  ]
}