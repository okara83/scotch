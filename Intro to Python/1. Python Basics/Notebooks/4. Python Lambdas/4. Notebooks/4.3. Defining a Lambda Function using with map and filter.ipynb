{
  "nbformat": 4,
  "nbformat_minor": 0,
  "metadata": {
    "colab": {
      "name": "2a. Defining a Lambda Function - using with map and filter.ipynb",
      "private_outputs": true,
      "provenance": [],
      "collapsed_sections": []
    },
    "kernelspec": {
      "name": "python3",
      "display_name": "Python 3"
    },
    "language_info": {
      "name": "python"
    }
  },
  "cells": [
    {
      "cell_type": "markdown",
      "source": [
        "# Intro to Lambda functions in Python"
      ],
      "metadata": {
        "id": "1mow5f3urjQP"
      }
    },
    {
      "cell_type": "markdown",
      "source": [
        "## What are lambda functions in Python?\n"
      ],
      "metadata": {
        "id": "NyqY5vb2rf9v"
      }
    },
    {
      "cell_type": "markdown",
      "source": [
        "<ul>\n",
        "<li>An anonymous function is a function that is defined without a name.</li>\n",
        "<li>While normal functions are defined using the def keyword in Python, anonymous functions are defined using the lambda keyword.</li>\n",
        "</ul>\n",
        "\n",
        "## Hence, ``anonymous functions`` are also called ``lambda functions``."
      ],
      "metadata": {
        "id": "MD6Uei1qrtAY"
      }
    },
    {
      "cell_type": "markdown",
      "source": [
        "# How to use lambda Functions in Python?\n",
        "\n",
        "## A lambda function in python has the following syntax:\n",
        "- Lambda arguments: expression\n",
        "- Lambda functions can have any number of arguments but only one expression.\n",
        "- The expression is evaluated and returned. \n",
        "\n",
        "``Lambda functions can be used wherever function objects are required.``"
      ],
      "metadata": {
        "id": "ZEhdmiPjrgAu"
      }
    },
    {
      "cell_type": "markdown",
      "source": [
        "# Example of Lambda Function in python"
      ],
      "metadata": {
        "id": "SnYQSLFTrgC1"
      }
    },
    {
      "cell_type": "markdown",
      "source": [
        "## Program to show the use of lambda functions"
      ],
      "metadata": {
        "id": "w6VC2V-fs0fn"
      }
    },
    {
      "cell_type": "code",
      "source": [
        "double = lambda x: x * 2"
      ],
      "metadata": {
        "id": "GoT0E10As8Cg"
      },
      "execution_count": null,
      "outputs": []
    },
    {
      "cell_type": "code",
      "source": [
        "print(double(5))"
      ],
      "metadata": {
        "id": "CiALnH_EtAGa"
      },
      "execution_count": null,
      "outputs": []
    },
    {
      "cell_type": "markdown",
      "source": [
        "In the above program, lambda x: x * 2 is the lambda function. Here x is the argument and x * 2 is the expression that gets evaluated and returned."
      ],
      "metadata": {
        "id": "I-odOsI-ui2T"
      }
    },
    {
      "cell_type": "markdown",
      "source": [
        "This function has no name. It returns a function object which is assigned to the identifier double. We can now call it as a normal function. The statement"
      ],
      "metadata": {
        "id": "Urdl4aUXui4y"
      }
    },
    {
      "cell_type": "code",
      "source": [
        "double = lambda x: x * 2"
      ],
      "metadata": {
        "id": "O9_UT_iztA7h"
      },
      "execution_count": null,
      "outputs": []
    },
    {
      "cell_type": "markdown",
      "source": [
        "is nearly the same as:"
      ],
      "metadata": {
        "id": "loLtRAT_u60q"
      }
    },
    {
      "cell_type": "code",
      "source": [
        "def double(x):\n",
        "   return x * 2"
      ],
      "metadata": {
        "id": "d8xkkMIKu5_k"
      },
      "execution_count": null,
      "outputs": []
    },
    {
      "cell_type": "markdown",
      "source": [
        "# Use of Lambda Function in python\n",
        "\n",
        "## We use lambda functions when we require a nameless function for a short period of time.\n"
      ],
      "metadata": {
        "id": "SdZ_oe1SvFcp"
      }
    },
    {
      "cell_type": "markdown",
      "source": [
        "In Python, we generally use it as an argument to a higher-order function (a function that takes in other functions as arguments). \n",
        "Lambda functions are frequenctly used along with built-in functions like ``filter()``, ``map()`` etc."
      ],
      "metadata": {
        "id": "Iwuk_cbSvU7K"
      }
    },
    {
      "cell_type": "markdown",
      "source": [
        "# Example use with filter()\n",
        "The filter() function in Python takes in a function and a list as arguments.\n",
        "\n",
        "The function is called with all the items in the list and a new list is returned which contains items for which the function evaluates to True.\n",
        "\n",
        "Here is an example use of filter() function to filter out only even numbers from a list.\n",
        "\n"
      ],
      "metadata": {
        "id": "9NdK8bBLvMpi"
      }
    },
    {
      "cell_type": "code",
      "source": [
        "my_list = [1, 5, 4, 6, 8, 11, 3, 12]"
      ],
      "metadata": {
        "id": "Tkgf40HZu8TP"
      },
      "execution_count": null,
      "outputs": []
    },
    {
      "cell_type": "markdown",
      "source": [
        "# Program to filter out only the even items from a list"
      ],
      "metadata": {
        "id": "bUl1mNtavtRv"
      }
    },
    {
      "cell_type": "code",
      "source": [
        "new_list = list(filter(lambda x: (x%2 == 0) , my_list))"
      ],
      "metadata": {
        "id": "L8PN8G0uvWlr"
      },
      "execution_count": null,
      "outputs": []
    },
    {
      "cell_type": "code",
      "source": [
        "print(new_list)"
      ],
      "metadata": {
        "id": "cHeCrlDAvvAv"
      },
      "execution_count": null,
      "outputs": []
    },
    {
      "cell_type": "markdown",
      "source": [
        "# Example use with map()\n",
        "\n",
        "The map() function in Python takes in a function and a list.\n",
        "\n",
        "The function is called with all the items in the list and a new list is returned which contains items returned by that function for each item."
      ],
      "metadata": {
        "id": "gEbmhB65v7Bw"
      }
    },
    {
      "cell_type": "markdown",
      "source": [
        "# Example use of map():"
      ],
      "metadata": {
        "id": "vPurhbhzv7Or"
      }
    },
    {
      "cell_type": "code",
      "source": [
        "my_list = [1, 5, 4, 6, 8, 11, 3, 12]"
      ],
      "metadata": {
        "id": "0DOl63Zqv6RJ"
      },
      "execution_count": null,
      "outputs": []
    },
    {
      "cell_type": "markdown",
      "source": [
        "### Program to double each item in a list using map()"
      ],
      "metadata": {
        "id": "c3fv2BoowPGb"
      }
    },
    {
      "cell_type": "code",
      "source": [
        "new_list = list(map(lambda x: x * 2 , my_list))"
      ],
      "metadata": {
        "id": "mJYPRFQfwVba"
      },
      "execution_count": null,
      "outputs": []
    },
    {
      "cell_type": "code",
      "source": [
        "print(new_list)"
      ],
      "metadata": {
        "id": "INXLRbFnwW6V"
      },
      "execution_count": null,
      "outputs": []
    }
  ]
}