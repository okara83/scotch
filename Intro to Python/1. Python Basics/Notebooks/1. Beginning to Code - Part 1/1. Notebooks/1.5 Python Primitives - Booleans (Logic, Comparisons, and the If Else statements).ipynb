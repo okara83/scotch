{
 "cells": [
  {
   "cell_type": "markdown",
   "metadata": {},
   "source": [
    "# Logic\n",
    "\n",
    "## Boolean Values\n",
    "\n",
    "The [boolean](https://docs.python.org/3/library/stdtypes.html#truth-value-testing) type has only two values: `True` and `False`. Let's assign a boolean value to a variable and verify the type using the built-in function `type()`:"
   ]
  },
  {
   "cell_type": "code",
   "execution_count": 1,
   "metadata": {},
   "outputs": [
    {
     "name": "stdout",
     "output_type": "stream",
     "text": [
      "True\n"
     ]
    }
   ],
   "source": [
    "python_is_fun = True\n",
    "print(python_is_fun)"
   ]
  },
  {
   "cell_type": "code",
   "execution_count": 2,
   "metadata": {},
   "outputs": [
    {
     "data": {
      "text/plain": [
       "bool"
      ]
     },
     "execution_count": 2,
     "metadata": {},
     "output_type": "execute_result"
    }
   ],
   "source": [
    "type(python_is_fun)"
   ]
  },
  {
   "cell_type": "markdown",
   "metadata": {},
   "source": [
    "Let's assign the value `False` to a variable and again verify the type:"
   ]
  },
  {
   "cell_type": "code",
   "execution_count": 3,
   "metadata": {},
   "outputs": [
    {
     "name": "stdout",
     "output_type": "stream",
     "text": [
      "False\n"
     ]
    }
   ],
   "source": [
    "math_is_scary = False\n",
    "print(math_is_scary)"
   ]
  },
  {
   "cell_type": "code",
   "execution_count": 4,
   "metadata": {},
   "outputs": [
    {
     "data": {
      "text/plain": [
       "bool"
      ]
     },
     "execution_count": 4,
     "metadata": {},
     "output_type": "execute_result"
    }
   ],
   "source": [
    "type(math_is_scary)"
   ]
  },
  {
   "cell_type": "markdown",
   "metadata": {},
   "source": [
    "## Comparison Operators\n",
    "\n",
    "[Comparison operators](https://docs.python.org/3/library/stdtypes.html#comparisons) produce Boolean values as output. For example, if we have variables `x` and `y` with numeric values, we can evaluate the expression `x < y` and the result is a boolean value either `True` or `False`.\n",
    "\n",
    "| Comparison Operator | Description  |\n",
    "| :---: | :---: |\n",
    "| `<` | strictly less than |\n",
    "| `<=` | less than or equal |\n",
    "| `>` | strictly greater than |\n",
    "| `>=` | greater than or equal |\n",
    "| `==` | equal |\n",
    "| `!=` | not equal |\n",
    "\n",
    "For example:"
   ]
  },
  {
   "cell_type": "code",
   "execution_count": 5,
   "metadata": {},
   "outputs": [
    {
     "data": {
      "text/plain": [
       "False"
      ]
     },
     "execution_count": 5,
     "metadata": {},
     "output_type": "execute_result"
    }
   ],
   "source": [
    "1 == 2"
   ]
  },
  {
   "cell_type": "code",
   "execution_count": 6,
   "metadata": {},
   "outputs": [
    {
     "data": {
      "text/plain": [
       "True"
      ]
     },
     "execution_count": 6,
     "metadata": {},
     "output_type": "execute_result"
    }
   ],
   "source": [
    "1 < 2"
   ]
  },
  {
   "cell_type": "code",
   "execution_count": 7,
   "metadata": {},
   "outputs": [
    {
     "data": {
      "text/plain": [
       "True"
      ]
     },
     "execution_count": 7,
     "metadata": {},
     "output_type": "execute_result"
    }
   ],
   "source": [
    "2 == 2"
   ]
  },
  {
   "cell_type": "code",
   "execution_count": 8,
   "metadata": {},
   "outputs": [
    {
     "data": {
      "text/plain": [
       "True"
      ]
     },
     "execution_count": 8,
     "metadata": {},
     "output_type": "execute_result"
    }
   ],
   "source": [
    "3 != 3.14159"
   ]
  },
  {
   "cell_type": "code",
   "execution_count": 9,
   "metadata": {},
   "outputs": [
    {
     "data": {
      "text/plain": [
       "True"
      ]
     },
     "execution_count": 9,
     "metadata": {},
     "output_type": "execute_result"
    }
   ],
   "source": [
    "20.00000001 >= 20"
   ]
  },
  {
   "cell_type": "markdown",
   "metadata": {},
   "source": [
    "## Boolean Operators\n",
    "\n",
    "We combine logical expressions using [boolean operators](https://docs.python.org/3/library/stdtypes.html#boolean-operations-and-or-not) `and`, `or` and `not`.\n",
    "\n",
    "| Boolean Operator | Description |\n",
    "| :---: | :---: |\n",
    "| `A and B` | returns `True` if both `A` and `B` are `True` |\n",
    "| `A or B` | returns `True` if either `A` or `B` is `True`\n",
    "| `not A` |  returns `True` if `A` is `False`\n",
    "\n",
    "For example:"
   ]
  },
  {
   "cell_type": "code",
   "execution_count": 10,
   "metadata": {},
   "outputs": [
    {
     "data": {
      "text/plain": [
       "True"
      ]
     },
     "execution_count": 10,
     "metadata": {},
     "output_type": "execute_result"
    }
   ],
   "source": [
    "(1 < 2) and (3 != 5)"
   ]
  },
  {
   "cell_type": "code",
   "execution_count": 11,
   "metadata": {},
   "outputs": [
    {
     "data": {
      "text/plain": [
       "False"
      ]
     },
     "execution_count": 11,
     "metadata": {},
     "output_type": "execute_result"
    }
   ],
   "source": [
    "(1 < 2) and (3 < 1)"
   ]
  },
  {
   "cell_type": "code",
   "execution_count": 12,
   "metadata": {},
   "outputs": [
    {
     "data": {
      "text/plain": [
       "True"
      ]
     },
     "execution_count": 12,
     "metadata": {},
     "output_type": "execute_result"
    }
   ],
   "source": [
    "(1 < 2) or (3 < 1)"
   ]
  },
  {
   "cell_type": "code",
   "execution_count": 13,
   "metadata": {},
   "outputs": [
    {
     "data": {
      "text/plain": [
       "True"
      ]
     },
     "execution_count": 13,
     "metadata": {},
     "output_type": "execute_result"
    }
   ],
   "source": [
    "not (1000 <= 999)"
   ]
  },
  {
   "cell_type": "markdown",
   "metadata": {},
   "source": [
    "## if statements\n",
    "\n",
    "An [if statement](https://docs.python.org/3/tutorial/controlflow.html#if-statements) consists of one or more blocks of code such that only one block is executed depending on logical expressions. Let's do an example:"
   ]
  },
  {
   "cell_type": "code",
   "execution_count": 14,
   "metadata": {},
   "outputs": [
    {
     "name": "stdout",
     "output_type": "stream",
     "text": [
      "Discriminant = -24604\n",
      "Roots are complex.\n"
     ]
    }
   ],
   "source": [
    "# Determine if roots of polynomial ax^2 + bx + c = 0\n",
    "# are real, repeated or complex using the\n",
    "# quadratic formula x = (-b \\pm \\sqrt{b^2 - 4ac})/2a\n",
    "a = 10\n",
    "b = -234\n",
    "c = 1984\n",
    "discriminant = b**2 - 4*a*c\n",
    "if discriminant > 0:\n",
    "    print(\"Discriminant =\", discriminant)\n",
    "    print(\"Roots are real and distinct.\")\n",
    "elif discriminant < 0:\n",
    "    print(\"Discriminant =\", discriminant)\n",
    "    print(\"Roots are complex.\")\n",
    "else:\n",
    "    print(\"Discriminant =\", discriminant)\n",
    "    print(\"Roots are real and repeated.\")"
   ]
  },
  {
   "cell_type": "markdown",
   "metadata": {},
   "source": [
    "The main points to observe are:\n",
    "\n",
    "1. Start with the `if` keyword.\n",
    "2. Write a logical expression (returning `True` or `False`).\n",
    "3. End line with a colon `:`.\n",
    "4. Indent block 4 spaces after `if` statement.\n",
    "5. Include `elif` and `else` statements if needed.\n",
    "6. Only one of the blocks `if`, `elif` and `else` is executed.\n",
    "7. The block  following an `else` statement will execute only if all other logical expressions before it are `False`."
   ]
  }
 ],
 "metadata": {
  "kernelspec": {
   "display_name": "Python 3 (ipykernel)",
   "language": "python",
   "name": "python3"
  },
  "language_info": {
   "codemirror_mode": {
    "name": "ipython",
    "version": 3
   },
   "file_extension": ".py",
   "mimetype": "text/x-python",
   "name": "python",
   "nbconvert_exporter": "python",
   "pygments_lexer": "ipython3",
   "version": "3.9.9"
  }
 },
 "nbformat": 4,
 "nbformat_minor": 2
}
