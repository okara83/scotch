{
 "cells": [
  {
   "cell_type": "markdown",
   "metadata": {
    "id": "dU4K9SjGXlVe"
   },
   "source": [
    "# Numbers\n",
    "\n",
    "The main [numeric types](https://docs.python.org/3/library/stdtypes.html#numeric-types-int-float-complex) in Python are integers, floating point numbers and complex numbers. The syntax for arithmetic operators are: addition `+`, subtraction `-`, multiplication `*`, division `/` and exponentiation `**`."
   ]
  },
  {
   "cell_type": "markdown",
   "metadata": {
    "id": "dprFpdtkXlVi"
   },
   "source": [
    "## Integers\n",
    "\n",
    "Add integers:"
   ]
  },
  {
   "cell_type": "code",
   "execution_count": null,
   "metadata": {
    "id": "VkVqcokvXlVj",
    "outputId": "4a373309-6f85-4083-fef6-0fda0fff7480"
   },
   "outputs": [
    {
     "data": {
      "text/plain": [
       "20"
      ]
     },
     "execution_count": 1,
     "metadata": {},
     "output_type": "execute_result"
    }
   ],
   "source": [
    "8 + 12"
   ]
  },
  {
   "cell_type": "markdown",
   "metadata": {
    "id": "gAg2tX0vXlVl"
   },
   "source": [
    "Subtract integers:"
   ]
  },
  {
   "cell_type": "code",
   "execution_count": null,
   "metadata": {
    "id": "nkHlDzXwXlVl",
    "outputId": "1faeec54-b194-4e77-a276-fa3fc495b4a1"
   },
   "outputs": [
    {
     "data": {
      "text/plain": [
       "1998"
      ]
     },
     "execution_count": 2,
     "metadata": {},
     "output_type": "execute_result"
    }
   ],
   "source": [
    "2019 - 21"
   ]
  },
  {
   "cell_type": "markdown",
   "metadata": {
    "id": "mr9a_8hEXlVl"
   },
   "source": [
    "Multiply integers:"
   ]
  },
  {
   "cell_type": "code",
   "execution_count": null,
   "metadata": {
    "id": "rdPyXqTHXlVm",
    "outputId": "53901adf-58b8-4505-85df-343471a39a8d"
   },
   "outputs": [
    {
     "data": {
      "text/plain": [
       "495"
      ]
     },
     "execution_count": 3,
     "metadata": {},
     "output_type": "execute_result"
    }
   ],
   "source": [
    "45 * 11"
   ]
  },
  {
   "cell_type": "markdown",
   "metadata": {
    "id": "tZML0j4_XlVn"
   },
   "source": [
    "Divide integers (and notice that division of integers *always* returns a float):"
   ]
  },
  {
   "cell_type": "code",
   "execution_count": null,
   "metadata": {
    "id": "z5vZ4SlyXlVn",
    "outputId": "a96bc8e5-a644-4276-e9aa-a686f74b0773"
   },
   "outputs": [
    {
     "data": {
      "text/plain": [
       "25.0"
      ]
     },
     "execution_count": 4,
     "metadata": {},
     "output_type": "execute_result"
    }
   ],
   "source": [
    "100 / 4"
   ]
  },
  {
   "cell_type": "markdown",
   "metadata": {
    "id": "nwunIpa7XlVo"
   },
   "source": [
    "Compute powers of integers:"
   ]
  },
  {
   "cell_type": "code",
   "execution_count": null,
   "metadata": {
    "id": "k7IhClcfXlVp",
    "outputId": "c5b6134c-f399-4272-e06a-6532ef5c1575"
   },
   "outputs": [
    {
     "data": {
      "text/plain": [
       "1024"
      ]
     },
     "execution_count": 5,
     "metadata": {},
     "output_type": "execute_result"
    }
   ],
   "source": [
    "2**10"
   ]
  },
  {
   "cell_type": "markdown",
   "metadata": {
    "id": "0HhXYc9JXlVp"
   },
   "source": [
    "Use the built-in function `type()` to verify the type of a Python object:"
   ]
  },
  {
   "cell_type": "code",
   "execution_count": null,
   "metadata": {
    "id": "z52m_PbWXlVp",
    "outputId": "7923c95f-81eb-40f6-b899-a081cb92036c"
   },
   "outputs": [
    {
     "data": {
      "text/plain": [
       "int"
      ]
     },
     "execution_count": 6,
     "metadata": {},
     "output_type": "execute_result"
    }
   ],
   "source": [
    "type(42)"
   ]
  },
  {
   "cell_type": "markdown",
   "metadata": {
    "id": "p4qfGW0JXlVq"
   },
   "source": [
    "## Floating Point Numbers\n",
    "\n",
    "A floating point number (or float) is a real number written in decimal form. Python stores floats and integers in different ways and if we combine integers and floats using arithmetic operations the result is always a float.\n",
    "\n",
    "Approximate $\\sqrt{2} \\,$:"
   ]
  },
  {
   "cell_type": "code",
   "execution_count": null,
   "metadata": {
    "id": "YO3eNVF6XlVq",
    "outputId": "64406fde-ffef-4e24-a6ad-f1fffd020dea"
   },
   "outputs": [
    {
     "data": {
      "text/plain": [
       "1.4142135623730951"
      ]
     },
     "execution_count": 7,
     "metadata": {},
     "output_type": "execute_result"
    }
   ],
   "source": [
    "2**0.5"
   ]
  },
  {
   "cell_type": "markdown",
   "metadata": {
    "id": "jb7d1IFyXlVr"
   },
   "source": [
    "Approximate $2 \\pi$:"
   ]
  },
  {
   "cell_type": "code",
   "execution_count": null,
   "metadata": {
    "id": "_F5nEe4HXlVr",
    "outputId": "7dfa2a87-013d-45b8-bd64-a8b21ebda86e"
   },
   "outputs": [
    {
     "data": {
      "text/plain": [
       "6.28318"
      ]
     },
     "execution_count": 8,
     "metadata": {},
     "output_type": "execute_result"
    }
   ],
   "source": [
    "2 * 3.14159"
   ]
  },
  {
   "cell_type": "markdown",
   "metadata": {
    "id": "DsJug3eFXlVs"
   },
   "source": [
    "Use scientific notation to create $0.00001$:"
   ]
  },
  {
   "cell_type": "code",
   "execution_count": null,
   "metadata": {
    "id": "XLRoTaubXlVs",
    "outputId": "263ce2e9-e234-4d16-efa5-4be3a7bc3c76"
   },
   "outputs": [
    {
     "data": {
      "text/plain": [
       "1e-05"
      ]
     },
     "execution_count": 9,
     "metadata": {},
     "output_type": "execute_result"
    }
   ],
   "source": [
    "1e-5"
   ]
  },
  {
   "cell_type": "markdown",
   "metadata": {
    "id": "E-Um9TAYXlVs"
   },
   "source": [
    "Again, use the `type()` function to verify the type of a number:"
   ]
  },
  {
   "cell_type": "code",
   "execution_count": null,
   "metadata": {
    "id": "071Z24yQXlVt",
    "outputId": "3a1a9a4e-74ee-4ad2-9524-553e8c7fb885"
   },
   "outputs": [
    {
     "data": {
      "text/plain": [
       "int"
      ]
     },
     "execution_count": 10,
     "metadata": {},
     "output_type": "execute_result"
    }
   ],
   "source": [
    "type(42)"
   ]
  },
  {
   "cell_type": "code",
   "execution_count": null,
   "metadata": {
    "id": "QylAmo2NXlVt",
    "outputId": "98e6ce50-1201-459d-852f-9932b3669c5e"
   },
   "outputs": [
    {
     "data": {
      "text/plain": [
       "float"
      ]
     },
     "execution_count": 11,
     "metadata": {},
     "output_type": "execute_result"
    }
   ],
   "source": [
    "type(42.0)"
   ]
  },
  {
   "cell_type": "markdown",
   "metadata": {
    "id": "bx8m3mGAXlVt"
   },
   "source": [
    "## Complex Numbers\n",
    "\n",
    "Use the built-in function `complex()` to create a complex number in Python or use the letter `j` for $j = \\sqrt{-1}$. The built-in function `complex()` takes 2 parameters defining the real and imaginary part of the complex number.\n",
    "\n",
    "Complex numbers store the real and imaginary parts as a float by default.\n",
    "\n",
    "Create the complex number $1 + j$:"
   ]
  },
  {
   "cell_type": "code",
   "execution_count": null,
   "metadata": {
    "id": "fqpXQo9CXlVu",
    "outputId": "798b687c-805b-41bd-ccf7-ab2b3a3b953c"
   },
   "outputs": [
    {
     "data": {
      "text/plain": [
       "(1+1j)"
      ]
     },
     "execution_count": 12,
     "metadata": {},
     "output_type": "execute_result"
    }
   ],
   "source": [
    "complex(1,1)"
   ]
  },
  {
   "cell_type": "markdown",
   "metadata": {
    "id": "Lka-2V-IXlVu"
   },
   "source": [
    "Add complex numbers:"
   ]
  },
  {
   "cell_type": "code",
   "execution_count": null,
   "metadata": {
    "id": "q7JYPeHLXlVu",
    "outputId": "1997a6d4-ed66-4aa9-9964-63478301c825"
   },
   "outputs": [
    {
     "data": {
      "text/plain": [
       "(3-1j)"
      ]
     },
     "execution_count": 13,
     "metadata": {},
     "output_type": "execute_result"
    }
   ],
   "source": [
    "(1 + 2j) + (2 - 3j)"
   ]
  },
  {
   "cell_type": "markdown",
   "metadata": {
    "id": "vFeWpWZ7XlVu"
   },
   "source": [
    "Multiply complex numbers:"
   ]
  },
  {
   "cell_type": "code",
   "execution_count": null,
   "metadata": {
    "id": "QUnNUVCfXlVv",
    "outputId": "7bfcbfc8-9023-4fd1-f819-6b652f4afdcf"
   },
   "outputs": [
    {
     "data": {
      "text/plain": [
       "(12-1j)"
      ]
     },
     "execution_count": 14,
     "metadata": {},
     "output_type": "execute_result"
    }
   ],
   "source": [
    "(2 - 1j) * (5 + 2j)"
   ]
  },
  {
   "cell_type": "markdown",
   "metadata": {
    "id": "XuaPkUVPXlVv"
   },
   "source": [
    "Use the `type()` function to verify the type of a number:"
   ]
  },
  {
   "cell_type": "code",
   "execution_count": null,
   "metadata": {
    "id": "BEqsA5viXlVv",
    "outputId": "f2311cf0-6874-443b-cb4e-22418d44fc47"
   },
   "outputs": [
    {
     "data": {
      "text/plain": [
       "complex"
      ]
     },
     "execution_count": 15,
     "metadata": {},
     "output_type": "execute_result"
    }
   ],
   "source": [
    "type(2 - 7j)"
   ]
  },
  {
   "cell_type": "markdown",
   "metadata": {
    "id": "xirBgNXAXlVv"
   },
   "source": [
    "<!--\n",
    "\n",
    "### Complex Methods\n",
    "\n",
    "The complex datatype has a few methods. For example, we can access the real and imaginary parts of a complex number:\n",
    "\n",
    "```python\n",
    "z.real\n",
    "```\n",
    "\n",
    "```nohighlight\n",
    "1.0\n",
    "```\n",
    "\n",
    "```python\n",
    "z.imag\n",
    "```\n",
    "\n",
    "```nohighlight\n",
    "1.0\n",
    "```\n",
    "\n",
    "```python\n",
    "print(z)\n",
    "```\n",
    "\n",
    "```nohighlight\n",
    "(1+1j)\n",
    "```\n",
    "\n",
    "The conjugate of a complex number $z = a + b\\sqrt{-1}$ is $\\overline{z} = a - b\\sqrt{-1}$.\n",
    "\n",
    "```python\n",
    "z.conjugate()\n",
    "```\n",
    "\n",
    "```nohighlight\n",
    "(1-1j)\n",
    "```\n",
    "\n",
    "The modulus of a complex number $z = a + b\\sqrt{-1}$ is $|z| = \\sqrt{a^2 + b^2}$ which is computed by the builtin function `abs` (which is the absolute value when applied to integers and floats).\n",
    "\n",
    "```python\n",
    "print(z)\n",
    "abs(z)\n",
    "```\n",
    "\n",
    "```nohighlight\n",
    "(1+1j)\n",
    "1.4142135623730951\n",
    "```\n",
    "\n",
    "```python\n",
    "(1**2 + 1**2)**(0.5)\n",
    "```\n",
    "\n",
    "```nohighlight\n",
    "1.4142135623730951\n",
    "```\n",
    "-->"
   ]
  },
  {
   "cell_type": "markdown",
   "metadata": {
    "id": "RSzE1jA7XlVw"
   },
   "source": [
    "## Arithmetic Operators\n",
    "\n",
    "The syntax for arithmetic operators in Python are:\n",
    "\n",
    "| Operator | Description  |\n",
    "| :---: | :---: |\n",
    "| `+` | addition |\n",
    "| `-` | subtraction |\n",
    "| `*` | multiplication |\n",
    "| `/` | division |\n",
    "| `**` | exponentiation |\n",
    "| `%` | remainder (or modulo) |\n",
    "| `//` | integer division |\n",
    "\n",
    "Notice that division of integers always returns a float:"
   ]
  },
  {
   "cell_type": "code",
   "execution_count": null,
   "metadata": {
    "id": "s5EgRRyuXlVw",
    "outputId": "ca85d4b2-53be-4e65-c7fd-1fa992accf17"
   },
   "outputs": [
    {
     "data": {
      "text/plain": [
       "1.3333333333333333"
      ]
     },
     "execution_count": 16,
     "metadata": {},
     "output_type": "execute_result"
    }
   ],
   "source": [
    "4 / 3"
   ]
  },
  {
   "cell_type": "markdown",
   "metadata": {
    "id": "MUsexkdqXlVw"
   },
   "source": [
    "Even if the mathematical result is an integer:"
   ]
  },
  {
   "cell_type": "code",
   "execution_count": null,
   "metadata": {
    "id": "fLR8sVOnXlVw",
    "outputId": "f538346f-5087-4c2b-8af2-3d55403e0622"
   },
   "outputs": [
    {
     "data": {
      "text/plain": [
       "2.0"
      ]
     },
     "execution_count": 17,
     "metadata": {},
     "output_type": "execute_result"
    }
   ],
   "source": [
    "4 / 2"
   ]
  },
  {
   "cell_type": "markdown",
   "metadata": {
    "id": "15FK2tTlXlVw"
   },
   "source": [
    "Use parentheses to group combinations of arithmetic operations:"
   ]
  },
  {
   "cell_type": "code",
   "execution_count": null,
   "metadata": {
    "id": "zrpOAlruXlVx",
    "outputId": "06025f10-53a4-4dbd-81a3-f06273bf2223"
   },
   "outputs": [
    {
     "data": {
      "text/plain": [
       "33"
      ]
     },
     "execution_count": 18,
     "metadata": {},
     "output_type": "execute_result"
    }
   ],
   "source": [
    "5 * (4 + 3) - 2"
   ]
  },
  {
   "cell_type": "markdown",
   "metadata": {
    "id": "cqYOr_xrXlVx"
   },
   "source": [
    "An integer power of an integer is again an integer:"
   ]
  },
  {
   "cell_type": "code",
   "execution_count": null,
   "metadata": {
    "id": "JN3uZGpsXlVx",
    "outputId": "33958257-209f-4ca7-eb3e-0281d7b41e5a"
   },
   "outputs": [
    {
     "data": {
      "text/plain": [
       "16"
      ]
     },
     "execution_count": 19,
     "metadata": {},
     "output_type": "execute_result"
    }
   ],
   "source": [
    "2**4"
   ]
  },
  {
   "cell_type": "markdown",
   "metadata": {
    "id": "Lax9DgVzXlVx"
   },
   "source": [
    "An exponent involving a float is a float:"
   ]
  },
  {
   "cell_type": "code",
   "execution_count": null,
   "metadata": {
    "id": "60La4tUCXlVx",
    "outputId": "7ac78e78-2362-4c62-bd14-b7d0a9d78fa1"
   },
   "outputs": [
    {
     "data": {
      "text/plain": [
       "3.0"
      ]
     },
     "execution_count": 20,
     "metadata": {},
     "output_type": "execute_result"
    }
   ],
   "source": [
    "9**0.5"
   ]
  },
  {
   "cell_type": "markdown",
   "metadata": {
    "id": "RDHmoI8aXlVy"
   },
   "source": [
    "The remainder operator computes the remainder of division of integers:"
   ]
  },
  {
   "cell_type": "code",
   "execution_count": null,
   "metadata": {
    "id": "XbkJ00ZhXlVy",
    "outputId": "c853e4e8-4a8e-483e-8f14-a714caaebdf4"
   },
   "outputs": [
    {
     "data": {
      "text/plain": [
       "3"
      ]
     },
     "execution_count": 21,
     "metadata": {},
     "output_type": "execute_result"
    }
   ],
   "source": [
    "11 % 4"
   ]
  },
  {
   "cell_type": "markdown",
   "metadata": {
    "id": "Ql_gBTmGXlVy"
   },
   "source": [
    "Integer division is:"
   ]
  },
  {
   "cell_type": "code",
   "execution_count": null,
   "metadata": {
    "id": "IaU54LZsXlVy",
    "outputId": "82f991df-b26e-4bab-c87b-da0c8abf2ebb"
   },
   "outputs": [
    {
     "data": {
      "text/plain": [
       "2"
      ]
     },
     "execution_count": 22,
     "metadata": {},
     "output_type": "execute_result"
    }
   ],
   "source": [
    "11 // 4"
   ]
  },
  {
   "cell_type": "markdown",
   "metadata": {},
   "source": [
    "# A little bit of math for those who care...\n",
    "\n",
    "## Examples\n",
    "\n",
    "### Taylor Approximation"
   ]
  },
  {
   "cell_type": "markdown",
   "metadata": {},
   "source": [
    "The [Taylor series](https://en.wikipedia.org/wiki/Taylor_series) of the exponential function $e^x$ is given by\n",
    "\n",
    "$$\n",
    "e^x = \\sum_{k=0}^{\\infty} \\frac{x^k}{k!}\n",
    "$$\n",
    "\n",
    "Compute the Taylor polynomial of degree 5 evaluated at $x = 1$ to find an approximation of $e$\n",
    "\n",
    "$$\n",
    "e \\approx \\frac{1}{0!} + \\frac{1}{1!} + \\frac{1}{2!} + \\frac{1}{3!} + \\frac{1}{4!} + \\frac{1}{5!}\n",
    "$$"
   ]
  },
  {
   "cell_type": "code",
   "execution_count": 1,
   "metadata": {
    "id": "whqL2LKzXlVz",
    "outputId": "7e399c6b-8b74-451a-bb7d-8dfd83284c12"
   },
   "outputs": [
    {
     "data": {
      "text/plain": [
       "2.7166666666666663"
      ]
     },
     "execution_count": 1,
     "metadata": {},
     "output_type": "execute_result"
    }
   ],
   "source": [
    "1 + 1 + 1/2 + 1/(3*2) + 1/(4*3*2) + 1/(5*4*3*2)"
   ]
  },
  {
   "cell_type": "markdown",
   "metadata": {
    "id": "Nny36P47XlVz"
   },
   "source": [
    "### Ramanujan's $\\pi$ Formula\n",
    "\n",
    "[Srinivasa Ramanujan](https://en.wikipedia.org/wiki/Srinivasa_Ramanujan#Mathematical_achievements) discovered the following beautiful (and very rapidly converging) series representation of $\\pi$\n",
    "\n",
    "$$\n",
    "\\frac{1}{\\pi} = \\frac{2 \\sqrt{2}}{99^2} \\sum_{k = 0}^{\\infty} \\frac{(4k)!}{k!^4} \\frac{1103 + 26390k}{396^{4k}}\n",
    "$$\n",
    "\n",
    "Let's find an approximation of $\\pi$ by computing the *reciprocal* of the sum of the first 3 terms of the series:\n",
    "\n",
    "$$\n",
    "\\pi \\approx \\frac{99^2}{2 \\sqrt{2}} \\frac{1}{\\left( 1103 + 4! \\frac{1103 + 26390}{396^{4}} + \\frac{8!}{2^4} \\frac{1103 + 26390(2)}{396^{8}} \\right)}\n",
    "$$"
   ]
  },
  {
   "cell_type": "code",
   "execution_count": null,
   "metadata": {
    "id": "liIyXcLVXlVz",
    "outputId": "04a92ef3-9be6-4897-a46e-cce3ab02d52d"
   },
   "outputs": [
    {
     "data": {
      "text/plain": [
       "3.141592653589793"
      ]
     },
     "execution_count": 24,
     "metadata": {},
     "output_type": "execute_result"
    }
   ],
   "source": [
    "99**2 / (2 * 2**0.5) / (1103 + 4*3*2 * (26390 + 1103) / 396**4\n",
    "                       + 8*7*6*5*4*3*2 / 2**4 * (26390*2 + 1103) / 396**8)"
   ]
  },
  {
   "cell_type": "markdown",
   "metadata": {
    "id": "hWQiHzTFXlVz"
   },
   "source": [
    "These are exactly the first 16 digits of [$\\pi$](https://en.wikipedia.org/wiki/Pi)."
   ]
  },
  {
   "cell_type": "markdown",
   "metadata": {
    "id": "CvMgvLDEXlVz"
   },
   "source": [
    "## Exercises\n",
    "\n",
    "1. The [Taylor series](https://en.wikipedia.org/wiki/Taylor_series) of $\\cos x$ is given by\n",
    "\n",
    "    $$\n",
    "    \\cos x = \\sum_{k=0}^{\\infty} (-1)^k \\frac{x^{2k}}{(2k)!}\n",
    "    $$\n",
    "\n",
    "    Compute the Taylor polynomial of degree 6 evaluated at $x=2$:\n",
    "\n",
    "    $$\n",
    "    \\cos(2) \\approx 1 - \\frac{2^2}{2!} + \\frac{2^4}{4!} - \\frac{2^6}{6!}\n",
    "    $$\n",
    "\n",
    "2. The [Riemann zeta function](https://en.wikipedia.org/wiki/Riemann_zeta_function) is the infinite series\n",
    "\n",
    "    $$\n",
    "    \\zeta(s) = \\sum_{n=1}^{\\infty} \\frac{1}{n^s}\n",
    "    $$\n",
    "\n",
    "    and is intimately related to prime numbers by the [Euler product formula](https://en.wikipedia.org/wiki/Riemann_zeta_function#Euler_product_formula)\n",
    "\n",
    "    $$\n",
    "    \\sum_{n=1}^{\\infty} \\frac{1}{n^s} = \\prod_p \\left( \\frac{1}{1 - p^{-s}} \\right)\n",
    "    $$\n",
    "\n",
    "    where the product is over all primes $p = 2,3,5,7,11,13,\\dots$\n",
    "\n",
    "    Compute the 5th partial sum for $s=2$\n",
    "\n",
    "    $$\n",
    "    1 + \\frac{1}{2^2} + \\frac{1}{3^2} + \\frac{1}{4^2} + \\frac{1}{5^2}\n",
    "    $$\n",
    "\n",
    "    Compute the 5th partial product for $s=2$\n",
    "\n",
    "    $$\n",
    "    \\left( \\frac{1}{1 - 2^{-2}} \\right) \\left( \\frac{1}{1 - 3^{-2}} \\right) \\left( \\frac{1}{1 - 5^{-2}} \\right) \\left( \\frac{1}{1 - 7^{-2}} \\right) \\left( \\frac{1}{1 - 11^{-2}} \\right)\n",
    "    $$\n",
    "\n",
    "    Given [Euler's special value formula](https://en.wikipedia.org/wiki/Basel_problem)\n",
    "\n",
    "    $$\n",
    "    \\zeta(2) = \\frac{\\pi^2}{6}\n",
    "    $$\n",
    "\n",
    "    which converges more quickly: the infinite series or product?\n",
    "\n",
    "3. The [continued fraction](https://en.wikipedia.org/wiki/Continued_fraction#Square_roots) for $\\sqrt{2}$ is given by\n",
    "\n",
    "    $$\n",
    "    \\sqrt{2} = 1 + \\frac{1}{2 + \\frac{1}{2 + \\frac{1}{2 + \\frac{1}{2 + \\ddots}}}}\n",
    "    $$\n",
    "\n",
    "    Compute the following (partial) continued fraction to approximate $\\sqrt{2}$\n",
    "\n",
    "    $$\n",
    "    \\sqrt{2} \\approx 1 + \\frac{1}{2 + \\frac{1}{2 + \\frac{1}{2 + \\frac{1}{2}}}}\n",
    "    $$"
   ]
  }
 ],
 "metadata": {
  "colab": {
   "name": "1a. Python Primatives - Floats and Ints.ipynb",
   "provenance": []
  },
  "kernelspec": {
   "display_name": "Python 3 (ipykernel)",
   "language": "python",
   "name": "python3"
  },
  "language_info": {
   "codemirror_mode": {
    "name": "ipython",
    "version": 3
   },
   "file_extension": ".py",
   "mimetype": "text/x-python",
   "name": "python",
   "nbconvert_exporter": "python",
   "pygments_lexer": "ipython3",
   "version": "3.9.13"
  }
 },
 "nbformat": 4,
 "nbformat_minor": 1
}
