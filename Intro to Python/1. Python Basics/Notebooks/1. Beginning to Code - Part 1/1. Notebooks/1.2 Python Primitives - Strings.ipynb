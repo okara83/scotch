{
 "cells": [
  {
   "cell_type": "markdown",
   "metadata": {
    "id": "zlnHLnmRMY8l"
   },
   "source": [
    "# Python Strings\n"
   ]
  },
  {
   "cell_type": "markdown",
   "metadata": {
    "id": "9Dsy0iRC_NiG"
   },
   "source": [
    "Strings are a sequence of characters which can be stored either as a constant or a different variable. Strings are considered as a datatype. Typically, programmers **must enclose strings in quotation marks** for the data to recognized as a string and not a number or variable name. Shown below are some of the most used string methods on a daily basis and are one of the most commonly asked interview questions."
   ]
  },
  {
   "cell_type": "markdown",
   "metadata": {
    "id": "0nlE0F6gaIXq"
   },
   "source": [
    "## String evaluated directly in interpreter:"
   ]
  },
  {
   "cell_type": "code",
   "execution_count": null,
   "metadata": {
    "colab": {
     "base_uri": "https://localhost:8080/",
     "height": 35
    },
    "id": "-Lz7RUroZkxy",
    "outputId": "fac6b60f-476b-4a05-8364-45a63972ab9d"
   },
   "outputs": [
    {
     "data": {
      "application/vnd.google.colaboratory.intrinsic+json": {
       "type": "string"
      },
      "text/plain": [
       "'Hello, World'"
      ]
     },
     "execution_count": 3,
     "metadata": {},
     "output_type": "execute_result"
    }
   ],
   "source": [
    "\"Hello, World\""
   ]
  },
  {
   "cell_type": "markdown",
   "metadata": {
    "id": "ejsTSmyNaLE2"
   },
   "source": [
    "## Using The print statement (notice the subtle difference) "
   ]
  },
  {
   "cell_type": "code",
   "execution_count": null,
   "metadata": {
    "colab": {
     "base_uri": "https://localhost:8080/"
    },
    "id": "iFD7D-AwZrtj",
    "outputId": "e4e42c59-70c2-49be-b028-1aa8857b5ea8"
   },
   "outputs": [
    {
     "name": "stdout",
     "output_type": "stream",
     "text": [
      "Hello, World\n"
     ]
    }
   ],
   "source": [
    "print(\"Hello, World\")"
   ]
  },
  {
   "cell_type": "markdown",
   "metadata": {
    "id": "Zq3sCfrXaZsi"
   },
   "source": [
    "## Single quoutes work just as well, just be consistent"
   ]
  },
  {
   "cell_type": "code",
   "execution_count": null,
   "metadata": {
    "colab": {
     "base_uri": "https://localhost:8080/",
     "height": 35
    },
    "id": "4UED_BqOZupj",
    "outputId": "6d90ce30-5be1-4369-9174-f1233c803a5d"
   },
   "outputs": [
    {
     "data": {
      "application/vnd.google.colaboratory.intrinsic+json": {
       "type": "string"
      },
      "text/plain": [
       "'Hello, World'"
      ]
     },
     "execution_count": 5,
     "metadata": {},
     "output_type": "execute_result"
    }
   ],
   "source": [
    "'Hello, World'"
   ]
  },
  {
   "cell_type": "code",
   "execution_count": null,
   "metadata": {
    "colab": {
     "base_uri": "https://localhost:8080/"
    },
    "id": "C8boKtMHZur5",
    "outputId": "adc893ed-c3ec-4b6f-cdc8-6a19501cf128"
   },
   "outputs": [
    {
     "name": "stdout",
     "output_type": "stream",
     "text": [
      "Hello, World\n"
     ]
    }
   ],
   "source": [
    "print('Hello, World')"
   ]
  },
  {
   "cell_type": "markdown",
   "metadata": {
    "id": "pIY4aKtgbNAV"
   },
   "source": [
    "# Declaring a string in python (variables notebook:  ``1c. Variables.ipynb``):"
   ]
  },
  {
   "cell_type": "code",
   "execution_count": null,
   "metadata": {
    "colab": {
     "base_uri": "https://localhost:8080/",
     "height": 35
    },
    "id": "BIGc-dwobOzs",
    "outputId": "0addf3da-8c9a-408e-ff65-47c26e338a45"
   },
   "outputs": [
    {
     "name": "stdout",
     "output_type": "stream",
     "text": [
      "This is a python tutorial\n"
     ]
    }
   ],
   "source": [
    "# Declaring a string variable\n",
    "string = \"This is a python tutorial\"\n",
    "print(string)"
   ]
  },
  {
   "cell_type": "code",
   "execution_count": null,
   "metadata": {
    "colab": {
     "base_uri": "https://localhost:8080/",
     "height": 35
    },
    "id": "sOgqU15TbRP6",
    "outputId": "3d7c0ea5-ae76-4506-d093-804e3214cb80"
   },
   "outputs": [
    {
     "name": "stdout",
     "output_type": "stream",
     "text": [
      "<class 'str'>\n"
     ]
    }
   ],
   "source": [
    "print(type(string))"
   ]
  },
  {
   "cell_type": "markdown",
   "metadata": {
    "id": "SGLhburabSbf"
   },
   "source": [
    "\n",
    "\n",
    "---\n",
    "\n"
   ]
  },
  {
   "cell_type": "markdown",
   "metadata": {
    "id": "bKV_oUeUbT9G"
   },
   "source": [
    "## 1. Escape sequence  in python using strings"
   ]
  },
  {
   "cell_type": "markdown",
   "metadata": {
    "id": "JmieNp0cbVpO"
   },
   "source": [
    "In Python strings, the backslash \" \" is a special character, also called the \"escape\" character. It is used in representing certain whitespace characters: \"\\t\" is a tab, \"\\n\" is a new line, and \"\\r\" is a carriage return. Finally, \" \" can be used to escape itself: \"\\\" is the literal backslash character. "
   ]
  },
  {
   "cell_type": "code",
   "execution_count": null,
   "metadata": {
    "colab": {
     "base_uri": "https://localhost:8080/",
     "height": 35
    },
    "id": "iqAlH3DHbYfB",
    "outputId": "f37893b8-ef66-4b97-ef1c-f4f99dd7878c"
   },
   "outputs": [
    {
     "name": "stdout",
     "output_type": "stream",
     "text": [
      "This is a \"Google Colab\" python notebook\n"
     ]
    }
   ],
   "source": [
    "# THis is an escape sequence.\n",
    "string = \"This is a \\\"Google Colab\\\" python notebook\"\n",
    "print(string)"
   ]
  },
  {
   "cell_type": "markdown",
   "metadata": {
    "id": "KeMt-LXtba_w"
   },
   "source": [
    "\n",
    "\n",
    "---\n",
    "\n"
   ]
  },
  {
   "cell_type": "markdown",
   "metadata": {
    "id": "i6uHC1G_bcpD"
   },
   "source": [
    "## 2. Accessing the String by an Index"
   ]
  },
  {
   "cell_type": "markdown",
   "metadata": {
    "id": "f_SWqIkNbdsF"
   },
   "source": [
    "Strings can be accessed by their index in order to get the value. To do this all you have to do is just place the number (index value) inside the pair of square brackets along with the name of the string."
   ]
  },
  {
   "cell_type": "code",
   "execution_count": null,
   "metadata": {
    "colab": {
     "base_uri": "https://localhost:8080/",
     "height": 35
    },
    "id": "mIpJw2iRbf4d",
    "outputId": "fc3bce1d-63d3-44f0-a7ff-d8ddeb3cb047"
   },
   "outputs": [
    {
     "name": "stdout",
     "output_type": "stream",
     "text": [
      "t\n"
     ]
    }
   ],
   "source": [
    "string = \"Python\"\n",
    "print(string[2])"
   ]
  },
  {
   "cell_type": "code",
   "execution_count": null,
   "metadata": {
    "colab": {
     "base_uri": "https://localhost:8080/",
     "height": 35
    },
    "id": "DHBwL7TYbhVi",
    "outputId": "39dbd53e-a463-4273-a027-eed1a732d16c"
   },
   "outputs": [
    {
     "name": "stdout",
     "output_type": "stream",
     "text": [
      "n\n"
     ]
    }
   ],
   "source": [
    "print(string[5])"
   ]
  },
  {
   "cell_type": "markdown",
   "metadata": {
    "id": "nRlzW6W4biG6"
   },
   "source": [
    "\n",
    "\n",
    "---\n",
    "\n"
   ]
  },
  {
   "cell_type": "markdown",
   "metadata": {
    "id": "035PEbyEbiyF"
   },
   "source": [
    "## 3. Slicing a string"
   ]
  },
  {
   "cell_type": "markdown",
   "metadata": {
    "id": "-bb6K9SzblDR"
   },
   "source": [
    "Slicing a string helps to get a set of characters from a string. This is really helpful when we want to access a particular set of characters in a string. Below are some slicing variants that are useful."
   ]
  },
  {
   "cell_type": "code",
   "execution_count": null,
   "metadata": {
    "colab": {
     "base_uri": "https://localhost:8080/",
     "height": 35
    },
    "id": "aw6PN6nubmyp",
    "outputId": "2b1b70c5-3b24-4b62-df8f-e2122d25ed0f"
   },
   "outputs": [
    {
     "data": {
      "text/plain": [
       "'programming'"
      ]
     },
     "execution_count": 6,
     "metadata": {
      "tags": []
     },
     "output_type": "execute_result"
    }
   ],
   "source": [
    "string = \"programming\"\n",
    "string"
   ]
  },
  {
   "cell_type": "markdown",
   "metadata": {
    "id": "Cjc64ZDMbt5V"
   },
   "source": [
    "**Getting  one character of the string**"
   ]
  },
  {
   "cell_type": "code",
   "execution_count": null,
   "metadata": {
    "colab": {
     "base_uri": "https://localhost:8080/",
     "height": 35
    },
    "id": "MKV05Uclbomv",
    "outputId": "eae81339-d6e1-482e-88a9-d2d459c45be6"
   },
   "outputs": [
    {
     "name": "stdout",
     "output_type": "stream",
     "text": [
      "p\n"
     ]
    }
   ],
   "source": [
    "print(string[0:1])"
   ]
  },
  {
   "cell_type": "markdown",
   "metadata": {
    "id": "VqE7vaT7bwwW"
   },
   "source": [
    "**Getting the first three characters from the string**"
   ]
  },
  {
   "cell_type": "code",
   "execution_count": null,
   "metadata": {
    "colab": {
     "base_uri": "https://localhost:8080/",
     "height": 35
    },
    "id": "GfhGuOGXbykG",
    "outputId": "4ab8b481-9271-42ef-9e3f-31a700e73019"
   },
   "outputs": [
    {
     "name": "stdout",
     "output_type": "stream",
     "text": [
      "pro\n"
     ]
    }
   ],
   "source": [
    "print(string[0:3])"
   ]
  },
  {
   "cell_type": "markdown",
   "metadata": {
    "id": "INQoq6VKb056"
   },
   "source": [
    "**Getting the first three characters from the string (Alternate)**"
   ]
  },
  {
   "cell_type": "code",
   "execution_count": null,
   "metadata": {
    "colab": {
     "base_uri": "https://localhost:8080/",
     "height": 35
    },
    "id": "c5Qtr3qAb1or",
    "outputId": "1f762eeb-c3e6-4b57-dfbc-5f1bd29036b9"
   },
   "outputs": [
    {
     "name": "stdout",
     "output_type": "stream",
     "text": [
      "pro\n"
     ]
    }
   ],
   "source": [
    "print(string[:3])"
   ]
  },
  {
   "cell_type": "markdown",
   "metadata": {
    "id": "LqmBatu1b4B3"
   },
   "source": [
    "**Getting the last three characters from the string**"
   ]
  },
  {
   "cell_type": "code",
   "execution_count": null,
   "metadata": {
    "colab": {
     "base_uri": "https://localhost:8080/",
     "height": 35
    },
    "id": "NP01nD-Fb4rI",
    "outputId": "a4c961af-55a8-4777-e7d1-559432d53f5b"
   },
   "outputs": [
    {
     "name": "stdout",
     "output_type": "stream",
     "text": [
      "ing\n"
     ]
    }
   ],
   "source": [
    "print(string[-3:])"
   ]
  },
  {
   "cell_type": "markdown",
   "metadata": {
    "id": "CFHrPtA1b7P2"
   },
   "source": [
    "**Getting all characters but excluding three first characters from the string**"
   ]
  },
  {
   "cell_type": "code",
   "execution_count": null,
   "metadata": {
    "colab": {
     "base_uri": "https://localhost:8080/",
     "height": 35
    },
    "id": "GWyjj-T-b64y",
    "outputId": "247aaf75-e9b5-4cbc-8810-e5b31873c112"
   },
   "outputs": [
    {
     "name": "stdout",
     "output_type": "stream",
     "text": [
      "gramming\n"
     ]
    }
   ],
   "source": [
    "print(string[3:])"
   ]
  },
  {
   "cell_type": "markdown",
   "metadata": {
    "id": "u7xEgZUbcAe6"
   },
   "source": [
    "**Getting all characters but excluding the last three characters from the string**"
   ]
  },
  {
   "cell_type": "code",
   "execution_count": null,
   "metadata": {
    "colab": {
     "base_uri": "https://localhost:8080/",
     "height": 35
    },
    "id": "eSaTVepRcB_u",
    "outputId": "69050ad0-1f57-4cbd-ce5f-8e2c8088bff2"
   },
   "outputs": [
    {
     "name": "stdout",
     "output_type": "stream",
     "text": [
      "programm\n"
     ]
    }
   ],
   "source": [
    "print(string[:-3])"
   ]
  },
  {
   "cell_type": "markdown",
   "metadata": {
    "id": "NZ25LjX_cFTN"
   },
   "source": [
    "**Reversing all the characters in a given string**"
   ]
  },
  {
   "cell_type": "code",
   "execution_count": null,
   "metadata": {
    "colab": {
     "base_uri": "https://localhost:8080/",
     "height": 35
    },
    "id": "rTcC5ghscDnM",
    "outputId": "2180d576-ed54-472d-922d-de1842a0181f"
   },
   "outputs": [
    {
     "name": "stdout",
     "output_type": "stream",
     "text": [
      "gnimmargorp\n"
     ]
    }
   ],
   "source": [
    "print(string[::-1])"
   ]
  },
  {
   "cell_type": "markdown",
   "metadata": {
    "id": "_ZQsR8s3cIzp"
   },
   "source": [
    "**Alternative to printing all characters in a string**"
   ]
  },
  {
   "cell_type": "code",
   "execution_count": null,
   "metadata": {
    "colab": {
     "base_uri": "https://localhost:8080/",
     "height": 35
    },
    "id": "UhQyXlXucIMf",
    "outputId": "0b2e432a-6fb6-42a1-ddd0-34d3bf081ed5"
   },
   "outputs": [
    {
     "name": "stdout",
     "output_type": "stream",
     "text": [
      "programming\n"
     ]
    }
   ],
   "source": [
    "print(string[::])"
   ]
  },
  {
   "cell_type": "markdown",
   "metadata": {
    "id": "zgUsB_khcL1H"
   },
   "source": [
    "\n",
    "\n",
    "---\n",
    "\n"
   ]
  },
  {
   "cell_type": "markdown",
   "metadata": {
    "id": "1IxFIjOTcMaj"
   },
   "source": [
    "**4. Splitting a string**"
   ]
  },
  {
   "cell_type": "markdown",
   "metadata": {
    "id": "yy4X7tFHcO9B"
   },
   "source": [
    "Sometimes splitting a string is a handy option because it is one of the easiest ways to convert a string into a list. I know I have not spoken about the list but keep in mind that split converts a string into a list. You can find the material on Python Lists that is written by me which can provide enough idea to master python lists [Python Lists](https://towardsdatascience.com/python-lists-from-scratch-4b958eb956fc)"
   ]
  },
  {
   "cell_type": "code",
   "execution_count": null,
   "metadata": {
    "colab": {
     "base_uri": "https://localhost:8080/",
     "height": 35
    },
    "id": "jL4s2MfxcUu2",
    "outputId": "3ded15c0-4dfe-448d-8fe1-281f44d451f7"
   },
   "outputs": [
    {
     "data": {
      "text/plain": [
       "'Computer Programming'"
      ]
     },
     "execution_count": 15,
     "metadata": {
      "tags": []
     },
     "output_type": "execute_result"
    }
   ],
   "source": [
    "String = \"Computer Programming\"\n",
    "String"
   ]
  },
  {
   "cell_type": "code",
   "execution_count": null,
   "metadata": {
    "colab": {
     "base_uri": "https://localhost:8080/",
     "height": 35
    },
    "id": "FxMKh4RScXDY",
    "outputId": "49794b2f-8114-4c1c-9b0e-e436967735e5"
   },
   "outputs": [
    {
     "data": {
      "text/plain": [
       "str"
      ]
     },
     "execution_count": 16,
     "metadata": {
      "tags": []
     },
     "output_type": "execute_result"
    }
   ],
   "source": [
    "type(String)"
   ]
  },
  {
   "cell_type": "code",
   "execution_count": null,
   "metadata": {
    "colab": {
     "base_uri": "https://localhost:8080/",
     "height": 35
    },
    "id": "w5EJQWtBcYx8",
    "outputId": "575b9ecd-ecc2-438a-da05-51552567e265"
   },
   "outputs": [
    {
     "data": {
      "text/plain": [
       "['Computer', 'Programming']"
      ]
     },
     "execution_count": 17,
     "metadata": {
      "tags": []
     },
     "output_type": "execute_result"
    }
   ],
   "source": [
    "list = String.split()\n",
    "list"
   ]
  },
  {
   "cell_type": "code",
   "execution_count": null,
   "metadata": {
    "colab": {
     "base_uri": "https://localhost:8080/",
     "height": 35
    },
    "id": "P0yiY0cMcaEW",
    "outputId": "c0ea073a-dcd1-4321-aaaa-5f0edb33251e"
   },
   "outputs": [
    {
     "data": {
      "text/plain": [
       "list"
      ]
     },
     "execution_count": 18,
     "metadata": {
      "tags": []
     },
     "output_type": "execute_result"
    }
   ],
   "source": [
    "type(list)"
   ]
  },
  {
   "cell_type": "markdown",
   "metadata": {
    "id": "7BdAXOI6cbq4"
   },
   "source": [
    "\n",
    "\n",
    "---\n",
    "\n"
   ]
  },
  {
   "cell_type": "markdown",
   "metadata": {
    "id": "Xwybsw-dccVE"
   },
   "source": [
    "## 5. Replacing a string"
   ]
  },
  {
   "cell_type": "markdown",
   "metadata": {
    "id": "JWA0gP58cfDN"
   },
   "source": [
    "The Replace function in python is one of the best function that can be applied to strings. For example, shown below is a string \"Money\" we need to replace the dollar and the comma sign and this can be done as shown below."
   ]
  },
  {
   "cell_type": "code",
   "execution_count": null,
   "metadata": {
    "colab": {
     "base_uri": "https://localhost:8080/",
     "height": 69
    },
    "id": "Yr9uB9hqcgLr",
    "outputId": "2ad561ea-8a70-45a9-e21d-4bd83ff2d28c"
   },
   "outputs": [
    {
     "name": "stdout",
     "output_type": "stream",
     "text": [
      "$113,678\n",
      "===========================\n",
      "<class 'str'>\n"
     ]
    }
   ],
   "source": [
    "Money = '$113,678'\n",
    "print(Money)\n",
    "print(\"===========================\")\n",
    "print(type(Money))"
   ]
  },
  {
   "cell_type": "code",
   "execution_count": null,
   "metadata": {
    "colab": {
     "base_uri": "https://localhost:8080/",
     "height": 35
    },
    "id": "fsK018P2cjJ3",
    "outputId": "f8bc3015-ecec-4f3a-a93e-ca4f63eb0e0c"
   },
   "outputs": [
    {
     "data": {
      "text/plain": [
       "'113,678'"
      ]
     },
     "execution_count": 20,
     "metadata": {
      "tags": []
     },
     "output_type": "execute_result"
    }
   ],
   "source": [
    "Money = Money.replace('$', '')\n",
    "Money"
   ]
  },
  {
   "cell_type": "code",
   "execution_count": null,
   "metadata": {
    "colab": {
     "base_uri": "https://localhost:8080/",
     "height": 35
    },
    "id": "ZQO19dD_cknA",
    "outputId": "f3a71c90-1e6a-4b85-e5e5-b380e76019ac"
   },
   "outputs": [
    {
     "data": {
      "text/plain": [
       "'113678'"
      ]
     },
     "execution_count": 21,
     "metadata": {
      "tags": []
     },
     "output_type": "execute_result"
    }
   ],
   "source": [
    "Money = Money.replace(',', '')\n",
    "Money"
   ]
  },
  {
   "cell_type": "code",
   "execution_count": null,
   "metadata": {
    "colab": {
     "base_uri": "https://localhost:8080/",
     "height": 69
    },
    "id": "wEBAA-tscmHf",
    "outputId": "fbac2778-3332-433c-b6cc-ecc382a46dfd"
   },
   "outputs": [
    {
     "name": "stdout",
     "output_type": "stream",
     "text": [
      "113678\n",
      "===========================\n",
      "<class 'int'>\n"
     ]
    }
   ],
   "source": [
    "Money = int(Money)\n",
    "print(Money)\n",
    "print(\"===========================\")\n",
    "print(type(Money))"
   ]
  },
  {
   "cell_type": "markdown",
   "metadata": {
    "id": "FHiWQ19lc0tt"
   },
   "source": [
    "\n",
    "\n",
    "---\n",
    "\n"
   ]
  },
  {
   "cell_type": "markdown",
   "metadata": {
    "id": "ZMUiizBfc1TR"
   },
   "source": [
    "## 6. Join"
   ]
  },
  {
   "cell_type": "markdown",
   "metadata": {
    "id": "dU25fiyvc3eN"
   },
   "source": [
    "The join function is python is used to join the string according to the specified pattern."
   ]
  },
  {
   "cell_type": "code",
   "execution_count": null,
   "metadata": {
    "colab": {
     "base_uri": "https://localhost:8080/",
     "height": 35
    },
    "id": "k3cho5Jfc4xY",
    "outputId": "dd0d386a-ffdc-43f7-8139-0ca6e045b501"
   },
   "outputs": [
    {
     "data": {
      "text/plain": [
       "'Python Programming is fun'"
      ]
     },
     "execution_count": 23,
     "metadata": {
      "tags": []
     },
     "output_type": "execute_result"
    }
   ],
   "source": [
    "String = \"Python Programming is fun\"\n",
    "String"
   ]
  },
  {
   "cell_type": "code",
   "execution_count": null,
   "metadata": {
    "colab": {
     "base_uri": "https://localhost:8080/",
     "height": 35
    },
    "id": "on4SdAFAc6Sa",
    "outputId": "97248c6e-7a27-429a-e7d9-5d53e1ca25eb"
   },
   "outputs": [
    {
     "data": {
      "text/plain": [
       "'P y t h o n   P r o g r a m m i n g   i s   f u n'"
      ]
     },
     "execution_count": 24,
     "metadata": {
      "tags": []
     },
     "output_type": "execute_result"
    }
   ],
   "source": [
    "String = \" \".join(String)\n",
    "String"
   ]
  },
  {
   "cell_type": "markdown",
   "metadata": {
    "id": "bugIq-mNc7uN"
   },
   "source": [
    "\n",
    "\n",
    "---\n",
    "\n"
   ]
  },
  {
   "cell_type": "markdown",
   "metadata": {
    "id": "Yx7oyLtDc8XI"
   },
   "source": [
    "## 7. Capitalize"
   ]
  },
  {
   "cell_type": "markdown",
   "metadata": {
    "id": "KBWt0P9xc99B"
   },
   "source": [
    "The capitalize function capitalizes the first character in the word or a string."
   ]
  },
  {
   "cell_type": "code",
   "execution_count": null,
   "metadata": {
    "colab": {
     "base_uri": "https://localhost:8080/",
     "height": 35
    },
    "id": "OfsFhFp0c_Eo",
    "outputId": "2f372a13-efaa-4ae7-c62d-2acad64c68a3"
   },
   "outputs": [
    {
     "data": {
      "text/plain": [
       "'programming'"
      ]
     },
     "execution_count": 25,
     "metadata": {
      "tags": []
     },
     "output_type": "execute_result"
    }
   ],
   "source": [
    "string = \"programming\"\n",
    "string"
   ]
  },
  {
   "cell_type": "code",
   "execution_count": null,
   "metadata": {
    "colab": {
     "base_uri": "https://localhost:8080/",
     "height": 35
    },
    "id": "ZUvy5wxZdA7w",
    "outputId": "61476b2c-21d3-487b-a0b9-bdd2c30dd564"
   },
   "outputs": [
    {
     "data": {
      "text/plain": [
       "'Programming'"
      ]
     },
     "execution_count": 26,
     "metadata": {
      "tags": []
     },
     "output_type": "execute_result"
    }
   ],
   "source": [
    "string = string.capitalize()\n",
    "string"
   ]
  },
  {
   "cell_type": "markdown",
   "metadata": {
    "id": "yX5Qdr6ydCFa"
   },
   "source": [
    "\n",
    "\n",
    "---\n",
    "\n"
   ]
  },
  {
   "cell_type": "markdown",
   "metadata": {
    "id": "sRgDZVrqdCuA"
   },
   "source": [
    "## 8. Center"
   ]
  },
  {
   "cell_type": "markdown",
   "metadata": {
    "id": "AsqHZ9r2dEwx"
   },
   "source": [
    "The center method returns a string which is padded with the specified character."
   ]
  },
  {
   "cell_type": "code",
   "execution_count": null,
   "metadata": {
    "colab": {
     "base_uri": "https://localhost:8080/",
     "height": 35
    },
    "id": "rRXoOdEAdGAW",
    "outputId": "c3885d22-cbd4-45ed-e647-c443809e02b5"
   },
   "outputs": [
    {
     "data": {
      "text/plain": [
       "'python'"
      ]
     },
     "execution_count": 27,
     "metadata": {
      "tags": []
     },
     "output_type": "execute_result"
    }
   ],
   "source": [
    "string = \"python\"\n",
    "string"
   ]
  },
  {
   "cell_type": "code",
   "execution_count": null,
   "metadata": {
    "colab": {
     "base_uri": "https://localhost:8080/",
     "height": 35
    },
    "id": "9-07a01adIY-",
    "outputId": "afd0f70f-1166-4ccd-acef-9371b2651795"
   },
   "outputs": [
    {
     "name": "stdout",
     "output_type": "stream",
     "text": [
      "*****python****\n"
     ]
    }
   ],
   "source": [
    "print(string.center(15, '*'))"
   ]
  },
  {
   "cell_type": "markdown",
   "metadata": {
    "id": "WirqOMPmdJrb"
   },
   "source": [
    "\n",
    "\n",
    "---\n",
    "\n"
   ]
  },
  {
   "cell_type": "markdown",
   "metadata": {
    "id": "mMxEPvbudKPZ"
   },
   "source": [
    "## 9. Find"
   ]
  },
  {
   "cell_type": "markdown",
   "metadata": {
    "id": "615CsWgodMU3"
   },
   "source": [
    "The find method returns the index of the given substring position. If the value is not found it returns, -1."
   ]
  },
  {
   "cell_type": "code",
   "execution_count": null,
   "metadata": {
    "colab": {
     "base_uri": "https://localhost:8080/",
     "height": 35
    },
    "id": "YoNlax-LdOGs",
    "outputId": "e66ad321-429e-468c-9a38-0297deced908"
   },
   "outputs": [
    {
     "data": {
      "text/plain": [
       "'programming'"
      ]
     },
     "execution_count": 29,
     "metadata": {
      "tags": []
     },
     "output_type": "execute_result"
    }
   ],
   "source": [
    "string = \"programming\"\n",
    "string"
   ]
  },
  {
   "cell_type": "code",
   "execution_count": null,
   "metadata": {
    "colab": {
     "base_uri": "https://localhost:8080/",
     "height": 35
    },
    "id": "UF1zGdSfdPl4",
    "outputId": "039e43d5-a38a-42af-8893-21503d58f89e"
   },
   "outputs": [
    {
     "name": "stdout",
     "output_type": "stream",
     "text": [
      "0\n"
     ]
    }
   ],
   "source": [
    "print(string.find('p'))"
   ]
  },
  {
   "cell_type": "code",
   "execution_count": null,
   "metadata": {
    "colab": {
     "base_uri": "https://localhost:8080/",
     "height": 35
    },
    "id": "YndJcTeDdQ4J",
    "outputId": "cdda1868-846e-4f1c-f573-0a3e370702bd"
   },
   "outputs": [
    {
     "name": "stdout",
     "output_type": "stream",
     "text": [
      "-1\n"
     ]
    }
   ],
   "source": [
    "print(string.find('t'))"
   ]
  },
  {
   "cell_type": "markdown",
   "metadata": {
    "id": "YkVlFDE1dSRh"
   },
   "source": [
    "\n",
    "\n",
    "---\n",
    "\n"
   ]
  },
  {
   "cell_type": "markdown",
   "metadata": {
    "id": "WKAuFqwqdSzi"
   },
   "source": [
    "## 10. Strip"
   ]
  },
  {
   "cell_type": "markdown",
   "metadata": {
    "id": "bNMVFWr8dUSl"
   },
   "source": [
    "The strip function strips or removes the white spaces both from the starting and the ending of a string."
   ]
  },
  {
   "cell_type": "code",
   "execution_count": null,
   "metadata": {
    "colab": {
     "base_uri": "https://localhost:8080/",
     "height": 35
    },
    "id": "iK6st3AXdV8R",
    "outputId": "bbc0a546-9deb-4d29-ab3b-0b92cb78624b"
   },
   "outputs": [
    {
     "data": {
      "text/plain": [
       "'     programming is easy    '"
      ]
     },
     "execution_count": 32,
     "metadata": {
      "tags": []
     },
     "output_type": "execute_result"
    }
   ],
   "source": [
    "string = \"     programming is easy    \"\n",
    "string"
   ]
  },
  {
   "cell_type": "code",
   "execution_count": null,
   "metadata": {
    "colab": {
     "base_uri": "https://localhost:8080/",
     "height": 35
    },
    "id": "w6iyIxh2dYJr",
    "outputId": "6e39c256-e1c7-4d54-84ff-cbaef4e13e23"
   },
   "outputs": [
    {
     "name": "stdout",
     "output_type": "stream",
     "text": [
      "programming is easy\n"
     ]
    }
   ],
   "source": [
    "print(string.strip())"
   ]
  },
  {
   "cell_type": "markdown",
   "metadata": {
    "id": "WKaqOD1_dZrJ"
   },
   "source": [
    "\n",
    "\n",
    "---\n",
    "\n"
   ]
  },
  {
   "cell_type": "markdown",
   "metadata": {
    "id": "AYT7PeTCdbgL"
   },
   "source": [
    "Hence above are the very important techniques or functions of Strings in Python. Some of the examples were referred from [Python Strings](https://www.gangboard.com/blog/python-string/). I have written this tutorial in a simple way such that everybody can understand and master the concepts of Strings in Python without prior programming knowledge or experience."
   ]
  }
 ],
 "metadata": {
  "colab": {
   "collapsed_sections": [],
   "name": "1c. Python Primatives - Strings.ipynb",
   "provenance": []
  },
  "kernelspec": {
   "display_name": "Python 3 (ipykernel)",
   "language": "python",
   "name": "python3"
  },
  "language_info": {
   "codemirror_mode": {
    "name": "ipython",
    "version": 3
   },
   "file_extension": ".py",
   "mimetype": "text/x-python",
   "name": "python",
   "nbconvert_exporter": "python",
   "pygments_lexer": "ipython3",
   "version": "3.9.12"
  }
 },
 "nbformat": 4,
 "nbformat_minor": 1
}
