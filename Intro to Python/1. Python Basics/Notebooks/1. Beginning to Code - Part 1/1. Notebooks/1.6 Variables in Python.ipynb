{
 "cells": [
  {
   "cell_type": "markdown",
   "metadata": {
    "id": "qyzSzz4AXrDJ"
   },
   "source": [
    "# Variables\n",
    "\n",
    "Just like the familiar variables $x$ and $y$ in mathematics, we use variables in programming to easily manipulate values. In this section, we introduce the assignment operator `=`, namespaces and naming conventions for variables."
   ]
  },
  {
   "cell_type": "markdown",
   "metadata": {
    "id": "36UXMdkUXrDM"
   },
   "source": [
    "## Assign Values to Variables\n",
    "\n",
    "We assign a value to a variable using the assignment operator `=`. For example, assign the integer 2 to the variable `x`:"
   ]
  },
  {
   "cell_type": "code",
   "execution_count": null,
   "metadata": {
    "id": "1oMTCx8MXrDN"
   },
   "outputs": [],
   "source": [
    "x = 2"
   ]
  },
  {
   "cell_type": "markdown",
   "metadata": {
    "id": "Qm5q6tFnXrDO"
   },
   "source": [
    "The assignment operator does not produce any output and so the cell above does not produce any output in a Jupyter notebook. Use the built-in function `print` to display the value assigned to a variable:"
   ]
  },
  {
   "cell_type": "code",
   "execution_count": null,
   "metadata": {
    "id": "7f2PeI13XrDP",
    "outputId": "b1a48a96-018e-459a-cb6e-e3db81d50259"
   },
   "outputs": [
    {
     "name": "stdout",
     "output_type": "stream",
     "text": [
      "2\n"
     ]
    }
   ],
   "source": [
    "print(x)"
   ]
  },
  {
   "cell_type": "markdown",
   "metadata": {
    "id": "KhvWppbFXrDQ"
   },
   "source": [
    "Compute new values using variables and operators:"
   ]
  },
  {
   "cell_type": "code",
   "execution_count": null,
   "metadata": {
    "id": "-1P28kRFXrDQ",
    "outputId": "a4e7d3a8-a16c-407f-b6cc-8db2ece962b7"
   },
   "outputs": [
    {
     "data": {
      "text/plain": [
       "15"
      ]
     },
     "execution_count": 3,
     "metadata": {},
     "output_type": "execute_result"
    }
   ],
   "source": [
    "1 + x + x**2 + x**3"
   ]
  },
  {
   "cell_type": "markdown",
   "metadata": {
    "id": "5rPvtfg4XrDR"
   },
   "source": [
    "Use the built-in function `type` to verify the datatype of the value assigned to a variable:"
   ]
  },
  {
   "cell_type": "code",
   "execution_count": null,
   "metadata": {
    "id": "DEzNCXqAXrDR",
    "outputId": "3fd9b16f-e01f-4415-f8d0-e79c8529d483"
   },
   "outputs": [
    {
     "data": {
      "text/plain": [
       "float"
      ]
     },
     "execution_count": 4,
     "metadata": {},
     "output_type": "execute_result"
    }
   ],
   "source": [
    "pi = 3.14159\n",
    "type(pi)"
   ]
  },
  {
   "cell_type": "markdown",
   "metadata": {
    "id": "vjJbDkgLXrDS"
   },
   "source": [
    "## Naming Conventions\n",
    "\n",
    "We can use any set of letters, numbers and underscores to make variable names however a variable name *cannot* begin with a number. There are many different kinds of naming conventions and we refer to the [Style Guide for Python Code (PEP8)](https://www.python.org/dev/peps/pep-0008/#naming-conventions) for a summary.\n",
    "\n",
    "In this book we use `lower_case_with_underscores` variable names and single lowercase letter variable names such as `x`. It is good practice to use descriptive variable names to make your code more readable for other people.\n",
    "\n",
    "For example, the distance from Vancouver to Halifax along the Trans-Canada Highway is approximately 5799 kilometres. We write the following code to convert this value to miles:"
   ]
  },
  {
   "cell_type": "code",
   "execution_count": null,
   "metadata": {
    "id": "SG1Ffq3SXrDT",
    "outputId": "51d24f45-6ffc-44ba-b933-601b2aa0ccbb"
   },
   "outputs": [
    {
     "name": "stdout",
     "output_type": "stream",
     "text": [
      "3603.4986\n"
     ]
    }
   ],
   "source": [
    "distance_km = 5799\n",
    "miles_per_km = 0.6214\n",
    "distance_miles = distance_km * miles_per_km\n",
    "print(distance_miles)"
   ]
  },
  {
   "cell_type": "markdown",
   "metadata": {
    "id": "ooBs43NXXrDT"
   },
   "source": [
    "## Names to Avoid\n",
    "\n",
    "It is good practice to use variable names which describe the value assigned to it. However there are words that we should not use as variable names because these words already have special meaning in Python."
   ]
  },
  {
   "cell_type": "markdown",
   "metadata": {
    "id": "02h2GsyBXrDU"
   },
   "source": [
    "### Reserved Words\n",
    "\n",
    "Summarized below are the [reserved words in Python 3](https://docs.python.org/3.3/reference/lexical_analysis.html#keywords). Python will raise an error if you try to assign a value to any of these keywords and so you must avoid these as variable names.\n",
    "\n",
    "| | | | | |\n",
    "| :---: | :---: | :---: | :---: | :---: |\n",
    "| `False` | `class` | `finally` | `is` | `return` |\n",
    "| `None` |  `continue` | `for` | `lambda` | `try` |\n",
    "| `True` | `def` | `from` |  `nonlocal` | `while` |\n",
    "| `and` | `del` | `global` | `not` | `with` |\n",
    "| `as` | `elif` | `if` | `or` | `yield` |\n",
    "| `assert` | `else` | `import` | `pass` | `break` |\n",
    "| `except` | `in` | `raise` | | |"
   ]
  },
  {
   "cell_type": "markdown",
   "metadata": {
    "id": "7mARWd8RXrDU"
   },
   "source": [
    "### Built-in Function Names\n",
    "\n",
    "There are several functions which are included in the standard Python library. Do *not* use the names of these functions as variable names otherwise the reference to the built-in function will be lost. For example, do not use `sum`, `min`, `max`, `list` or `sorted` as a variable name. See the full list of [builtin functions](https://docs.python.org/3/library/functions.html)."
   ]
  },
  {
   "cell_type": "markdown",
   "metadata": {
    "id": "Qy2fbDI-XrDU"
   },
   "source": [
    "## Jupyter Magic: whos\n",
    "\n",
    "The Jupyer magic command [whos](http://ipython.readthedocs.io/en/stable/interactive/magics.html#magic-whos) lists all variables in the current Jupyter notebook and their types:"
   ]
  },
  {
   "cell_type": "code",
   "execution_count": 1,
   "metadata": {
    "id": "cEkRxfOzXrDV"
   },
   "outputs": [],
   "source": [
    "x = 2\n",
    "pi = 3.14159\n",
    "distance_km = 5799\n",
    "miles_per_km = 0.6214\n",
    "distance_miles = distance_km * miles_per_km"
   ]
  },
  {
   "cell_type": "code",
   "execution_count": 2,
   "metadata": {
    "id": "Bcq6xhzPXrDV",
    "outputId": "612c9189-41a7-4264-f95c-224de953e9de"
   },
   "outputs": [
    {
     "name": "stdout",
     "output_type": "stream",
     "text": [
      "Variable         Type     Data/Info\n",
      "-----------------------------------\n",
      "distance_km      int      5799\n",
      "distance_miles   float    3603.4986\n",
      "miles_per_km     float    0.6214\n",
      "pi               float    3.14159\n",
      "x                int      2\n"
     ]
    }
   ],
   "source": [
    "whos"
   ]
  },
  {
   "cell_type": "code",
   "execution_count": null,
   "metadata": {
    "id": "wN99mrs7XrDV"
   },
   "outputs": [],
   "source": []
  }
 ],
 "metadata": {
  "colab": {
   "name": "1c. Variables in Python.ipynb",
   "provenance": []
  },
  "kernelspec": {
   "display_name": "Python 3 (ipykernel)",
   "language": "python",
   "name": "python3"
  },
  "language_info": {
   "codemirror_mode": {
    "name": "ipython",
    "version": 3
   },
   "file_extension": ".py",
   "mimetype": "text/x-python",
   "name": "python",
   "nbconvert_exporter": "python",
   "pygments_lexer": "ipython3",
   "version": "3.9.12"
  }
 },
 "nbformat": 4,
 "nbformat_minor": 1
}
