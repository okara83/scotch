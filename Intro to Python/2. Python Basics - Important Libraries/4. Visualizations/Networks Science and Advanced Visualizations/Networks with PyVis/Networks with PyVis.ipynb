{
 "cells": [
  {
   "cell_type": "code",
   "execution_count": 1,
   "id": "49c572db",
   "metadata": {
    "ExecuteTime": {
     "end_time": "2021-06-12T15:40:21.168951Z",
     "start_time": "2021-06-12T15:40:21.121645Z"
    }
   },
   "outputs": [],
   "source": [
    "from pyvis.network import Network"
   ]
  },
  {
   "cell_type": "markdown",
   "id": "16dc89d4",
   "metadata": {},
   "source": [
    "# Get Started"
   ]
  },
  {
   "cell_type": "markdown",
   "id": "8fd4225c",
   "metadata": {},
   "source": [
    "## Add nodes"
   ]
  },
  {
   "cell_type": "code",
   "execution_count": 4,
   "id": "3b3420e4",
   "metadata": {
    "ExecuteTime": {
     "end_time": "2021-06-12T15:30:36.325917Z",
     "start_time": "2021-06-12T15:30:36.312229Z"
    }
   },
   "outputs": [
    {
     "data": {
      "text/html": [
       "\n",
       "        <iframe\n",
       "            width=\"500px\"\n",
       "            height=\"500px\"\n",
       "            src=\"nodes.html\"\n",
       "            frameborder=\"0\"\n",
       "            allowfullscreen\n",
       "            \n",
       "        ></iframe>\n",
       "        "
      ],
      "text/plain": [
       "<IPython.lib.display.IFrame at 0x112409160>"
      ]
     },
     "execution_count": 4,
     "metadata": {},
     "output_type": "execute_result"
    }
   ],
   "source": [
    "net = Network(notebook=True)\n",
    "net.add_node(1, label=\"Alice\")\n",
    "net.add_node(2, label=\"Bob\")\n",
    "net.show(\"nodes.html\")"
   ]
  },
  {
   "cell_type": "markdown",
   "id": "fc248cad",
   "metadata": {},
   "source": [
    "## Add a list of nodes"
   ]
  },
  {
   "cell_type": "code",
   "execution_count": 12,
   "id": "c6a6f648",
   "metadata": {
    "ExecuteTime": {
     "end_time": "2021-06-12T15:30:36.334482Z",
     "start_time": "2021-06-12T15:30:36.326736Z"
    }
   },
   "outputs": [
    {
     "data": {
      "text/html": [
       "\n",
       "        <iframe\n",
       "            width=\"500px\"\n",
       "            height=\"500px\"\n",
       "            src=\"list_of_nodes.html\"\n",
       "            frameborder=\"0\"\n",
       "            allowfullscreen\n",
       "            \n",
       "        ></iframe>\n",
       "        "
      ],
      "text/plain": [
       "<IPython.lib.display.IFrame at 0x11240e9d0>"
      ]
     },
     "execution_count": 12,
     "metadata": {},
     "output_type": "execute_result"
    }
   ],
   "source": [
    "net = Network(notebook=True)\n",
    "net.add_nodes([1, 2], label=[\"Alisson\", \"Bobert\"])\n",
    "net.show(\"list_of_nodes.html\")"
   ]
  },
  {
   "cell_type": "code",
   "execution_count": 13,
   "id": "40809cec",
   "metadata": {
    "ExecuteTime": {
     "end_time": "2021-06-12T15:30:36.338260Z",
     "start_time": "2021-06-12T15:30:36.335280Z"
    }
   },
   "outputs": [
    {
     "data": {
      "text/html": [
       "\n",
       "        <iframe\n",
       "            width=\"500px\"\n",
       "            height=\"500px\"\n",
       "            src=\"list_of_nodes_with_color.html\"\n",
       "            frameborder=\"0\"\n",
       "            allowfullscreen\n",
       "            \n",
       "        ></iframe>\n",
       "        "
      ],
      "text/plain": [
       "<IPython.lib.display.IFrame at 0x11240e9a0>"
      ]
     },
     "execution_count": 13,
     "metadata": {},
     "output_type": "execute_result"
    }
   ],
   "source": [
    "net.add_nodes(\n",
    "    [3, 4, 5, 6],\n",
    "    label=[\"Alice\", \"Bob\", \"Carl\", \"Dan\"],\n",
    "    color=[\"#3da831\", \"#9a31a8\", \"#3155a8\", \"#eb4034\"],\n",
    ")\n",
    "net.show(\"list_of_nodes_with_color.html\")"
   ]
  },
  {
   "cell_type": "markdown",
   "id": "1fcc879a",
   "metadata": {},
   "source": [
    "## Add edges"
   ]
  },
  {
   "cell_type": "markdown",
   "id": "49f1e001",
   "metadata": {},
   "source": [
    "### Edges"
   ]
  },
  {
   "cell_type": "code",
   "execution_count": 14,
   "id": "eb1f3174",
   "metadata": {
    "ExecuteTime": {
     "end_time": "2021-06-12T15:30:36.348256Z",
     "start_time": "2021-06-12T15:30:36.339123Z"
    }
   },
   "outputs": [],
   "source": [
    "net = Network(notebook=True)\n",
    "\n",
    "net.add_nodes(\n",
    "    [1, 2, 3, 4, 5, 6],\n",
    "    label=[\"Alexy\", \"Catty\", \"Michael\", \"Ben\", \"Oliver\", \"Olivia\"],\n",
    "    color=[\"#00bfff\", \"#ffc0cb\", \"#3da831\", \"#9a31a8\", \"#3155a8\", \"#eb4034\"],\n",
    ")"
   ]
  },
  {
   "cell_type": "code",
   "execution_count": 15,
   "id": "8f57ee40",
   "metadata": {
    "ExecuteTime": {
     "end_time": "2021-06-12T15:30:36.354878Z",
     "start_time": "2021-06-12T15:30:36.349506Z"
    }
   },
   "outputs": [
    {
     "data": {
      "text/html": [
       "\n",
       "        <iframe\n",
       "            width=\"500px\"\n",
       "            height=\"500px\"\n",
       "            src=\"edges.html\"\n",
       "            frameborder=\"0\"\n",
       "            allowfullscreen\n",
       "            \n",
       "        ></iframe>\n",
       "        "
      ],
      "text/plain": [
       "<IPython.lib.display.IFrame at 0x11242da30>"
      ]
     },
     "execution_count": 15,
     "metadata": {},
     "output_type": "execute_result"
    }
   ],
   "source": [
    "net.add_edge(1, 5)\n",
    "net.add_edges([(2, 5), (3, 4), (1, 6), (2, 6), (3, 5)])\n",
    "net.show(\"edges.html\")"
   ]
  },
  {
   "cell_type": "markdown",
   "id": "04655289",
   "metadata": {},
   "source": [
    "### Edges with Weights"
   ]
  },
  {
   "cell_type": "code",
   "execution_count": 16,
   "id": "c5dcdb69",
   "metadata": {
    "ExecuteTime": {
     "end_time": "2021-06-12T15:30:36.366404Z",
     "start_time": "2021-06-12T15:30:36.356824Z"
    }
   },
   "outputs": [],
   "source": [
    "net = Network(notebook=True)\n",
    "\n",
    "net.add_nodes(\n",
    "    [1, 2, 3, 4, 5, 6],\n",
    "    label=[\"Alexy\", \"Catty\", \"Michael\", \"Ben\", \"Oliver\", \"Olivia\"],\n",
    "    color=[\"#00bfff\", \"#ffc0cb\", \"#3da831\", \"#9a31a8\", \"#3155a8\", \"#eb4034\"],\n",
    ")"
   ]
  },
  {
   "cell_type": "code",
   "execution_count": 17,
   "id": "cc47d846",
   "metadata": {
    "ExecuteTime": {
     "end_time": "2021-06-12T15:30:36.371354Z",
     "start_time": "2021-06-12T15:30:36.368209Z"
    }
   },
   "outputs": [],
   "source": [
    "net.add_edge(1, 5, value=2)\n",
    "net.add_edges([(2, 5, 5), (3, 4, 2), (1, 6), (2, 6), (3, 5)])"
   ]
  },
  {
   "cell_type": "code",
   "execution_count": 18,
   "id": "0a022f3a",
   "metadata": {
    "ExecuteTime": {
     "end_time": "2021-06-12T15:30:36.376390Z",
     "start_time": "2021-06-12T15:30:36.372758Z"
    }
   },
   "outputs": [
    {
     "data": {
      "text/html": [
       "\n",
       "        <iframe\n",
       "            width=\"500px\"\n",
       "            height=\"500px\"\n",
       "            src=\"edges_with_weights.html\"\n",
       "            frameborder=\"0\"\n",
       "            allowfullscreen\n",
       "            \n",
       "        ></iframe>\n",
       "        "
      ],
      "text/plain": [
       "<IPython.lib.display.IFrame at 0x112409280>"
      ]
     },
     "execution_count": 18,
     "metadata": {},
     "output_type": "execute_result"
    }
   ],
   "source": [
    "net.show(\"edges_with_weights.html\")"
   ]
  },
  {
   "cell_type": "markdown",
   "id": "bf8d1188",
   "metadata": {},
   "source": [
    "### Edges with Repulsion"
   ]
  },
  {
   "cell_type": "code",
   "execution_count": 19,
   "id": "72f8825f",
   "metadata": {
    "ExecuteTime": {
     "end_time": "2021-06-12T15:30:42.128548Z",
     "start_time": "2021-06-12T15:30:42.124177Z"
    }
   },
   "outputs": [],
   "source": [
    "def add_repulsion(node_distance: int, spring_length: int):\n",
    "    net = Network(notebook=True)\n",
    "\n",
    "    net.add_nodes(\n",
    "        [1, 2, 3, 4, 5, 6],\n",
    "        label=[\"Alexy\", \"Catty\", \"Michael\", \"Ben\", \"Oliver\", \"Olivia\"],\n",
    "        color=[\"#00bfff\", \"#ffc0cb\", \"#3da831\", \"#9a31a8\", \"#3155a8\", \"#eb4034\"],\n",
    "    )\n",
    "\n",
    "    net.add_edge(1, 5, value=2)\n",
    "    net.add_edges([(2, 5, 5), (3, 4, 2), (1, 6), (2, 6), (3, 5)])\n",
    "\n",
    "    net.repulsion(node_distance=node_distance, spring_length=spring_length)\n",
    "\n",
    "    net.show(f\"distance_{node_distance}_spring_length_{spring_length}.html\")\n",
    "\n",
    "    return net"
   ]
  },
  {
   "cell_type": "code",
   "execution_count": 20,
   "id": "a6f905ec",
   "metadata": {
    "ExecuteTime": {
     "end_time": "2021-06-12T15:30:42.347057Z",
     "start_time": "2021-06-12T15:30:42.336035Z"
    }
   },
   "outputs": [
    {
     "data": {
      "text/html": [
       "\n",
       "        <iframe\n",
       "            width=\"500px\"\n",
       "            height=\"500px\"\n",
       "            src=\"distance_100_spring_length_200.html\"\n",
       "            frameborder=\"0\"\n",
       "            allowfullscreen\n",
       "            \n",
       "        ></iframe>\n",
       "        "
      ],
      "text/plain": [
       "<IPython.lib.display.IFrame at 0x112a4ca60>"
      ]
     },
     "execution_count": 20,
     "metadata": {},
     "output_type": "execute_result"
    }
   ],
   "source": [
    "net = add_repulsion(node_distance=100, spring_length=200)\n",
    "net.show(\"distance_100_spring_length_200.html\")"
   ]
  },
  {
   "cell_type": "code",
   "execution_count": 21,
   "id": "d1a5b0a8",
   "metadata": {
    "ExecuteTime": {
     "end_time": "2021-06-12T15:30:42.977363Z",
     "start_time": "2021-06-12T15:30:42.967529Z"
    }
   },
   "outputs": [
    {
     "data": {
      "text/html": [
       "\n",
       "        <iframe\n",
       "            width=\"500px\"\n",
       "            height=\"500px\"\n",
       "            src=\"distance_100_spring_length_1000.html\"\n",
       "            frameborder=\"0\"\n",
       "            allowfullscreen\n",
       "            \n",
       "        ></iframe>\n",
       "        "
      ],
      "text/plain": [
       "<IPython.lib.display.IFrame at 0x112a48a60>"
      ]
     },
     "execution_count": 21,
     "metadata": {},
     "output_type": "execute_result"
    }
   ],
   "source": [
    "net = add_repulsion(node_distance=100, spring_length=1000)\n",
    "net.show(f\"distance_100_spring_length_1000.html\")"
   ]
  },
  {
   "cell_type": "code",
   "execution_count": 22,
   "id": "1d2c4a64",
   "metadata": {
    "ExecuteTime": {
     "end_time": "2021-06-12T15:30:43.353180Z",
     "start_time": "2021-06-12T15:30:43.340568Z"
    }
   },
   "outputs": [
    {
     "data": {
      "text/html": [
       "\n",
       "        <iframe\n",
       "            width=\"500px\"\n",
       "            height=\"500px\"\n",
       "            src=\"distance_500_spring_length_200.html\"\n",
       "            frameborder=\"0\"\n",
       "            allowfullscreen\n",
       "            \n",
       "        ></iframe>\n",
       "        "
      ],
      "text/plain": [
       "<IPython.lib.display.IFrame at 0x112a33df0>"
      ]
     },
     "execution_count": 22,
     "metadata": {},
     "output_type": "execute_result"
    }
   ],
   "source": [
    "net = add_repulsion(node_distance=500, spring_length=200)\n",
    "net.show(f\"distance_500_spring_length_200.html\")"
   ]
  }
 ],
 "metadata": {
  "finalized": {
   "timestamp": 1623461886405,
   "trusted": true
  },
  "kernelspec": {
   "display_name": "Python 3 (ipykernel)",
   "language": "python",
   "name": "python3"
  },
  "language_info": {
   "codemirror_mode": {
    "name": "ipython",
    "version": 3
   },
   "file_extension": ".py",
   "mimetype": "text/x-python",
   "name": "python",
   "nbconvert_exporter": "python",
   "pygments_lexer": "ipython3",
   "version": "3.9.9"
  },
  "toc": {
   "base_numbering": 1,
   "nav_menu": {},
   "number_sections": true,
   "sideBar": true,
   "skip_h1_title": false,
   "title_cell": "Table of Contents",
   "title_sidebar": "Contents",
   "toc_cell": false,
   "toc_position": {},
   "toc_section_display": true,
   "toc_window_display": false
  }
 },
 "nbformat": 4,
 "nbformat_minor": 5
}
