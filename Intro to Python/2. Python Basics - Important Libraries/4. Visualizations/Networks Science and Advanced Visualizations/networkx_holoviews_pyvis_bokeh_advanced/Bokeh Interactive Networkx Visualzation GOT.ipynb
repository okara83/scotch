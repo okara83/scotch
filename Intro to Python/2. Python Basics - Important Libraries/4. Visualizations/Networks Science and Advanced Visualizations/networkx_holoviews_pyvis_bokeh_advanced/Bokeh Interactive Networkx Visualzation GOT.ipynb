{
 "cells": [
  {
   "cell_type": "markdown",
   "metadata": {
    "tags": [
     "hide_input"
    ]
   },
   "source": [
    "# Make an Interactive Network Visualization with Bokeh"
   ]
  },
  {
   "cell_type": "markdown",
   "metadata": {},
   "source": [
    "This notebook includes code for creating interactive network visualizations with the Python libraries [NetworkX](https://networkx.github.io/) and [Bokeh](https://docs.bokeh.org/en/latest/index.html). The notebook begins with code for a basic network visualization then progressively demonstrates how to add more information and functionality, such as:\n",
    "\n",
    "- sizing and coloring nodes by degree\n",
    "- sizing and coloring nodes by modularity class\n",
    "- adding responsive highlighting when hovering over nodes and edges\n",
    "- adding node labels"
   ]
  },
  {
   "cell_type": "markdown",
   "metadata": {},
   "source": [
    "## Dataset"
   ]
  },
  {
   "cell_type": "markdown",
   "metadata": {},
   "source": [
    "### *Game of Thrones*"
   ]
  },
  {
   "cell_type": "code",
   "execution_count": 36,
   "metadata": {},
   "outputs": [],
   "source": [
    "import pandas as pd\n",
    "import networkx\n",
    "import matplotlib.pyplot as plt\n",
    "import numpy as np\n",
    "from bokeh.io import output_notebook, show, save\n",
    "from bokeh.models import Range1d, Circle, ColumnDataSource, MultiLine\n",
    "from bokeh.plotting import figure\n",
    "from bokeh.plotting import from_networkx"
   ]
  },
  {
   "cell_type": "markdown",
   "metadata": {},
   "source": [
    "To view interactive Bokeh visualizations in a Jupyter notebook, you need to run this cell:"
   ]
  },
  {
   "cell_type": "code",
   "execution_count": 37,
   "metadata": {},
   "outputs": [
    {
     "data": {
      "text/html": [
       "\n",
       "    <div class=\"bk-root\">\n",
       "        <a href=\"https://bokeh.org\" target=\"_blank\" class=\"bk-logo bk-logo-small bk-logo-notebook\"></a>\n",
       "        <span id=\"3430\">Loading BokehJS ...</span>\n",
       "    </div>"
      ]
     },
     "metadata": {},
     "output_type": "display_data"
    },
    {
     "data": {
      "application/javascript": [
       "\n",
       "(function(root) {\n",
       "  function now() {\n",
       "    return new Date();\n",
       "  }\n",
       "\n",
       "  const force = true;\n",
       "\n",
       "  if (typeof root._bokeh_onload_callbacks === \"undefined\" || force === true) {\n",
       "    root._bokeh_onload_callbacks = [];\n",
       "    root._bokeh_is_loading = undefined;\n",
       "  }\n",
       "\n",
       "  const JS_MIME_TYPE = 'application/javascript';\n",
       "  const HTML_MIME_TYPE = 'text/html';\n",
       "  const EXEC_MIME_TYPE = 'application/vnd.bokehjs_exec.v0+json';\n",
       "  const CLASS_NAME = 'output_bokeh rendered_html';\n",
       "\n",
       "  /**\n",
       "   * Render data to the DOM node\n",
       "   */\n",
       "  function render(props, node) {\n",
       "    const script = document.createElement(\"script\");\n",
       "    node.appendChild(script);\n",
       "  }\n",
       "\n",
       "  /**\n",
       "   * Handle when an output is cleared or removed\n",
       "   */\n",
       "  function handleClearOutput(event, handle) {\n",
       "    const cell = handle.cell;\n",
       "\n",
       "    const id = cell.output_area._bokeh_element_id;\n",
       "    const server_id = cell.output_area._bokeh_server_id;\n",
       "    // Clean up Bokeh references\n",
       "    if (id != null && id in Bokeh.index) {\n",
       "      Bokeh.index[id].model.document.clear();\n",
       "      delete Bokeh.index[id];\n",
       "    }\n",
       "\n",
       "    if (server_id !== undefined) {\n",
       "      // Clean up Bokeh references\n",
       "      const cmd_clean = \"from bokeh.io.state import curstate; print(curstate().uuid_to_server['\" + server_id + \"'].get_sessions()[0].document.roots[0]._id)\";\n",
       "      cell.notebook.kernel.execute(cmd_clean, {\n",
       "        iopub: {\n",
       "          output: function(msg) {\n",
       "            const id = msg.content.text.trim();\n",
       "            if (id in Bokeh.index) {\n",
       "              Bokeh.index[id].model.document.clear();\n",
       "              delete Bokeh.index[id];\n",
       "            }\n",
       "          }\n",
       "        }\n",
       "      });\n",
       "      // Destroy server and session\n",
       "      const cmd_destroy = \"import bokeh.io.notebook as ion; ion.destroy_server('\" + server_id + \"')\";\n",
       "      cell.notebook.kernel.execute(cmd_destroy);\n",
       "    }\n",
       "  }\n",
       "\n",
       "  /**\n",
       "   * Handle when a new output is added\n",
       "   */\n",
       "  function handleAddOutput(event, handle) {\n",
       "    const output_area = handle.output_area;\n",
       "    const output = handle.output;\n",
       "\n",
       "    // limit handleAddOutput to display_data with EXEC_MIME_TYPE content only\n",
       "    if ((output.output_type != \"display_data\") || (!Object.prototype.hasOwnProperty.call(output.data, EXEC_MIME_TYPE))) {\n",
       "      return\n",
       "    }\n",
       "\n",
       "    const toinsert = output_area.element.find(\".\" + CLASS_NAME.split(' ')[0]);\n",
       "\n",
       "    if (output.metadata[EXEC_MIME_TYPE][\"id\"] !== undefined) {\n",
       "      toinsert[toinsert.length - 1].firstChild.textContent = output.data[JS_MIME_TYPE];\n",
       "      // store reference to embed id on output_area\n",
       "      output_area._bokeh_element_id = output.metadata[EXEC_MIME_TYPE][\"id\"];\n",
       "    }\n",
       "    if (output.metadata[EXEC_MIME_TYPE][\"server_id\"] !== undefined) {\n",
       "      const bk_div = document.createElement(\"div\");\n",
       "      bk_div.innerHTML = output.data[HTML_MIME_TYPE];\n",
       "      const script_attrs = bk_div.children[0].attributes;\n",
       "      for (let i = 0; i < script_attrs.length; i++) {\n",
       "        toinsert[toinsert.length - 1].firstChild.setAttribute(script_attrs[i].name, script_attrs[i].value);\n",
       "        toinsert[toinsert.length - 1].firstChild.textContent = bk_div.children[0].textContent\n",
       "      }\n",
       "      // store reference to server id on output_area\n",
       "      output_area._bokeh_server_id = output.metadata[EXEC_MIME_TYPE][\"server_id\"];\n",
       "    }\n",
       "  }\n",
       "\n",
       "  function register_renderer(events, OutputArea) {\n",
       "\n",
       "    function append_mime(data, metadata, element) {\n",
       "      // create a DOM node to render to\n",
       "      const toinsert = this.create_output_subarea(\n",
       "        metadata,\n",
       "        CLASS_NAME,\n",
       "        EXEC_MIME_TYPE\n",
       "      );\n",
       "      this.keyboard_manager.register_events(toinsert);\n",
       "      // Render to node\n",
       "      const props = {data: data, metadata: metadata[EXEC_MIME_TYPE]};\n",
       "      render(props, toinsert[toinsert.length - 1]);\n",
       "      element.append(toinsert);\n",
       "      return toinsert\n",
       "    }\n",
       "\n",
       "    /* Handle when an output is cleared or removed */\n",
       "    events.on('clear_output.CodeCell', handleClearOutput);\n",
       "    events.on('delete.Cell', handleClearOutput);\n",
       "\n",
       "    /* Handle when a new output is added */\n",
       "    events.on('output_added.OutputArea', handleAddOutput);\n",
       "\n",
       "    /**\n",
       "     * Register the mime type and append_mime function with output_area\n",
       "     */\n",
       "    OutputArea.prototype.register_mime_type(EXEC_MIME_TYPE, append_mime, {\n",
       "      /* Is output safe? */\n",
       "      safe: true,\n",
       "      /* Index of renderer in `output_area.display_order` */\n",
       "      index: 0\n",
       "    });\n",
       "  }\n",
       "\n",
       "  // register the mime type if in Jupyter Notebook environment and previously unregistered\n",
       "  if (root.Jupyter !== undefined) {\n",
       "    const events = require('base/js/events');\n",
       "    const OutputArea = require('notebook/js/outputarea').OutputArea;\n",
       "\n",
       "    if (OutputArea.prototype.mime_types().indexOf(EXEC_MIME_TYPE) == -1) {\n",
       "      register_renderer(events, OutputArea);\n",
       "    }\n",
       "  }\n",
       "\n",
       "  \n",
       "  if (typeof (root._bokeh_timeout) === \"undefined\" || force === true) {\n",
       "    root._bokeh_timeout = Date.now() + 5000;\n",
       "    root._bokeh_failed_load = false;\n",
       "  }\n",
       "\n",
       "  const NB_LOAD_WARNING = {'data': {'text/html':\n",
       "     \"<div style='background-color: #fdd'>\\n\"+\n",
       "     \"<p>\\n\"+\n",
       "     \"BokehJS does not appear to have successfully loaded. If loading BokehJS from CDN, this \\n\"+\n",
       "     \"may be due to a slow or bad network connection. Possible fixes:\\n\"+\n",
       "     \"</p>\\n\"+\n",
       "     \"<ul>\\n\"+\n",
       "     \"<li>re-rerun `output_notebook()` to attempt to load from CDN again, or</li>\\n\"+\n",
       "     \"<li>use INLINE resources instead, as so:</li>\\n\"+\n",
       "     \"</ul>\\n\"+\n",
       "     \"<code>\\n\"+\n",
       "     \"from bokeh.resources import INLINE\\n\"+\n",
       "     \"output_notebook(resources=INLINE)\\n\"+\n",
       "     \"</code>\\n\"+\n",
       "     \"</div>\"}};\n",
       "\n",
       "  function display_loaded() {\n",
       "    const el = document.getElementById(\"3430\");\n",
       "    if (el != null) {\n",
       "      el.textContent = \"BokehJS is loading...\";\n",
       "    }\n",
       "    if (root.Bokeh !== undefined) {\n",
       "      if (el != null) {\n",
       "        el.textContent = \"BokehJS \" + root.Bokeh.version + \" successfully loaded.\";\n",
       "      }\n",
       "    } else if (Date.now() < root._bokeh_timeout) {\n",
       "      setTimeout(display_loaded, 100)\n",
       "    }\n",
       "  }\n",
       "\n",
       "\n",
       "  function run_callbacks() {\n",
       "    try {\n",
       "      root._bokeh_onload_callbacks.forEach(function(callback) {\n",
       "        if (callback != null)\n",
       "          callback();\n",
       "      });\n",
       "    } finally {\n",
       "      delete root._bokeh_onload_callbacks\n",
       "    }\n",
       "    console.debug(\"Bokeh: all callbacks have finished\");\n",
       "  }\n",
       "\n",
       "  function load_libs(css_urls, js_urls, callback) {\n",
       "    if (css_urls == null) css_urls = [];\n",
       "    if (js_urls == null) js_urls = [];\n",
       "\n",
       "    root._bokeh_onload_callbacks.push(callback);\n",
       "    if (root._bokeh_is_loading > 0) {\n",
       "      console.debug(\"Bokeh: BokehJS is being loaded, scheduling callback at\", now());\n",
       "      return null;\n",
       "    }\n",
       "    if (js_urls == null || js_urls.length === 0) {\n",
       "      run_callbacks();\n",
       "      return null;\n",
       "    }\n",
       "    console.debug(\"Bokeh: BokehJS not loaded, scheduling load and callback at\", now());\n",
       "    root._bokeh_is_loading = css_urls.length + js_urls.length;\n",
       "\n",
       "    function on_load() {\n",
       "      root._bokeh_is_loading--;\n",
       "      if (root._bokeh_is_loading === 0) {\n",
       "        console.debug(\"Bokeh: all BokehJS libraries/stylesheets loaded\");\n",
       "        run_callbacks()\n",
       "      }\n",
       "    }\n",
       "\n",
       "    function on_error(url) {\n",
       "      console.error(\"failed to load \" + url);\n",
       "    }\n",
       "\n",
       "    for (let i = 0; i < css_urls.length; i++) {\n",
       "      const url = css_urls[i];\n",
       "      const element = document.createElement(\"link\");\n",
       "      element.onload = on_load;\n",
       "      element.onerror = on_error.bind(null, url);\n",
       "      element.rel = \"stylesheet\";\n",
       "      element.type = \"text/css\";\n",
       "      element.href = url;\n",
       "      console.debug(\"Bokeh: injecting link tag for BokehJS stylesheet: \", url);\n",
       "      document.body.appendChild(element);\n",
       "    }\n",
       "\n",
       "    for (let i = 0; i < js_urls.length; i++) {\n",
       "      const url = js_urls[i];\n",
       "      const element = document.createElement('script');\n",
       "      element.onload = on_load;\n",
       "      element.onerror = on_error.bind(null, url);\n",
       "      element.async = false;\n",
       "      element.src = url;\n",
       "      console.debug(\"Bokeh: injecting script tag for BokehJS library: \", url);\n",
       "      document.head.appendChild(element);\n",
       "    }\n",
       "  };\n",
       "\n",
       "  function inject_raw_css(css) {\n",
       "    const element = document.createElement(\"style\");\n",
       "    element.appendChild(document.createTextNode(css));\n",
       "    document.body.appendChild(element);\n",
       "  }\n",
       "\n",
       "  \n",
       "  const js_urls = [\"https://cdn.bokeh.org/bokeh/release/bokeh-2.4.2.min.js\", \"https://cdn.bokeh.org/bokeh/release/bokeh-gl-2.4.2.min.js\", \"https://cdn.bokeh.org/bokeh/release/bokeh-widgets-2.4.2.min.js\", \"https://cdn.bokeh.org/bokeh/release/bokeh-tables-2.4.2.min.js\", \"https://cdn.bokeh.org/bokeh/release/bokeh-mathjax-2.4.2.min.js\"];\n",
       "  const css_urls = [];\n",
       "  \n",
       "\n",
       "  const inline_js = [\n",
       "    function(Bokeh) {\n",
       "      Bokeh.set_log_level(\"info\");\n",
       "    },\n",
       "    function(Bokeh) {\n",
       "    \n",
       "    \n",
       "    }\n",
       "  ];\n",
       "\n",
       "  function run_inline_js() {\n",
       "    \n",
       "    if (root.Bokeh !== undefined || force === true) {\n",
       "      \n",
       "    for (let i = 0; i < inline_js.length; i++) {\n",
       "      inline_js[i].call(root, root.Bokeh);\n",
       "    }\n",
       "    if (force === true) {\n",
       "        display_loaded();\n",
       "      }} else if (Date.now() < root._bokeh_timeout) {\n",
       "      setTimeout(run_inline_js, 100);\n",
       "    } else if (!root._bokeh_failed_load) {\n",
       "      console.log(\"Bokeh: BokehJS failed to load within specified timeout.\");\n",
       "      root._bokeh_failed_load = true;\n",
       "    } else if (force !== true) {\n",
       "      const cell = $(document.getElementById(\"3430\")).parents('.cell').data().cell;\n",
       "      cell.output_area.append_execute_result(NB_LOAD_WARNING)\n",
       "    }\n",
       "\n",
       "  }\n",
       "\n",
       "  if (root._bokeh_is_loading === 0) {\n",
       "    console.debug(\"Bokeh: BokehJS loaded, going straight to plotting\");\n",
       "    run_inline_js();\n",
       "  } else {\n",
       "    load_libs(css_urls, js_urls, function() {\n",
       "      console.debug(\"Bokeh: BokehJS plotting callback run at\", now());\n",
       "      run_inline_js();\n",
       "    });\n",
       "  }\n",
       "}(window));"
      ],
      "application/vnd.bokehjs_load.v0+json": "\n(function(root) {\n  function now() {\n    return new Date();\n  }\n\n  const force = true;\n\n  if (typeof root._bokeh_onload_callbacks === \"undefined\" || force === true) {\n    root._bokeh_onload_callbacks = [];\n    root._bokeh_is_loading = undefined;\n  }\n\n  \n\n  \n  if (typeof (root._bokeh_timeout) === \"undefined\" || force === true) {\n    root._bokeh_timeout = Date.now() + 5000;\n    root._bokeh_failed_load = false;\n  }\n\n  const NB_LOAD_WARNING = {'data': {'text/html':\n     \"<div style='background-color: #fdd'>\\n\"+\n     \"<p>\\n\"+\n     \"BokehJS does not appear to have successfully loaded. If loading BokehJS from CDN, this \\n\"+\n     \"may be due to a slow or bad network connection. Possible fixes:\\n\"+\n     \"</p>\\n\"+\n     \"<ul>\\n\"+\n     \"<li>re-rerun `output_notebook()` to attempt to load from CDN again, or</li>\\n\"+\n     \"<li>use INLINE resources instead, as so:</li>\\n\"+\n     \"</ul>\\n\"+\n     \"<code>\\n\"+\n     \"from bokeh.resources import INLINE\\n\"+\n     \"output_notebook(resources=INLINE)\\n\"+\n     \"</code>\\n\"+\n     \"</div>\"}};\n\n  function display_loaded() {\n    const el = document.getElementById(\"3430\");\n    if (el != null) {\n      el.textContent = \"BokehJS is loading...\";\n    }\n    if (root.Bokeh !== undefined) {\n      if (el != null) {\n        el.textContent = \"BokehJS \" + root.Bokeh.version + \" successfully loaded.\";\n      }\n    } else if (Date.now() < root._bokeh_timeout) {\n      setTimeout(display_loaded, 100)\n    }\n  }\n\n\n  function run_callbacks() {\n    try {\n      root._bokeh_onload_callbacks.forEach(function(callback) {\n        if (callback != null)\n          callback();\n      });\n    } finally {\n      delete root._bokeh_onload_callbacks\n    }\n    console.debug(\"Bokeh: all callbacks have finished\");\n  }\n\n  function load_libs(css_urls, js_urls, callback) {\n    if (css_urls == null) css_urls = [];\n    if (js_urls == null) js_urls = [];\n\n    root._bokeh_onload_callbacks.push(callback);\n    if (root._bokeh_is_loading > 0) {\n      console.debug(\"Bokeh: BokehJS is being loaded, scheduling callback at\", now());\n      return null;\n    }\n    if (js_urls == null || js_urls.length === 0) {\n      run_callbacks();\n      return null;\n    }\n    console.debug(\"Bokeh: BokehJS not loaded, scheduling load and callback at\", now());\n    root._bokeh_is_loading = css_urls.length + js_urls.length;\n\n    function on_load() {\n      root._bokeh_is_loading--;\n      if (root._bokeh_is_loading === 0) {\n        console.debug(\"Bokeh: all BokehJS libraries/stylesheets loaded\");\n        run_callbacks()\n      }\n    }\n\n    function on_error(url) {\n      console.error(\"failed to load \" + url);\n    }\n\n    for (let i = 0; i < css_urls.length; i++) {\n      const url = css_urls[i];\n      const element = document.createElement(\"link\");\n      element.onload = on_load;\n      element.onerror = on_error.bind(null, url);\n      element.rel = \"stylesheet\";\n      element.type = \"text/css\";\n      element.href = url;\n      console.debug(\"Bokeh: injecting link tag for BokehJS stylesheet: \", url);\n      document.body.appendChild(element);\n    }\n\n    for (let i = 0; i < js_urls.length; i++) {\n      const url = js_urls[i];\n      const element = document.createElement('script');\n      element.onload = on_load;\n      element.onerror = on_error.bind(null, url);\n      element.async = false;\n      element.src = url;\n      console.debug(\"Bokeh: injecting script tag for BokehJS library: \", url);\n      document.head.appendChild(element);\n    }\n  };\n\n  function inject_raw_css(css) {\n    const element = document.createElement(\"style\");\n    element.appendChild(document.createTextNode(css));\n    document.body.appendChild(element);\n  }\n\n  \n  const js_urls = [\"https://cdn.bokeh.org/bokeh/release/bokeh-2.4.2.min.js\", \"https://cdn.bokeh.org/bokeh/release/bokeh-gl-2.4.2.min.js\", \"https://cdn.bokeh.org/bokeh/release/bokeh-widgets-2.4.2.min.js\", \"https://cdn.bokeh.org/bokeh/release/bokeh-tables-2.4.2.min.js\", \"https://cdn.bokeh.org/bokeh/release/bokeh-mathjax-2.4.2.min.js\"];\n  const css_urls = [];\n  \n\n  const inline_js = [\n    function(Bokeh) {\n      Bokeh.set_log_level(\"info\");\n    },\n    function(Bokeh) {\n    \n    \n    }\n  ];\n\n  function run_inline_js() {\n    \n    if (root.Bokeh !== undefined || force === true) {\n      \n    for (let i = 0; i < inline_js.length; i++) {\n      inline_js[i].call(root, root.Bokeh);\n    }\n    if (force === true) {\n        display_loaded();\n      }} else if (Date.now() < root._bokeh_timeout) {\n      setTimeout(run_inline_js, 100);\n    } else if (!root._bokeh_failed_load) {\n      console.log(\"Bokeh: BokehJS failed to load within specified timeout.\");\n      root._bokeh_failed_load = true;\n    } else if (force !== true) {\n      const cell = $(document.getElementById(\"3430\")).parents('.cell').data().cell;\n      cell.output_area.append_execute_result(NB_LOAD_WARNING)\n    }\n\n  }\n\n  if (root._bokeh_is_loading === 0) {\n    console.debug(\"Bokeh: BokehJS loaded, going straight to plotting\");\n    run_inline_js();\n  } else {\n    load_libs(css_urls, js_urls, function() {\n      console.debug(\"Bokeh: BokehJS plotting callback run at\", now());\n      run_inline_js();\n    });\n  }\n}(window));"
     },
     "metadata": {},
     "output_type": "display_data"
    }
   ],
   "source": [
    "output_notebook()"
   ]
  },
  {
   "cell_type": "markdown",
   "metadata": {},
   "source": [
    "## Create Network From Pandas DataFrame"
   ]
  },
  {
   "cell_type": "markdown",
   "metadata": {},
   "source": [
    "We read in a CSV file of *Game of Thrones* network data from Andrew Beveridge and Jie Shan's paper, [\"Network of Thrones.\"](https://www.maa.org/sites/default/files/pdf/Mathhorizons/NetworkofThrones%20%281%29.pdf)\n"
   ]
  },
  {
   "cell_type": "code",
   "execution_count": 38,
   "metadata": {},
   "outputs": [],
   "source": [
    "got_df = pd.read_csv('data/got-edges.csv')"
   ]
  },
  {
   "cell_type": "code",
   "execution_count": 39,
   "metadata": {},
   "outputs": [
    {
     "data": {
      "text/html": [
       "<div>\n",
       "<style scoped>\n",
       "    .dataframe tbody tr th:only-of-type {\n",
       "        vertical-align: middle;\n",
       "    }\n",
       "\n",
       "    .dataframe tbody tr th {\n",
       "        vertical-align: top;\n",
       "    }\n",
       "\n",
       "    .dataframe thead th {\n",
       "        text-align: right;\n",
       "    }\n",
       "</style>\n",
       "<table border=\"1\" class=\"dataframe\">\n",
       "  <thead>\n",
       "    <tr style=\"text-align: right;\">\n",
       "      <th></th>\n",
       "      <th>Source</th>\n",
       "      <th>Target</th>\n",
       "      <th>Weight</th>\n",
       "    </tr>\n",
       "  </thead>\n",
       "  <tbody>\n",
       "    <tr>\n",
       "      <th>0</th>\n",
       "      <td>Aemon</td>\n",
       "      <td>Grenn</td>\n",
       "      <td>5</td>\n",
       "    </tr>\n",
       "    <tr>\n",
       "      <th>1</th>\n",
       "      <td>Aemon</td>\n",
       "      <td>Samwell</td>\n",
       "      <td>31</td>\n",
       "    </tr>\n",
       "    <tr>\n",
       "      <th>2</th>\n",
       "      <td>Aerys</td>\n",
       "      <td>Jaime</td>\n",
       "      <td>18</td>\n",
       "    </tr>\n",
       "    <tr>\n",
       "      <th>3</th>\n",
       "      <td>Aerys</td>\n",
       "      <td>Robert</td>\n",
       "      <td>6</td>\n",
       "    </tr>\n",
       "    <tr>\n",
       "      <th>4</th>\n",
       "      <td>Aerys</td>\n",
       "      <td>Tyrion</td>\n",
       "      <td>5</td>\n",
       "    </tr>\n",
       "    <tr>\n",
       "      <th>...</th>\n",
       "      <td>...</td>\n",
       "      <td>...</td>\n",
       "      <td>...</td>\n",
       "    </tr>\n",
       "    <tr>\n",
       "      <th>347</th>\n",
       "      <td>Walder</td>\n",
       "      <td>Petyr</td>\n",
       "      <td>6</td>\n",
       "    </tr>\n",
       "    <tr>\n",
       "      <th>348</th>\n",
       "      <td>Walder</td>\n",
       "      <td>Roslin</td>\n",
       "      <td>6</td>\n",
       "    </tr>\n",
       "    <tr>\n",
       "      <th>349</th>\n",
       "      <td>Walton</td>\n",
       "      <td>Jaime</td>\n",
       "      <td>10</td>\n",
       "    </tr>\n",
       "    <tr>\n",
       "      <th>350</th>\n",
       "      <td>Ygritte</td>\n",
       "      <td>Qhorin</td>\n",
       "      <td>7</td>\n",
       "    </tr>\n",
       "    <tr>\n",
       "      <th>351</th>\n",
       "      <td>Ygritte</td>\n",
       "      <td>Rattleshirt</td>\n",
       "      <td>9</td>\n",
       "    </tr>\n",
       "  </tbody>\n",
       "</table>\n",
       "<p>352 rows × 3 columns</p>\n",
       "</div>"
      ],
      "text/plain": [
       "      Source       Target  Weight\n",
       "0      Aemon        Grenn       5\n",
       "1      Aemon      Samwell      31\n",
       "2      Aerys        Jaime      18\n",
       "3      Aerys       Robert       6\n",
       "4      Aerys       Tyrion       5\n",
       "..       ...          ...     ...\n",
       "347   Walder        Petyr       6\n",
       "348   Walder       Roslin       6\n",
       "349   Walton        Jaime      10\n",
       "350  Ygritte       Qhorin       7\n",
       "351  Ygritte  Rattleshirt       9\n",
       "\n",
       "[352 rows x 3 columns]"
      ]
     },
     "execution_count": 39,
     "metadata": {},
     "output_type": "execute_result"
    }
   ],
   "source": [
    "got_df"
   ]
  },
  {
   "cell_type": "markdown",
   "metadata": {},
   "source": [
    "Then we make a network with `networkx.from_pandas_edgelist()`:"
   ]
  },
  {
   "cell_type": "code",
   "execution_count": 40,
   "metadata": {},
   "outputs": [],
   "source": [
    "G = networkx.from_pandas_edgelist(got_df, 'Source', 'Target', 'Weight')"
   ]
  },
  {
   "cell_type": "markdown",
   "metadata": {},
   "source": [
    "## Basic Network "
   ]
  },
  {
   "cell_type": "markdown",
   "metadata": {},
   "source": [
    "The code below shows how to make a basic network viz that includes Hover Tooltips (a text box that will display when a user hovers over nodes) as well as Zoom and Pan/Drag functionality.\n",
    "\n",
    "For more details about visualizing network graphs with Bokeh, see [the documentation](https://docs.bokeh.org/en/latest/docs/user_guide/graph.html?highlight=networks)."
   ]
  },
  {
   "cell_type": "code",
   "execution_count": 41,
   "metadata": {},
   "outputs": [
    {
     "data": {
      "text/html": [
       "\n",
       "\n",
       "\n",
       "\n",
       "\n",
       "\n",
       "  <div class=\"bk-root\" id=\"5ec51f43-97ea-461c-b2b8-a09d919c4dda\" data-root-id=\"3433\"></div>\n"
      ]
     },
     "metadata": {},
     "output_type": "display_data"
    },
    {
     "data": {
      "application/javascript": [
       "(function(root) {\n",
       "  function embed_document(root) {\n",
       "    \n",
       "  const docs_json = {\"82443135-4731-4351-9ec1-661c8081a0f3\":{\"defs\":[],\"roots\":{\"references\":[{\"attributes\":{\"below\":[{\"id\":\"3442\"}],\"center\":[{\"id\":\"3445\"},{\"id\":\"3449\"}],\"left\":[{\"id\":\"3446\"}],\"renderers\":[{\"id\":\"3461\"}],\"title\":{\"id\":\"3434\"},\"toolbar\":{\"id\":\"3455\"},\"x_range\":{\"id\":\"3431\"},\"x_scale\":{\"id\":\"3438\"},\"y_range\":{\"id\":\"3432\"},\"y_scale\":{\"id\":\"3440\"}},\"id\":\"3433\",\"subtype\":\"Figure\",\"type\":\"Plot\"},{\"attributes\":{\"coordinates\":null,\"group\":null,\"text\":\"Game of Thrones Network\"},\"id\":\"3434\",\"type\":\"Title\"},{\"attributes\":{},\"id\":\"3643\",\"type\":\"UnionRenderers\"},{\"attributes\":{\"source\":{\"id\":\"3463\"}},\"id\":\"3465\",\"type\":\"CDSView\"},{\"attributes\":{\"source\":{\"id\":\"3467\"}},\"id\":\"3469\",\"type\":\"CDSView\"},{\"attributes\":{},\"id\":\"3644\",\"type\":\"Selection\"},{\"attributes\":{\"coordinates\":null,\"data_source\":{\"id\":\"3463\"},\"glyph\":{\"id\":\"3471\"},\"group\":null,\"hover_glyph\":null,\"view\":{\"id\":\"3465\"}},\"id\":\"3464\",\"type\":\"GlyphRenderer\"},{\"attributes\":{\"data\":{\"Weight\":[5,31,30,4,4,8,25,43,11,11,52,7,5,6,34,12,36,6,10,5,13,18,6,5,8,11,19,36,6,6,4,88,5,4,6,15,16,11,11,7,17,5,8,31,15,10,13,10,4,16,5,10,5,6,6,5,4,5,4,6,5,9,11,5,5,46,54,5,4,12,77,4,31,5,5,5,4,22,5,5,11,6,9,7,5,25,12,28,11,6,4,21,6,18,39,4,4,12,5,4,16,7,13,14,5,6,4,5,5,15,4,4,6,4,5,9,15,4,69,11,8,7,10,9,7,8,12,5,24,4,6,6,11,23,9,6,5,43,7,6,7,8,5,46,18,18,15,22,4,4,21,8,15,96,46,12,4,54,14,35,11,4,15,23,10,4,5,8,7,4,17,4,5,4,4,6,7,23,10,4,6,4,4,6,4,16,7,5,5,9,7,7,12,5,4,8,7,28,5,5,14,10,9,10,35,8,7,6,4,9,8,4,7,6,31,20,9,16,8,12,54,14,4,8,8,15,7,4,4,4,5,4,4,10,6,4,6,4,7,9,5,8,14,18,10,26,13,20,11,5,35,41,5,33,4,11,7,6,5,19,4,8,4,4,10,12,19,9,26,6,6,16,9,10,8,5,43,6,8,4,5,16,9,32,6,18,5,10,29,9,28,5,28,13,4,7,15,4,6,5,36,9,4,7,4,6,8,32,20,15,7,5,4,4,8,5,4,6,17,4,5,14,7,18,7,6,17,4,8,47,10,26,7,12,8,14,5,7,4,16,30,5,7,5,5,5,7,7,6,7,9,4],\"end\":[\"Grenn\",\"Samwell\",\"Jon\",\"Robert\",\"Stannis\",\"Eddison\",\"Jon\",\"Samwell\",\"Bran\",\"Jojen\",\"Jon\",\"Meera\",\"Melisandre\",\"Bowen\",\"Craster\",\"Eddison\",\"Gilly\",\"Janos\",\"Mance\",\"Qhorin\",\"Stannis\",\"Jaime\",\"Robert\",\"Tyrion\",\"Tywin\",\"Arya\",\"Catelyn\",\"Cersei\",\"Eddard\",\"Balon\",\"Barristan\",\"Brienne\",\"Edmure\",\"Elia\",\"Gregor\",\"Joffrey\",\"Loras\",\"Meryn\",\"Qyburn\",\"Renly\",\"Robert\",\"Stannis\",\"Tommen\",\"Tyrion\",\"Robb\",\"Sansa\",\"Tywin\",\"Walton\",\"Arya\",\"Cersei\",\"Daenerys\",\"Eddard\",\"Jon\",\"Jon Arryn\",\"Rhaegar\",\"Barristan\",\"Renly\",\"Stannis\",\"Thoros\",\"Sandor\",\"Sansa\",\"Tyrion\",\"Tywin\",\"Arya\",\"Catelyn\",\"Cersei\",\"Joffrey\",\"Lysa\",\"Myrcella\",\"Robb\",\"Sansa\",\"Balon\",\"Bronn\",\"Chataya\",\"Doran\",\"Elia\",\"Ellaria\",\"Gregor\",\"Ilyn\",\"Janos\",\"Kevan\",\"Loras\",\"Mace\",\"Margaery\",\"Meryn\",\"Oberyn\",\"Petyr\",\"Podrick\",\"Pycelle\",\"Renly\",\"Sandor\",\"Shae\",\"Stannis\",\"Varys\",\"Tywin\",\"Viserys\",\"Lysa\",\"Robb\",\"Balon\",\"Brynden\",\"Cersei\",\"Gregor\",\"Joffrey\",\"Kevan\",\"Mace\",\"Oberyn\",\"Petyr\",\"Podrick\",\"Pycelle\",\"Stannis\",\"Tommen\",\"Val\",\"Varys\",\"Walder\",\"Mance\",\"Janos\",\"Jon\",\"Janos\",\"Jon\",\"Craster\",\"Dalla\",\"Gilly\",\"Qhorin\",\"Rattleshirt\",\"Styr\",\"Val\",\"Ygritte\",\"Oberyn\",\"Gregor\",\"Joffrey\",\"Ellaria\",\"Mace\",\"Anguy\",\"Beric\",\"Bran\",\"Brynden\",\"Cersei\",\"Gendry\",\"Gregor\",\"Joffrey\",\"Jon\",\"Rickon\",\"Roose\",\"Sandor\",\"Thoros\",\"Eddard\",\"Robb\",\"Sansa\",\"Beric\",\"Gendry\",\"Thoros\",\"Eddard\",\"Sandor\",\"Hodor\",\"Jojen\",\"Jon\",\"Luwin\",\"Meera\",\"Nan\",\"Rickon\",\"Theon\",\"Catelyn\",\"Eddard\",\"Robb\",\"Sansa\",\"Lothar\",\"Walder\",\"Catelyn\",\"Edmure\",\"Rickard\",\"Robb\",\"Catelyn\",\"Brienne\",\"Bronn\",\"Elia\",\"Gregor\",\"Ilyn\",\"Joffrey\",\"Meryn\",\"Pycelle\",\"Sandor\",\"Shae\",\"Varys\",\"Eddard\",\"Lysa\",\"Sansa\",\"Thoros\",\"Sandor\",\"Bronn\",\"Elia\",\"Ilyn\",\"Meryn\",\"Sandor\",\"Joffrey\",\"Ilyn\",\"Kevan\",\"Loras\",\"Margaery\",\"Meryn\",\"Myrcella\",\"Sandor\",\"Stannis\",\"Tommen\",\"Robb\",\"Sansa\",\"Eddard\",\"Craster\",\"Dalla\",\"Eddison\",\"Gilly\",\"Janos\",\"Meera\",\"Melisandre\",\"Orell\",\"Qhorin\",\"Rattleshirt\",\"Stannis\",\"Styr\",\"Theon\",\"Val\",\"Ygritte\",\"Robb\",\"Sansa\",\"Eddard\",\"Theon\",\"Robb\",\"Sansa\",\"Catelyn\",\"Robb\",\"Brienne\",\"Eddard\",\"Ilyn\",\"Meryn\",\"Thoros\",\"Sansa\",\"Loras\",\"Robb\",\"Stannis\",\"Brienne\",\"Margaery\",\"Olenna\",\"Renly\",\"Sansa\",\"Barristan\",\"Illyrio\",\"Daenerys\",\"Jorah\",\"Daenerys\",\"Jorah\",\"Rhaegar\",\"Jojen\",\"Meera\",\"Robb\",\"Meera\",\"Nan\",\"Robb\",\"Catelyn\",\"Robb\",\"Sansa\",\"Podrick\",\"Margaery\",\"Sansa\",\"Edmure\",\"Roslin\",\"Robb\",\"Walder\",\"Catelyn\",\"Edmure\",\"Robb\",\"Petyr\",\"Roslin\",\"Edmure\",\"Hoster\",\"Jeyne\",\"Lysa\",\"Petyr\",\"Robb\",\"Roslin\",\"Sansa\",\"Stannis\",\"Eddard\",\"Roslin\",\"Hoster\",\"Robb\",\"Lysa\",\"Robb\",\"Jon Arryn\",\"Marillion\",\"Petyr\",\"Robert Arryn\",\"Sansa\",\"Robb\",\"Sansa\",\"Eddard\",\"Ramsay\",\"Rickard\",\"Sansa\",\"Stannis\",\"Eddard\",\"Kevan\",\"Margaery\",\"Marillion\",\"Myrcella\",\"Olenna\",\"Renly\",\"Robert Arryn\",\"Shae\",\"Davos\",\"Melisandre\",\"Renly\",\"Rhaegar\",\"Meryn\",\"Varys\",\"Chataya\",\"Varys\",\"Kevan\",\"Renly\",\"Karl\",\"Gilly\",\"Drogo\",\"Irri\",\"Daenerys\",\"Jorah\",\"Daenerys\",\"Irri\",\"Jorah\",\"Daenerys\",\"Missandei\",\"Aegon\",\"Jorah\",\"Kraznys\",\"Missandei\",\"Rakharo\",\"Rhaegar\",\"Viserys\",\"Worm\",\"Rhaegar\",\"Viserys\",\"Cressen\",\"Salladhor\",\"Melisandre\",\"Shireen\",\"Margaery\",\"Myrcella\",\"Margaery\",\"Bowen\",\"Lancel\",\"Val\",\"Rattleshirt\",\"Ygritte\",\"Ygritte\",\"Robert Arryn\"],\"start\":[\"Aemon\",\"Aemon\",\"Aemon\",\"Aemon\",\"Aemon\",\"Grenn\",\"Grenn\",\"Grenn\",\"Samwell\",\"Samwell\",\"Samwell\",\"Samwell\",\"Samwell\",\"Samwell\",\"Samwell\",\"Samwell\",\"Samwell\",\"Samwell\",\"Samwell\",\"Samwell\",\"Samwell\",\"Aerys\",\"Aerys\",\"Aerys\",\"Aerys\",\"Jaime\",\"Jaime\",\"Jaime\",\"Jaime\",\"Jaime\",\"Jaime\",\"Jaime\",\"Jaime\",\"Jaime\",\"Jaime\",\"Jaime\",\"Jaime\",\"Jaime\",\"Jaime\",\"Jaime\",\"Jaime\",\"Jaime\",\"Jaime\",\"Jaime\",\"Jaime\",\"Jaime\",\"Jaime\",\"Jaime\",\"Robert\",\"Robert\",\"Robert\",\"Robert\",\"Robert\",\"Robert\",\"Robert\",\"Robert\",\"Robert\",\"Robert\",\"Robert\",\"Robert\",\"Robert\",\"Robert\",\"Robert\",\"Tyrion\",\"Tyrion\",\"Tyrion\",\"Tyrion\",\"Tyrion\",\"Tyrion\",\"Tyrion\",\"Tyrion\",\"Tyrion\",\"Tyrion\",\"Tyrion\",\"Tyrion\",\"Tyrion\",\"Tyrion\",\"Tyrion\",\"Tyrion\",\"Tyrion\",\"Tyrion\",\"Tyrion\",\"Tyrion\",\"Tyrion\",\"Tyrion\",\"Tyrion\",\"Tyrion\",\"Tyrion\",\"Tyrion\",\"Tyrion\",\"Tyrion\",\"Tyrion\",\"Tyrion\",\"Tyrion\",\"Tyrion\",\"Tyrion\",\"Tywin\",\"Tywin\",\"Tywin\",\"Tywin\",\"Tywin\",\"Tywin\",\"Tywin\",\"Tywin\",\"Tywin\",\"Tywin\",\"Tywin\",\"Tywin\",\"Tywin\",\"Tywin\",\"Tywin\",\"Tywin\",\"Tywin\",\"Tywin\",\"Alliser\",\"Alliser\",\"Alliser\",\"Mance\",\"Mance\",\"Mance\",\"Mance\",\"Mance\",\"Mance\",\"Mance\",\"Mance\",\"Mance\",\"Mance\",\"Amory\",\"Oberyn\",\"Oberyn\",\"Oberyn\",\"Oberyn\",\"Arya\",\"Arya\",\"Arya\",\"Arya\",\"Arya\",\"Arya\",\"Arya\",\"Arya\",\"Arya\",\"Arya\",\"Arya\",\"Arya\",\"Arya\",\"Arya\",\"Arya\",\"Arya\",\"Anguy\",\"Beric\",\"Beric\",\"Beric\",\"Beric\",\"Bran\",\"Bran\",\"Bran\",\"Bran\",\"Bran\",\"Bran\",\"Bran\",\"Bran\",\"Bran\",\"Bran\",\"Bran\",\"Bran\",\"Brynden\",\"Brynden\",\"Brynden\",\"Brynden\",\"Brynden\",\"Brynden\",\"Cersei\",\"Cersei\",\"Cersei\",\"Cersei\",\"Cersei\",\"Cersei\",\"Cersei\",\"Cersei\",\"Cersei\",\"Cersei\",\"Cersei\",\"Cersei\",\"Cersei\",\"Cersei\",\"Cersei\",\"Gendry\",\"Gendry\",\"Gregor\",\"Gregor\",\"Gregor\",\"Gregor\",\"Gregor\",\"Gregor\",\"Joffrey\",\"Joffrey\",\"Joffrey\",\"Joffrey\",\"Joffrey\",\"Joffrey\",\"Joffrey\",\"Joffrey\",\"Joffrey\",\"Joffrey\",\"Joffrey\",\"Jon\",\"Jon\",\"Jon\",\"Jon\",\"Jon\",\"Jon\",\"Jon\",\"Jon\",\"Jon\",\"Jon\",\"Jon\",\"Jon\",\"Jon\",\"Jon\",\"Jon\",\"Jon\",\"Jon\",\"Jon\",\"Rickon\",\"Rickon\",\"Rickon\",\"Rickon\",\"Roose\",\"Roose\",\"Roose\",\"Sandor\",\"Sandor\",\"Sandor\",\"Sandor\",\"Sandor\",\"Balon\",\"Balon\",\"Balon\",\"Loras\",\"Loras\",\"Loras\",\"Loras\",\"Loras\",\"Belwas\",\"Belwas\",\"Belwas\",\"Belwas\",\"Barristan\",\"Barristan\",\"Barristan\",\"Hodor\",\"Hodor\",\"Hodor\",\"Jojen\",\"Luwin\",\"Theon\",\"Brienne\",\"Brienne\",\"Brienne\",\"Bronn\",\"Podrick\",\"Podrick\",\"Lothar\",\"Lothar\",\"Lothar\",\"Lothar\",\"Walder\",\"Walder\",\"Walder\",\"Walder\",\"Walder\",\"Catelyn\",\"Catelyn\",\"Catelyn\",\"Catelyn\",\"Catelyn\",\"Catelyn\",\"Catelyn\",\"Catelyn\",\"Catelyn\",\"Catelyn\",\"Edmure\",\"Edmure\",\"Edmure\",\"Hoster\",\"Jeyne\",\"Lysa\",\"Lysa\",\"Lysa\",\"Lysa\",\"Lysa\",\"Petyr\",\"Petyr\",\"Robb\",\"Robb\",\"Robb\",\"Robb\",\"Robb\",\"Sansa\",\"Sansa\",\"Sansa\",\"Sansa\",\"Sansa\",\"Sansa\",\"Sansa\",\"Sansa\",\"Sansa\",\"Stannis\",\"Stannis\",\"Stannis\",\"Elia\",\"Ilyn\",\"Pycelle\",\"Shae\",\"Shae\",\"Varys\",\"Varys\",\"Craster\",\"Craster\",\"Daario\",\"Daario\",\"Daario\",\"Daario\",\"Drogo\",\"Drogo\",\"Drogo\",\"Irri\",\"Irri\",\"Daenerys\",\"Daenerys\",\"Daenerys\",\"Daenerys\",\"Daenerys\",\"Daenerys\",\"Daenerys\",\"Daenerys\",\"Jorah\",\"Rhaegar\",\"Davos\",\"Davos\",\"Davos\",\"Davos\",\"Renly\",\"Tommen\",\"Tommen\",\"Janos\",\"Kevan\",\"Dalla\",\"Qhorin\",\"Qhorin\",\"Rattleshirt\",\"Marillion\"]},\"selected\":{\"id\":\"3646\"},\"selection_policy\":{\"id\":\"3645\"}},\"id\":\"3467\",\"type\":\"ColumnDataSource\"},{\"attributes\":{\"data\":{\"index\":[\"Aemon\",\"Grenn\",\"Samwell\",\"Aerys\",\"Jaime\",\"Robert\",\"Tyrion\",\"Tywin\",\"Alliser\",\"Mance\",\"Amory\",\"Oberyn\",\"Arya\",\"Anguy\",\"Beric\",\"Bran\",\"Brynden\",\"Cersei\",\"Gendry\",\"Gregor\",\"Joffrey\",\"Jon\",\"Rickon\",\"Roose\",\"Sandor\",\"Thoros\",\"Balon\",\"Loras\",\"Belwas\",\"Barristan\",\"Illyrio\",\"Hodor\",\"Jojen\",\"Luwin\",\"Meera\",\"Nan\",\"Theon\",\"Brienne\",\"Bronn\",\"Podrick\",\"Lothar\",\"Walder\",\"Catelyn\",\"Edmure\",\"Hoster\",\"Jeyne\",\"Lysa\",\"Petyr\",\"Robb\",\"Roslin\",\"Sansa\",\"Stannis\",\"Elia\",\"Ilyn\",\"Meryn\",\"Pycelle\",\"Shae\",\"Varys\",\"Craster\",\"Karl\",\"Daario\",\"Drogo\",\"Irri\",\"Daenerys\",\"Aegon\",\"Jorah\",\"Kraznys\",\"Missandei\",\"Rakharo\",\"Rhaegar\",\"Viserys\",\"Worm\",\"Davos\",\"Cressen\",\"Salladhor\",\"Eddard\",\"Eddison\",\"Gilly\",\"Qyburn\",\"Renly\",\"Tommen\",\"Janos\",\"Bowen\",\"Kevan\",\"Margaery\",\"Myrcella\",\"Dalla\",\"Melisandre\",\"Orell\",\"Qhorin\",\"Rattleshirt\",\"Styr\",\"Val\",\"Ygritte\",\"Jon Arryn\",\"Lancel\",\"Olenna\",\"Marillion\",\"Robert Arryn\",\"Ellaria\",\"Mace\",\"Rickard\",\"Ramsay\",\"Chataya\",\"Shireen\",\"Doran\",\"Walton\"]},\"selected\":{\"id\":\"3644\"},\"selection_policy\":{\"id\":\"3643\"}},\"id\":\"3463\",\"type\":\"ColumnDataSource\"},{\"attributes\":{\"axis\":{\"id\":\"3442\"},\"coordinates\":null,\"group\":null,\"ticker\":null},\"id\":\"3445\",\"type\":\"Grid\"},{\"attributes\":{},\"id\":\"3447\",\"type\":\"BasicTicker\"},{\"attributes\":{\"callback\":null,\"tooltips\":[[\"Character\",\"@index\"]]},\"id\":\"3454\",\"type\":\"HoverTool\"},{\"attributes\":{},\"id\":\"3443\",\"type\":\"BasicTicker\"},{\"attributes\":{},\"id\":\"3635\",\"type\":\"NodesOnly\"},{\"attributes\":{},\"id\":\"3636\",\"type\":\"NodesOnly\"},{\"attributes\":{},\"id\":\"3645\",\"type\":\"UnionRenderers\"},{\"attributes\":{},\"id\":\"3646\",\"type\":\"Selection\"},{\"attributes\":{},\"id\":\"3440\",\"type\":\"LinearScale\"},{\"attributes\":{\"coordinates\":null,\"formatter\":{\"id\":\"3641\"},\"group\":null,\"major_label_policy\":{\"id\":\"3642\"},\"ticker\":{\"id\":\"3443\"}},\"id\":\"3442\",\"type\":\"LinearAxis\"},{\"attributes\":{},\"id\":\"3453\",\"type\":\"ResetTool\"},{\"attributes\":{},\"id\":\"3638\",\"type\":\"BasicTickFormatter\"},{\"attributes\":{\"end\":10.1,\"start\":-10.1},\"id\":\"3432\",\"type\":\"Range1d\"},{\"attributes\":{\"coordinates\":null,\"data_source\":{\"id\":\"3467\"},\"glyph\":{\"id\":\"3476\"},\"group\":null,\"hover_glyph\":null,\"view\":{\"id\":\"3469\"}},\"id\":\"3468\",\"type\":\"GlyphRenderer\"},{\"attributes\":{},\"id\":\"3450\",\"type\":\"PanTool\"},{\"attributes\":{\"coordinates\":null,\"edge_renderer\":{\"id\":\"3468\"},\"group\":null,\"inspection_policy\":{\"id\":\"3636\"},\"layout_provider\":{\"id\":\"3470\"},\"node_renderer\":{\"id\":\"3464\"},\"selection_policy\":{\"id\":\"3635\"}},\"id\":\"3461\",\"type\":\"GraphRenderer\"},{\"attributes\":{\"fill_color\":{\"value\":\"skyblue\"},\"size\":{\"value\":15}},\"id\":\"3471\",\"type\":\"Circle\"},{\"attributes\":{\"axis\":{\"id\":\"3446\"},\"coordinates\":null,\"dimension\":1,\"group\":null,\"ticker\":null},\"id\":\"3449\",\"type\":\"Grid\"},{\"attributes\":{},\"id\":\"3438\",\"type\":\"LinearScale\"},{\"attributes\":{},\"id\":\"3452\",\"type\":\"SaveTool\"},{\"attributes\":{},\"id\":\"3639\",\"type\":\"AllLabels\"},{\"attributes\":{},\"id\":\"3641\",\"type\":\"BasicTickFormatter\"},{\"attributes\":{},\"id\":\"3451\",\"type\":\"WheelZoomTool\"},{\"attributes\":{},\"id\":\"3642\",\"type\":\"AllLabels\"},{\"attributes\":{\"line_alpha\":{\"value\":0.5}},\"id\":\"3476\",\"type\":\"MultiLine\"},{\"attributes\":{\"graph_layout\":{\"Aegon\":[0.43532472636939173,-9.456524176728916],\"Aemon\":[2.6400610712264188,-0.2642725610511963],\"Aerys\":[-1.0559152185226042,-0.8286711491199241],\"Alliser\":[4.649352119092826,1.8403847934540132],\"Amory\":[-7.182377892824247,2.306596111482971],\"Anguy\":[2.0578232708802027,1.956415741997328],\"Arya\":[0.13890079397575927,1.258007482823329],\"Balon\":[-0.7233959976556623,1.5912862465247326],\"Barristan\":[-0.17875088313825582,-3.9248615956021013],\"Belwas\":[-0.4209371191059944,-7.350682827089848],\"Beric\":[1.3243286581238853,0.5782479381429135],\"Bowen\":[4.90422414522287,2.845721384683976],\"Bran\":[1.7979125814060288,3.1923329869625765],\"Brienne\":[-1.1085731988063816,2.4061168166768057],\"Bronn\":[-3.4766557564958425,-0.8495810910184212],\"Brynden\":[-0.728043425472741,3.7833466520857484],\"Catelyn\":[-0.9279865782276516,2.7924463332308456],\"Cersei\":[-1.551425701822588,0.36438163281203834],\"Chataya\":[-4.90423390106945,-0.8046206698671997],\"Craster\":[6.295823104120296,1.797811039481324],\"Cressen\":[-2.965113850939815,-6.1876867831878934],\"Daario\":[0.6585890682029956,-8.405511960911708],\"Daenerys\":[0.90443363440878,-6.596974417365837],\"Dalla\":[4.487198266597825,-0.32622305696273296],\"Davos\":[-0.8865757117329242,-4.088958399649463],\"Doran\":[-4.714636906510595,-1.7259627611595705],\"Drogo\":[1.2255051546738576,-8.112255699466107],\"Eddard\":[0.49065190191720753,1.3761790235641187],\"Eddison\":[5.291107544397296,1.9140603107167093],\"Edmure\":[-1.3445813659820793,4.104876451056547],\"Elia\":[-1.2935095611528757,-1.623259459026623],\"Ellaria\":[-5.339857067233109,0.43876477836693306],\"Gendry\":[1.3426134484098997,-0.30852019829067795],\"Gilly\":[5.593232129363005,1.5096860960971312],\"Gregor\":[-2.0641741442903463,-0.0705391589095544],\"Grenn\":[4.477481722585177,0.526828655697658],\"Hodor\":[2.5005813247385653,4.378161792029029],\"Hoster\":[-2.719325683751274,4.223929145214304],\"Illyrio\":[-1.2197125555173898,-10.000000000000002],\"Ilyn\":[-1.9671552560424608,-0.8363695836423958],\"Irri\":[1.552150318365351,-8.847657096393053],\"Jaime\":[-1.2995601222530375,0.9081045000199867],\"Janos\":[2.643832423129986,1.3992576830960248],\"Jeyne\":[-0.09023786250956108,5.008109649884492],\"Joffrey\":[-1.9488903139050286,0.9655730923310338],\"Jojen\":[3.8543244365067055,3.943322857910334],\"Jon\":[3.1541597707887075,0.9740719513502749],\"Jon Arryn\":[-2.4869622666031272,-1.5138372631542116],\"Jorah\":[0.33442156101198045,-6.5780172662834255],\"Karl\":[9.1265836453844,2.4243142831053834],\"Kevan\":[-3.934294020268439,0.6383531216569016],\"Kraznys\":[3.0542990412074897,-8.345569687276177],\"Lancel\":[-7.162730992974154,0.4526700655945478],\"Loras\":[-2.174576272669183,1.8552603246771195],\"Lothar\":[-1.0977308555990053,5.238879319954223],\"Luwin\":[3.0443912210135364,6.156355799562397],\"Lysa\":[-2.7826437028687274,1.5767411229074526],\"Mace\":[-4.016581927019626,1.8400201615610972],\"Mance\":[4.876095179389203,0.8492584529327496],\"Margaery\":[-2.897980062474009,1.1312690555449552],\"Marillion\":[-4.485740391911816,0.9284864103337277],\"Meera\":[3.6780824358875193,3.2002706196392627],\"Melisandre\":[1.9193642814283647,-1.3077908445040722],\"Meryn\":[-1.4453347648958694,-0.49430357360060856],\"Missandei\":[2.390488058581264,-8.75477057617134],\"Myrcella\":[-3.3405353869751337,1.9173107393587596],\"Nan\":[3.591536292290346,5.7989858868085955],\"Oberyn\":[-4.1924976992808265,1.186106242125457],\"Olenna\":[-3.4949376503635805,3.2046025564145904],\"Orell\":[5.740130656584352,-0.9643085258343815],\"Petyr\":[-1.8605230383548665,2.6475399422109196],\"Podrick\":[-3.230313030392091,0.5174486914720549],\"Pycelle\":[-2.8663610872358594,-0.7556934323533513],\"Qhorin\":[5.527562378950639,0.6954479126609201],\"Qyburn\":[-3.457413521926599,3.796257141399091],\"Rakharo\":[2.2527351782122342,-9.38355595267702],\"Ramsay\":[0.6288023680186838,6.207937129641824],\"Rattleshirt\":[6.221709706277338,0.9389758392869623],\"Renly\":[-1.3840115059134346,0.0861141202318557],\"Rhaegar\":[0.10285655454870017,-4.288775810847241],\"Rickard\":[-0.2382841088958692,5.705135011913174],\"Rickon\":[0.806419408649075,2.665863088869318],\"Robb\":[-0.038299755910258845,2.9033274779491944],\"Robert\":[-0.03403177760756343,-1.1501601603600364],\"Robert Arryn\":[-4.586371933343853,1.7113039859778048],\"Roose\":[0.11774858989903378,3.5862844426769125],\"Roslin\":[-1.8809982762505606,5.431364839072073],\"Salladhor\":[-1.7615862017271824,-6.669496528475548],\"Samwell\":[3.7130220025233327,1.4056843684107665],\"Sandor\":[-0.452487135499068,0.05501685726272645],\"Sansa\":[-1.3635439671342338,1.4719051972550252],\"Shae\":[-3.567462011798218,-0.09596291340057805],\"Shireen\":[-2.4370374234842695,-6.617103369377052],\"Stannis\":[0.31986388291811546,0.23234198740521],\"Styr\":[5.839906785773554,-0.190213489393817],\"Theon\":[2.3069110008843245,3.1305116416953553],\"Thoros\":[0.9378933337473095,-0.6991519794847991],\"Tommen\":[-2.8911986801630567,2.2755244519707145],\"Tyrion\":[-1.997570671440285,0.3335797624041616],\"Tywin\":[-1.6112888787455568,1.1668696574729367],\"Val\":[2.4200764889745146,0.47533550600770197],\"Varys\":[-3.0032171832689274,-0.14930089208068395],\"Viserys\":[-0.7138197031607468,-3.563272017786625],\"Walder\":[-1.6458210150617167,3.912469083665146],\"Walton\":[-4.189229662818361,3.2531071403030167],\"Worm\":[1.2719762651272442,-9.62767274868455],\"Ygritte\":[6.1925547072123175,0.3698390901035427]}},\"id\":\"3470\",\"type\":\"StaticLayoutProvider\"},{\"attributes\":{\"active_scroll\":{\"id\":\"3451\"},\"tools\":[{\"id\":\"3450\"},{\"id\":\"3451\"},{\"id\":\"3452\"},{\"id\":\"3453\"},{\"id\":\"3454\"}]},\"id\":\"3455\",\"type\":\"Toolbar\"},{\"attributes\":{\"coordinates\":null,\"formatter\":{\"id\":\"3638\"},\"group\":null,\"major_label_policy\":{\"id\":\"3639\"},\"ticker\":{\"id\":\"3447\"}},\"id\":\"3446\",\"type\":\"LinearAxis\"},{\"attributes\":{\"end\":10.1,\"start\":-10.1},\"id\":\"3431\",\"type\":\"Range1d\"}],\"root_ids\":[\"3433\"]},\"title\":\"Bokeh Application\",\"version\":\"2.4.2\"}};\n",
       "  const render_items = [{\"docid\":\"82443135-4731-4351-9ec1-661c8081a0f3\",\"root_ids\":[\"3433\"],\"roots\":{\"3433\":\"5ec51f43-97ea-461c-b2b8-a09d919c4dda\"}}];\n",
       "  root.Bokeh.embed.embed_items_notebook(docs_json, render_items);\n",
       "\n",
       "  }\n",
       "  if (root.Bokeh !== undefined) {\n",
       "    embed_document(root);\n",
       "  } else {\n",
       "    let attempts = 0;\n",
       "    const timer = setInterval(function(root) {\n",
       "      if (root.Bokeh !== undefined) {\n",
       "        clearInterval(timer);\n",
       "        embed_document(root);\n",
       "      } else {\n",
       "        attempts++;\n",
       "        if (attempts > 100) {\n",
       "          clearInterval(timer);\n",
       "          console.log(\"Bokeh: ERROR: Unable to run BokehJS code because BokehJS library is missing\");\n",
       "        }\n",
       "      }\n",
       "    }, 10, root)\n",
       "  }\n",
       "})(window);"
      ],
      "application/vnd.bokehjs_exec.v0+json": ""
     },
     "metadata": {
      "application/vnd.bokehjs_exec.v0+json": {
       "id": "3433"
      }
     },
     "output_type": "display_data"
    },
    {
     "name": "stderr",
     "output_type": "stream",
     "text": [
      "/usr/local/lib/python3.9/site-packages/bokeh/io/saving.py:142: UserWarning: save() called but no resources were supplied and output_file(...) was never called, defaulting to resources.CDN\n",
      "  warn(\"save() called but no resources were supplied and output_file(...) was never called, defaulting to resources.CDN\")\n",
      "/usr/local/lib/python3.9/site-packages/bokeh/io/saving.py:154: UserWarning: save() called but no title was supplied and output_file(...) was never called, using default title 'Bokeh Plot'\n",
      "  warn(\"save() called but no title was supplied and output_file(...) was never called, using default title 'Bokeh Plot'\")\n"
     ]
    },
    {
     "data": {
      "text/plain": [
       "'/Users/okara/Onboarding/Jupyter Notebooks and More/Networks-and-viz/networkx_holoviews_pyvis_bokeh_advanced/Game of Thrones Network1.html'"
      ]
     },
     "execution_count": 41,
     "metadata": {},
     "output_type": "execute_result"
    }
   ],
   "source": [
    "#Choose a title!\n",
    "title = 'Game of Thrones Network'\n",
    "\n",
    "#Establish which categories will appear when hovering over each node\n",
    "HOVER_TOOLTIPS = [(\"Character\", \"@index\")]\n",
    "\n",
    "#Create a plot — set dimensions, toolbar, and title\n",
    "plot = figure(tooltips = HOVER_TOOLTIPS,\n",
    "              tools=\"pan,wheel_zoom,save,reset\", active_scroll='wheel_zoom',\n",
    "            x_range=Range1d(-10.1, 10.1), y_range=Range1d(-10.1, 10.1), title=title)\n",
    "\n",
    "#Create a network graph object with spring layout\n",
    "# https://networkx.github.io/documentation/networkx-1.9/reference/generated/networkx.drawing.layout.spring_layout.html\n",
    "network_graph = from_networkx(G, networkx.spring_layout, scale=10, center=(0, 0))\n",
    "\n",
    "#Set node size and color\n",
    "network_graph.node_renderer.glyph = Circle(size=15, fill_color='skyblue')\n",
    "\n",
    "#Set edge opacity and width\n",
    "network_graph.edge_renderer.glyph = MultiLine(line_alpha=0.5, line_width=1)\n",
    "\n",
    "#Add network graph to the plot\n",
    "plot.renderers.append(network_graph)\n",
    "\n",
    "show(plot)\n",
    "save(plot, filename=f\"{title}1.html\")"
   ]
  },
  {
   "cell_type": "markdown",
   "metadata": {},
   "source": [
    "## Network with Nodes Sized and Colored By Attribute (Degree)"
   ]
  },
  {
   "cell_type": "markdown",
   "metadata": {},
   "source": [
    "The code below shows how to size and color nodes by degree."
   ]
  },
  {
   "cell_type": "markdown",
   "metadata": {},
   "source": [
    "**Include Bokeh color palettes**"
   ]
  },
  {
   "cell_type": "code",
   "execution_count": 42,
   "metadata": {},
   "outputs": [],
   "source": [
    "from bokeh.io import output_notebook, show, save\n",
    "from bokeh.models import Range1d, Circle, ColumnDataSource, MultiLine\n",
    "from bokeh.plotting import figure\n",
    "from bokeh.plotting import from_networkx\n",
    "from bokeh.palettes import Blues8, Reds8, Purples8, Oranges8, Viridis8, Spectral8\n",
    "from bokeh.transform import linear_cmap"
   ]
  },
  {
   "cell_type": "markdown",
   "metadata": {},
   "source": [
    "**Calculate degree for each node and add as node attribute**"
   ]
  },
  {
   "cell_type": "code",
   "execution_count": 43,
   "metadata": {},
   "outputs": [],
   "source": [
    "degrees = dict(networkx.degree(G))\n",
    "networkx.set_node_attributes(G, name='degree', values=degrees)"
   ]
  },
  {
   "cell_type": "markdown",
   "metadata": {},
   "source": [
    "**Slightly adjust degree so that the nodes with very small degrees are still visible**"
   ]
  },
  {
   "cell_type": "code",
   "execution_count": 44,
   "metadata": {},
   "outputs": [],
   "source": [
    "number_to_adjust_by = 5\n",
    "adjusted_node_size = dict([(node, degree+number_to_adjust_by) for node, degree in networkx.degree(G)])\n",
    "networkx.set_node_attributes(G, name='adjusted_node_size', values=adjusted_node_size)"
   ]
  },
  {
   "cell_type": "code",
   "execution_count": 45,
   "metadata": {},
   "outputs": [
    {
     "data": {
      "text/html": [
       "\n",
       "\n",
       "\n",
       "\n",
       "\n",
       "\n",
       "  <div class=\"bk-root\" id=\"11ec7f0b-e1aa-42d5-b2ad-6c269704b938\" data-root-id=\"4073\"></div>\n"
      ]
     },
     "metadata": {},
     "output_type": "display_data"
    },
    {
     "data": {
      "application/javascript": [
       "(function(root) {\n",
       "  function embed_document(root) {\n",
       "    \n",
       "  const docs_json = {\"ec2c6827-cf37-489f-8a48-abe0f7cfba1a\":{\"defs\":[],\"roots\":{\"references\":[{\"attributes\":{\"below\":[{\"id\":\"4082\"}],\"center\":[{\"id\":\"4085\"},{\"id\":\"4089\"}],\"left\":[{\"id\":\"4086\"}],\"renderers\":[{\"id\":\"4101\"}],\"title\":{\"id\":\"4074\"},\"toolbar\":{\"id\":\"4095\"},\"x_range\":{\"id\":\"4071\"},\"x_scale\":{\"id\":\"4078\"},\"y_range\":{\"id\":\"4072\"},\"y_scale\":{\"id\":\"4080\"}},\"id\":\"4073\",\"subtype\":\"Figure\",\"type\":\"Plot\"},{\"attributes\":{},\"id\":\"4315\",\"type\":\"UnionRenderers\"},{\"attributes\":{},\"id\":\"4305\",\"type\":\"NodesOnly\"},{\"attributes\":{},\"id\":\"4316\",\"type\":\"Selection\"},{\"attributes\":{\"fill_color\":{\"field\":\"adjusted_node_size\",\"transform\":{\"id\":\"4119\"}},\"size\":{\"field\":\"adjusted_node_size\"}},\"id\":\"4120\",\"type\":\"Circle\"},{\"attributes\":{\"active_scroll\":{\"id\":\"4091\"},\"tools\":[{\"id\":\"4090\"},{\"id\":\"4091\"},{\"id\":\"4092\"},{\"id\":\"4093\"},{\"id\":\"4094\"}]},\"id\":\"4095\",\"type\":\"Toolbar\"},{\"attributes\":{\"end\":10.1,\"start\":-10.1},\"id\":\"4072\",\"type\":\"Range1d\"},{\"attributes\":{},\"id\":\"4083\",\"type\":\"BasicTicker\"},{\"attributes\":{},\"id\":\"4306\",\"type\":\"NodesOnly\"},{\"attributes\":{\"data\":{\"adjusted_node_size\":[10,9,20,9,29,23,41,27,8,17,6,12,24,7,11,19,13,25,9,17,23,31,11,9,18,10,11,14,9,11,6,9,9,7,10,7,9,12,9,10,10,13,23,13,8,7,15,12,30,9,31,19,10,11,12,9,10,12,10,6,9,9,9,19,6,11,6,7,6,11,8,6,10,6,6,17,8,9,6,13,10,11,7,11,12,9,8,9,6,10,9,7,9,9,7,6,7,8,8,7,8,7,6,7,6,6,6],\"degree\":[5,4,15,4,24,18,36,22,3,12,1,7,19,2,6,14,8,20,4,12,18,26,6,4,13,5,6,9,4,6,1,4,4,2,5,2,4,7,4,5,5,8,18,8,3,2,10,7,25,4,26,14,5,6,7,4,5,7,5,1,4,4,4,14,1,6,1,2,1,6,3,1,5,1,1,12,3,4,1,8,5,6,2,6,7,4,3,4,1,5,4,2,4,4,2,1,2,3,3,2,3,2,1,2,1,1,1],\"index\":[\"Aemon\",\"Grenn\",\"Samwell\",\"Aerys\",\"Jaime\",\"Robert\",\"Tyrion\",\"Tywin\",\"Alliser\",\"Mance\",\"Amory\",\"Oberyn\",\"Arya\",\"Anguy\",\"Beric\",\"Bran\",\"Brynden\",\"Cersei\",\"Gendry\",\"Gregor\",\"Joffrey\",\"Jon\",\"Rickon\",\"Roose\",\"Sandor\",\"Thoros\",\"Balon\",\"Loras\",\"Belwas\",\"Barristan\",\"Illyrio\",\"Hodor\",\"Jojen\",\"Luwin\",\"Meera\",\"Nan\",\"Theon\",\"Brienne\",\"Bronn\",\"Podrick\",\"Lothar\",\"Walder\",\"Catelyn\",\"Edmure\",\"Hoster\",\"Jeyne\",\"Lysa\",\"Petyr\",\"Robb\",\"Roslin\",\"Sansa\",\"Stannis\",\"Elia\",\"Ilyn\",\"Meryn\",\"Pycelle\",\"Shae\",\"Varys\",\"Craster\",\"Karl\",\"Daario\",\"Drogo\",\"Irri\",\"Daenerys\",\"Aegon\",\"Jorah\",\"Kraznys\",\"Missandei\",\"Rakharo\",\"Rhaegar\",\"Viserys\",\"Worm\",\"Davos\",\"Cressen\",\"Salladhor\",\"Eddard\",\"Eddison\",\"Gilly\",\"Qyburn\",\"Renly\",\"Tommen\",\"Janos\",\"Bowen\",\"Kevan\",\"Margaery\",\"Myrcella\",\"Dalla\",\"Melisandre\",\"Orell\",\"Qhorin\",\"Rattleshirt\",\"Styr\",\"Val\",\"Ygritte\",\"Jon Arryn\",\"Lancel\",\"Olenna\",\"Marillion\",\"Robert Arryn\",\"Ellaria\",\"Mace\",\"Rickard\",\"Ramsay\",\"Chataya\",\"Shireen\",\"Doran\",\"Walton\"]},\"selected\":{\"id\":\"4314\"},\"selection_policy\":{\"id\":\"4313\"}},\"id\":\"4103\",\"type\":\"ColumnDataSource\"},{\"attributes\":{},\"id\":\"4308\",\"type\":\"BasicTickFormatter\"},{\"attributes\":{\"coordinates\":null,\"formatter\":{\"id\":\"4311\"},\"group\":null,\"major_label_policy\":{\"id\":\"4312\"},\"ticker\":{\"id\":\"4083\"}},\"id\":\"4082\",\"type\":\"LinearAxis\"},{\"attributes\":{},\"id\":\"4080\",\"type\":\"LinearScale\"},{\"attributes\":{\"axis\":{\"id\":\"4086\"},\"coordinates\":null,\"dimension\":1,\"group\":null,\"ticker\":null},\"id\":\"4089\",\"type\":\"Grid\"},{\"attributes\":{\"axis\":{\"id\":\"4082\"},\"coordinates\":null,\"group\":null,\"ticker\":null},\"id\":\"4085\",\"type\":\"Grid\"},{\"attributes\":{},\"id\":\"4309\",\"type\":\"AllLabels\"},{\"attributes\":{\"coordinates\":null,\"data_source\":{\"id\":\"4103\"},\"glyph\":{\"id\":\"4120\"},\"group\":null,\"hover_glyph\":null,\"view\":{\"id\":\"4105\"}},\"id\":\"4104\",\"type\":\"GlyphRenderer\"},{\"attributes\":{\"coordinates\":null,\"data_source\":{\"id\":\"4107\"},\"glyph\":{\"id\":\"4125\"},\"group\":null,\"hover_glyph\":null,\"view\":{\"id\":\"4109\"}},\"id\":\"4108\",\"type\":\"GlyphRenderer\"},{\"attributes\":{},\"id\":\"4311\",\"type\":\"BasicTickFormatter\"},{\"attributes\":{},\"id\":\"4078\",\"type\":\"LinearScale\"},{\"attributes\":{\"coordinates\":null,\"formatter\":{\"id\":\"4308\"},\"group\":null,\"major_label_policy\":{\"id\":\"4309\"},\"ticker\":{\"id\":\"4087\"}},\"id\":\"4086\",\"type\":\"LinearAxis\"},{\"attributes\":{},\"id\":\"4087\",\"type\":\"BasicTicker\"},{\"attributes\":{},\"id\":\"4312\",\"type\":\"AllLabels\"},{\"attributes\":{\"coordinates\":null,\"edge_renderer\":{\"id\":\"4108\"},\"group\":null,\"inspection_policy\":{\"id\":\"4306\"},\"layout_provider\":{\"id\":\"4110\"},\"node_renderer\":{\"id\":\"4104\"},\"selection_policy\":{\"id\":\"4305\"}},\"id\":\"4101\",\"type\":\"GraphRenderer\"},{\"attributes\":{\"coordinates\":null,\"group\":null,\"text\":\"Game of Thrones Network\"},\"id\":\"4074\",\"type\":\"Title\"},{\"attributes\":{\"source\":{\"id\":\"4107\"}},\"id\":\"4109\",\"type\":\"CDSView\"},{\"attributes\":{},\"id\":\"4313\",\"type\":\"UnionRenderers\"},{\"attributes\":{},\"id\":\"4093\",\"type\":\"ResetTool\"},{\"attributes\":{},\"id\":\"4092\",\"type\":\"SaveTool\"},{\"attributes\":{},\"id\":\"4314\",\"type\":\"Selection\"},{\"attributes\":{\"high\":41,\"low\":6,\"palette\":[\"#084594\",\"#2171b5\",\"#4292c6\",\"#6baed6\",\"#9ecae1\",\"#c6dbef\",\"#deebf7\",\"#f7fbff\"]},\"id\":\"4119\",\"type\":\"LinearColorMapper\"},{\"attributes\":{\"end\":10.1,\"start\":-10.1},\"id\":\"4071\",\"type\":\"Range1d\"},{\"attributes\":{\"graph_layout\":{\"Aegon\":[-8.348787265262986,-3.021665526093961],\"Aemon\":[1.4512383903368318,-1.9714300611590883],\"Aerys\":[-1.9008490170477685,1.1481601909213692],\"Alliser\":[1.5581409209176618,-4.349716728488378],\"Amory\":[0.29534616902053035,6.548395045395132],\"Anguy\":[-0.6746403627755876,-2.832347968780684],\"Arya\":[0.3715764852973523,-0.32009559183918146],\"Balon\":[0.5936491318530186,0.5616402309475914],\"Barristan\":[-4.647043658601184,-0.13625795263728194],\"Belwas\":[-7.6182446323901765,0.2738846798262121],\"Beric\":[-0.43160281017500723,-1.735657935171548],\"Bowen\":[2.6947616316620673,-4.081421083280265],\"Bran\":[3.031997367966036,-0.39991726897461316],\"Brienne\":[0.8539372726021071,0.9740174811041912],\"Bronn\":[0.21455591649500036,2.6764234679777714],\"Brynden\":[2.3280943198958766,1.6555176512358463],\"Catelyn\":[1.4869896748138562,1.5656037420266182],\"Cersei\":[-0.5538902616111304,1.1712085931146299],\"Chataya\":[-2.6701317204709705,3.624494279087027],\"Craster\":[3.7464708322994373,-4.93809710776588],\"Cressen\":[8.838196130799627,-1.9198025899014666],\"Daario\":[-8.250965424140418,-1.2328737732569979],\"Daenerys\":[-6.75106701966653,-1.0838073276974916],\"Dalla\":[1.167937555058315,-3.9309264438270946],\"Davos\":[6.232804006519394,-1.4878163328557272],\"Doran\":[-0.2736398612806486,4.910815543928201],\"Drogo\":[-8.445692839708334,-0.7194931909188823],\"Eddard\":[0.7637960847484941,-0.27236203519101915],\"Eddison\":[4.1864019454727845,-3.5774113399321936],\"Edmure\":[1.9342828887735561,2.439600739751338],\"Elia\":[-2.5708353424193544,0.6867954391597632],\"Ellaria\":[-1.1512703633232757,4.616644773867396],\"Gendry\":[-1.057391426404957,-2.036791768539864],\"Gilly\":[3.573661874783082,-4.143536713153486],\"Gregor\":[-0.959958150825297,1.3781096068653704],\"Grenn\":[3.2017357355207285,-3.325627298619998],\"Hodor\":[4.3182868262281096,-0.39198977302764265],\"Hoster\":[1.8332503428537168,3.7545996517726263],\"Illyrio\":[-9.999999999999998,1.1062786019937274],\"Ilyn\":[-1.7121962622706421,0.7976252291847296],\"Irri\":[-8.86779256478395,-1.5878601837434831],\"Jaime\":[-0.7647234113717025,0.6061716924672641],\"Janos\":[1.37061089069051,-2.3904940684091875],\"Jeyne\":[3.515918584214089,2.1656333881501215],\"Joffrey\":[-0.2609850245384433,1.412088476575911],\"Jojen\":[4.777753441153668,-1.6133462263859755],\"Jon\":[2.1581426412303903,-2.4101841574731755],\"Jon Arryn\":[-2.5475955482251327,1.9320883260553932],\"Jorah\":[-6.853246424042394,-0.4701444131614703],\"Karl\":[5.011195743623618,-7.264434155212347],\"Kevan\":[-0.8972030586161954,3.381300227922535],\"Kraznys\":[-9.338393579680252,-0.5571352364279724],\"Lancel\":[-1.9285587953523058,6.210178433932973],\"Loras\":[-0.8469432460835715,0.8375119398004192],\"Lothar\":[3.2626717424549585,2.7816030751587477],\"Luwin\":[5.837323485473108,-0.28362695841964947],\"Lysa\":[-0.0151935509700803,2.695430590140466],\"Mace\":[0.5798371961436753,3.6576430099828188],\"Mance\":[2.2534592582057464,-4.006027836820089],\"Margaery\":[-1.0986785320845496,1.9255986525647317],\"Marillion\":[0.03610095165539223,4.1516085413381605],\"Meera\":[4.182953855592564,-1.950135008649798],\"Melisandre\":[3.9202053329902515,-1.7252020358385827],\"Meryn\":[-1.4609754333263791,0.4713176113305462],\"Missandei\":[-8.655747409690944,-2.340406711564201],\"Myrcella\":[-1.484970589623238,2.7164572959209696],\"Nan\":[5.82248106586089,0.2943812117653924],\"Oberyn\":[-0.20469766994762856,3.62552785388261],\"Olenna\":[-2.1681144794194354,0.03321805310456035],\"Orell\":[4.537855547538376,-4.41675393853135],\"Petyr\":[1.152859480851951,2.299885678823729],\"Podrick\":[-0.3609003473169595,2.9203442202794734],\"Pycelle\":[-1.0761552134166108,2.917195416172289],\"Qhorin\":[3.057470382868133,-4.488726327541023],\"Qyburn\":[-3.6519819176319084,1.4324597568798911],\"Rakharo\":[-9.225815902116121,-2.3461318461613105],\"Ramsay\":[4.758223005885738,2.310883796576637],\"Rattleshirt\":[2.4515063166137785,-5.151772619455133],\"Renly\":[-0.25276945715569005,0.5789625528892116],\"Rhaegar\":[-4.632724210900768,-0.5464602310934183],\"Rickard\":[4.1048616147003045,1.853183206229822],\"Rickon\":[1.9847869294455651,-0.06754783667450284],\"Robb\":[2.006310208335425,0.8742667016132715],\"Robert\":[-1.4673302094032548,-0.34128540337000146],\"Robert Arryn\":[-0.6762031767001255,4.029074633768243],\"Roose\":[2.2800662696204963,0.5753685001977797],\"Roslin\":[3.046291972346536,3.4898659180783063],\"Salladhor\":[8.616934990842068,-2.5755847883986247],\"Samwell\":[3.1447927403160305,-2.7362684285691103],\"Sandor\":[-0.7472673568284071,-0.21258609763454125],\"Sansa\":[0.18692675763075772,1.1897782229055949],\"Shae\":[-1.8641478335936843,2.5551139862558396],\"Shireen\":[8.841068371611033,-1.2288077615197168],\"Stannis\":[1.6363084838504711,-0.3576128010787881],\"Styr\":[1.797913946059091,-5.212244837974173],\"Theon\":[3.0939126151689207,-0.8950767503577339],\"Thoros\":[-1.2683368368168466,-1.5470600659551363],\"Tommen\":[-1.7145488955711203,1.987010576081289],\"Tyrion\":[-0.5622206657261848,1.6241365607085803],\"Tywin\":[0.19385163952396833,1.5967098420321468],\"Val\":[1.0033937529548078,-2.0310694669671543],\"Varys\":[-0.9142959623213117,2.3962784286172223],\"Viserys\":[-4.289094590567459,0.4255341668318981],\"Walder\":[2.3700280807805307,2.556631432046102],\"Walton\":[-2.966041948424579,-1.1747787390287225],\"Worm\":[-9.510304534973116,-1.405546389863988],\"Ygritte\":[2.921035995444113,-5.156899791847335]}},\"id\":\"4110\",\"type\":\"StaticLayoutProvider\"},{\"attributes\":{\"source\":{\"id\":\"4103\"}},\"id\":\"4105\",\"type\":\"CDSView\"},{\"attributes\":{\"line_alpha\":{\"value\":0.5}},\"id\":\"4125\",\"type\":\"MultiLine\"},{\"attributes\":{},\"id\":\"4090\",\"type\":\"PanTool\"},{\"attributes\":{\"data\":{\"Weight\":[5,31,30,4,4,8,25,43,11,11,52,7,5,6,34,12,36,6,10,5,13,18,6,5,8,11,19,36,6,6,4,88,5,4,6,15,16,11,11,7,17,5,8,31,15,10,13,10,4,16,5,10,5,6,6,5,4,5,4,6,5,9,11,5,5,46,54,5,4,12,77,4,31,5,5,5,4,22,5,5,11,6,9,7,5,25,12,28,11,6,4,21,6,18,39,4,4,12,5,4,16,7,13,14,5,6,4,5,5,15,4,4,6,4,5,9,15,4,69,11,8,7,10,9,7,8,12,5,24,4,6,6,11,23,9,6,5,43,7,6,7,8,5,46,18,18,15,22,4,4,21,8,15,96,46,12,4,54,14,35,11,4,15,23,10,4,5,8,7,4,17,4,5,4,4,6,7,23,10,4,6,4,4,6,4,16,7,5,5,9,7,7,12,5,4,8,7,28,5,5,14,10,9,10,35,8,7,6,4,9,8,4,7,6,31,20,9,16,8,12,54,14,4,8,8,15,7,4,4,4,5,4,4,10,6,4,6,4,7,9,5,8,14,18,10,26,13,20,11,5,35,41,5,33,4,11,7,6,5,19,4,8,4,4,10,12,19,9,26,6,6,16,9,10,8,5,43,6,8,4,5,16,9,32,6,18,5,10,29,9,28,5,28,13,4,7,15,4,6,5,36,9,4,7,4,6,8,32,20,15,7,5,4,4,8,5,4,6,17,4,5,14,7,18,7,6,17,4,8,47,10,26,7,12,8,14,5,7,4,16,30,5,7,5,5,5,7,7,6,7,9,4],\"end\":[\"Grenn\",\"Samwell\",\"Jon\",\"Robert\",\"Stannis\",\"Eddison\",\"Jon\",\"Samwell\",\"Bran\",\"Jojen\",\"Jon\",\"Meera\",\"Melisandre\",\"Bowen\",\"Craster\",\"Eddison\",\"Gilly\",\"Janos\",\"Mance\",\"Qhorin\",\"Stannis\",\"Jaime\",\"Robert\",\"Tyrion\",\"Tywin\",\"Arya\",\"Catelyn\",\"Cersei\",\"Eddard\",\"Balon\",\"Barristan\",\"Brienne\",\"Edmure\",\"Elia\",\"Gregor\",\"Joffrey\",\"Loras\",\"Meryn\",\"Qyburn\",\"Renly\",\"Robert\",\"Stannis\",\"Tommen\",\"Tyrion\",\"Robb\",\"Sansa\",\"Tywin\",\"Walton\",\"Arya\",\"Cersei\",\"Daenerys\",\"Eddard\",\"Jon\",\"Jon Arryn\",\"Rhaegar\",\"Barristan\",\"Renly\",\"Stannis\",\"Thoros\",\"Sandor\",\"Sansa\",\"Tyrion\",\"Tywin\",\"Arya\",\"Catelyn\",\"Cersei\",\"Joffrey\",\"Lysa\",\"Myrcella\",\"Robb\",\"Sansa\",\"Balon\",\"Bronn\",\"Chataya\",\"Doran\",\"Elia\",\"Ellaria\",\"Gregor\",\"Ilyn\",\"Janos\",\"Kevan\",\"Loras\",\"Mace\",\"Margaery\",\"Meryn\",\"Oberyn\",\"Petyr\",\"Podrick\",\"Pycelle\",\"Renly\",\"Sandor\",\"Shae\",\"Stannis\",\"Varys\",\"Tywin\",\"Viserys\",\"Lysa\",\"Robb\",\"Balon\",\"Brynden\",\"Cersei\",\"Gregor\",\"Joffrey\",\"Kevan\",\"Mace\",\"Oberyn\",\"Petyr\",\"Podrick\",\"Pycelle\",\"Stannis\",\"Tommen\",\"Val\",\"Varys\",\"Walder\",\"Mance\",\"Janos\",\"Jon\",\"Janos\",\"Jon\",\"Craster\",\"Dalla\",\"Gilly\",\"Qhorin\",\"Rattleshirt\",\"Styr\",\"Val\",\"Ygritte\",\"Oberyn\",\"Gregor\",\"Joffrey\",\"Ellaria\",\"Mace\",\"Anguy\",\"Beric\",\"Bran\",\"Brynden\",\"Cersei\",\"Gendry\",\"Gregor\",\"Joffrey\",\"Jon\",\"Rickon\",\"Roose\",\"Sandor\",\"Thoros\",\"Eddard\",\"Robb\",\"Sansa\",\"Beric\",\"Gendry\",\"Thoros\",\"Eddard\",\"Sandor\",\"Hodor\",\"Jojen\",\"Jon\",\"Luwin\",\"Meera\",\"Nan\",\"Rickon\",\"Theon\",\"Catelyn\",\"Eddard\",\"Robb\",\"Sansa\",\"Lothar\",\"Walder\",\"Catelyn\",\"Edmure\",\"Rickard\",\"Robb\",\"Catelyn\",\"Brienne\",\"Bronn\",\"Elia\",\"Gregor\",\"Ilyn\",\"Joffrey\",\"Meryn\",\"Pycelle\",\"Sandor\",\"Shae\",\"Varys\",\"Eddard\",\"Lysa\",\"Sansa\",\"Thoros\",\"Sandor\",\"Bronn\",\"Elia\",\"Ilyn\",\"Meryn\",\"Sandor\",\"Joffrey\",\"Ilyn\",\"Kevan\",\"Loras\",\"Margaery\",\"Meryn\",\"Myrcella\",\"Sandor\",\"Stannis\",\"Tommen\",\"Robb\",\"Sansa\",\"Eddard\",\"Craster\",\"Dalla\",\"Eddison\",\"Gilly\",\"Janos\",\"Meera\",\"Melisandre\",\"Orell\",\"Qhorin\",\"Rattleshirt\",\"Stannis\",\"Styr\",\"Theon\",\"Val\",\"Ygritte\",\"Robb\",\"Sansa\",\"Eddard\",\"Theon\",\"Robb\",\"Sansa\",\"Catelyn\",\"Robb\",\"Brienne\",\"Eddard\",\"Ilyn\",\"Meryn\",\"Thoros\",\"Sansa\",\"Loras\",\"Robb\",\"Stannis\",\"Brienne\",\"Margaery\",\"Olenna\",\"Renly\",\"Sansa\",\"Barristan\",\"Illyrio\",\"Daenerys\",\"Jorah\",\"Daenerys\",\"Jorah\",\"Rhaegar\",\"Jojen\",\"Meera\",\"Robb\",\"Meera\",\"Nan\",\"Robb\",\"Catelyn\",\"Robb\",\"Sansa\",\"Podrick\",\"Margaery\",\"Sansa\",\"Edmure\",\"Roslin\",\"Robb\",\"Walder\",\"Catelyn\",\"Edmure\",\"Robb\",\"Petyr\",\"Roslin\",\"Edmure\",\"Hoster\",\"Jeyne\",\"Lysa\",\"Petyr\",\"Robb\",\"Roslin\",\"Sansa\",\"Stannis\",\"Eddard\",\"Roslin\",\"Hoster\",\"Robb\",\"Lysa\",\"Robb\",\"Jon Arryn\",\"Marillion\",\"Petyr\",\"Robert Arryn\",\"Sansa\",\"Robb\",\"Sansa\",\"Eddard\",\"Ramsay\",\"Rickard\",\"Sansa\",\"Stannis\",\"Eddard\",\"Kevan\",\"Margaery\",\"Marillion\",\"Myrcella\",\"Olenna\",\"Renly\",\"Robert Arryn\",\"Shae\",\"Davos\",\"Melisandre\",\"Renly\",\"Rhaegar\",\"Meryn\",\"Varys\",\"Chataya\",\"Varys\",\"Kevan\",\"Renly\",\"Karl\",\"Gilly\",\"Drogo\",\"Irri\",\"Daenerys\",\"Jorah\",\"Daenerys\",\"Irri\",\"Jorah\",\"Daenerys\",\"Missandei\",\"Aegon\",\"Jorah\",\"Kraznys\",\"Missandei\",\"Rakharo\",\"Rhaegar\",\"Viserys\",\"Worm\",\"Rhaegar\",\"Viserys\",\"Cressen\",\"Salladhor\",\"Melisandre\",\"Shireen\",\"Margaery\",\"Myrcella\",\"Margaery\",\"Bowen\",\"Lancel\",\"Val\",\"Rattleshirt\",\"Ygritte\",\"Ygritte\",\"Robert Arryn\"],\"start\":[\"Aemon\",\"Aemon\",\"Aemon\",\"Aemon\",\"Aemon\",\"Grenn\",\"Grenn\",\"Grenn\",\"Samwell\",\"Samwell\",\"Samwell\",\"Samwell\",\"Samwell\",\"Samwell\",\"Samwell\",\"Samwell\",\"Samwell\",\"Samwell\",\"Samwell\",\"Samwell\",\"Samwell\",\"Aerys\",\"Aerys\",\"Aerys\",\"Aerys\",\"Jaime\",\"Jaime\",\"Jaime\",\"Jaime\",\"Jaime\",\"Jaime\",\"Jaime\",\"Jaime\",\"Jaime\",\"Jaime\",\"Jaime\",\"Jaime\",\"Jaime\",\"Jaime\",\"Jaime\",\"Jaime\",\"Jaime\",\"Jaime\",\"Jaime\",\"Jaime\",\"Jaime\",\"Jaime\",\"Jaime\",\"Robert\",\"Robert\",\"Robert\",\"Robert\",\"Robert\",\"Robert\",\"Robert\",\"Robert\",\"Robert\",\"Robert\",\"Robert\",\"Robert\",\"Robert\",\"Robert\",\"Robert\",\"Tyrion\",\"Tyrion\",\"Tyrion\",\"Tyrion\",\"Tyrion\",\"Tyrion\",\"Tyrion\",\"Tyrion\",\"Tyrion\",\"Tyrion\",\"Tyrion\",\"Tyrion\",\"Tyrion\",\"Tyrion\",\"Tyrion\",\"Tyrion\",\"Tyrion\",\"Tyrion\",\"Tyrion\",\"Tyrion\",\"Tyrion\",\"Tyrion\",\"Tyrion\",\"Tyrion\",\"Tyrion\",\"Tyrion\",\"Tyrion\",\"Tyrion\",\"Tyrion\",\"Tyrion\",\"Tyrion\",\"Tyrion\",\"Tyrion\",\"Tywin\",\"Tywin\",\"Tywin\",\"Tywin\",\"Tywin\",\"Tywin\",\"Tywin\",\"Tywin\",\"Tywin\",\"Tywin\",\"Tywin\",\"Tywin\",\"Tywin\",\"Tywin\",\"Tywin\",\"Tywin\",\"Tywin\",\"Tywin\",\"Alliser\",\"Alliser\",\"Alliser\",\"Mance\",\"Mance\",\"Mance\",\"Mance\",\"Mance\",\"Mance\",\"Mance\",\"Mance\",\"Mance\",\"Mance\",\"Amory\",\"Oberyn\",\"Oberyn\",\"Oberyn\",\"Oberyn\",\"Arya\",\"Arya\",\"Arya\",\"Arya\",\"Arya\",\"Arya\",\"Arya\",\"Arya\",\"Arya\",\"Arya\",\"Arya\",\"Arya\",\"Arya\",\"Arya\",\"Arya\",\"Arya\",\"Anguy\",\"Beric\",\"Beric\",\"Beric\",\"Beric\",\"Bran\",\"Bran\",\"Bran\",\"Bran\",\"Bran\",\"Bran\",\"Bran\",\"Bran\",\"Bran\",\"Bran\",\"Bran\",\"Bran\",\"Brynden\",\"Brynden\",\"Brynden\",\"Brynden\",\"Brynden\",\"Brynden\",\"Cersei\",\"Cersei\",\"Cersei\",\"Cersei\",\"Cersei\",\"Cersei\",\"Cersei\",\"Cersei\",\"Cersei\",\"Cersei\",\"Cersei\",\"Cersei\",\"Cersei\",\"Cersei\",\"Cersei\",\"Gendry\",\"Gendry\",\"Gregor\",\"Gregor\",\"Gregor\",\"Gregor\",\"Gregor\",\"Gregor\",\"Joffrey\",\"Joffrey\",\"Joffrey\",\"Joffrey\",\"Joffrey\",\"Joffrey\",\"Joffrey\",\"Joffrey\",\"Joffrey\",\"Joffrey\",\"Joffrey\",\"Jon\",\"Jon\",\"Jon\",\"Jon\",\"Jon\",\"Jon\",\"Jon\",\"Jon\",\"Jon\",\"Jon\",\"Jon\",\"Jon\",\"Jon\",\"Jon\",\"Jon\",\"Jon\",\"Jon\",\"Jon\",\"Rickon\",\"Rickon\",\"Rickon\",\"Rickon\",\"Roose\",\"Roose\",\"Roose\",\"Sandor\",\"Sandor\",\"Sandor\",\"Sandor\",\"Sandor\",\"Balon\",\"Balon\",\"Balon\",\"Loras\",\"Loras\",\"Loras\",\"Loras\",\"Loras\",\"Belwas\",\"Belwas\",\"Belwas\",\"Belwas\",\"Barristan\",\"Barristan\",\"Barristan\",\"Hodor\",\"Hodor\",\"Hodor\",\"Jojen\",\"Luwin\",\"Theon\",\"Brienne\",\"Brienne\",\"Brienne\",\"Bronn\",\"Podrick\",\"Podrick\",\"Lothar\",\"Lothar\",\"Lothar\",\"Lothar\",\"Walder\",\"Walder\",\"Walder\",\"Walder\",\"Walder\",\"Catelyn\",\"Catelyn\",\"Catelyn\",\"Catelyn\",\"Catelyn\",\"Catelyn\",\"Catelyn\",\"Catelyn\",\"Catelyn\",\"Catelyn\",\"Edmure\",\"Edmure\",\"Edmure\",\"Hoster\",\"Jeyne\",\"Lysa\",\"Lysa\",\"Lysa\",\"Lysa\",\"Lysa\",\"Petyr\",\"Petyr\",\"Robb\",\"Robb\",\"Robb\",\"Robb\",\"Robb\",\"Sansa\",\"Sansa\",\"Sansa\",\"Sansa\",\"Sansa\",\"Sansa\",\"Sansa\",\"Sansa\",\"Sansa\",\"Stannis\",\"Stannis\",\"Stannis\",\"Elia\",\"Ilyn\",\"Pycelle\",\"Shae\",\"Shae\",\"Varys\",\"Varys\",\"Craster\",\"Craster\",\"Daario\",\"Daario\",\"Daario\",\"Daario\",\"Drogo\",\"Drogo\",\"Drogo\",\"Irri\",\"Irri\",\"Daenerys\",\"Daenerys\",\"Daenerys\",\"Daenerys\",\"Daenerys\",\"Daenerys\",\"Daenerys\",\"Daenerys\",\"Jorah\",\"Rhaegar\",\"Davos\",\"Davos\",\"Davos\",\"Davos\",\"Renly\",\"Tommen\",\"Tommen\",\"Janos\",\"Kevan\",\"Dalla\",\"Qhorin\",\"Qhorin\",\"Rattleshirt\",\"Marillion\"]},\"selected\":{\"id\":\"4316\"},\"selection_policy\":{\"id\":\"4315\"}},\"id\":\"4107\",\"type\":\"ColumnDataSource\"},{\"attributes\":{},\"id\":\"4091\",\"type\":\"WheelZoomTool\"},{\"attributes\":{\"callback\":null,\"tooltips\":[[\"Character\",\"@index\"],[\"Degree\",\"@degree\"]]},\"id\":\"4094\",\"type\":\"HoverTool\"}],\"root_ids\":[\"4073\"]},\"title\":\"Bokeh Application\",\"version\":\"2.4.2\"}};\n",
       "  const render_items = [{\"docid\":\"ec2c6827-cf37-489f-8a48-abe0f7cfba1a\",\"root_ids\":[\"4073\"],\"roots\":{\"4073\":\"11ec7f0b-e1aa-42d5-b2ad-6c269704b938\"}}];\n",
       "  root.Bokeh.embed.embed_items_notebook(docs_json, render_items);\n",
       "\n",
       "  }\n",
       "  if (root.Bokeh !== undefined) {\n",
       "    embed_document(root);\n",
       "  } else {\n",
       "    let attempts = 0;\n",
       "    const timer = setInterval(function(root) {\n",
       "      if (root.Bokeh !== undefined) {\n",
       "        clearInterval(timer);\n",
       "        embed_document(root);\n",
       "      } else {\n",
       "        attempts++;\n",
       "        if (attempts > 100) {\n",
       "          clearInterval(timer);\n",
       "          console.log(\"Bokeh: ERROR: Unable to run BokehJS code because BokehJS library is missing\");\n",
       "        }\n",
       "      }\n",
       "    }, 10, root)\n",
       "  }\n",
       "})(window);"
      ],
      "application/vnd.bokehjs_exec.v0+json": ""
     },
     "metadata": {
      "application/vnd.bokehjs_exec.v0+json": {
       "id": "4073"
      }
     },
     "output_type": "display_data"
    },
    {
     "data": {
      "text/plain": [
       "'/Users/okara/Onboarding/Jupyter Notebooks and More/Networks-and-viz/networkx_holoviews_pyvis_bokeh_advanced/Game of Thrones Network2.html'"
      ]
     },
     "execution_count": 45,
     "metadata": {},
     "output_type": "execute_result"
    }
   ],
   "source": [
    "#Choose attributes from G network to size and color by — setting manual size (e.g. 10) or color (e.g. 'skyblue') also allowed\n",
    "size_by_this_attribute = 'adjusted_node_size'\n",
    "color_by_this_attribute = 'adjusted_node_size'\n",
    "\n",
    "#Pick a color palette — Blues8, Reds8, Purples8, Oranges8, Viridis8\n",
    "color_palette = Blues8\n",
    "\n",
    "#Choose a title!\n",
    "title = 'Game of Thrones Network'\n",
    "\n",
    "#Establish which categories will appear when hovering over each node\n",
    "HOVER_TOOLTIPS = [\n",
    "       (\"Character\", \"@index\"),\n",
    "        (\"Degree\", \"@degree\")\n",
    "]\n",
    "\n",
    "#Create a plot — set dimensions, toolbar, and title\n",
    "plot = figure(tooltips = HOVER_TOOLTIPS,\n",
    "              tools=\"pan,wheel_zoom,save,reset\", active_scroll='wheel_zoom',\n",
    "            x_range=Range1d(-10.1, 10.1), y_range=Range1d(-10.1, 10.1), title=title)\n",
    "\n",
    "#Create a network graph object\n",
    "# https://networkx.github.io/documentation/networkx-1.9/reference/generated/networkx.drawing.layout.spring_layout.html\\\n",
    "network_graph = from_networkx(G, networkx.spring_layout, scale=10, center=(0, 0))\n",
    "\n",
    "#Set node sizes and colors according to node degree (color as spectrum of color palette)\n",
    "minimum_value_color = min(network_graph.node_renderer.data_source.data[color_by_this_attribute])\n",
    "maximum_value_color = max(network_graph.node_renderer.data_source.data[color_by_this_attribute])\n",
    "network_graph.node_renderer.glyph = Circle(size=size_by_this_attribute, fill_color=linear_cmap(color_by_this_attribute, color_palette, minimum_value_color, maximum_value_color))\n",
    "\n",
    "#Set edge opacity and width\n",
    "network_graph.edge_renderer.glyph = MultiLine(line_alpha=0.5, line_width=1)\n",
    "\n",
    "plot.renderers.append(network_graph)\n",
    "\n",
    "show(plot)\n",
    "save(plot, filename=f\"{title}2.html\")"
   ]
  },
  {
   "cell_type": "markdown",
   "metadata": {},
   "source": [
    "## Network with Nodes Colored By Attribute (Community)"
   ]
  },
  {
   "cell_type": "markdown",
   "metadata": {},
   "source": [
    "The code below shows how to size and color nodes by modularity class."
   ]
  },
  {
   "cell_type": "markdown",
   "metadata": {},
   "source": [
    "**Include community module**"
   ]
  },
  {
   "cell_type": "code",
   "execution_count": 46,
   "metadata": {},
   "outputs": [],
   "source": [
    "from bokeh.io import output_notebook, show, save\n",
    "from bokeh.models import Range1d, Circle, ColumnDataSource, MultiLine\n",
    "from bokeh.plotting import figure\n",
    "from bokeh.plotting import from_networkx\n",
    "from bokeh.palettes import Blues8, Reds8, Purples8, Oranges8, Viridis8, Spectral8\n",
    "from bokeh.transform import linear_cmap\n",
    "from networkx.algorithms import community"
   ]
  },
  {
   "cell_type": "markdown",
   "metadata": {},
   "source": [
    "**Calculate degree for each node and add as node attribute**"
   ]
  },
  {
   "cell_type": "code",
   "execution_count": 47,
   "metadata": {
    "tags": [
     "hide-input"
    ]
   },
   "outputs": [],
   "source": [
    "degrees = dict(networkx.degree(G))\n",
    "networkx.set_node_attributes(G, name='degree', values=degrees)"
   ]
  },
  {
   "cell_type": "markdown",
   "metadata": {},
   "source": [
    "**Slightly adjust degree so that the nodes with very small degrees are still visible**"
   ]
  },
  {
   "cell_type": "code",
   "execution_count": 48,
   "metadata": {
    "tags": [
     "hide-input"
    ]
   },
   "outputs": [],
   "source": [
    "number_to_adjust_by = 5\n",
    "adjusted_node_size = dict([(node, degree+number_to_adjust_by) for node, degree in networkx.degree(G)])\n",
    "networkx.set_node_attributes(G, name='adjusted_node_size', values=adjusted_node_size)"
   ]
  },
  {
   "cell_type": "markdown",
   "metadata": {},
   "source": [
    "**Calculate communities**"
   ]
  },
  {
   "cell_type": "code",
   "execution_count": 49,
   "metadata": {},
   "outputs": [],
   "source": [
    "communities = community.greedy_modularity_communities(G)"
   ]
  },
  {
   "cell_type": "markdown",
   "metadata": {},
   "source": [
    "**Add modularity class and color as attributes to network graph**"
   ]
  },
  {
   "cell_type": "code",
   "execution_count": 50,
   "metadata": {},
   "outputs": [],
   "source": [
    "# Create empty dictionaries\n",
    "modularity_class = {}\n",
    "modularity_color = {}\n",
    "#Loop through each community in the network\n",
    "for community_number, community in enumerate(communities):\n",
    "    #For each member of the community, add their community number and a distinct color\n",
    "    for name in community: \n",
    "        modularity_class[name] = community_number\n",
    "        modularity_color[name] = Spectral8[community_number]"
   ]
  },
  {
   "cell_type": "code",
   "execution_count": 51,
   "metadata": {},
   "outputs": [],
   "source": [
    "# Add modularity class and color as attributes from the network above\n",
    "networkx.set_node_attributes(G, modularity_class, 'modularity_class')\n",
    "networkx.set_node_attributes(G, modularity_color, 'modularity_color')"
   ]
  },
  {
   "cell_type": "code",
   "execution_count": 52,
   "metadata": {},
   "outputs": [
    {
     "data": {
      "text/html": [
       "\n",
       "\n",
       "\n",
       "\n",
       "\n",
       "\n",
       "  <div class=\"bk-root\" id=\"67e1a170-6d00-4acf-ac0e-e7a8cac60a9e\" data-root-id=\"4743\"></div>\n"
      ]
     },
     "metadata": {},
     "output_type": "display_data"
    },
    {
     "data": {
      "application/javascript": [
       "(function(root) {\n",
       "  function embed_document(root) {\n",
       "    \n",
       "  const docs_json = {\"0b60a746-6c16-42c4-beb6-c4a162363e6c\":{\"defs\":[],\"roots\":{\"references\":[{\"attributes\":{\"below\":[{\"id\":\"4752\"}],\"center\":[{\"id\":\"4755\"},{\"id\":\"4759\"}],\"left\":[{\"id\":\"4756\"}],\"renderers\":[{\"id\":\"4773\"}],\"title\":{\"id\":\"4744\"},\"toolbar\":{\"id\":\"4766\"},\"x_range\":{\"id\":\"4741\"},\"x_scale\":{\"id\":\"4748\"},\"y_range\":{\"id\":\"4742\"},\"y_scale\":{\"id\":\"4750\"}},\"id\":\"4743\",\"subtype\":\"Figure\",\"type\":\"Plot\"},{\"attributes\":{},\"id\":\"4760\",\"type\":\"PanTool\"},{\"attributes\":{\"axis\":{\"id\":\"4756\"},\"coordinates\":null,\"dimension\":1,\"group\":null,\"ticker\":null},\"id\":\"4759\",\"type\":\"Grid\"},{\"attributes\":{\"graph_layout\":{\"Aegon\":[4.9078225335680274,9.320762209809418],\"Aemon\":[0.4252503548027368,-2.677675080744179],\"Aerys\":[0.4796153484575848,2.366780982165517],\"Alliser\":[-0.08815843856994135,-5.598956573099945],\"Amory\":[-1.9221313281479042,6.29138694677473],\"Anguy\":[-4.643818205713396,1.849408302160582],\"Arya\":[-1.9028363818642402,0.2167063092539512],\"Balon\":[-0.7274650258843373,-0.33265514556690945],\"Barristan\":[2.096068361349312,4.51983736986671],\"Belwas\":[4.8204669598597105,6.703681973370735],\"Beric\":[-3.2185866352995474,1.4898279520519628],\"Bowen\":[0.7291200456029463,-6.201894648858455],\"Bran\":[-2.643383838394807,-2.6968756365740725],\"Brienne\":[-1.657727668943736,0.5667275465446202],\"Bronn\":[1.3042463334867411,2.4215509224515133],\"Brynden\":[-3.5462495435786656,-0.3471636206171627],\"Catelyn\":[-2.0804752403527518,-0.34063976244012806],\"Cersei\":[-0.19348668721968007,1.0073257310554726],\"Chataya\":[3.230744268395681,1.4978480663815854],\"Craster\":[-1.0313283923344718,-7.145433332537902],\"Cressen\":[6.575062800735929,-5.962004576443389],\"Daario\":[4.103961224742711,8.38041570770215],\"Daenerys\":[3.6777548314528805,6.56685590684912],\"Dalla\":[-1.992033187527439,-5.3058123581044265],\"Davos\":[3.980423050827897,-4.871811973454077],\"Doran\":[3.1861601428978723,2.439871581107043],\"Drogo\":[4.570795414256685,8.053550560319087],\"Eddard\":[-1.464116512779464,-0.4498000240307806],\"Eddison\":[0.4854024952459015,-5.683749696245474],\"Edmure\":[-3.5190061668848283,0.07113003448458657],\"Elia\":[0.7054195282849068,3.0915691668004377],\"Ellaria\":[0.038382183950170616,4.207855190141759],\"Gendry\":[-3.3781711480211456,2.302378078979434],\"Gilly\":[-0.8147423664027986,-6.3085725175456115],\"Gregor\":[-0.48224808564307814,2.0391787731393927],\"Grenn\":[0.6221522641897707,-4.800397910986702],\"Hodor\":[-3.803047231340405,-3.490671930222009],\"Hoster\":[-2.647103425736235,-1.4113116523600304],\"Illyrio\":[7.251845155427962,8.1974934897561],\"Ilyn\":[-0.32139988480164267,2.6967274955967047],\"Irri\":[5.2354758408682285,8.345460625703513],\"Jaime\":[-0.8789848119852066,1.4427681111057349],\"Janos\":[0.16451364396921198,-3.6685504216414255],\"Jeyne\":[-4.56742531091499,0.08521449325444976],\"Joffrey\":[-0.5306841772664749,0.9649853675622594],\"Jojen\":[-3.250110902563724,-4.846802025360542],\"Jon\":[-0.8197263694750205,-3.72699549761203],\"Jon Arryn\":[2.6959833793805625,-0.09661526837394961],\"Jorah\":[3.429516745598268,6.820750778438826],\"Karl\":[-1.3042578214953395,-10.0],\"Kevan\":[1.90138216976082,0.20549343353873134],\"Kraznys\":[4.15443604536179,9.493782024396854],\"Lancel\":[5.036073214292922,-0.10151001889407346],\"Loras\":[0.3057610864464548,0.22174378957239668],\"Lothar\":[-4.878201810141237,-0.3983147595694119],\"Luwin\":[-5.119170805055029,-4.6765506451276595],\"Lysa\":[0.14137932508983062,-0.8047592088184599],\"Mace\":[-1.424407086116638,2.8941045060909047],\"Mance\":[-1.0330116193462338,-5.609693020477136],\"Margaery\":[0.7374381675472109,1.5560272300992917],\"Marillion\":[1.5807726393259054,-2.055123574345951],\"Meera\":[-2.6264706360518204,-4.5303218465107475],\"Melisandre\":[1.4512404461680888,-4.159104376146484],\"Meryn\":[-0.7503551734308793,2.4836789110180066],\"Missandei\":[5.984146800070073,7.956523624585562],\"Myrcella\":[0.08563711147815015,1.9715432931207522],\"Nan\":[-5.43551992436518,-4.102466242324799],\"Oberyn\":[-0.8845509208284172,3.382865427848883],\"Olenna\":[2.187838036077127,-0.9137173399254792],\"Orell\":[1.2543138258896196,-6.3957098351042525],\"Petyr\":[-1.2677169659261889,-0.753709229206492],\"Podrick\":[1.342136574286404,1.2599628537194008],\"Pycelle\":[1.1868331814706887,-0.14234545658670222],\"Qhorin\":[-1.578816262567826,-6.097285907327569],\"Qyburn\":[-2.3033155973371997,4.444111852832779],\"Rakharo\":[3.3819090061604364,9.346726391549224],\"Ramsay\":[-5.950779181499653,-1.123685170832685],\"Rattleshirt\":[-2.2150683132219084,-6.484135541745375],\"Renly\":[0.8117844994044847,0.282032427225977],\"Rhaegar\":[2.432130030639953,4.67227655160449],\"Rickard\":[-5.158701582426677,-1.3663037961920057],\"Rickon\":[-2.0628480024078044,-1.6789421957076947],\"Robb\":[-2.4156188747499,-0.8541367352663594],\"Robert\":[0.6461665326594012,1.2568064647007946],\"Robert Arryn\":[1.9369558497837676,-1.659781669215855],\"Roose\":[-3.426451354119082,0.587428030643464],\"Roslin\":[-4.615449502543167,-0.7653497536925878],\"Salladhor\":[5.680789716710209,-7.100280129025943],\"Samwell\":[-0.6898633584775851,-4.649180813034944],\"Sandor\":[-1.4345028410172243,1.4481061092336711],\"Sansa\":[-0.1793627586973548,-0.3585409019745935],\"Shae\":[1.9656423167244583,0.9924668458288186],\"Shireen\":[6.201416581880803,-6.578103412635815],\"Stannis\":[0.2380620714976163,-1.5733143856425778],\"Styr\":[-0.339757164579462,-6.829997637882271],\"Theon\":[-2.8361515937395523,-3.1293859452851596],\"Thoros\":[-2.244350950454583,2.1000770312204216],\"Tommen\":[-1.0757082501170845,2.221672789813821],\"Tyrion\":[0.2511606288619961,1.015073664400545],\"Tywin\":[-0.6456733362561258,0.378329643494072],\"Val\":[-1.3347204824677787,-3.3635969383020066],\"Varys\":[1.4421015369538566,0.535873023857361],\"Viserys\":[2.68455731554262,4.0791847174549725],\"Walder\":[-3.2677785617329986,-0.5959594818922064],\"Walton\":[-3.0862957084490317,3.9941241530904046],\"Worm\":[5.698042642320036,8.839141289285555],\"Ygritte\":[-1.7269668524915913,-6.7615101315421375]}},\"id\":\"4782\",\"type\":\"StaticLayoutProvider\"},{\"attributes\":{},\"id\":\"4993\",\"type\":\"AllLabels\"},{\"attributes\":{},\"id\":\"4995\",\"type\":\"BasicTickFormatter\"},{\"attributes\":{},\"id\":\"4757\",\"type\":\"BasicTicker\"},{\"attributes\":{\"fill_color\":{\"field\":\"modularity_color\"},\"size\":{\"field\":\"adjusted_node_size\"}},\"id\":\"4783\",\"type\":\"Circle\"},{\"attributes\":{},\"id\":\"4761\",\"type\":\"WheelZoomTool\"},{\"attributes\":{},\"id\":\"4753\",\"type\":\"BasicTicker\"},{\"attributes\":{\"source\":{\"id\":\"4775\"}},\"id\":\"4777\",\"type\":\"CDSView\"},{\"attributes\":{\"end\":10.1,\"start\":-10.1},\"id\":\"4741\",\"type\":\"Range1d\"},{\"attributes\":{\"coordinates\":null,\"group\":null,\"text\":\"Game of Thrones Network\"},\"id\":\"4744\",\"type\":\"Title\"},{\"attributes\":{\"coordinates\":null,\"formatter\":{\"id\":\"4995\"},\"group\":null,\"major_label_policy\":{\"id\":\"4996\"},\"ticker\":{\"id\":\"4753\"}},\"id\":\"4752\",\"type\":\"LinearAxis\"},{\"attributes\":{},\"id\":\"4989\",\"type\":\"NodesOnly\"},{\"attributes\":{\"callback\":null},\"id\":\"4764\",\"type\":\"TapTool\"},{\"attributes\":{},\"id\":\"4992\",\"type\":\"BasicTickFormatter\"},{\"attributes\":{},\"id\":\"4996\",\"type\":\"AllLabels\"},{\"attributes\":{\"coordinates\":null,\"data_source\":{\"id\":\"4775\"},\"glyph\":{\"id\":\"4783\"},\"group\":null,\"hover_glyph\":null,\"view\":{\"id\":\"4777\"}},\"id\":\"4776\",\"type\":\"GlyphRenderer\"},{\"attributes\":{},\"id\":\"4748\",\"type\":\"LinearScale\"},{\"attributes\":{\"active_scroll\":{\"id\":\"4761\"},\"tools\":[{\"id\":\"4760\"},{\"id\":\"4761\"},{\"id\":\"4762\"},{\"id\":\"4763\"},{\"id\":\"4764\"},{\"id\":\"4765\"}]},\"id\":\"4766\",\"type\":\"Toolbar\"},{\"attributes\":{\"end\":10.1,\"start\":-10.1},\"id\":\"4742\",\"type\":\"Range1d\"},{\"attributes\":{},\"id\":\"4997\",\"type\":\"UnionRenderers\"},{\"attributes\":{\"callback\":null,\"tooltips\":[[\"Character\",\"@index\"],[\"Degree\",\"@degree\"],[\"Modularity Class\",\"@modularity_class\"],[\"Modularity Color\",\"$color[swatch]:modularity_color\"]]},\"id\":\"4765\",\"type\":\"HoverTool\"},{\"attributes\":{},\"id\":\"4998\",\"type\":\"Selection\"},{\"attributes\":{},\"id\":\"4750\",\"type\":\"LinearScale\"},{\"attributes\":{\"axis\":{\"id\":\"4752\"},\"coordinates\":null,\"group\":null,\"ticker\":null},\"id\":\"4755\",\"type\":\"Grid\"},{\"attributes\":{\"coordinates\":null,\"data_source\":{\"id\":\"4779\"},\"glyph\":{\"id\":\"4788\"},\"group\":null,\"hover_glyph\":null,\"view\":{\"id\":\"4781\"}},\"id\":\"4780\",\"type\":\"GlyphRenderer\"},{\"attributes\":{\"coordinates\":null,\"edge_renderer\":{\"id\":\"4780\"},\"group\":null,\"inspection_policy\":{\"id\":\"4990\"},\"layout_provider\":{\"id\":\"4782\"},\"node_renderer\":{\"id\":\"4776\"},\"selection_policy\":{\"id\":\"4989\"}},\"id\":\"4773\",\"type\":\"GraphRenderer\"},{\"attributes\":{\"data\":{\"Weight\":[5,31,30,4,4,8,25,43,11,11,52,7,5,6,34,12,36,6,10,5,13,18,6,5,8,11,19,36,6,6,4,88,5,4,6,15,16,11,11,7,17,5,8,31,15,10,13,10,4,16,5,10,5,6,6,5,4,5,4,6,5,9,11,5,5,46,54,5,4,12,77,4,31,5,5,5,4,22,5,5,11,6,9,7,5,25,12,28,11,6,4,21,6,18,39,4,4,12,5,4,16,7,13,14,5,6,4,5,5,15,4,4,6,4,5,9,15,4,69,11,8,7,10,9,7,8,12,5,24,4,6,6,11,23,9,6,5,43,7,6,7,8,5,46,18,18,15,22,4,4,21,8,15,96,46,12,4,54,14,35,11,4,15,23,10,4,5,8,7,4,17,4,5,4,4,6,7,23,10,4,6,4,4,6,4,16,7,5,5,9,7,7,12,5,4,8,7,28,5,5,14,10,9,10,35,8,7,6,4,9,8,4,7,6,31,20,9,16,8,12,54,14,4,8,8,15,7,4,4,4,5,4,4,10,6,4,6,4,7,9,5,8,14,18,10,26,13,20,11,5,35,41,5,33,4,11,7,6,5,19,4,8,4,4,10,12,19,9,26,6,6,16,9,10,8,5,43,6,8,4,5,16,9,32,6,18,5,10,29,9,28,5,28,13,4,7,15,4,6,5,36,9,4,7,4,6,8,32,20,15,7,5,4,4,8,5,4,6,17,4,5,14,7,18,7,6,17,4,8,47,10,26,7,12,8,14,5,7,4,16,30,5,7,5,5,5,7,7,6,7,9,4],\"end\":[\"Grenn\",\"Samwell\",\"Jon\",\"Robert\",\"Stannis\",\"Eddison\",\"Jon\",\"Samwell\",\"Bran\",\"Jojen\",\"Jon\",\"Meera\",\"Melisandre\",\"Bowen\",\"Craster\",\"Eddison\",\"Gilly\",\"Janos\",\"Mance\",\"Qhorin\",\"Stannis\",\"Jaime\",\"Robert\",\"Tyrion\",\"Tywin\",\"Arya\",\"Catelyn\",\"Cersei\",\"Eddard\",\"Balon\",\"Barristan\",\"Brienne\",\"Edmure\",\"Elia\",\"Gregor\",\"Joffrey\",\"Loras\",\"Meryn\",\"Qyburn\",\"Renly\",\"Robert\",\"Stannis\",\"Tommen\",\"Tyrion\",\"Robb\",\"Sansa\",\"Tywin\",\"Walton\",\"Arya\",\"Cersei\",\"Daenerys\",\"Eddard\",\"Jon\",\"Jon Arryn\",\"Rhaegar\",\"Barristan\",\"Renly\",\"Stannis\",\"Thoros\",\"Sandor\",\"Sansa\",\"Tyrion\",\"Tywin\",\"Arya\",\"Catelyn\",\"Cersei\",\"Joffrey\",\"Lysa\",\"Myrcella\",\"Robb\",\"Sansa\",\"Balon\",\"Bronn\",\"Chataya\",\"Doran\",\"Elia\",\"Ellaria\",\"Gregor\",\"Ilyn\",\"Janos\",\"Kevan\",\"Loras\",\"Mace\",\"Margaery\",\"Meryn\",\"Oberyn\",\"Petyr\",\"Podrick\",\"Pycelle\",\"Renly\",\"Sandor\",\"Shae\",\"Stannis\",\"Varys\",\"Tywin\",\"Viserys\",\"Lysa\",\"Robb\",\"Balon\",\"Brynden\",\"Cersei\",\"Gregor\",\"Joffrey\",\"Kevan\",\"Mace\",\"Oberyn\",\"Petyr\",\"Podrick\",\"Pycelle\",\"Stannis\",\"Tommen\",\"Val\",\"Varys\",\"Walder\",\"Mance\",\"Janos\",\"Jon\",\"Janos\",\"Jon\",\"Craster\",\"Dalla\",\"Gilly\",\"Qhorin\",\"Rattleshirt\",\"Styr\",\"Val\",\"Ygritte\",\"Oberyn\",\"Gregor\",\"Joffrey\",\"Ellaria\",\"Mace\",\"Anguy\",\"Beric\",\"Bran\",\"Brynden\",\"Cersei\",\"Gendry\",\"Gregor\",\"Joffrey\",\"Jon\",\"Rickon\",\"Roose\",\"Sandor\",\"Thoros\",\"Eddard\",\"Robb\",\"Sansa\",\"Beric\",\"Gendry\",\"Thoros\",\"Eddard\",\"Sandor\",\"Hodor\",\"Jojen\",\"Jon\",\"Luwin\",\"Meera\",\"Nan\",\"Rickon\",\"Theon\",\"Catelyn\",\"Eddard\",\"Robb\",\"Sansa\",\"Lothar\",\"Walder\",\"Catelyn\",\"Edmure\",\"Rickard\",\"Robb\",\"Catelyn\",\"Brienne\",\"Bronn\",\"Elia\",\"Gregor\",\"Ilyn\",\"Joffrey\",\"Meryn\",\"Pycelle\",\"Sandor\",\"Shae\",\"Varys\",\"Eddard\",\"Lysa\",\"Sansa\",\"Thoros\",\"Sandor\",\"Bronn\",\"Elia\",\"Ilyn\",\"Meryn\",\"Sandor\",\"Joffrey\",\"Ilyn\",\"Kevan\",\"Loras\",\"Margaery\",\"Meryn\",\"Myrcella\",\"Sandor\",\"Stannis\",\"Tommen\",\"Robb\",\"Sansa\",\"Eddard\",\"Craster\",\"Dalla\",\"Eddison\",\"Gilly\",\"Janos\",\"Meera\",\"Melisandre\",\"Orell\",\"Qhorin\",\"Rattleshirt\",\"Stannis\",\"Styr\",\"Theon\",\"Val\",\"Ygritte\",\"Robb\",\"Sansa\",\"Eddard\",\"Theon\",\"Robb\",\"Sansa\",\"Catelyn\",\"Robb\",\"Brienne\",\"Eddard\",\"Ilyn\",\"Meryn\",\"Thoros\",\"Sansa\",\"Loras\",\"Robb\",\"Stannis\",\"Brienne\",\"Margaery\",\"Olenna\",\"Renly\",\"Sansa\",\"Barristan\",\"Illyrio\",\"Daenerys\",\"Jorah\",\"Daenerys\",\"Jorah\",\"Rhaegar\",\"Jojen\",\"Meera\",\"Robb\",\"Meera\",\"Nan\",\"Robb\",\"Catelyn\",\"Robb\",\"Sansa\",\"Podrick\",\"Margaery\",\"Sansa\",\"Edmure\",\"Roslin\",\"Robb\",\"Walder\",\"Catelyn\",\"Edmure\",\"Robb\",\"Petyr\",\"Roslin\",\"Edmure\",\"Hoster\",\"Jeyne\",\"Lysa\",\"Petyr\",\"Robb\",\"Roslin\",\"Sansa\",\"Stannis\",\"Eddard\",\"Roslin\",\"Hoster\",\"Robb\",\"Lysa\",\"Robb\",\"Jon Arryn\",\"Marillion\",\"Petyr\",\"Robert Arryn\",\"Sansa\",\"Robb\",\"Sansa\",\"Eddard\",\"Ramsay\",\"Rickard\",\"Sansa\",\"Stannis\",\"Eddard\",\"Kevan\",\"Margaery\",\"Marillion\",\"Myrcella\",\"Olenna\",\"Renly\",\"Robert Arryn\",\"Shae\",\"Davos\",\"Melisandre\",\"Renly\",\"Rhaegar\",\"Meryn\",\"Varys\",\"Chataya\",\"Varys\",\"Kevan\",\"Renly\",\"Karl\",\"Gilly\",\"Drogo\",\"Irri\",\"Daenerys\",\"Jorah\",\"Daenerys\",\"Irri\",\"Jorah\",\"Daenerys\",\"Missandei\",\"Aegon\",\"Jorah\",\"Kraznys\",\"Missandei\",\"Rakharo\",\"Rhaegar\",\"Viserys\",\"Worm\",\"Rhaegar\",\"Viserys\",\"Cressen\",\"Salladhor\",\"Melisandre\",\"Shireen\",\"Margaery\",\"Myrcella\",\"Margaery\",\"Bowen\",\"Lancel\",\"Val\",\"Rattleshirt\",\"Ygritte\",\"Ygritte\",\"Robert Arryn\"],\"start\":[\"Aemon\",\"Aemon\",\"Aemon\",\"Aemon\",\"Aemon\",\"Grenn\",\"Grenn\",\"Grenn\",\"Samwell\",\"Samwell\",\"Samwell\",\"Samwell\",\"Samwell\",\"Samwell\",\"Samwell\",\"Samwell\",\"Samwell\",\"Samwell\",\"Samwell\",\"Samwell\",\"Samwell\",\"Aerys\",\"Aerys\",\"Aerys\",\"Aerys\",\"Jaime\",\"Jaime\",\"Jaime\",\"Jaime\",\"Jaime\",\"Jaime\",\"Jaime\",\"Jaime\",\"Jaime\",\"Jaime\",\"Jaime\",\"Jaime\",\"Jaime\",\"Jaime\",\"Jaime\",\"Jaime\",\"Jaime\",\"Jaime\",\"Jaime\",\"Jaime\",\"Jaime\",\"Jaime\",\"Jaime\",\"Robert\",\"Robert\",\"Robert\",\"Robert\",\"Robert\",\"Robert\",\"Robert\",\"Robert\",\"Robert\",\"Robert\",\"Robert\",\"Robert\",\"Robert\",\"Robert\",\"Robert\",\"Tyrion\",\"Tyrion\",\"Tyrion\",\"Tyrion\",\"Tyrion\",\"Tyrion\",\"Tyrion\",\"Tyrion\",\"Tyrion\",\"Tyrion\",\"Tyrion\",\"Tyrion\",\"Tyrion\",\"Tyrion\",\"Tyrion\",\"Tyrion\",\"Tyrion\",\"Tyrion\",\"Tyrion\",\"Tyrion\",\"Tyrion\",\"Tyrion\",\"Tyrion\",\"Tyrion\",\"Tyrion\",\"Tyrion\",\"Tyrion\",\"Tyrion\",\"Tyrion\",\"Tyrion\",\"Tyrion\",\"Tyrion\",\"Tyrion\",\"Tywin\",\"Tywin\",\"Tywin\",\"Tywin\",\"Tywin\",\"Tywin\",\"Tywin\",\"Tywin\",\"Tywin\",\"Tywin\",\"Tywin\",\"Tywin\",\"Tywin\",\"Tywin\",\"Tywin\",\"Tywin\",\"Tywin\",\"Tywin\",\"Alliser\",\"Alliser\",\"Alliser\",\"Mance\",\"Mance\",\"Mance\",\"Mance\",\"Mance\",\"Mance\",\"Mance\",\"Mance\",\"Mance\",\"Mance\",\"Amory\",\"Oberyn\",\"Oberyn\",\"Oberyn\",\"Oberyn\",\"Arya\",\"Arya\",\"Arya\",\"Arya\",\"Arya\",\"Arya\",\"Arya\",\"Arya\",\"Arya\",\"Arya\",\"Arya\",\"Arya\",\"Arya\",\"Arya\",\"Arya\",\"Arya\",\"Anguy\",\"Beric\",\"Beric\",\"Beric\",\"Beric\",\"Bran\",\"Bran\",\"Bran\",\"Bran\",\"Bran\",\"Bran\",\"Bran\",\"Bran\",\"Bran\",\"Bran\",\"Bran\",\"Bran\",\"Brynden\",\"Brynden\",\"Brynden\",\"Brynden\",\"Brynden\",\"Brynden\",\"Cersei\",\"Cersei\",\"Cersei\",\"Cersei\",\"Cersei\",\"Cersei\",\"Cersei\",\"Cersei\",\"Cersei\",\"Cersei\",\"Cersei\",\"Cersei\",\"Cersei\",\"Cersei\",\"Cersei\",\"Gendry\",\"Gendry\",\"Gregor\",\"Gregor\",\"Gregor\",\"Gregor\",\"Gregor\",\"Gregor\",\"Joffrey\",\"Joffrey\",\"Joffrey\",\"Joffrey\",\"Joffrey\",\"Joffrey\",\"Joffrey\",\"Joffrey\",\"Joffrey\",\"Joffrey\",\"Joffrey\",\"Jon\",\"Jon\",\"Jon\",\"Jon\",\"Jon\",\"Jon\",\"Jon\",\"Jon\",\"Jon\",\"Jon\",\"Jon\",\"Jon\",\"Jon\",\"Jon\",\"Jon\",\"Jon\",\"Jon\",\"Jon\",\"Rickon\",\"Rickon\",\"Rickon\",\"Rickon\",\"Roose\",\"Roose\",\"Roose\",\"Sandor\",\"Sandor\",\"Sandor\",\"Sandor\",\"Sandor\",\"Balon\",\"Balon\",\"Balon\",\"Loras\",\"Loras\",\"Loras\",\"Loras\",\"Loras\",\"Belwas\",\"Belwas\",\"Belwas\",\"Belwas\",\"Barristan\",\"Barristan\",\"Barristan\",\"Hodor\",\"Hodor\",\"Hodor\",\"Jojen\",\"Luwin\",\"Theon\",\"Brienne\",\"Brienne\",\"Brienne\",\"Bronn\",\"Podrick\",\"Podrick\",\"Lothar\",\"Lothar\",\"Lothar\",\"Lothar\",\"Walder\",\"Walder\",\"Walder\",\"Walder\",\"Walder\",\"Catelyn\",\"Catelyn\",\"Catelyn\",\"Catelyn\",\"Catelyn\",\"Catelyn\",\"Catelyn\",\"Catelyn\",\"Catelyn\",\"Catelyn\",\"Edmure\",\"Edmure\",\"Edmure\",\"Hoster\",\"Jeyne\",\"Lysa\",\"Lysa\",\"Lysa\",\"Lysa\",\"Lysa\",\"Petyr\",\"Petyr\",\"Robb\",\"Robb\",\"Robb\",\"Robb\",\"Robb\",\"Sansa\",\"Sansa\",\"Sansa\",\"Sansa\",\"Sansa\",\"Sansa\",\"Sansa\",\"Sansa\",\"Sansa\",\"Stannis\",\"Stannis\",\"Stannis\",\"Elia\",\"Ilyn\",\"Pycelle\",\"Shae\",\"Shae\",\"Varys\",\"Varys\",\"Craster\",\"Craster\",\"Daario\",\"Daario\",\"Daario\",\"Daario\",\"Drogo\",\"Drogo\",\"Drogo\",\"Irri\",\"Irri\",\"Daenerys\",\"Daenerys\",\"Daenerys\",\"Daenerys\",\"Daenerys\",\"Daenerys\",\"Daenerys\",\"Daenerys\",\"Jorah\",\"Rhaegar\",\"Davos\",\"Davos\",\"Davos\",\"Davos\",\"Renly\",\"Tommen\",\"Tommen\",\"Janos\",\"Kevan\",\"Dalla\",\"Qhorin\",\"Qhorin\",\"Rattleshirt\",\"Marillion\"]},\"selected\":{\"id\":\"5000\"},\"selection_policy\":{\"id\":\"4999\"}},\"id\":\"4779\",\"type\":\"ColumnDataSource\"},{\"attributes\":{\"data\":{\"adjusted_node_size\":[10,9,20,9,29,23,41,27,8,17,6,12,24,7,11,19,13,25,9,17,23,31,11,9,18,10,11,14,9,11,6,9,9,7,10,7,9,12,9,10,10,13,23,13,8,7,15,12,30,9,31,19,10,11,12,9,10,12,10,6,9,9,9,19,6,11,6,7,6,11,8,6,10,6,6,17,8,9,6,13,10,11,7,11,12,9,8,9,6,10,9,7,9,9,7,6,7,8,8,7,8,7,6,7,6,6,6],\"degree\":[5,4,15,4,24,18,36,22,3,12,1,7,19,2,6,14,8,20,4,12,18,26,6,4,13,5,6,9,4,6,1,4,4,2,5,2,4,7,4,5,5,8,18,8,3,2,10,7,25,4,26,14,5,6,7,4,5,7,5,1,4,4,4,14,1,6,1,2,1,6,3,1,5,1,1,12,3,4,1,8,5,6,2,6,7,4,3,4,1,5,4,2,4,4,2,1,2,3,3,2,3,2,1,2,1,1,1],\"index\":[\"Aemon\",\"Grenn\",\"Samwell\",\"Aerys\",\"Jaime\",\"Robert\",\"Tyrion\",\"Tywin\",\"Alliser\",\"Mance\",\"Amory\",\"Oberyn\",\"Arya\",\"Anguy\",\"Beric\",\"Bran\",\"Brynden\",\"Cersei\",\"Gendry\",\"Gregor\",\"Joffrey\",\"Jon\",\"Rickon\",\"Roose\",\"Sandor\",\"Thoros\",\"Balon\",\"Loras\",\"Belwas\",\"Barristan\",\"Illyrio\",\"Hodor\",\"Jojen\",\"Luwin\",\"Meera\",\"Nan\",\"Theon\",\"Brienne\",\"Bronn\",\"Podrick\",\"Lothar\",\"Walder\",\"Catelyn\",\"Edmure\",\"Hoster\",\"Jeyne\",\"Lysa\",\"Petyr\",\"Robb\",\"Roslin\",\"Sansa\",\"Stannis\",\"Elia\",\"Ilyn\",\"Meryn\",\"Pycelle\",\"Shae\",\"Varys\",\"Craster\",\"Karl\",\"Daario\",\"Drogo\",\"Irri\",\"Daenerys\",\"Aegon\",\"Jorah\",\"Kraznys\",\"Missandei\",\"Rakharo\",\"Rhaegar\",\"Viserys\",\"Worm\",\"Davos\",\"Cressen\",\"Salladhor\",\"Eddard\",\"Eddison\",\"Gilly\",\"Qyburn\",\"Renly\",\"Tommen\",\"Janos\",\"Bowen\",\"Kevan\",\"Margaery\",\"Myrcella\",\"Dalla\",\"Melisandre\",\"Orell\",\"Qhorin\",\"Rattleshirt\",\"Styr\",\"Val\",\"Ygritte\",\"Jon Arryn\",\"Lancel\",\"Olenna\",\"Marillion\",\"Robert Arryn\",\"Ellaria\",\"Mace\",\"Rickard\",\"Ramsay\",\"Chataya\",\"Shireen\",\"Doran\",\"Walton\"],\"modularity_class\":[1,1,1,0,0,3,0,0,1,1,0,0,2,4,4,2,2,2,4,0,0,1,2,2,0,4,0,0,3,3,3,1,1,2,1,2,2,2,0,0,2,2,2,2,2,2,2,2,2,2,2,1,0,0,0,0,0,0,1,1,3,3,3,3,3,3,3,3,3,3,3,3,1,1,1,2,1,1,0,0,0,1,1,0,0,0,1,1,1,1,1,1,1,1,3,0,0,2,2,0,0,2,2,0,1,0,0],\"modularity_color\":[\"#66c2a5\",\"#66c2a5\",\"#66c2a5\",\"#3288bd\",\"#3288bd\",\"#e6f598\",\"#3288bd\",\"#3288bd\",\"#66c2a5\",\"#66c2a5\",\"#3288bd\",\"#3288bd\",\"#abdda4\",\"#fee08b\",\"#fee08b\",\"#abdda4\",\"#abdda4\",\"#abdda4\",\"#fee08b\",\"#3288bd\",\"#3288bd\",\"#66c2a5\",\"#abdda4\",\"#abdda4\",\"#3288bd\",\"#fee08b\",\"#3288bd\",\"#3288bd\",\"#e6f598\",\"#e6f598\",\"#e6f598\",\"#66c2a5\",\"#66c2a5\",\"#abdda4\",\"#66c2a5\",\"#abdda4\",\"#abdda4\",\"#abdda4\",\"#3288bd\",\"#3288bd\",\"#abdda4\",\"#abdda4\",\"#abdda4\",\"#abdda4\",\"#abdda4\",\"#abdda4\",\"#abdda4\",\"#abdda4\",\"#abdda4\",\"#abdda4\",\"#abdda4\",\"#66c2a5\",\"#3288bd\",\"#3288bd\",\"#3288bd\",\"#3288bd\",\"#3288bd\",\"#3288bd\",\"#66c2a5\",\"#66c2a5\",\"#e6f598\",\"#e6f598\",\"#e6f598\",\"#e6f598\",\"#e6f598\",\"#e6f598\",\"#e6f598\",\"#e6f598\",\"#e6f598\",\"#e6f598\",\"#e6f598\",\"#e6f598\",\"#66c2a5\",\"#66c2a5\",\"#66c2a5\",\"#abdda4\",\"#66c2a5\",\"#66c2a5\",\"#3288bd\",\"#3288bd\",\"#3288bd\",\"#66c2a5\",\"#66c2a5\",\"#3288bd\",\"#3288bd\",\"#3288bd\",\"#66c2a5\",\"#66c2a5\",\"#66c2a5\",\"#66c2a5\",\"#66c2a5\",\"#66c2a5\",\"#66c2a5\",\"#66c2a5\",\"#e6f598\",\"#3288bd\",\"#3288bd\",\"#abdda4\",\"#abdda4\",\"#3288bd\",\"#3288bd\",\"#abdda4\",\"#abdda4\",\"#3288bd\",\"#66c2a5\",\"#3288bd\",\"#3288bd\"]},\"selected\":{\"id\":\"4998\"},\"selection_policy\":{\"id\":\"4997\"}},\"id\":\"4775\",\"type\":\"ColumnDataSource\"},{\"attributes\":{\"source\":{\"id\":\"4779\"}},\"id\":\"4781\",\"type\":\"CDSView\"},{\"attributes\":{\"line_alpha\":{\"value\":0.5}},\"id\":\"4788\",\"type\":\"MultiLine\"},{\"attributes\":{},\"id\":\"4990\",\"type\":\"NodesOnly\"},{\"attributes\":{},\"id\":\"4763\",\"type\":\"ResetTool\"},{\"attributes\":{},\"id\":\"4999\",\"type\":\"UnionRenderers\"},{\"attributes\":{},\"id\":\"5000\",\"type\":\"Selection\"},{\"attributes\":{\"coordinates\":null,\"formatter\":{\"id\":\"4992\"},\"group\":null,\"major_label_policy\":{\"id\":\"4993\"},\"ticker\":{\"id\":\"4757\"}},\"id\":\"4756\",\"type\":\"LinearAxis\"},{\"attributes\":{},\"id\":\"4762\",\"type\":\"SaveTool\"}],\"root_ids\":[\"4743\"]},\"title\":\"Bokeh Application\",\"version\":\"2.4.2\"}};\n",
       "  const render_items = [{\"docid\":\"0b60a746-6c16-42c4-beb6-c4a162363e6c\",\"root_ids\":[\"4743\"],\"roots\":{\"4743\":\"67e1a170-6d00-4acf-ac0e-e7a8cac60a9e\"}}];\n",
       "  root.Bokeh.embed.embed_items_notebook(docs_json, render_items);\n",
       "\n",
       "  }\n",
       "  if (root.Bokeh !== undefined) {\n",
       "    embed_document(root);\n",
       "  } else {\n",
       "    let attempts = 0;\n",
       "    const timer = setInterval(function(root) {\n",
       "      if (root.Bokeh !== undefined) {\n",
       "        clearInterval(timer);\n",
       "        embed_document(root);\n",
       "      } else {\n",
       "        attempts++;\n",
       "        if (attempts > 100) {\n",
       "          clearInterval(timer);\n",
       "          console.log(\"Bokeh: ERROR: Unable to run BokehJS code because BokehJS library is missing\");\n",
       "        }\n",
       "      }\n",
       "    }, 10, root)\n",
       "  }\n",
       "})(window);"
      ],
      "application/vnd.bokehjs_exec.v0+json": ""
     },
     "metadata": {
      "application/vnd.bokehjs_exec.v0+json": {
       "id": "4743"
      }
     },
     "output_type": "display_data"
    },
    {
     "data": {
      "text/plain": [
       "'/Users/okara/Onboarding/Jupyter Notebooks and More/Networks-and-viz/networkx_holoviews_pyvis_bokeh_advanced/Game of Thrones Network3.html'"
      ]
     },
     "execution_count": 52,
     "metadata": {},
     "output_type": "execute_result"
    }
   ],
   "source": [
    "#Choose attributes from G network to size and color by — setting manual size (e.g. 10) or color (e.g. 'skyblue') also allowed\n",
    "size_by_this_attribute = 'adjusted_node_size'\n",
    "color_by_this_attribute = 'modularity_color'\n",
    "#Pick a color palette — Blues8, Reds8, Purples8, Oranges8, Viridis8\n",
    "color_palette = Blues8\n",
    "#Choose a title!\n",
    "title = 'Game of Thrones Network'\n",
    "\n",
    "#Establish which categories will appear when hovering over each node\n",
    "HOVER_TOOLTIPS = [\n",
    "       (\"Character\", \"@index\"),\n",
    "        (\"Degree\", \"@degree\"),\n",
    "         (\"Modularity Class\", \"@modularity_class\"),\n",
    "        (\"Modularity Color\", \"$color[swatch]:modularity_color\"),\n",
    "]\n",
    "\n",
    "#Create a plot — set dimensions, toolbar, and title\n",
    "plot = figure(tooltips = HOVER_TOOLTIPS,\n",
    "              tools=\"pan,wheel_zoom,save,reset, tap\", active_scroll='wheel_zoom',\n",
    "            x_range=Range1d(-10.1, 10.1), y_range=Range1d(-10.1, 10.1), title=title)\n",
    "\n",
    "#Create a network graph object\n",
    "# https://networkx.github.io/documentation/networkx-1.9/reference/generated/networkx.drawing.layout.spring_layout.html\n",
    "network_graph = from_networkx(G, networkx.spring_layout, scale=10, center=(0, 0))\n",
    "\n",
    "#Set node sizes and colors according to node degree (color as category from attribute)\n",
    "network_graph.node_renderer.glyph = Circle(size=size_by_this_attribute, fill_color=color_by_this_attribute)\n",
    "\n",
    "#Set edge opacity and width\n",
    "network_graph.edge_renderer.glyph = MultiLine(line_alpha=0.5, line_width=1)\n",
    "\n",
    "plot.renderers.append(network_graph)\n",
    "\n",
    "show(plot)\n",
    "save(plot, filename=f\"{title}3.html\")"
   ]
  },
  {
   "cell_type": "markdown",
   "metadata": {},
   "source": [
    "## Network with Responsive Highlighting"
   ]
  },
  {
   "cell_type": "markdown",
   "metadata": {},
   "source": [
    "The code below shows how to create responsive highlighting when a user hovers over nodes or edges, which you can read more about in [Bokeh's NetworkX Integration documentation](https://docs.bokeh.org/en/latest/docs/user_guide/graph.html?highlight=networks#interaction-policies). "
   ]
  },
  {
   "cell_type": "markdown",
   "metadata": {},
   "source": [
    "**Include  EdgesAndLinkedNodes, NodesAndLinkedEdges**"
   ]
  },
  {
   "cell_type": "code",
   "execution_count": 53,
   "metadata": {},
   "outputs": [],
   "source": [
    "from bokeh.io import output_notebook, show, save\n",
    "from bokeh.models import Range1d, Circle, ColumnDataSource, MultiLine, EdgesAndLinkedNodes, NodesAndLinkedEdges\n",
    "from bokeh.plotting import figure\n",
    "from bokeh.plotting import from_networkx\n",
    "from bokeh.palettes import Blues8, Reds8, Purples8, Oranges8, Viridis8, Spectral8\n",
    "from bokeh.transform import linear_cmap\n",
    "from networkx.algorithms import community"
   ]
  },
  {
   "cell_type": "markdown",
   "metadata": {},
   "source": [
    "**Calculate degree for each node and add as node attribute**"
   ]
  },
  {
   "cell_type": "code",
   "execution_count": 54,
   "metadata": {},
   "outputs": [],
   "source": [
    "degrees = dict(networkx.degree(G))\n",
    "networkx.set_node_attributes(G, name='degree', values=degrees)"
   ]
  },
  {
   "cell_type": "markdown",
   "metadata": {},
   "source": [
    "**Slightly adjust degree so that the nodes with very small degrees are still visible**"
   ]
  },
  {
   "cell_type": "code",
   "execution_count": 55,
   "metadata": {
    "tags": [
     "hide-input"
    ]
   },
   "outputs": [],
   "source": [
    "number_to_adjust_by = 5\n",
    "adjusted_node_size = dict([(node, degree+number_to_adjust_by) for node, degree in networkx.degree(G)])\n",
    "networkx.set_node_attributes(G, name='adjusted_node_size', values=adjusted_node_size)"
   ]
  },
  {
   "cell_type": "markdown",
   "metadata": {},
   "source": [
    "**Calculate communities**"
   ]
  },
  {
   "cell_type": "code",
   "execution_count": 56,
   "metadata": {
    "tags": [
     "hide-input"
    ]
   },
   "outputs": [],
   "source": [
    "communities = community.greedy_modularity_communities(G)"
   ]
  },
  {
   "cell_type": "markdown",
   "metadata": {},
   "source": [
    "**Add modularity class and color as attributes to network graph**"
   ]
  },
  {
   "cell_type": "code",
   "execution_count": 57,
   "metadata": {
    "tags": [
     "hide-input"
    ]
   },
   "outputs": [],
   "source": [
    "# Create empty dictionaries\n",
    "modularity_class = {}\n",
    "modularity_color = {}\n",
    "#Loop through each community in the network\n",
    "for community_number, community in enumerate(communities):\n",
    "    #For each member of the community, add their community number and a distinct color\n",
    "    for name in community: \n",
    "        modularity_class[name] = community_number\n",
    "        modularity_color[name] = Spectral8[community_number]"
   ]
  },
  {
   "cell_type": "code",
   "execution_count": 58,
   "metadata": {
    "tags": [
     "hide-input"
    ]
   },
   "outputs": [],
   "source": [
    "# Add modularity class and color as attributes from the network above\n",
    "networkx.set_node_attributes(G, modularity_class, 'modularity_class')\n",
    "networkx.set_node_attributes(G, modularity_color, 'modularity_color')"
   ]
  },
  {
   "cell_type": "code",
   "execution_count": 59,
   "metadata": {},
   "outputs": [
    {
     "data": {
      "text/html": [
       "\n",
       "\n",
       "\n",
       "\n",
       "\n",
       "\n",
       "  <div class=\"bk-root\" id=\"9f39d508-23ed-48f1-9817-c2e93b6d089d\" data-root-id=\"5427\"></div>\n"
      ]
     },
     "metadata": {},
     "output_type": "display_data"
    },
    {
     "data": {
      "application/javascript": [
       "(function(root) {\n",
       "  function embed_document(root) {\n",
       "    \n",
       "  const docs_json = {\"ad382d60-3479-4969-a432-ad93757367ed\":{\"defs\":[],\"roots\":{\"references\":[{\"attributes\":{\"below\":[{\"id\":\"5436\"}],\"center\":[{\"id\":\"5439\"},{\"id\":\"5443\"}],\"left\":[{\"id\":\"5440\"}],\"renderers\":[{\"id\":\"5455\"}],\"title\":{\"id\":\"5428\"},\"toolbar\":{\"id\":\"5449\"},\"x_range\":{\"id\":\"5425\"},\"x_scale\":{\"id\":\"5432\"},\"y_range\":{\"id\":\"5426\"},\"y_scale\":{\"id\":\"5434\"}},\"id\":\"5427\",\"subtype\":\"Figure\",\"type\":\"Plot\"},{\"attributes\":{\"coordinates\":null,\"formatter\":{\"id\":\"5717\"},\"group\":null,\"major_label_policy\":{\"id\":\"5718\"},\"ticker\":{\"id\":\"5441\"}},\"id\":\"5440\",\"type\":\"LinearAxis\"},{\"attributes\":{},\"id\":\"5447\",\"type\":\"ResetTool\"},{\"attributes\":{},\"id\":\"5722\",\"type\":\"UnionRenderers\"},{\"attributes\":{},\"id\":\"5720\",\"type\":\"BasicTickFormatter\"},{\"attributes\":{\"end\":10.1,\"start\":-10.1},\"id\":\"5426\",\"type\":\"Range1d\"},{\"attributes\":{\"fill_color\":{\"field\":\"modularity_color\"},\"size\":{\"field\":\"adjusted_node_size\"}},\"id\":\"5465\",\"type\":\"Circle\"},{\"attributes\":{\"line_width\":{\"value\":2}},\"id\":\"5485\",\"type\":\"MultiLine\"},{\"attributes\":{\"line_width\":{\"value\":2}},\"id\":\"5490\",\"type\":\"MultiLine\"},{\"attributes\":{\"callback\":null,\"tooltips\":[[\"Character\",\"@index\"],[\"Degree\",\"@degree\"],[\"Modularity Class\",\"@modularity_class\"],[\"Modularity Color\",\"$color[swatch]:modularity_color\"]]},\"id\":\"5448\",\"type\":\"HoverTool\"},{\"attributes\":{},\"id\":\"5444\",\"type\":\"PanTool\"},{\"attributes\":{\"active_scroll\":{\"id\":\"5445\"},\"tools\":[{\"id\":\"5444\"},{\"id\":\"5445\"},{\"id\":\"5446\"},{\"id\":\"5447\"},{\"id\":\"5448\"}]},\"id\":\"5449\",\"type\":\"Toolbar\"},{\"attributes\":{\"source\":{\"id\":\"5457\"}},\"id\":\"5459\",\"type\":\"CDSView\"},{\"attributes\":{},\"id\":\"5434\",\"type\":\"LinearScale\"},{\"attributes\":{\"fill_color\":{\"value\":\"white\"},\"line_width\":{\"value\":2},\"size\":{\"field\":\"adjusted_node_size\"}},\"id\":\"5475\",\"type\":\"Circle\"},{\"attributes\":{\"coordinates\":null,\"data_source\":{\"id\":\"5461\"},\"glyph\":{\"id\":\"5480\"},\"group\":null,\"hover_glyph\":{\"id\":\"5490\"},\"selection_glyph\":{\"id\":\"5485\"},\"view\":{\"id\":\"5463\"}},\"id\":\"5462\",\"type\":\"GlyphRenderer\"},{\"attributes\":{\"line_alpha\":{\"value\":0.5}},\"id\":\"5480\",\"type\":\"MultiLine\"},{\"attributes\":{},\"id\":\"5723\",\"type\":\"Selection\"},{\"attributes\":{},\"id\":\"5725\",\"type\":\"Selection\"},{\"attributes\":{},\"id\":\"5718\",\"type\":\"AllLabels\"},{\"attributes\":{},\"id\":\"5724\",\"type\":\"UnionRenderers\"},{\"attributes\":{},\"id\":\"5432\",\"type\":\"LinearScale\"},{\"attributes\":{},\"id\":\"5495\",\"type\":\"NodesAndLinkedEdges\"},{\"attributes\":{},\"id\":\"5721\",\"type\":\"AllLabels\"},{\"attributes\":{\"source\":{\"id\":\"5461\"}},\"id\":\"5463\",\"type\":\"CDSView\"},{\"attributes\":{\"coordinates\":null,\"data_source\":{\"id\":\"5457\"},\"glyph\":{\"id\":\"5465\"},\"group\":null,\"hover_glyph\":{\"id\":\"5470\"},\"selection_glyph\":{\"id\":\"5475\"},\"view\":{\"id\":\"5459\"}},\"id\":\"5458\",\"type\":\"GlyphRenderer\"},{\"attributes\":{\"axis\":{\"id\":\"5440\"},\"coordinates\":null,\"dimension\":1,\"group\":null,\"ticker\":null},\"id\":\"5443\",\"type\":\"Grid\"},{\"attributes\":{\"coordinates\":null,\"group\":null,\"text\":\"Game of Thrones Network\"},\"id\":\"5428\",\"type\":\"Title\"},{\"attributes\":{\"data\":{\"adjusted_node_size\":[10,9,20,9,29,23,41,27,8,17,6,12,24,7,11,19,13,25,9,17,23,31,11,9,18,10,11,14,9,11,6,9,9,7,10,7,9,12,9,10,10,13,23,13,8,7,15,12,30,9,31,19,10,11,12,9,10,12,10,6,9,9,9,19,6,11,6,7,6,11,8,6,10,6,6,17,8,9,6,13,10,11,7,11,12,9,8,9,6,10,9,7,9,9,7,6,7,8,8,7,8,7,6,7,6,6,6],\"degree\":[5,4,15,4,24,18,36,22,3,12,1,7,19,2,6,14,8,20,4,12,18,26,6,4,13,5,6,9,4,6,1,4,4,2,5,2,4,7,4,5,5,8,18,8,3,2,10,7,25,4,26,14,5,6,7,4,5,7,5,1,4,4,4,14,1,6,1,2,1,6,3,1,5,1,1,12,3,4,1,8,5,6,2,6,7,4,3,4,1,5,4,2,4,4,2,1,2,3,3,2,3,2,1,2,1,1,1],\"index\":[\"Aemon\",\"Grenn\",\"Samwell\",\"Aerys\",\"Jaime\",\"Robert\",\"Tyrion\",\"Tywin\",\"Alliser\",\"Mance\",\"Amory\",\"Oberyn\",\"Arya\",\"Anguy\",\"Beric\",\"Bran\",\"Brynden\",\"Cersei\",\"Gendry\",\"Gregor\",\"Joffrey\",\"Jon\",\"Rickon\",\"Roose\",\"Sandor\",\"Thoros\",\"Balon\",\"Loras\",\"Belwas\",\"Barristan\",\"Illyrio\",\"Hodor\",\"Jojen\",\"Luwin\",\"Meera\",\"Nan\",\"Theon\",\"Brienne\",\"Bronn\",\"Podrick\",\"Lothar\",\"Walder\",\"Catelyn\",\"Edmure\",\"Hoster\",\"Jeyne\",\"Lysa\",\"Petyr\",\"Robb\",\"Roslin\",\"Sansa\",\"Stannis\",\"Elia\",\"Ilyn\",\"Meryn\",\"Pycelle\",\"Shae\",\"Varys\",\"Craster\",\"Karl\",\"Daario\",\"Drogo\",\"Irri\",\"Daenerys\",\"Aegon\",\"Jorah\",\"Kraznys\",\"Missandei\",\"Rakharo\",\"Rhaegar\",\"Viserys\",\"Worm\",\"Davos\",\"Cressen\",\"Salladhor\",\"Eddard\",\"Eddison\",\"Gilly\",\"Qyburn\",\"Renly\",\"Tommen\",\"Janos\",\"Bowen\",\"Kevan\",\"Margaery\",\"Myrcella\",\"Dalla\",\"Melisandre\",\"Orell\",\"Qhorin\",\"Rattleshirt\",\"Styr\",\"Val\",\"Ygritte\",\"Jon Arryn\",\"Lancel\",\"Olenna\",\"Marillion\",\"Robert Arryn\",\"Ellaria\",\"Mace\",\"Rickard\",\"Ramsay\",\"Chataya\",\"Shireen\",\"Doran\",\"Walton\"],\"modularity_class\":[1,1,1,0,0,3,0,0,1,1,0,0,2,4,4,2,2,2,4,0,0,1,2,2,0,4,0,0,3,3,3,1,1,2,1,2,2,2,0,0,2,2,2,2,2,2,2,2,2,2,2,1,0,0,0,0,0,0,1,1,3,3,3,3,3,3,3,3,3,3,3,3,1,1,1,2,1,1,0,0,0,1,1,0,0,0,1,1,1,1,1,1,1,1,3,0,0,2,2,0,0,2,2,0,1,0,0],\"modularity_color\":[\"#66c2a5\",\"#66c2a5\",\"#66c2a5\",\"#3288bd\",\"#3288bd\",\"#e6f598\",\"#3288bd\",\"#3288bd\",\"#66c2a5\",\"#66c2a5\",\"#3288bd\",\"#3288bd\",\"#abdda4\",\"#fee08b\",\"#fee08b\",\"#abdda4\",\"#abdda4\",\"#abdda4\",\"#fee08b\",\"#3288bd\",\"#3288bd\",\"#66c2a5\",\"#abdda4\",\"#abdda4\",\"#3288bd\",\"#fee08b\",\"#3288bd\",\"#3288bd\",\"#e6f598\",\"#e6f598\",\"#e6f598\",\"#66c2a5\",\"#66c2a5\",\"#abdda4\",\"#66c2a5\",\"#abdda4\",\"#abdda4\",\"#abdda4\",\"#3288bd\",\"#3288bd\",\"#abdda4\",\"#abdda4\",\"#abdda4\",\"#abdda4\",\"#abdda4\",\"#abdda4\",\"#abdda4\",\"#abdda4\",\"#abdda4\",\"#abdda4\",\"#abdda4\",\"#66c2a5\",\"#3288bd\",\"#3288bd\",\"#3288bd\",\"#3288bd\",\"#3288bd\",\"#3288bd\",\"#66c2a5\",\"#66c2a5\",\"#e6f598\",\"#e6f598\",\"#e6f598\",\"#e6f598\",\"#e6f598\",\"#e6f598\",\"#e6f598\",\"#e6f598\",\"#e6f598\",\"#e6f598\",\"#e6f598\",\"#e6f598\",\"#66c2a5\",\"#66c2a5\",\"#66c2a5\",\"#abdda4\",\"#66c2a5\",\"#66c2a5\",\"#3288bd\",\"#3288bd\",\"#3288bd\",\"#66c2a5\",\"#66c2a5\",\"#3288bd\",\"#3288bd\",\"#3288bd\",\"#66c2a5\",\"#66c2a5\",\"#66c2a5\",\"#66c2a5\",\"#66c2a5\",\"#66c2a5\",\"#66c2a5\",\"#66c2a5\",\"#e6f598\",\"#3288bd\",\"#3288bd\",\"#abdda4\",\"#abdda4\",\"#3288bd\",\"#3288bd\",\"#abdda4\",\"#abdda4\",\"#3288bd\",\"#66c2a5\",\"#3288bd\",\"#3288bd\"]},\"selected\":{\"id\":\"5723\"},\"selection_policy\":{\"id\":\"5722\"}},\"id\":\"5457\",\"type\":\"ColumnDataSource\"},{\"attributes\":{},\"id\":\"5497\",\"type\":\"NodesAndLinkedEdges\"},{\"attributes\":{\"fill_color\":{\"value\":\"white\"},\"line_width\":{\"value\":2},\"size\":{\"field\":\"adjusted_node_size\"}},\"id\":\"5470\",\"type\":\"Circle\"},{\"attributes\":{\"coordinates\":null,\"formatter\":{\"id\":\"5720\"},\"group\":null,\"major_label_policy\":{\"id\":\"5721\"},\"ticker\":{\"id\":\"5437\"}},\"id\":\"5436\",\"type\":\"LinearAxis\"},{\"attributes\":{},\"id\":\"5441\",\"type\":\"BasicTicker\"},{\"attributes\":{},\"id\":\"5437\",\"type\":\"BasicTicker\"},{\"attributes\":{\"end\":10.1,\"start\":-10.1},\"id\":\"5425\",\"type\":\"Range1d\"},{\"attributes\":{\"coordinates\":null,\"edge_renderer\":{\"id\":\"5462\"},\"group\":null,\"inspection_policy\":{\"id\":\"5497\"},\"layout_provider\":{\"id\":\"5464\"},\"node_renderer\":{\"id\":\"5458\"},\"selection_policy\":{\"id\":\"5495\"}},\"id\":\"5455\",\"type\":\"GraphRenderer\"},{\"attributes\":{},\"id\":\"5717\",\"type\":\"BasicTickFormatter\"},{\"attributes\":{\"axis\":{\"id\":\"5436\"},\"coordinates\":null,\"group\":null,\"ticker\":null},\"id\":\"5439\",\"type\":\"Grid\"},{\"attributes\":{},\"id\":\"5446\",\"type\":\"SaveTool\"},{\"attributes\":{\"data\":{\"Weight\":[5,31,30,4,4,8,25,43,11,11,52,7,5,6,34,12,36,6,10,5,13,18,6,5,8,11,19,36,6,6,4,88,5,4,6,15,16,11,11,7,17,5,8,31,15,10,13,10,4,16,5,10,5,6,6,5,4,5,4,6,5,9,11,5,5,46,54,5,4,12,77,4,31,5,5,5,4,22,5,5,11,6,9,7,5,25,12,28,11,6,4,21,6,18,39,4,4,12,5,4,16,7,13,14,5,6,4,5,5,15,4,4,6,4,5,9,15,4,69,11,8,7,10,9,7,8,12,5,24,4,6,6,11,23,9,6,5,43,7,6,7,8,5,46,18,18,15,22,4,4,21,8,15,96,46,12,4,54,14,35,11,4,15,23,10,4,5,8,7,4,17,4,5,4,4,6,7,23,10,4,6,4,4,6,4,16,7,5,5,9,7,7,12,5,4,8,7,28,5,5,14,10,9,10,35,8,7,6,4,9,8,4,7,6,31,20,9,16,8,12,54,14,4,8,8,15,7,4,4,4,5,4,4,10,6,4,6,4,7,9,5,8,14,18,10,26,13,20,11,5,35,41,5,33,4,11,7,6,5,19,4,8,4,4,10,12,19,9,26,6,6,16,9,10,8,5,43,6,8,4,5,16,9,32,6,18,5,10,29,9,28,5,28,13,4,7,15,4,6,5,36,9,4,7,4,6,8,32,20,15,7,5,4,4,8,5,4,6,17,4,5,14,7,18,7,6,17,4,8,47,10,26,7,12,8,14,5,7,4,16,30,5,7,5,5,5,7,7,6,7,9,4],\"end\":[\"Grenn\",\"Samwell\",\"Jon\",\"Robert\",\"Stannis\",\"Eddison\",\"Jon\",\"Samwell\",\"Bran\",\"Jojen\",\"Jon\",\"Meera\",\"Melisandre\",\"Bowen\",\"Craster\",\"Eddison\",\"Gilly\",\"Janos\",\"Mance\",\"Qhorin\",\"Stannis\",\"Jaime\",\"Robert\",\"Tyrion\",\"Tywin\",\"Arya\",\"Catelyn\",\"Cersei\",\"Eddard\",\"Balon\",\"Barristan\",\"Brienne\",\"Edmure\",\"Elia\",\"Gregor\",\"Joffrey\",\"Loras\",\"Meryn\",\"Qyburn\",\"Renly\",\"Robert\",\"Stannis\",\"Tommen\",\"Tyrion\",\"Robb\",\"Sansa\",\"Tywin\",\"Walton\",\"Arya\",\"Cersei\",\"Daenerys\",\"Eddard\",\"Jon\",\"Jon Arryn\",\"Rhaegar\",\"Barristan\",\"Renly\",\"Stannis\",\"Thoros\",\"Sandor\",\"Sansa\",\"Tyrion\",\"Tywin\",\"Arya\",\"Catelyn\",\"Cersei\",\"Joffrey\",\"Lysa\",\"Myrcella\",\"Robb\",\"Sansa\",\"Balon\",\"Bronn\",\"Chataya\",\"Doran\",\"Elia\",\"Ellaria\",\"Gregor\",\"Ilyn\",\"Janos\",\"Kevan\",\"Loras\",\"Mace\",\"Margaery\",\"Meryn\",\"Oberyn\",\"Petyr\",\"Podrick\",\"Pycelle\",\"Renly\",\"Sandor\",\"Shae\",\"Stannis\",\"Varys\",\"Tywin\",\"Viserys\",\"Lysa\",\"Robb\",\"Balon\",\"Brynden\",\"Cersei\",\"Gregor\",\"Joffrey\",\"Kevan\",\"Mace\",\"Oberyn\",\"Petyr\",\"Podrick\",\"Pycelle\",\"Stannis\",\"Tommen\",\"Val\",\"Varys\",\"Walder\",\"Mance\",\"Janos\",\"Jon\",\"Janos\",\"Jon\",\"Craster\",\"Dalla\",\"Gilly\",\"Qhorin\",\"Rattleshirt\",\"Styr\",\"Val\",\"Ygritte\",\"Oberyn\",\"Gregor\",\"Joffrey\",\"Ellaria\",\"Mace\",\"Anguy\",\"Beric\",\"Bran\",\"Brynden\",\"Cersei\",\"Gendry\",\"Gregor\",\"Joffrey\",\"Jon\",\"Rickon\",\"Roose\",\"Sandor\",\"Thoros\",\"Eddard\",\"Robb\",\"Sansa\",\"Beric\",\"Gendry\",\"Thoros\",\"Eddard\",\"Sandor\",\"Hodor\",\"Jojen\",\"Jon\",\"Luwin\",\"Meera\",\"Nan\",\"Rickon\",\"Theon\",\"Catelyn\",\"Eddard\",\"Robb\",\"Sansa\",\"Lothar\",\"Walder\",\"Catelyn\",\"Edmure\",\"Rickard\",\"Robb\",\"Catelyn\",\"Brienne\",\"Bronn\",\"Elia\",\"Gregor\",\"Ilyn\",\"Joffrey\",\"Meryn\",\"Pycelle\",\"Sandor\",\"Shae\",\"Varys\",\"Eddard\",\"Lysa\",\"Sansa\",\"Thoros\",\"Sandor\",\"Bronn\",\"Elia\",\"Ilyn\",\"Meryn\",\"Sandor\",\"Joffrey\",\"Ilyn\",\"Kevan\",\"Loras\",\"Margaery\",\"Meryn\",\"Myrcella\",\"Sandor\",\"Stannis\",\"Tommen\",\"Robb\",\"Sansa\",\"Eddard\",\"Craster\",\"Dalla\",\"Eddison\",\"Gilly\",\"Janos\",\"Meera\",\"Melisandre\",\"Orell\",\"Qhorin\",\"Rattleshirt\",\"Stannis\",\"Styr\",\"Theon\",\"Val\",\"Ygritte\",\"Robb\",\"Sansa\",\"Eddard\",\"Theon\",\"Robb\",\"Sansa\",\"Catelyn\",\"Robb\",\"Brienne\",\"Eddard\",\"Ilyn\",\"Meryn\",\"Thoros\",\"Sansa\",\"Loras\",\"Robb\",\"Stannis\",\"Brienne\",\"Margaery\",\"Olenna\",\"Renly\",\"Sansa\",\"Barristan\",\"Illyrio\",\"Daenerys\",\"Jorah\",\"Daenerys\",\"Jorah\",\"Rhaegar\",\"Jojen\",\"Meera\",\"Robb\",\"Meera\",\"Nan\",\"Robb\",\"Catelyn\",\"Robb\",\"Sansa\",\"Podrick\",\"Margaery\",\"Sansa\",\"Edmure\",\"Roslin\",\"Robb\",\"Walder\",\"Catelyn\",\"Edmure\",\"Robb\",\"Petyr\",\"Roslin\",\"Edmure\",\"Hoster\",\"Jeyne\",\"Lysa\",\"Petyr\",\"Robb\",\"Roslin\",\"Sansa\",\"Stannis\",\"Eddard\",\"Roslin\",\"Hoster\",\"Robb\",\"Lysa\",\"Robb\",\"Jon Arryn\",\"Marillion\",\"Petyr\",\"Robert Arryn\",\"Sansa\",\"Robb\",\"Sansa\",\"Eddard\",\"Ramsay\",\"Rickard\",\"Sansa\",\"Stannis\",\"Eddard\",\"Kevan\",\"Margaery\",\"Marillion\",\"Myrcella\",\"Olenna\",\"Renly\",\"Robert Arryn\",\"Shae\",\"Davos\",\"Melisandre\",\"Renly\",\"Rhaegar\",\"Meryn\",\"Varys\",\"Chataya\",\"Varys\",\"Kevan\",\"Renly\",\"Karl\",\"Gilly\",\"Drogo\",\"Irri\",\"Daenerys\",\"Jorah\",\"Daenerys\",\"Irri\",\"Jorah\",\"Daenerys\",\"Missandei\",\"Aegon\",\"Jorah\",\"Kraznys\",\"Missandei\",\"Rakharo\",\"Rhaegar\",\"Viserys\",\"Worm\",\"Rhaegar\",\"Viserys\",\"Cressen\",\"Salladhor\",\"Melisandre\",\"Shireen\",\"Margaery\",\"Myrcella\",\"Margaery\",\"Bowen\",\"Lancel\",\"Val\",\"Rattleshirt\",\"Ygritte\",\"Ygritte\",\"Robert Arryn\"],\"start\":[\"Aemon\",\"Aemon\",\"Aemon\",\"Aemon\",\"Aemon\",\"Grenn\",\"Grenn\",\"Grenn\",\"Samwell\",\"Samwell\",\"Samwell\",\"Samwell\",\"Samwell\",\"Samwell\",\"Samwell\",\"Samwell\",\"Samwell\",\"Samwell\",\"Samwell\",\"Samwell\",\"Samwell\",\"Aerys\",\"Aerys\",\"Aerys\",\"Aerys\",\"Jaime\",\"Jaime\",\"Jaime\",\"Jaime\",\"Jaime\",\"Jaime\",\"Jaime\",\"Jaime\",\"Jaime\",\"Jaime\",\"Jaime\",\"Jaime\",\"Jaime\",\"Jaime\",\"Jaime\",\"Jaime\",\"Jaime\",\"Jaime\",\"Jaime\",\"Jaime\",\"Jaime\",\"Jaime\",\"Jaime\",\"Robert\",\"Robert\",\"Robert\",\"Robert\",\"Robert\",\"Robert\",\"Robert\",\"Robert\",\"Robert\",\"Robert\",\"Robert\",\"Robert\",\"Robert\",\"Robert\",\"Robert\",\"Tyrion\",\"Tyrion\",\"Tyrion\",\"Tyrion\",\"Tyrion\",\"Tyrion\",\"Tyrion\",\"Tyrion\",\"Tyrion\",\"Tyrion\",\"Tyrion\",\"Tyrion\",\"Tyrion\",\"Tyrion\",\"Tyrion\",\"Tyrion\",\"Tyrion\",\"Tyrion\",\"Tyrion\",\"Tyrion\",\"Tyrion\",\"Tyrion\",\"Tyrion\",\"Tyrion\",\"Tyrion\",\"Tyrion\",\"Tyrion\",\"Tyrion\",\"Tyrion\",\"Tyrion\",\"Tyrion\",\"Tyrion\",\"Tyrion\",\"Tywin\",\"Tywin\",\"Tywin\",\"Tywin\",\"Tywin\",\"Tywin\",\"Tywin\",\"Tywin\",\"Tywin\",\"Tywin\",\"Tywin\",\"Tywin\",\"Tywin\",\"Tywin\",\"Tywin\",\"Tywin\",\"Tywin\",\"Tywin\",\"Alliser\",\"Alliser\",\"Alliser\",\"Mance\",\"Mance\",\"Mance\",\"Mance\",\"Mance\",\"Mance\",\"Mance\",\"Mance\",\"Mance\",\"Mance\",\"Amory\",\"Oberyn\",\"Oberyn\",\"Oberyn\",\"Oberyn\",\"Arya\",\"Arya\",\"Arya\",\"Arya\",\"Arya\",\"Arya\",\"Arya\",\"Arya\",\"Arya\",\"Arya\",\"Arya\",\"Arya\",\"Arya\",\"Arya\",\"Arya\",\"Arya\",\"Anguy\",\"Beric\",\"Beric\",\"Beric\",\"Beric\",\"Bran\",\"Bran\",\"Bran\",\"Bran\",\"Bran\",\"Bran\",\"Bran\",\"Bran\",\"Bran\",\"Bran\",\"Bran\",\"Bran\",\"Brynden\",\"Brynden\",\"Brynden\",\"Brynden\",\"Brynden\",\"Brynden\",\"Cersei\",\"Cersei\",\"Cersei\",\"Cersei\",\"Cersei\",\"Cersei\",\"Cersei\",\"Cersei\",\"Cersei\",\"Cersei\",\"Cersei\",\"Cersei\",\"Cersei\",\"Cersei\",\"Cersei\",\"Gendry\",\"Gendry\",\"Gregor\",\"Gregor\",\"Gregor\",\"Gregor\",\"Gregor\",\"Gregor\",\"Joffrey\",\"Joffrey\",\"Joffrey\",\"Joffrey\",\"Joffrey\",\"Joffrey\",\"Joffrey\",\"Joffrey\",\"Joffrey\",\"Joffrey\",\"Joffrey\",\"Jon\",\"Jon\",\"Jon\",\"Jon\",\"Jon\",\"Jon\",\"Jon\",\"Jon\",\"Jon\",\"Jon\",\"Jon\",\"Jon\",\"Jon\",\"Jon\",\"Jon\",\"Jon\",\"Jon\",\"Jon\",\"Rickon\",\"Rickon\",\"Rickon\",\"Rickon\",\"Roose\",\"Roose\",\"Roose\",\"Sandor\",\"Sandor\",\"Sandor\",\"Sandor\",\"Sandor\",\"Balon\",\"Balon\",\"Balon\",\"Loras\",\"Loras\",\"Loras\",\"Loras\",\"Loras\",\"Belwas\",\"Belwas\",\"Belwas\",\"Belwas\",\"Barristan\",\"Barristan\",\"Barristan\",\"Hodor\",\"Hodor\",\"Hodor\",\"Jojen\",\"Luwin\",\"Theon\",\"Brienne\",\"Brienne\",\"Brienne\",\"Bronn\",\"Podrick\",\"Podrick\",\"Lothar\",\"Lothar\",\"Lothar\",\"Lothar\",\"Walder\",\"Walder\",\"Walder\",\"Walder\",\"Walder\",\"Catelyn\",\"Catelyn\",\"Catelyn\",\"Catelyn\",\"Catelyn\",\"Catelyn\",\"Catelyn\",\"Catelyn\",\"Catelyn\",\"Catelyn\",\"Edmure\",\"Edmure\",\"Edmure\",\"Hoster\",\"Jeyne\",\"Lysa\",\"Lysa\",\"Lysa\",\"Lysa\",\"Lysa\",\"Petyr\",\"Petyr\",\"Robb\",\"Robb\",\"Robb\",\"Robb\",\"Robb\",\"Sansa\",\"Sansa\",\"Sansa\",\"Sansa\",\"Sansa\",\"Sansa\",\"Sansa\",\"Sansa\",\"Sansa\",\"Stannis\",\"Stannis\",\"Stannis\",\"Elia\",\"Ilyn\",\"Pycelle\",\"Shae\",\"Shae\",\"Varys\",\"Varys\",\"Craster\",\"Craster\",\"Daario\",\"Daario\",\"Daario\",\"Daario\",\"Drogo\",\"Drogo\",\"Drogo\",\"Irri\",\"Irri\",\"Daenerys\",\"Daenerys\",\"Daenerys\",\"Daenerys\",\"Daenerys\",\"Daenerys\",\"Daenerys\",\"Daenerys\",\"Jorah\",\"Rhaegar\",\"Davos\",\"Davos\",\"Davos\",\"Davos\",\"Renly\",\"Tommen\",\"Tommen\",\"Janos\",\"Kevan\",\"Dalla\",\"Qhorin\",\"Qhorin\",\"Rattleshirt\",\"Marillion\"]},\"selected\":{\"id\":\"5725\"},\"selection_policy\":{\"id\":\"5724\"}},\"id\":\"5461\",\"type\":\"ColumnDataSource\"},{\"attributes\":{},\"id\":\"5445\",\"type\":\"WheelZoomTool\"},{\"attributes\":{\"graph_layout\":{\"Aegon\":[8.832399593466219,-3.2165416877505444],\"Aemon\":[-1.7756959559729113,-1.9458667818075681],\"Aerys\":[0.14387497173529323,-0.31884392282224433],\"Alliser\":[-4.931596374763073,-2.0247401762326076],\"Amory\":[-4.125611590074588,5.28770686767092],\"Anguy\":[-2.372451873599689,3.5751715704976026],\"Arya\":[-0.7586304482098712,0.8546179320300114],\"Balon\":[-0.5189049856989533,0.014225432644391146],\"Barristan\":[4.461777533538133,-0.8121772610011982],\"Belwas\":[7.478183101519583,-0.833890227898869],\"Beric\":[-1.5674584919244765,2.5830193366334835],\"Bowen\":[-5.565943884243076,-1.8757584309884459],\"Bran\":[-0.7602243077341324,-1.8256545086089355],\"Brienne\":[1.7123363551219466,0.35109076913437404],\"Bronn\":[-0.6961594711153798,3.4776046261779574],\"Brynden\":[1.2197893192916507,1.8130700400466222],\"Catelyn\":[1.0861309389228688,0.7423486793956919],\"Cersei\":[0.10554257474238285,1.5195916040778763],\"Chataya\":[0.004344454211847532,4.788458088935004],\"Craster\":[-4.633684919163798,-4.256223703970375],\"Cressen\":[-8.404399893895768,2.6901215478703513],\"Daario\":[8.017432551177246,-2.1268585759488103],\"Daenerys\":[6.25139382350104,-1.944699067084803],\"Dalla\":[-4.720791723923662,-1.5310195942882083],\"Davos\":[-6.267082232889577,1.187006772913471],\"Doran\":[-3.1003946121583246,3.483015044558269],\"Drogo\":[8.201089761674776,-1.5752811872935704],\"Eddard\":[-0.7995236260635498,0.1268665137081066],\"Eddison\":[-3.5510379251267676,-4.040741006922051],\"Edmure\":[2.3327383966807402,1.3669855882215507],\"Elia\":[1.444946455849859,0.19297467714417882],\"Ellaria\":[-2.327394653063142,4.282297631279723],\"Gendry\":[-1.295416217735721,3.3364814624190844],\"Gilly\":[-4.177958574811769,-3.6260328212063824],\"Gregor\":[-0.7659795973477853,1.5726968423932097],\"Grenn\":[-2.969810126652516,-3.522894529644146],\"Hodor\":[-0.6148853197392435,-2.747729264856648],\"Hoster\":[3.537952076079227,1.9262072186075325],\"Illyrio\":[10.0,-0.43342983834807786],\"Ilyn\":[-1.7835421694070612,1.9059274426836805],\"Irri\":[8.80751752608341,-1.9698384867649028],\"Jaime\":[0.8028381437705049,0.24794813175745306],\"Janos\":[-3.5478552738430538,-0.9994567961312406],\"Jeyne\":[1.9684283286382251,-1.0393917093632246],\"Joffrey\":[-0.44489509467722926,1.893330058411146],\"Jojen\":[-1.6618028858446319,-3.7551267144603706],\"Jon\":[-2.7289589273631827,-1.8776001622035745],\"Jon Arryn\":[3.153869486485257,-0.22584280203216964],\"Jorah\":[6.561056173602024,-1.345487606342377],\"Karl\":[-6.248242607936713,-6.403268542660389],\"Kevan\":[0.1683347071083526,3.711253877592409],\"Kraznys\":[8.208909589509986,-3.303799861815153],\"Lancel\":[0.6757355061391015,6.657663500706994],\"Loras\":[0.5263195071171703,0.5738735355894955],\"Lothar\":[2.420561226295394,2.1700793032143006],\"Luwin\":[-0.5367641312320562,-4.747368465285173],\"Lysa\":[1.8419123349683102,1.3323879506841458],\"Mace\":[-1.691028926580251,3.4746767342168003],\"Mance\":[-4.41578981335541,-2.5756100493166336],\"Margaery\":[0.47354268232049995,2.2470723042693908],\"Marillion\":[3.137560121234248,1.6928974397545111],\"Meera\":[-1.9726512924571422,-3.260317788879755],\"Melisandre\":[-4.401146128567105,-0.5024095331714978],\"Meryn\":[-1.3080458119489569,1.2131587831482575],\"Missandei\":[9.01620540843718,-2.5090884011916446],\"Myrcella\":[0.8156379872976243,3.164092331206569],\"Nan\":[0.062237281950624015,-4.597609382117273],\"Oberyn\":[-2.115674338130138,3.144018960459],\"Olenna\":[1.2605340571338663,-1.197921178096088],\"Orell\":[-3.5037978981477944,-4.8825363183571735],\"Petyr\":[1.0003534828378744,1.488621521828896],\"Podrick\":[-0.30477036802595636,2.802944346689511],\"Pycelle\":[-1.562707034895736,2.365103077367753],\"Qhorin\":[-4.707413147222177,-3.1336636828358033],\"Qyburn\":[2.1098551063895634,-2.4444376739536033],\"Rakharo\":[7.525043557274077,-4.057460253969218],\"Ramsay\":[-2.7464358969098526,0.5005797822764162],\"Rattleshirt\":[-5.4610837070341605,-2.88804704693165],\"Renly\":[-0.1488406432331064,0.9389365507877531],\"Rhaegar\":[4.085728361489291,-1.0621005853425889],\"Rickard\":[1.9787061521550846,2.8454762504488946],\"Rickon\":[-0.6531851870595808,-0.7827516516416964],\"Robb\":[0.10746905679254434,0.2081162206698194],\"Robert\":[0.9713395489990813,-0.2676613280524363],\"Robert Arryn\":[3.191047632748438,1.1307984347345472],\"Roose\":[1.5259619437716998,0.6697543984407531],\"Roslin\":[3.0943265709904693,2.5448373002640117],\"Salladhor\":[-8.852923659185095,1.3928685856363687],\"Samwell\":[-3.2864738672901224,-2.47957227330363],\"Sandor\":[-0.947082902693853,1.709875681066553],\"Sansa\":[0.34161702733296717,0.9230535173207185],\"Shae\":[0.3252357333221,3.3506589262644604],\"Shireen\":[-8.742886105138062,2.0898645540831464],\"Stannis\":[-1.7976282623019535,0.04914622377055015],\"Styr\":[-4.985553445816848,-3.784633007087484],\"Theon\":[-1.2271914645589241,-1.7430540982394664],\"Thoros\":[-0.3255841980441517,2.290166199889291],\"Tommen\":[0.9887424430566989,2.56618433122431],\"Tyrion\":[-0.3168649812742763,1.7138354369631579],\"Tywin\":[-0.3768528269858478,1.4262532207566179],\"Val\":[-3.200231102413533,-0.6780742635031791],\"Varys\":[-0.3716165928498343,3.052627169655681],\"Viserys\":[3.690668604120151,-0.11456938316310034],\"Walder\":[1.7380790158469248,1.8723926354010727],\"Walton\":[2.7944907279675735,-2.0066514186222224],\"Worm\":[8.18984886458045,-3.9200184768306126],\"Ygritte\":[-5.313088306948016,-3.318281437255095]}},\"id\":\"5464\",\"type\":\"StaticLayoutProvider\"}],\"root_ids\":[\"5427\"]},\"title\":\"Bokeh Application\",\"version\":\"2.4.2\"}};\n",
       "  const render_items = [{\"docid\":\"ad382d60-3479-4969-a432-ad93757367ed\",\"root_ids\":[\"5427\"],\"roots\":{\"5427\":\"9f39d508-23ed-48f1-9817-c2e93b6d089d\"}}];\n",
       "  root.Bokeh.embed.embed_items_notebook(docs_json, render_items);\n",
       "\n",
       "  }\n",
       "  if (root.Bokeh !== undefined) {\n",
       "    embed_document(root);\n",
       "  } else {\n",
       "    let attempts = 0;\n",
       "    const timer = setInterval(function(root) {\n",
       "      if (root.Bokeh !== undefined) {\n",
       "        clearInterval(timer);\n",
       "        embed_document(root);\n",
       "      } else {\n",
       "        attempts++;\n",
       "        if (attempts > 100) {\n",
       "          clearInterval(timer);\n",
       "          console.log(\"Bokeh: ERROR: Unable to run BokehJS code because BokehJS library is missing\");\n",
       "        }\n",
       "      }\n",
       "    }, 10, root)\n",
       "  }\n",
       "})(window);"
      ],
      "application/vnd.bokehjs_exec.v0+json": ""
     },
     "metadata": {
      "application/vnd.bokehjs_exec.v0+json": {
       "id": "5427"
      }
     },
     "output_type": "display_data"
    },
    {
     "data": {
      "text/plain": [
       "'/Users/okara/Onboarding/Jupyter Notebooks and More/Networks-and-viz/networkx_holoviews_pyvis_bokeh_advanced/Game of Thrones Network4.html'"
      ]
     },
     "execution_count": 59,
     "metadata": {},
     "output_type": "execute_result"
    }
   ],
   "source": [
    "from bokeh.models import EdgesAndLinkedNodes, NodesAndLinkedEdges\n",
    "\n",
    "#Choose colors for node and edge highlighting\n",
    "node_highlight_color = 'white'\n",
    "edge_highlight_color = 'black'\n",
    "\n",
    "#Choose attributes from G network to size and color by — setting manual size (e.g. 10) or color (e.g. 'skyblue') also allowed\n",
    "size_by_this_attribute = 'adjusted_node_size'\n",
    "color_by_this_attribute = 'modularity_color'\n",
    "\n",
    "#Pick a color palette — Blues8, Reds8, Purples8, Oranges8, Viridis8\n",
    "color_palette = Blues8\n",
    "\n",
    "#Choose a title!\n",
    "title = 'Game of Thrones Network'\n",
    "\n",
    "#Establish which categories will appear when hovering over each node\n",
    "HOVER_TOOLTIPS = [\n",
    "       (\"Character\", \"@index\"),\n",
    "        (\"Degree\", \"@degree\"),\n",
    "         (\"Modularity Class\", \"@modularity_class\"),\n",
    "        (\"Modularity Color\", \"$color[swatch]:modularity_color\"),\n",
    "]\n",
    "\n",
    "#Create a plot — set dimensions, toolbar, and title\n",
    "plot = figure(tooltips = HOVER_TOOLTIPS,\n",
    "              tools=\"pan,wheel_zoom,save,reset\", active_scroll='wheel_zoom',\n",
    "            x_range=Range1d(-10.1, 10.1), y_range=Range1d(-10.1, 10.1), title=title)\n",
    "\n",
    "#Create a network graph object\n",
    "# https://networkx.github.io/documentation/networkx-1.9/reference/generated/networkx.drawing.layout.spring_layout.html\n",
    "network_graph = from_networkx(G, networkx.spring_layout, scale=10, center=(0, 0))\n",
    "\n",
    "#Set node sizes and colors according to node degree (color as category from attribute)\n",
    "network_graph.node_renderer.glyph = Circle(size=size_by_this_attribute, fill_color=color_by_this_attribute)\n",
    "#Set node highlight colors\n",
    "network_graph.node_renderer.hover_glyph = Circle(size=size_by_this_attribute, fill_color=node_highlight_color, line_width=2)\n",
    "network_graph.node_renderer.selection_glyph = Circle(size=size_by_this_attribute, fill_color=node_highlight_color, line_width=2)\n",
    "\n",
    "#Set edge opacity and width\n",
    "network_graph.edge_renderer.glyph = MultiLine(line_alpha=0.5, line_width=1)\n",
    "#Set edge highlight colors\n",
    "network_graph.edge_renderer.selection_glyph = MultiLine(line_color=edge_highlight_color, line_width=2)\n",
    "network_graph.edge_renderer.hover_glyph = MultiLine(line_color=edge_highlight_color, line_width=2)\n",
    "\n",
    "    #Highlight nodes and edges\n",
    "network_graph.selection_policy = NodesAndLinkedEdges()\n",
    "network_graph.inspection_policy = NodesAndLinkedEdges()\n",
    "\n",
    "plot.renderers.append(network_graph)\n",
    "\n",
    "show(plot)\n",
    "save(plot, filename=f\"{title}4.html\")"
   ]
  },
  {
   "cell_type": "markdown",
   "metadata": {},
   "source": [
    "## Network with Labels"
   ]
  },
  {
   "cell_type": "markdown",
   "metadata": {},
   "source": [
    "The code below shows how to create node labels, which you can read more about in [Bokeh's label documentation](https://docs.bokeh.org/en/latest/docs/user_guide/annotations.html#labels)."
   ]
  },
  {
   "cell_type": "markdown",
   "metadata": {},
   "source": [
    "**Include  LabelSet**"
   ]
  },
  {
   "cell_type": "code",
   "execution_count": 60,
   "metadata": {},
   "outputs": [],
   "source": [
    "from bokeh.io import output_notebook, show, save\n",
    "from bokeh.models import Range1d, Circle, ColumnDataSource, MultiLine, EdgesAndLinkedNodes, NodesAndLinkedEdges, LabelSet\n",
    "from bokeh.plotting import figure\n",
    "from bokeh.plotting import from_networkx\n",
    "from bokeh.palettes import Blues8, Reds8, Purples8, Oranges8, Viridis8, Spectral8\n",
    "from bokeh.transform import linear_cmap\n",
    "from networkx.algorithms import community"
   ]
  },
  {
   "cell_type": "markdown",
   "metadata": {},
   "source": [
    "**Calculate degree for each node and add as node attribute**"
   ]
  },
  {
   "cell_type": "code",
   "execution_count": 61,
   "metadata": {
    "tags": [
     "hide-input"
    ]
   },
   "outputs": [],
   "source": [
    "degrees = dict(networkx.degree(G))\n",
    "networkx.set_node_attributes(G, name='degree', values=degrees)"
   ]
  },
  {
   "cell_type": "markdown",
   "metadata": {},
   "source": [
    "**Slightly adjust degree so that the nodes with very small degrees are still visible**"
   ]
  },
  {
   "cell_type": "code",
   "execution_count": 62,
   "metadata": {
    "tags": [
     "hide-input"
    ]
   },
   "outputs": [],
   "source": [
    "number_to_adjust_by = 5\n",
    "adjusted_node_size = dict([(node, degree+number_to_adjust_by) for node, degree in networkx.degree(G)])\n",
    "networkx.set_node_attributes(G, name='adjusted_node_size', values=adjusted_node_size)"
   ]
  },
  {
   "cell_type": "markdown",
   "metadata": {},
   "source": [
    "**Calculate communities**"
   ]
  },
  {
   "cell_type": "code",
   "execution_count": 63,
   "metadata": {
    "tags": [
     "hide-input"
    ]
   },
   "outputs": [],
   "source": [
    "communities = community.greedy_modularity_communities(G)"
   ]
  },
  {
   "cell_type": "markdown",
   "metadata": {},
   "source": [
    "**Add modularity class and color as attributes to network graph**"
   ]
  },
  {
   "cell_type": "code",
   "execution_count": 64,
   "metadata": {
    "tags": [
     "hide-input"
    ]
   },
   "outputs": [],
   "source": [
    "# Create empty dictionaries\n",
    "modularity_class = {}\n",
    "modularity_color = {}\n",
    "#Loop through each community in the network\n",
    "for community_number, community in enumerate(communities):\n",
    "    #For each member of the community, add their community number and a distinct color\n",
    "    for name in community: \n",
    "        modularity_class[name] = community_number\n",
    "        modularity_color[name] = Spectral8[community_number]"
   ]
  },
  {
   "cell_type": "code",
   "execution_count": 65,
   "metadata": {},
   "outputs": [
    {
     "data": {
      "text/html": [
       "\n",
       "\n",
       "\n",
       "\n",
       "\n",
       "\n",
       "  <div class=\"bk-root\" id=\"1997e581-54cc-4e6f-a189-616ac1b9fe76\" data-root-id=\"6114\"></div>\n"
      ]
     },
     "metadata": {},
     "output_type": "display_data"
    },
    {
     "data": {
      "application/javascript": [
       "(function(root) {\n",
       "  function embed_document(root) {\n",
       "    \n",
       "  const docs_json = {\"5ef70f94-45d4-4f4f-8879-ab9c4e6c7a71\":{\"defs\":[],\"roots\":{\"references\":[{\"attributes\":{\"below\":[{\"id\":\"6123\"}],\"center\":[{\"id\":\"6126\"},{\"id\":\"6130\"}],\"left\":[{\"id\":\"6127\"}],\"renderers\":[{\"id\":\"6142\"},{\"id\":\"6187\"}],\"title\":{\"id\":\"6115\"},\"toolbar\":{\"id\":\"6136\"},\"x_range\":{\"id\":\"6112\"},\"x_scale\":{\"id\":\"6119\"},\"y_range\":{\"id\":\"6113\"},\"y_scale\":{\"id\":\"6121\"}},\"id\":\"6114\",\"subtype\":\"Figure\",\"type\":\"Plot\"},{\"attributes\":{},\"id\":\"6426\",\"type\":\"BasicTickFormatter\"},{\"attributes\":{\"coordinates\":null,\"formatter\":{\"id\":\"6426\"},\"group\":null,\"major_label_policy\":{\"id\":\"6427\"},\"ticker\":{\"id\":\"6128\"}},\"id\":\"6127\",\"type\":\"LinearAxis\"},{\"attributes\":{},\"id\":\"6133\",\"type\":\"SaveTool\"},{\"attributes\":{},\"id\":\"6131\",\"type\":\"PanTool\"},{\"attributes\":{},\"id\":\"6431\",\"type\":\"UnionRenderers\"},{\"attributes\":{},\"id\":\"6435\",\"type\":\"UnionRenderers\"},{\"attributes\":{},\"id\":\"6124\",\"type\":\"BasicTicker\"},{\"attributes\":{},\"id\":\"6432\",\"type\":\"Selection\"},{\"attributes\":{\"fill_color\":{\"value\":\"white\"},\"line_width\":{\"value\":2},\"size\":{\"field\":\"adjusted_node_size\"}},\"id\":\"6162\",\"type\":\"Circle\"},{\"attributes\":{\"end\":10.1,\"start\":-10.1},\"id\":\"6113\",\"type\":\"Range1d\"},{\"attributes\":{\"line_alpha\":{\"value\":0.3}},\"id\":\"6167\",\"type\":\"MultiLine\"},{\"attributes\":{\"data\":{\"name\":[\"Aemon\",\"Grenn\",\"Samwell\",\"Aerys\",\"Jaime\",\"Robert\",\"Tyrion\",\"Tywin\",\"Alliser\",\"Mance\",\"Amory\",\"Oberyn\",\"Arya\",\"Anguy\",\"Beric\",\"Bran\",\"Brynden\",\"Cersei\",\"Gendry\",\"Gregor\",\"Joffrey\",\"Jon\",\"Rickon\",\"Roose\",\"Sandor\",\"Thoros\",\"Balon\",\"Loras\",\"Belwas\",\"Barristan\",\"Illyrio\",\"Hodor\",\"Jojen\",\"Luwin\",\"Meera\",\"Nan\",\"Theon\",\"Brienne\",\"Bronn\",\"Podrick\",\"Lothar\",\"Walder\",\"Catelyn\",\"Edmure\",\"Hoster\",\"Jeyne\",\"Lysa\",\"Petyr\",\"Robb\",\"Roslin\",\"Sansa\",\"Stannis\",\"Elia\",\"Ilyn\",\"Meryn\",\"Pycelle\",\"Shae\",\"Varys\",\"Craster\",\"Karl\",\"Daario\",\"Drogo\",\"Irri\",\"Daenerys\",\"Aegon\",\"Jorah\",\"Kraznys\",\"Missandei\",\"Rakharo\",\"Rhaegar\",\"Viserys\",\"Worm\",\"Davos\",\"Cressen\",\"Salladhor\",\"Eddard\",\"Eddison\",\"Gilly\",\"Qyburn\",\"Renly\",\"Tommen\",\"Janos\",\"Bowen\",\"Kevan\",\"Margaery\",\"Myrcella\",\"Dalla\",\"Melisandre\",\"Orell\",\"Qhorin\",\"Rattleshirt\",\"Styr\",\"Val\",\"Ygritte\",\"Jon Arryn\",\"Lancel\",\"Olenna\",\"Marillion\",\"Robert Arryn\",\"Ellaria\",\"Mace\",\"Rickard\",\"Ramsay\",\"Chataya\",\"Shireen\",\"Doran\",\"Walton\"],\"x\":[2.149957990933844,4.692258624869391,3.6747413983968085,0.6922976319243903,-0.7112943442528726,-0.7432919023042245,0.29490403306039137,0.5088667875085159,3.61872667666835,4.515006897264615,0.08065423427381152,0.22589698709023057,1.7129026170195345,4.8075513735394955,3.5000400871318726,2.1455864373605027,-0.6050609238853955,0.04573564278483546,3.7592505231531654,0.3722941529519926,1.03671581124596,3.274778070820281,1.9187273552059505,0.24297681035896782,1.6127293177891406,2.542186925883358,0.15614649837748149,-0.4198097503479289,-7.415252151535904,-4.5285511851253055,-9.506078540063061,3.6281538684917303,4.843507613609804,1.4144531398303966,4.376466753874159,2.0736332942925277,1.5739990532408994,-0.3439011993825149,1.2566741515979005,1.762764614398767,-2.20030631034044,-1.421289302184604,-0.4324958582310514,-1.925312292590388,-3.052829801486035,-0.6638832588491793,-1.421232066227927,-0.7876708234888039,0.6653613017612613,-2.9380306339179,0.6557856749356609,0.909957398004418,-2.0299553268559594,1.2274504248704008,0.2776532268577181,-0.23349875022402425,-0.5681173786055986,0.5752887765959697,6.052720845975796,8.444972416189005,-8.782079711269267,-8.81753625502342,-9.630378080754841,-6.887316033721429,-9.793651220359608,-7.087886643160095,-9.494174770878708,-10.0,-9.609139460980852,-4.557238628020697,-4.139941436376159,-8.849918943669783,-0.2207606706294365,-0.30181997107320585,-1.0713640573040681,1.4478811195684695,5.694198935728849,5.469579739103014,-3.446081869867471,0.6904088751679305,1.778896252998044,2.6997759893714943,3.322134840540148,2.036974620454702,1.2001342031004019,2.4687942469916764,4.1303833842514015,1.543973980775308,6.731156890524434,4.768978107537681,5.118372185825977,4.417093371582463,3.24024050659078,5.5102059354973765,-2.9237803388949994,3.9497484889753673,-1.5159902059304629,-1.8627288544911667,-1.4965206057641265,-0.8956240851619637,0.8123795264652677,-1.0921761050082741,3.891654083463518,-0.3968484176246147,-1.7401816594351307,1.249868123603393,-2.9316090229580665],\"y\":[-2.0090291929721587,-2.846690347733019,-3.034392663495623,1.0601149575790363,1.8558989243210888,0.29748838339257183,2.621269737889067,2.0161673167636516,-4.251919168452763,-3.767533166397298,8.311322545226481,5.065596283359826,0.9243355203846638,2.042106976329158,1.6528102849869848,-1.478868766864056,-0.29842257530399025,2.472265753594444,2.3560079022568687,3.2229296133952245,2.4852910878023087,-2.275172931965758,-0.4162997040982793,-0.5152711035163964,2.162538891819751,1.4134473816741597,1.0701661230632116,2.7719442864518546,-1.784450376157862,-0.04770076051259444,-3.840107734629481,-0.9023497802953578,-1.7213012822457636,-4.653770324850482,-2.0589047226077466,-4.683313743807636,-2.141073721842295,1.154064121414586,4.624196121645105,3.6585615176387454,-0.3921931445946178,0.6333604933705655,0.39433124255971486,0.4422453867858382,0.4140976182250404,-1.7694599433098663,1.1606909109625274,1.427646444086489,-0.023098902675953287,0.8912619822469295,1.3736304821395426,-0.8566085023335599,2.6293975474229456,3.9097316116820235,3.6090232158033633,4.3570925195734995,4.04818730911581,3.981603958518,-4.336932838046557,-6.145052139563478,-0.42012486570197627,0.2362189761055082,-0.22399745366105484,-0.43446658715132097,0.5970666085004733,-0.046887974405684395,-2.0302451184513646,-0.8189043970394925,-1.406160758560856,0.7639454343490985,1.6486693068469507,-2.412844453541431,-5.868121711847907,-8.765878888824501,-8.667645322954247,0.3875899671581887,-3.0132217806382418,-3.7169040955121497,3.902219708061044,1.826576002490605,3.083689726494468,-2.119523493554963,-4.917319745762585,4.123034708664125,3.2298793234640235,3.143793771971597,-3.509296695206334,-3.77893806296175,-2.712898690195507,-4.473949583812666,-5.07324233634959,-5.31998216523018,-1.3289550449580505,-4.652879320432515,-0.7968903438198024,6.813622739091889,3.7610892395057496,0.029354328034417593,-0.5235410990211987,5.941540782780297,4.972616102492232,-2.265644454359527,0.3508974990269595,5.72516289641482,-8.299415963032367,6.22547975172644,4.574526618599832]},\"selected\":{\"id\":\"6432\"},\"selection_policy\":{\"id\":\"6431\"}},\"id\":\"6186\",\"type\":\"ColumnDataSource\"},{\"attributes\":{\"fill_color\":{\"value\":\"white\"},\"line_width\":{\"value\":2},\"size\":{\"field\":\"adjusted_node_size\"}},\"id\":\"6157\",\"type\":\"Circle\"},{\"attributes\":{},\"id\":\"6119\",\"type\":\"LinearScale\"},{\"attributes\":{},\"id\":\"6436\",\"type\":\"Selection\"},{\"attributes\":{},\"id\":\"6427\",\"type\":\"AllLabels\"},{\"attributes\":{\"coordinates\":null,\"group\":null,\"text\":\"Game of Thrones Network\"},\"id\":\"6115\",\"type\":\"Title\"},{\"attributes\":{\"callback\":null,\"tooltips\":[[\"Character\",\"@index\"],[\"Degree\",\"@degree\"],[\"Modularity Class\",\"@modularity_class\"],[\"Modularity Color\",\"$color[swatch]:modularity_color\"]]},\"id\":\"6135\",\"type\":\"HoverTool\"},{\"attributes\":{\"fill_color\":{\"field\":\"modularity_color\"},\"size\":{\"field\":\"adjusted_node_size\"}},\"id\":\"6152\",\"type\":\"Circle\"},{\"attributes\":{},\"id\":\"6429\",\"type\":\"BasicTickFormatter\"},{\"attributes\":{\"source\":{\"id\":\"6144\"}},\"id\":\"6146\",\"type\":\"CDSView\"},{\"attributes\":{\"line_width\":{\"value\":2}},\"id\":\"6172\",\"type\":\"MultiLine\"},{\"attributes\":{\"coordinates\":null,\"edge_renderer\":{\"id\":\"6149\"},\"group\":null,\"inspection_policy\":{\"id\":\"6184\"},\"layout_provider\":{\"id\":\"6151\"},\"node_renderer\":{\"id\":\"6145\"},\"selection_policy\":{\"id\":\"6182\"}},\"id\":\"6142\",\"type\":\"GraphRenderer\"},{\"attributes\":{\"axis\":{\"id\":\"6123\"},\"coordinates\":null,\"group\":null,\"ticker\":null},\"id\":\"6126\",\"type\":\"Grid\"},{\"attributes\":{},\"id\":\"6430\",\"type\":\"AllLabels\"},{\"attributes\":{},\"id\":\"6128\",\"type\":\"BasicTicker\"},{\"attributes\":{},\"id\":\"6134\",\"type\":\"ResetTool\"},{\"attributes\":{\"data\":{\"Weight\":[5,31,30,4,4,8,25,43,11,11,52,7,5,6,34,12,36,6,10,5,13,18,6,5,8,11,19,36,6,6,4,88,5,4,6,15,16,11,11,7,17,5,8,31,15,10,13,10,4,16,5,10,5,6,6,5,4,5,4,6,5,9,11,5,5,46,54,5,4,12,77,4,31,5,5,5,4,22,5,5,11,6,9,7,5,25,12,28,11,6,4,21,6,18,39,4,4,12,5,4,16,7,13,14,5,6,4,5,5,15,4,4,6,4,5,9,15,4,69,11,8,7,10,9,7,8,12,5,24,4,6,6,11,23,9,6,5,43,7,6,7,8,5,46,18,18,15,22,4,4,21,8,15,96,46,12,4,54,14,35,11,4,15,23,10,4,5,8,7,4,17,4,5,4,4,6,7,23,10,4,6,4,4,6,4,16,7,5,5,9,7,7,12,5,4,8,7,28,5,5,14,10,9,10,35,8,7,6,4,9,8,4,7,6,31,20,9,16,8,12,54,14,4,8,8,15,7,4,4,4,5,4,4,10,6,4,6,4,7,9,5,8,14,18,10,26,13,20,11,5,35,41,5,33,4,11,7,6,5,19,4,8,4,4,10,12,19,9,26,6,6,16,9,10,8,5,43,6,8,4,5,16,9,32,6,18,5,10,29,9,28,5,28,13,4,7,15,4,6,5,36,9,4,7,4,6,8,32,20,15,7,5,4,4,8,5,4,6,17,4,5,14,7,18,7,6,17,4,8,47,10,26,7,12,8,14,5,7,4,16,30,5,7,5,5,5,7,7,6,7,9,4],\"end\":[\"Grenn\",\"Samwell\",\"Jon\",\"Robert\",\"Stannis\",\"Eddison\",\"Jon\",\"Samwell\",\"Bran\",\"Jojen\",\"Jon\",\"Meera\",\"Melisandre\",\"Bowen\",\"Craster\",\"Eddison\",\"Gilly\",\"Janos\",\"Mance\",\"Qhorin\",\"Stannis\",\"Jaime\",\"Robert\",\"Tyrion\",\"Tywin\",\"Arya\",\"Catelyn\",\"Cersei\",\"Eddard\",\"Balon\",\"Barristan\",\"Brienne\",\"Edmure\",\"Elia\",\"Gregor\",\"Joffrey\",\"Loras\",\"Meryn\",\"Qyburn\",\"Renly\",\"Robert\",\"Stannis\",\"Tommen\",\"Tyrion\",\"Robb\",\"Sansa\",\"Tywin\",\"Walton\",\"Arya\",\"Cersei\",\"Daenerys\",\"Eddard\",\"Jon\",\"Jon Arryn\",\"Rhaegar\",\"Barristan\",\"Renly\",\"Stannis\",\"Thoros\",\"Sandor\",\"Sansa\",\"Tyrion\",\"Tywin\",\"Arya\",\"Catelyn\",\"Cersei\",\"Joffrey\",\"Lysa\",\"Myrcella\",\"Robb\",\"Sansa\",\"Balon\",\"Bronn\",\"Chataya\",\"Doran\",\"Elia\",\"Ellaria\",\"Gregor\",\"Ilyn\",\"Janos\",\"Kevan\",\"Loras\",\"Mace\",\"Margaery\",\"Meryn\",\"Oberyn\",\"Petyr\",\"Podrick\",\"Pycelle\",\"Renly\",\"Sandor\",\"Shae\",\"Stannis\",\"Varys\",\"Tywin\",\"Viserys\",\"Lysa\",\"Robb\",\"Balon\",\"Brynden\",\"Cersei\",\"Gregor\",\"Joffrey\",\"Kevan\",\"Mace\",\"Oberyn\",\"Petyr\",\"Podrick\",\"Pycelle\",\"Stannis\",\"Tommen\",\"Val\",\"Varys\",\"Walder\",\"Mance\",\"Janos\",\"Jon\",\"Janos\",\"Jon\",\"Craster\",\"Dalla\",\"Gilly\",\"Qhorin\",\"Rattleshirt\",\"Styr\",\"Val\",\"Ygritte\",\"Oberyn\",\"Gregor\",\"Joffrey\",\"Ellaria\",\"Mace\",\"Anguy\",\"Beric\",\"Bran\",\"Brynden\",\"Cersei\",\"Gendry\",\"Gregor\",\"Joffrey\",\"Jon\",\"Rickon\",\"Roose\",\"Sandor\",\"Thoros\",\"Eddard\",\"Robb\",\"Sansa\",\"Beric\",\"Gendry\",\"Thoros\",\"Eddard\",\"Sandor\",\"Hodor\",\"Jojen\",\"Jon\",\"Luwin\",\"Meera\",\"Nan\",\"Rickon\",\"Theon\",\"Catelyn\",\"Eddard\",\"Robb\",\"Sansa\",\"Lothar\",\"Walder\",\"Catelyn\",\"Edmure\",\"Rickard\",\"Robb\",\"Catelyn\",\"Brienne\",\"Bronn\",\"Elia\",\"Gregor\",\"Ilyn\",\"Joffrey\",\"Meryn\",\"Pycelle\",\"Sandor\",\"Shae\",\"Varys\",\"Eddard\",\"Lysa\",\"Sansa\",\"Thoros\",\"Sandor\",\"Bronn\",\"Elia\",\"Ilyn\",\"Meryn\",\"Sandor\",\"Joffrey\",\"Ilyn\",\"Kevan\",\"Loras\",\"Margaery\",\"Meryn\",\"Myrcella\",\"Sandor\",\"Stannis\",\"Tommen\",\"Robb\",\"Sansa\",\"Eddard\",\"Craster\",\"Dalla\",\"Eddison\",\"Gilly\",\"Janos\",\"Meera\",\"Melisandre\",\"Orell\",\"Qhorin\",\"Rattleshirt\",\"Stannis\",\"Styr\",\"Theon\",\"Val\",\"Ygritte\",\"Robb\",\"Sansa\",\"Eddard\",\"Theon\",\"Robb\",\"Sansa\",\"Catelyn\",\"Robb\",\"Brienne\",\"Eddard\",\"Ilyn\",\"Meryn\",\"Thoros\",\"Sansa\",\"Loras\",\"Robb\",\"Stannis\",\"Brienne\",\"Margaery\",\"Olenna\",\"Renly\",\"Sansa\",\"Barristan\",\"Illyrio\",\"Daenerys\",\"Jorah\",\"Daenerys\",\"Jorah\",\"Rhaegar\",\"Jojen\",\"Meera\",\"Robb\",\"Meera\",\"Nan\",\"Robb\",\"Catelyn\",\"Robb\",\"Sansa\",\"Podrick\",\"Margaery\",\"Sansa\",\"Edmure\",\"Roslin\",\"Robb\",\"Walder\",\"Catelyn\",\"Edmure\",\"Robb\",\"Petyr\",\"Roslin\",\"Edmure\",\"Hoster\",\"Jeyne\",\"Lysa\",\"Petyr\",\"Robb\",\"Roslin\",\"Sansa\",\"Stannis\",\"Eddard\",\"Roslin\",\"Hoster\",\"Robb\",\"Lysa\",\"Robb\",\"Jon Arryn\",\"Marillion\",\"Petyr\",\"Robert Arryn\",\"Sansa\",\"Robb\",\"Sansa\",\"Eddard\",\"Ramsay\",\"Rickard\",\"Sansa\",\"Stannis\",\"Eddard\",\"Kevan\",\"Margaery\",\"Marillion\",\"Myrcella\",\"Olenna\",\"Renly\",\"Robert Arryn\",\"Shae\",\"Davos\",\"Melisandre\",\"Renly\",\"Rhaegar\",\"Meryn\",\"Varys\",\"Chataya\",\"Varys\",\"Kevan\",\"Renly\",\"Karl\",\"Gilly\",\"Drogo\",\"Irri\",\"Daenerys\",\"Jorah\",\"Daenerys\",\"Irri\",\"Jorah\",\"Daenerys\",\"Missandei\",\"Aegon\",\"Jorah\",\"Kraznys\",\"Missandei\",\"Rakharo\",\"Rhaegar\",\"Viserys\",\"Worm\",\"Rhaegar\",\"Viserys\",\"Cressen\",\"Salladhor\",\"Melisandre\",\"Shireen\",\"Margaery\",\"Myrcella\",\"Margaery\",\"Bowen\",\"Lancel\",\"Val\",\"Rattleshirt\",\"Ygritte\",\"Ygritte\",\"Robert Arryn\"],\"start\":[\"Aemon\",\"Aemon\",\"Aemon\",\"Aemon\",\"Aemon\",\"Grenn\",\"Grenn\",\"Grenn\",\"Samwell\",\"Samwell\",\"Samwell\",\"Samwell\",\"Samwell\",\"Samwell\",\"Samwell\",\"Samwell\",\"Samwell\",\"Samwell\",\"Samwell\",\"Samwell\",\"Samwell\",\"Aerys\",\"Aerys\",\"Aerys\",\"Aerys\",\"Jaime\",\"Jaime\",\"Jaime\",\"Jaime\",\"Jaime\",\"Jaime\",\"Jaime\",\"Jaime\",\"Jaime\",\"Jaime\",\"Jaime\",\"Jaime\",\"Jaime\",\"Jaime\",\"Jaime\",\"Jaime\",\"Jaime\",\"Jaime\",\"Jaime\",\"Jaime\",\"Jaime\",\"Jaime\",\"Jaime\",\"Robert\",\"Robert\",\"Robert\",\"Robert\",\"Robert\",\"Robert\",\"Robert\",\"Robert\",\"Robert\",\"Robert\",\"Robert\",\"Robert\",\"Robert\",\"Robert\",\"Robert\",\"Tyrion\",\"Tyrion\",\"Tyrion\",\"Tyrion\",\"Tyrion\",\"Tyrion\",\"Tyrion\",\"Tyrion\",\"Tyrion\",\"Tyrion\",\"Tyrion\",\"Tyrion\",\"Tyrion\",\"Tyrion\",\"Tyrion\",\"Tyrion\",\"Tyrion\",\"Tyrion\",\"Tyrion\",\"Tyrion\",\"Tyrion\",\"Tyrion\",\"Tyrion\",\"Tyrion\",\"Tyrion\",\"Tyrion\",\"Tyrion\",\"Tyrion\",\"Tyrion\",\"Tyrion\",\"Tyrion\",\"Tyrion\",\"Tyrion\",\"Tywin\",\"Tywin\",\"Tywin\",\"Tywin\",\"Tywin\",\"Tywin\",\"Tywin\",\"Tywin\",\"Tywin\",\"Tywin\",\"Tywin\",\"Tywin\",\"Tywin\",\"Tywin\",\"Tywin\",\"Tywin\",\"Tywin\",\"Tywin\",\"Alliser\",\"Alliser\",\"Alliser\",\"Mance\",\"Mance\",\"Mance\",\"Mance\",\"Mance\",\"Mance\",\"Mance\",\"Mance\",\"Mance\",\"Mance\",\"Amory\",\"Oberyn\",\"Oberyn\",\"Oberyn\",\"Oberyn\",\"Arya\",\"Arya\",\"Arya\",\"Arya\",\"Arya\",\"Arya\",\"Arya\",\"Arya\",\"Arya\",\"Arya\",\"Arya\",\"Arya\",\"Arya\",\"Arya\",\"Arya\",\"Arya\",\"Anguy\",\"Beric\",\"Beric\",\"Beric\",\"Beric\",\"Bran\",\"Bran\",\"Bran\",\"Bran\",\"Bran\",\"Bran\",\"Bran\",\"Bran\",\"Bran\",\"Bran\",\"Bran\",\"Bran\",\"Brynden\",\"Brynden\",\"Brynden\",\"Brynden\",\"Brynden\",\"Brynden\",\"Cersei\",\"Cersei\",\"Cersei\",\"Cersei\",\"Cersei\",\"Cersei\",\"Cersei\",\"Cersei\",\"Cersei\",\"Cersei\",\"Cersei\",\"Cersei\",\"Cersei\",\"Cersei\",\"Cersei\",\"Gendry\",\"Gendry\",\"Gregor\",\"Gregor\",\"Gregor\",\"Gregor\",\"Gregor\",\"Gregor\",\"Joffrey\",\"Joffrey\",\"Joffrey\",\"Joffrey\",\"Joffrey\",\"Joffrey\",\"Joffrey\",\"Joffrey\",\"Joffrey\",\"Joffrey\",\"Joffrey\",\"Jon\",\"Jon\",\"Jon\",\"Jon\",\"Jon\",\"Jon\",\"Jon\",\"Jon\",\"Jon\",\"Jon\",\"Jon\",\"Jon\",\"Jon\",\"Jon\",\"Jon\",\"Jon\",\"Jon\",\"Jon\",\"Rickon\",\"Rickon\",\"Rickon\",\"Rickon\",\"Roose\",\"Roose\",\"Roose\",\"Sandor\",\"Sandor\",\"Sandor\",\"Sandor\",\"Sandor\",\"Balon\",\"Balon\",\"Balon\",\"Loras\",\"Loras\",\"Loras\",\"Loras\",\"Loras\",\"Belwas\",\"Belwas\",\"Belwas\",\"Belwas\",\"Barristan\",\"Barristan\",\"Barristan\",\"Hodor\",\"Hodor\",\"Hodor\",\"Jojen\",\"Luwin\",\"Theon\",\"Brienne\",\"Brienne\",\"Brienne\",\"Bronn\",\"Podrick\",\"Podrick\",\"Lothar\",\"Lothar\",\"Lothar\",\"Lothar\",\"Walder\",\"Walder\",\"Walder\",\"Walder\",\"Walder\",\"Catelyn\",\"Catelyn\",\"Catelyn\",\"Catelyn\",\"Catelyn\",\"Catelyn\",\"Catelyn\",\"Catelyn\",\"Catelyn\",\"Catelyn\",\"Edmure\",\"Edmure\",\"Edmure\",\"Hoster\",\"Jeyne\",\"Lysa\",\"Lysa\",\"Lysa\",\"Lysa\",\"Lysa\",\"Petyr\",\"Petyr\",\"Robb\",\"Robb\",\"Robb\",\"Robb\",\"Robb\",\"Sansa\",\"Sansa\",\"Sansa\",\"Sansa\",\"Sansa\",\"Sansa\",\"Sansa\",\"Sansa\",\"Sansa\",\"Stannis\",\"Stannis\",\"Stannis\",\"Elia\",\"Ilyn\",\"Pycelle\",\"Shae\",\"Shae\",\"Varys\",\"Varys\",\"Craster\",\"Craster\",\"Daario\",\"Daario\",\"Daario\",\"Daario\",\"Drogo\",\"Drogo\",\"Drogo\",\"Irri\",\"Irri\",\"Daenerys\",\"Daenerys\",\"Daenerys\",\"Daenerys\",\"Daenerys\",\"Daenerys\",\"Daenerys\",\"Daenerys\",\"Jorah\",\"Rhaegar\",\"Davos\",\"Davos\",\"Davos\",\"Davos\",\"Renly\",\"Tommen\",\"Tommen\",\"Janos\",\"Kevan\",\"Dalla\",\"Qhorin\",\"Qhorin\",\"Rattleshirt\",\"Marillion\"]},\"selected\":{\"id\":\"6436\"},\"selection_policy\":{\"id\":\"6435\"}},\"id\":\"6148\",\"type\":\"ColumnDataSource\"},{\"attributes\":{\"coordinates\":null,\"data_source\":{\"id\":\"6144\"},\"glyph\":{\"id\":\"6152\"},\"group\":null,\"hover_glyph\":{\"id\":\"6157\"},\"selection_glyph\":{\"id\":\"6162\"},\"view\":{\"id\":\"6146\"}},\"id\":\"6145\",\"type\":\"GlyphRenderer\"},{\"attributes\":{\"line_width\":{\"value\":2}},\"id\":\"6177\",\"type\":\"MultiLine\"},{\"attributes\":{},\"id\":\"6433\",\"type\":\"UnionRenderers\"},{\"attributes\":{\"source\":{\"id\":\"6148\"}},\"id\":\"6150\",\"type\":\"CDSView\"},{\"attributes\":{\"graph_layout\":{\"Aegon\":[-9.793651220359608,0.5970666085004733],\"Aemon\":[2.149957990933844,-2.0090291929721587],\"Aerys\":[0.6922976319243903,1.0601149575790363],\"Alliser\":[3.61872667666835,-4.251919168452763],\"Amory\":[0.08065423427381152,8.311322545226481],\"Anguy\":[4.8075513735394955,2.042106976329158],\"Arya\":[1.7129026170195345,0.9243355203846638],\"Balon\":[0.15614649837748149,1.0701661230632116],\"Barristan\":[-4.5285511851253055,-0.04770076051259444],\"Belwas\":[-7.415252151535904,-1.784450376157862],\"Beric\":[3.5000400871318726,1.6528102849869848],\"Bowen\":[3.322134840540148,-4.917319745762585],\"Bran\":[2.1455864373605027,-1.478868766864056],\"Brienne\":[-0.3439011993825149,1.154064121414586],\"Bronn\":[1.2566741515979005,4.624196121645105],\"Brynden\":[-0.6050609238853955,-0.29842257530399025],\"Catelyn\":[-0.4324958582310514,0.39433124255971486],\"Cersei\":[0.04573564278483546,2.472265753594444],\"Chataya\":[-0.3968484176246147,5.72516289641482],\"Craster\":[6.052720845975796,-4.336932838046557],\"Cressen\":[-0.30181997107320585,-8.765878888824501],\"Daario\":[-8.782079711269267,-0.42012486570197627],\"Daenerys\":[-6.887316033721429,-0.43446658715132097],\"Dalla\":[4.1303833842514015,-3.509296695206334],\"Davos\":[-0.2207606706294365,-5.868121711847907],\"Doran\":[1.249868123603393,6.22547975172644],\"Drogo\":[-8.81753625502342,0.2362189761055082],\"Eddard\":[1.4478811195684695,0.3875899671581887],\"Eddison\":[5.694198935728849,-3.0132217806382418],\"Edmure\":[-1.925312292590388,0.4422453867858382],\"Elia\":[-2.0299553268559594,2.6293975474229456],\"Ellaria\":[-0.8956240851619637,5.941540782780297],\"Gendry\":[3.7592505231531654,2.3560079022568687],\"Gilly\":[5.469579739103014,-3.7169040955121497],\"Gregor\":[0.3722941529519926,3.2229296133952245],\"Grenn\":[4.692258624869391,-2.846690347733019],\"Hodor\":[3.6281538684917303,-0.9023497802953578],\"Hoster\":[-3.052829801486035,0.4140976182250404],\"Illyrio\":[-9.506078540063061,-3.840107734629481],\"Ilyn\":[1.2274504248704008,3.9097316116820235],\"Irri\":[-9.630378080754841,-0.22399745366105484],\"Jaime\":[-0.7112943442528726,1.8558989243210888],\"Janos\":[2.6997759893714943,-2.119523493554963],\"Jeyne\":[-0.6638832588491793,-1.7694599433098663],\"Joffrey\":[1.03671581124596,2.4852910878023087],\"Jojen\":[4.843507613609804,-1.7213012822457636],\"Jon\":[3.274778070820281,-2.275172931965758],\"Jon Arryn\":[-2.9237803388949994,-0.7968903438198024],\"Jorah\":[-7.087886643160095,-0.046887974405684395],\"Karl\":[8.444972416189005,-6.145052139563478],\"Kevan\":[2.036974620454702,4.123034708664125],\"Kraznys\":[-9.494174770878708,-2.0302451184513646],\"Lancel\":[3.9497484889753673,6.813622739091889],\"Loras\":[-0.4198097503479289,2.7719442864518546],\"Lothar\":[-2.20030631034044,-0.3921931445946178],\"Luwin\":[1.4144531398303966,-4.653770324850482],\"Lysa\":[-1.421232066227927,1.1606909109625274],\"Mace\":[0.8123795264652677,4.972616102492232],\"Mance\":[4.515006897264615,-3.767533166397298],\"Margaery\":[1.2001342031004019,3.2298793234640235],\"Marillion\":[-1.8627288544911667,0.029354328034417593],\"Meera\":[4.376466753874159,-2.0589047226077466],\"Melisandre\":[1.543973980775308,-3.77893806296175],\"Meryn\":[0.2776532268577181,3.6090232158033633],\"Missandei\":[-10.0,-0.8189043970394925],\"Myrcella\":[2.4687942469916764,3.143793771971597],\"Nan\":[2.0736332942925277,-4.683313743807636],\"Oberyn\":[0.22589698709023057,5.065596283359826],\"Olenna\":[-1.5159902059304629,3.7610892395057496],\"Orell\":[6.731156890524434,-2.712898690195507],\"Petyr\":[-0.7876708234888039,1.427646444086489],\"Podrick\":[1.762764614398767,3.6585615176387454],\"Pycelle\":[-0.23349875022402425,4.3570925195734995],\"Qhorin\":[4.768978107537681,-4.473949583812666],\"Qyburn\":[-3.446081869867471,3.902219708061044],\"Rakharo\":[-9.609139460980852,-1.406160758560856],\"Ramsay\":[3.891654083463518,0.3508974990269595],\"Rattleshirt\":[5.118372185825977,-5.07324233634959],\"Renly\":[0.6904088751679305,1.826576002490605],\"Rhaegar\":[-4.557238628020697,0.7639454343490985],\"Rickard\":[-1.0921761050082741,-2.265644454359527],\"Rickon\":[1.9187273552059505,-0.4162997040982793],\"Robb\":[0.6653613017612613,-0.023098902675953287],\"Robert\":[-0.7432919023042245,0.29748838339257183],\"Robert Arryn\":[-1.4965206057641265,-0.5235410990211987],\"Roose\":[0.24297681035896782,-0.5152711035163964],\"Roslin\":[-2.9380306339179,0.8912619822469295],\"Salladhor\":[-1.0713640573040681,-8.667645322954247],\"Samwell\":[3.6747413983968085,-3.034392663495623],\"Sandor\":[1.6127293177891406,2.162538891819751],\"Sansa\":[0.6557856749356609,1.3736304821395426],\"Shae\":[-0.5681173786055986,4.04818730911581],\"Shireen\":[-1.7401816594351307,-8.299415963032367],\"Stannis\":[0.909957398004418,-0.8566085023335599],\"Styr\":[4.417093371582463,-5.31998216523018],\"Theon\":[1.5739990532408994,-2.141073721842295],\"Thoros\":[2.542186925883358,1.4134473816741597],\"Tommen\":[1.778896252998044,3.083689726494468],\"Tyrion\":[0.29490403306039137,2.621269737889067],\"Tywin\":[0.5088667875085159,2.0161673167636516],\"Val\":[3.24024050659078,-1.3289550449580505],\"Varys\":[0.5752887765959697,3.981603958518],\"Viserys\":[-4.139941436376159,1.6486693068469507],\"Walder\":[-1.421289302184604,0.6333604933705655],\"Walton\":[-2.9316090229580665,4.574526618599832],\"Worm\":[-8.849918943669783,-2.412844453541431],\"Ygritte\":[5.5102059354973765,-4.652879320432515]}},\"id\":\"6151\",\"type\":\"StaticLayoutProvider\"},{\"attributes\":{},\"id\":\"6434\",\"type\":\"Selection\"},{\"attributes\":{},\"id\":\"6121\",\"type\":\"LinearScale\"},{\"attributes\":{\"active_scroll\":{\"id\":\"6132\"},\"tools\":[{\"id\":\"6131\"},{\"id\":\"6132\"},{\"id\":\"6133\"},{\"id\":\"6134\"},{\"id\":\"6135\"}]},\"id\":\"6136\",\"type\":\"Toolbar\"},{\"attributes\":{\"data\":{\"adjusted_node_size\":[10,9,20,9,29,23,41,27,8,17,6,12,24,7,11,19,13,25,9,17,23,31,11,9,18,10,11,14,9,11,6,9,9,7,10,7,9,12,9,10,10,13,23,13,8,7,15,12,30,9,31,19,10,11,12,9,10,12,10,6,9,9,9,19,6,11,6,7,6,11,8,6,10,6,6,17,8,9,6,13,10,11,7,11,12,9,8,9,6,10,9,7,9,9,7,6,7,8,8,7,8,7,6,7,6,6,6],\"degree\":[5,4,15,4,24,18,36,22,3,12,1,7,19,2,6,14,8,20,4,12,18,26,6,4,13,5,6,9,4,6,1,4,4,2,5,2,4,7,4,5,5,8,18,8,3,2,10,7,25,4,26,14,5,6,7,4,5,7,5,1,4,4,4,14,1,6,1,2,1,6,3,1,5,1,1,12,3,4,1,8,5,6,2,6,7,4,3,4,1,5,4,2,4,4,2,1,2,3,3,2,3,2,1,2,1,1,1],\"index\":[\"Aemon\",\"Grenn\",\"Samwell\",\"Aerys\",\"Jaime\",\"Robert\",\"Tyrion\",\"Tywin\",\"Alliser\",\"Mance\",\"Amory\",\"Oberyn\",\"Arya\",\"Anguy\",\"Beric\",\"Bran\",\"Brynden\",\"Cersei\",\"Gendry\",\"Gregor\",\"Joffrey\",\"Jon\",\"Rickon\",\"Roose\",\"Sandor\",\"Thoros\",\"Balon\",\"Loras\",\"Belwas\",\"Barristan\",\"Illyrio\",\"Hodor\",\"Jojen\",\"Luwin\",\"Meera\",\"Nan\",\"Theon\",\"Brienne\",\"Bronn\",\"Podrick\",\"Lothar\",\"Walder\",\"Catelyn\",\"Edmure\",\"Hoster\",\"Jeyne\",\"Lysa\",\"Petyr\",\"Robb\",\"Roslin\",\"Sansa\",\"Stannis\",\"Elia\",\"Ilyn\",\"Meryn\",\"Pycelle\",\"Shae\",\"Varys\",\"Craster\",\"Karl\",\"Daario\",\"Drogo\",\"Irri\",\"Daenerys\",\"Aegon\",\"Jorah\",\"Kraznys\",\"Missandei\",\"Rakharo\",\"Rhaegar\",\"Viserys\",\"Worm\",\"Davos\",\"Cressen\",\"Salladhor\",\"Eddard\",\"Eddison\",\"Gilly\",\"Qyburn\",\"Renly\",\"Tommen\",\"Janos\",\"Bowen\",\"Kevan\",\"Margaery\",\"Myrcella\",\"Dalla\",\"Melisandre\",\"Orell\",\"Qhorin\",\"Rattleshirt\",\"Styr\",\"Val\",\"Ygritte\",\"Jon Arryn\",\"Lancel\",\"Olenna\",\"Marillion\",\"Robert Arryn\",\"Ellaria\",\"Mace\",\"Rickard\",\"Ramsay\",\"Chataya\",\"Shireen\",\"Doran\",\"Walton\"],\"modularity_class\":[1,1,1,0,0,3,0,0,1,1,0,0,2,4,4,2,2,2,4,0,0,1,2,2,0,4,0,0,3,3,3,1,1,2,1,2,2,2,0,0,2,2,2,2,2,2,2,2,2,2,2,1,0,0,0,0,0,0,1,1,3,3,3,3,3,3,3,3,3,3,3,3,1,1,1,2,1,1,0,0,0,1,1,0,0,0,1,1,1,1,1,1,1,1,3,0,0,2,2,0,0,2,2,0,1,0,0],\"modularity_color\":[\"#66c2a5\",\"#66c2a5\",\"#66c2a5\",\"#3288bd\",\"#3288bd\",\"#e6f598\",\"#3288bd\",\"#3288bd\",\"#66c2a5\",\"#66c2a5\",\"#3288bd\",\"#3288bd\",\"#abdda4\",\"#fee08b\",\"#fee08b\",\"#abdda4\",\"#abdda4\",\"#abdda4\",\"#fee08b\",\"#3288bd\",\"#3288bd\",\"#66c2a5\",\"#abdda4\",\"#abdda4\",\"#3288bd\",\"#fee08b\",\"#3288bd\",\"#3288bd\",\"#e6f598\",\"#e6f598\",\"#e6f598\",\"#66c2a5\",\"#66c2a5\",\"#abdda4\",\"#66c2a5\",\"#abdda4\",\"#abdda4\",\"#abdda4\",\"#3288bd\",\"#3288bd\",\"#abdda4\",\"#abdda4\",\"#abdda4\",\"#abdda4\",\"#abdda4\",\"#abdda4\",\"#abdda4\",\"#abdda4\",\"#abdda4\",\"#abdda4\",\"#abdda4\",\"#66c2a5\",\"#3288bd\",\"#3288bd\",\"#3288bd\",\"#3288bd\",\"#3288bd\",\"#3288bd\",\"#66c2a5\",\"#66c2a5\",\"#e6f598\",\"#e6f598\",\"#e6f598\",\"#e6f598\",\"#e6f598\",\"#e6f598\",\"#e6f598\",\"#e6f598\",\"#e6f598\",\"#e6f598\",\"#e6f598\",\"#e6f598\",\"#66c2a5\",\"#66c2a5\",\"#66c2a5\",\"#abdda4\",\"#66c2a5\",\"#66c2a5\",\"#3288bd\",\"#3288bd\",\"#3288bd\",\"#66c2a5\",\"#66c2a5\",\"#3288bd\",\"#3288bd\",\"#3288bd\",\"#66c2a5\",\"#66c2a5\",\"#66c2a5\",\"#66c2a5\",\"#66c2a5\",\"#66c2a5\",\"#66c2a5\",\"#66c2a5\",\"#e6f598\",\"#3288bd\",\"#3288bd\",\"#abdda4\",\"#abdda4\",\"#3288bd\",\"#3288bd\",\"#abdda4\",\"#abdda4\",\"#3288bd\",\"#66c2a5\",\"#3288bd\",\"#3288bd\"]},\"selected\":{\"id\":\"6434\"},\"selection_policy\":{\"id\":\"6433\"}},\"id\":\"6144\",\"type\":\"ColumnDataSource\"},{\"attributes\":{\"coordinates\":null,\"data_source\":{\"id\":\"6148\"},\"glyph\":{\"id\":\"6167\"},\"group\":null,\"hover_glyph\":{\"id\":\"6177\"},\"selection_glyph\":{\"id\":\"6172\"},\"view\":{\"id\":\"6150\"}},\"id\":\"6149\",\"type\":\"GlyphRenderer\"},{\"attributes\":{},\"id\":\"6184\",\"type\":\"NodesAndLinkedEdges\"},{\"attributes\":{},\"id\":\"6132\",\"type\":\"WheelZoomTool\"},{\"attributes\":{\"axis\":{\"id\":\"6127\"},\"coordinates\":null,\"dimension\":1,\"group\":null,\"ticker\":null},\"id\":\"6130\",\"type\":\"Grid\"},{\"attributes\":{\"end\":10.1,\"start\":-10.1},\"id\":\"6112\",\"type\":\"Range1d\"},{\"attributes\":{\"coordinates\":null,\"formatter\":{\"id\":\"6429\"},\"group\":null,\"major_label_policy\":{\"id\":\"6430\"},\"ticker\":{\"id\":\"6124\"}},\"id\":\"6123\",\"type\":\"LinearAxis\"},{\"attributes\":{\"background_fill_alpha\":{\"value\":0.7},\"background_fill_color\":{\"value\":\"white\"},\"coordinates\":null,\"group\":null,\"source\":{\"id\":\"6186\"},\"text\":{\"field\":\"name\"},\"text_font_size\":{\"value\":\"10px\"},\"x\":{\"field\":\"x\"},\"y\":{\"field\":\"y\"}},\"id\":\"6187\",\"type\":\"LabelSet\"},{\"attributes\":{},\"id\":\"6182\",\"type\":\"NodesAndLinkedEdges\"}],\"root_ids\":[\"6114\"]},\"title\":\"Bokeh Application\",\"version\":\"2.4.2\"}};\n",
       "  const render_items = [{\"docid\":\"5ef70f94-45d4-4f4f-8879-ab9c4e6c7a71\",\"root_ids\":[\"6114\"],\"roots\":{\"6114\":\"1997e581-54cc-4e6f-a189-616ac1b9fe76\"}}];\n",
       "  root.Bokeh.embed.embed_items_notebook(docs_json, render_items);\n",
       "\n",
       "  }\n",
       "  if (root.Bokeh !== undefined) {\n",
       "    embed_document(root);\n",
       "  } else {\n",
       "    let attempts = 0;\n",
       "    const timer = setInterval(function(root) {\n",
       "      if (root.Bokeh !== undefined) {\n",
       "        clearInterval(timer);\n",
       "        embed_document(root);\n",
       "      } else {\n",
       "        attempts++;\n",
       "        if (attempts > 100) {\n",
       "          clearInterval(timer);\n",
       "          console.log(\"Bokeh: ERROR: Unable to run BokehJS code because BokehJS library is missing\");\n",
       "        }\n",
       "      }\n",
       "    }, 10, root)\n",
       "  }\n",
       "})(window);"
      ],
      "application/vnd.bokehjs_exec.v0+json": ""
     },
     "metadata": {
      "application/vnd.bokehjs_exec.v0+json": {
       "id": "6114"
      }
     },
     "output_type": "display_data"
    },
    {
     "data": {
      "text/plain": [
       "'/Users/okara/Onboarding/Jupyter Notebooks and More/Networks-and-viz/networkx_holoviews_pyvis_bokeh_advanced/Game of Thrones Network5.html'"
      ]
     },
     "execution_count": 65,
     "metadata": {},
     "output_type": "execute_result"
    }
   ],
   "source": [
    "#Choose colors for node and edge highlighting\n",
    "node_highlight_color = 'white'\n",
    "edge_highlight_color = 'black'\n",
    "\n",
    "#Choose attributes from G network to size and color by — setting manual size (e.g. 10) or color (e.g. 'skyblue') also allowed\n",
    "size_by_this_attribute = 'adjusted_node_size'\n",
    "color_by_this_attribute = 'modularity_color'\n",
    "\n",
    "#Pick a color palette — Blues8, Reds8, Purples8, Oranges8, Viridis8\n",
    "color_palette = Blues8\n",
    "\n",
    "#Choose a title!\n",
    "title = 'Game of Thrones Network'\n",
    "\n",
    "#Establish which categories will appear when hovering over each node\n",
    "HOVER_TOOLTIPS = [\n",
    "       (\"Character\", \"@index\"),\n",
    "        (\"Degree\", \"@degree\"),\n",
    "         (\"Modularity Class\", \"@modularity_class\"),\n",
    "        (\"Modularity Color\", \"$color[swatch]:modularity_color\"),\n",
    "]\n",
    "\n",
    "#Create a plot — set dimensions, toolbar, and title\n",
    "plot = figure(tooltips = HOVER_TOOLTIPS,\n",
    "              tools=\"pan,wheel_zoom,save,reset\", active_scroll='wheel_zoom',\n",
    "            x_range=Range1d(-10.1, 10.1), y_range=Range1d(-10.1, 10.1), title=title)\n",
    "\n",
    "#Create a network graph object\n",
    "# https://networkx.github.io/documentation/networkx-1.9/reference/generated/networkx.drawing.layout.spring_layout.html\n",
    "network_graph = from_networkx(G, networkx.spring_layout, scale=10, center=(0, 0))\n",
    "\n",
    "#Set node sizes and colors according to node degree (color as category from attribute)\n",
    "network_graph.node_renderer.glyph = Circle(size=size_by_this_attribute, fill_color=color_by_this_attribute)\n",
    "#Set node highlight colors\n",
    "network_graph.node_renderer.hover_glyph = Circle(size=size_by_this_attribute, fill_color=node_highlight_color, line_width=2)\n",
    "network_graph.node_renderer.selection_glyph = Circle(size=size_by_this_attribute, fill_color=node_highlight_color, line_width=2)\n",
    "\n",
    "#Set edge opacity and width\n",
    "network_graph.edge_renderer.glyph = MultiLine(line_alpha=0.3, line_width=1)\n",
    "#Set edge highlight colors\n",
    "network_graph.edge_renderer.selection_glyph = MultiLine(line_color=edge_highlight_color, line_width=2)\n",
    "network_graph.edge_renderer.hover_glyph = MultiLine(line_color=edge_highlight_color, line_width=2)\n",
    "\n",
    "#Highlight nodes and edges\n",
    "network_graph.selection_policy = NodesAndLinkedEdges()\n",
    "network_graph.inspection_policy = NodesAndLinkedEdges()\n",
    "\n",
    "plot.renderers.append(network_graph)\n",
    "\n",
    "#Add Labels\n",
    "x, y = zip(*network_graph.layout_provider.graph_layout.values())\n",
    "node_labels = list(G.nodes())\n",
    "source = ColumnDataSource({'x': x, 'y': y, 'name': [node_labels[i] for i in range(len(x))]})\n",
    "labels = LabelSet(x='x', y='y', text='name', source=source, background_fill_color='white', text_font_size='10px', background_fill_alpha=.7)\n",
    "plot.renderers.append(labels)\n",
    "\n",
    "show(plot)\n",
    "save(plot, filename=f\"{title}5.html\")"
   ]
  },
  {
   "cell_type": "code",
   "execution_count": null,
   "metadata": {},
   "outputs": [],
   "source": []
  },
  {
   "cell_type": "code",
   "execution_count": null,
   "metadata": {},
   "outputs": [],
   "source": []
  },
  {
   "cell_type": "code",
   "execution_count": null,
   "metadata": {},
   "outputs": [],
   "source": []
  },
  {
   "cell_type": "code",
   "execution_count": null,
   "metadata": {},
   "outputs": [],
   "source": []
  }
 ],
 "metadata": {
  "kernelspec": {
   "display_name": "Python 3 (ipykernel)",
   "language": "python",
   "name": "python3"
  },
  "language_info": {
   "codemirror_mode": {
    "name": "ipython",
    "version": 3
   },
   "file_extension": ".py",
   "mimetype": "text/x-python",
   "name": "python",
   "nbconvert_exporter": "python",
   "pygments_lexer": "ipython3",
   "version": "3.9.9"
  }
 },
 "nbformat": 4,
 "nbformat_minor": 4
}
