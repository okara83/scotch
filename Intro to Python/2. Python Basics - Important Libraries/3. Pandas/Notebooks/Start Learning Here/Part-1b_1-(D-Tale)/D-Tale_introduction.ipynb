{
 "cells": [
  {
   "cell_type": "code",
   "execution_count": 3,
   "id": "061d9c14",
   "metadata": {},
   "outputs": [],
   "source": [
    "import dtale\n",
    "import pandas as pd"
   ]
  },
  {
   "cell_type": "code",
   "execution_count": 9,
   "id": "fbc16931",
   "metadata": {},
   "outputs": [],
   "source": [
    "df = pd.read_csv('national-history.csv')"
   ]
  },
  {
   "cell_type": "code",
   "execution_count": 10,
   "id": "ea848020",
   "metadata": {},
   "outputs": [
    {
     "data": {
      "text/html": [
       "\n",
       "        <iframe\n",
       "            width=\"100%\"\n",
       "            height=\"475\"\n",
       "            src=\"http://Onurs-MBP.fios-router.home:40000/dtale/iframe/3\"\n",
       "            frameborder=\"0\"\n",
       "            allowfullscreen\n",
       "            \n",
       "        ></iframe>\n",
       "        "
      ],
      "text/plain": [
       "<IPython.lib.display.IFrame at 0x109deb3d0>"
      ]
     },
     "metadata": {},
     "output_type": "display_data"
    },
    {
     "data": {
      "text/plain": []
     },
     "execution_count": 10,
     "metadata": {},
     "output_type": "execute_result"
    }
   ],
   "source": [
    "dtale.show(df)"
   ]
  },
  {
   "cell_type": "markdown",
   "id": "1c5f64b4",
   "metadata": {},
   "source": [
    "Unlike Pandas, you can interact with the dataset and the library without typing code. \n",
    "Also, D-Tale shows more information than Pandas right on the first screen.\n",
    "\n",
    "First, we can scroll down to the right to see more data. In Pandas, this is not as easy and intuitive as D-Tale. Then, in the left-hand corner, you can see the number of columns and rows in the left-hand corner without typing any code. Rovering at the top, you will see the navigation menu."
   ]
  },
  {
   "cell_type": "markdown",
   "id": "64faa7f1",
   "metadata": {},
   "source": [
    "## Opening D-Tale In a separate tab for demonstration purposes"
   ]
  },
  {
   "cell_type": "markdown",
   "id": "c0445619",
   "metadata": {},
   "source": [
    "Another thing about D-Tale is that <b>we don’t need to use it on Jupyter Notebook</b>!!!! So, let’s use D-Tale in a different tab for demonstration purposes. It’s up to you how you want to use it, though. Use the code below.\n"
   ]
  },
  {
   "cell_type": "code",
   "execution_count": 8,
   "id": "a68b247c",
   "metadata": {},
   "outputs": [],
   "source": [
    "dtale.show(df).open_browser()"
   ]
  },
  {
   "cell_type": "markdown",
   "id": "8d12a789",
   "metadata": {},
   "source": [
    "# Data Preparation\n",
    "## Change datatype with one click\n",
    "Changing datatype is not difficult on Pandas, even for beginners, and you shouldn’t have problems changing them for one or two features. However, what if you need to change the datatype of 300+ features? This is not uncommon a professional environment, and typing hundreds of code lines is not the best use of our time for tasks like this. With D-Tale, we can change datatypes within a few clicks.\n",
    "\n",
    "<br>For example, in this dataset, I noticed that the date column is a string. We don’t want that. Let’s change it to DateTime. Just click on the column name, and right below the column name, click on Type Conversion, and select if you want to change inplace or create a new column. Select the datatype, change the date format, and click Apply. That’s it!"
   ]
  },
  {
   "cell_type": "markdown",
   "id": "f5097950",
   "metadata": {},
   "source": [
    "Also, There is a bonus. Before applying the change, you can see the code that will be used. If you are learning Python, that’s a fantastic add-on. There is more. Once the datatype is a DateTime, we can see additional information when clicking on the column name, such as skewness. "
   ]
  },
  {
   "cell_type": "markdown",
   "id": "13b10bf2",
   "metadata": {},
   "source": [
    "## Create a new column with a different format\n",
    "We can also create a new column with a different format. For demonstration purposes, let’s convert the date column into a string. Just click on the column name you want to convert, then click on Type Conversion, click on New Column, choose the new column name, and select the datatype. Done!\n",
    "\n"
   ]
  },
  {
   "cell_type": "markdown",
   "id": "45afade8",
   "metadata": {},
   "source": [
    "## Dropping columns\n",
    "Dropping columns couldn’t be easier. Select the column you want to delete, click on Delete, click on Yes in the pop-up window, and the column is gone. And yeah, typing the code to drop columns is just as easy, but not this easy.\n"
   ]
  },
  {
   "cell_type": "markdown",
   "id": "d820c4fb",
   "metadata": {},
   "source": [
    "## Change the column’s name\n",
    "Renaming columns process: click, rename, save. This easy! Just click on the column’s name, click on Rename, choose the name, and save it. It’s done. This is particularly handy if you need to change the name of dozens of columns.\n",
    "\n",
    "\n"
   ]
  },
  {
   "cell_type": "markdown",
   "id": "dba78423",
   "metadata": {},
   "source": [
    "## Data Transformation\n",
    "### Filtering data\n",
    "Filtering data is extremely easy. Click on the column you want to filter. At the bottom, you will see the filtering options. You can filter any datatype. D-Tale has filtering options such as equals, greater/smaller than, different than, etc. "
   ]
  },
  {
   "cell_type": "markdown",
   "id": "729cc090",
   "metadata": {},
   "source": [
    "# Merging data\n",
    "To merge two dataframes, click on the ▶ icon at the top left, and a new tab will open. You can upload datasets straight from the UI. Choose the datasets, how you want to join them, and that’s pretty much it. You can also see the code at the bottom if you’re going to use it in another project."
   ]
  },
  {
   "cell_type": "markdown",
   "id": "f8e75db0",
   "metadata": {},
   "source": [
    "### Grouping By\n",
    "To group by, click on Summarize Data, select the columns you want to group by, the function (sum, count, mean, median, etc), and it’s done. You can open it in the same tab or a different tab.\n"
   ]
  },
  {
   "cell_type": "markdown",
   "id": "518b1275",
   "metadata": {},
   "source": [
    "\n",
    "## Describe data\n",
    "Need a quick summary of a feature? Not a problem. With D-Tale, you can see information such as value counts, missing values, frequency, statistics summarization such as mean, median, percentiles, standard deviation, skewness, word counts, and much more. Depending on the data type, it also shows a plot of the data, such as histogram, time series, bar plot, and so on.\n",
    "To do so, just click on the column’s name, then click on Describe (column analysis), and you will see a lot of cool information\n",
    "\n",
    "If you want to quickly navigate through all the columns, you can click on the ▶ sign at the top right, click on the summary option, and you will be able to check all the features individually with a click.\n"
   ]
  },
  {
   "cell_type": "markdown",
   "id": "ae46dc90",
   "metadata": {},
   "source": [
    "## Data Visualization\n",
    "Data visualization is one of the most time-consuming tasks during data analyses. It can be a nightmare for beginners to make them look good, but fortunately, D-Tale can also help with that. You can create visualizations with a few clicks, and the best part: you can get the code and learn what is going on."
   ]
  },
  {
   "cell_type": "markdown",
   "id": "31713309",
   "metadata": {},
   "source": [
    "### Bar plot\n",
    "Let’s start creating a bar plot. To create a bar plot, click on the top right, go to charts, and a GUI will open. There, you can select one type of plot between thirteen options! From there, select the X and Y variables, the type of aggregation, if any, and voilá, you just got a nice looking graph.\n",
    "In the example below, I’m putting continent in the x-axis and number of total COVID cases by continent in the y-axis.\n",
    "\n",
    "If you want to group the data, write the variable you want to group and do. In this example, I’m grouping the countries into continent groups.\n",
    "\n"
   ]
  },
  {
   "cell_type": "markdown",
   "id": "06c79fa3",
   "metadata": {},
   "source": [
    "### Plot code\n",
    "Now you can easily get the code to check how the plot was created. It’s a good way of learning or even delivering final products, since the charts are good looking and could be use as the final version."
   ]
  },
  {
   "cell_type": "markdown",
   "id": "277470a3",
   "metadata": {},
   "source": [
    "### Scatter Plot\n",
    "Creating a scatter plot is just as easy as a bar plot. Choose the x- and y-axis, group, if you want to, and boom. You got a scatter plot. Below, I’m checking the relationship between the number of new cases and the number of vaccinated people against COVID-19.\n"
   ]
  },
  {
   "cell_type": "markdown",
   "id": "1397ca8a",
   "metadata": {},
   "source": [
    "# Time Series\n",
    "D-Tale takes time series to another level. With one click, you can easily create a time series plot with them and go over different time series types, such as Hodrick-Prescott and Bacter-King filters.\n"
   ]
  },
  {
   "cell_type": "markdown",
   "id": "02b13bc4",
   "metadata": {},
   "source": [
    "## Describe Dataset\n",
    "We already talked about this topic, but I want to mention some exciting visualizations that you can create with the summarization feature, such as histograms, exploring categories, and creating a QQ plot.\n",
    "However, the coolest part is that you can interact the chosen columns with other columns and create instantaneous graphs. This is the best way to understand your dataset without spending hours typing code to get results that you could get with one click."
   ]
  },
  {
   "cell_type": "markdown",
   "id": "d1b711ca",
   "metadata": {},
   "source": [
    "## More D-Tale Feature\n",
    "On top of the data analysis options, D-Tale also offers some additional settings, such as choosing language and dark mode.\n"
   ]
  },
  {
   "cell_type": "markdown",
   "id": "2ee8fdb4",
   "metadata": {},
   "source": [
    "### Change language and dark mode\n",
    "D-Tale has some more complex tasks that can be confusing for non-English speakers, and if you are native language is Chinese or Portuguese, I got good news: D-Tale supports these two languages in addition to English to translate their UI.\n",
    "It also supports dark mode for those who like it. I’m not the biggest fan of dark mode because I find it harder to read, but you should like this additional feature if you don’t have this problem."
   ]
  },
  {
   "cell_type": "markdown",
   "id": "cc20444f",
   "metadata": {},
   "source": [
    "### Highlight columns\n",
    "D-Tale allows us to highlight data depending on a few options. For example, you can highlight the data depending on the data type. We can also highlight NaN values and outliers to avoid missing them. You can also highlight data based on arguments, such as greater or smaller than a specific number.\n",
    "\n",
    "D-Tale could make your life much easier, even for those seasoned professionals, by turning tedious tasks into intuitive ones. There are so many cool and more complex features that were left out of this blog, so I recommend you to try it out, explore it, and find more features that will be useful for yo"
   ]
  },
  {
   "cell_type": "code",
   "execution_count": null,
   "id": "8f5458be",
   "metadata": {},
   "outputs": [],
   "source": []
  }
 ],
 "metadata": {
  "kernelspec": {
   "display_name": "Python 3 (ipykernel)",
   "language": "python",
   "name": "python3"
  },
  "language_info": {
   "codemirror_mode": {
    "name": "ipython",
    "version": 3
   },
   "file_extension": ".py",
   "mimetype": "text/x-python",
   "name": "python",
   "nbconvert_exporter": "python",
   "pygments_lexer": "ipython3",
   "version": "3.9.10"
  }
 },
 "nbformat": 4,
 "nbformat_minor": 5
}
