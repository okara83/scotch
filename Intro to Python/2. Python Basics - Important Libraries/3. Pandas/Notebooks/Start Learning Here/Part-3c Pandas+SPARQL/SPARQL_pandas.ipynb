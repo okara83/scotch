{
 "cells": [
  {
   "cell_type": "markdown",
   "metadata": {},
   "source": [
    "# Querying a SPARQL endpoint (knowledge graph) in python\n",
    "The code below contains everything needed to execute a SPARQL query, manipulate the data it returns, and store the data in a file suitable for rendering with cytoscape.  Your goal is to get this to work locally and attempt to extend it by, for example, altering the query, sorting the results differently, or working with the output in cytoscape to build an informative visualization.  \n"
   ]
  },
  {
   "cell_type": "code",
   "execution_count": 3,
   "metadata": {},
   "outputs": [],
   "source": [
    "import pandas as pd\n",
    "\n",
    "from pandas.io.json import json_normalize\n",
    "from SPARQLWrapper import SPARQLWrapper, JSON"
   ]
  },
  {
   "cell_type": "code",
   "execution_count": null,
   "metadata": {},
   "outputs": [],
   "source": []
  },
  {
   "cell_type": "markdown",
   "metadata": {},
   "source": [
    "## Create query function\n",
    "\n",
    "The function below takes a SPARQL query string, queries a sparql service, and returns the result as a pandas DataFrame (a table)."
   ]
  },
  {
   "cell_type": "code",
   "execution_count": 4,
   "metadata": {},
   "outputs": [],
   "source": [
    "def query_wikidata(sparql_query, sparql_service_url):\n",
    "    \"\"\"\n",
    "    Query the endpoint with the given query string and return the results as a pandas Dataframe.\n",
    "    \"\"\"\n",
    "    # create the connection to the endpoint\n",
    "    sparql = SPARQLWrapper(sparql_service_url)\n",
    "    \n",
    "    sparql.setQuery(sparql_query)\n",
    "    sparql.setReturnFormat(JSON)\n",
    "\n",
    "    # ask for the result\n",
    "    result = sparql.query().convert()\n",
    "    return json_normalize(result[\"results\"][\"bindings\"])"
   ]
  },
  {
   "cell_type": "markdown",
   "metadata": {},
   "source": [
    "## Run our SPARQL query\n",
    "The example here is the drug -> interacts with protein -> encoded by -> gene -> gwas -> disease query pattern. \n",
    "Test it here http://tinyurl.com/hwm9388 and explore the results to see you you might adapt it.  Other example queries for the wikidata service:  http://tinyurl.com/j222k6g ,  http://tinyurl.com/gpfr9kj "
   ]
  },
  {
   "cell_type": "code",
   "execution_count": 5,
   "metadata": {},
   "outputs": [
    {
     "name": "stderr",
     "output_type": "stream",
     "text": [
      "/var/folders/sd/1vc_q83x5rn9jjrd0x47_cc00000gn/T/ipykernel_683/1601127944.py:13: FutureWarning: pandas.io.json.json_normalize is deprecated, use pandas.json_normalize instead\n",
      "  return json_normalize(result[\"results\"][\"bindings\"])\n"
     ]
    }
   ],
   "source": [
    "sparql_query = \"\"\"SELECT ?drug ?drugLabel ?gene ?geneLabel ?entrez_id ?disease ?diseaseLabel WHERE {\n",
    "      ?drug wdt:P129 ?gene_product .   # drug interacts with a gene_product \n",
    "      ?gene_product wdt:P702 ?gene .  # gene_product is encoded by a gene\n",
    "      ?gene wdt:P2293 ?disease .    # gene is genetically associated with a disease \n",
    "      ?gene wdt:P351 ?entrez_id .  # get the entrez gene id for the gene \n",
    "      # add labels\n",
    "      SERVICE wikibase:label {\n",
    "            bd:serviceParam wikibase:language \"en\" .\n",
    "      }\n",
    "    }\n",
    "    limit 1000\n",
    "    \"\"\"\n",
    "#to query another endpoint, change the URL for the service and the query\n",
    "sparql_service_url = \"https://query.wikidata.org/sparql\"\n",
    "result_table = query_wikidata(sparql_query, sparql_service_url)"
   ]
  },
  {
   "cell_type": "markdown",
   "metadata": {},
   "source": [
    "## From here on we are using the Python Data Analysis Library \"Pandas\"\n",
    "Look for an introduction like this http://synesthesiam.com/posts/an-introduction-to-pandas.html if you get stuck.."
   ]
  },
  {
   "cell_type": "markdown",
   "metadata": {},
   "source": [
    "Now look at the results of our SPARQL query.  \"shape\" shows the dimensions (n rows by n cols).  head() shows the column headers (which will be important later) and a sample of the first few rows of data"
   ]
  },
  {
   "cell_type": "code",
   "execution_count": 6,
   "metadata": {},
   "outputs": [
    {
     "data": {
      "text/plain": [
       "(1000, 17)"
      ]
     },
     "execution_count": 6,
     "metadata": {},
     "output_type": "execute_result"
    }
   ],
   "source": [
    "result_table.shape"
   ]
  },
  {
   "cell_type": "code",
   "execution_count": 7,
   "metadata": {
    "scrolled": false
   },
   "outputs": [
    {
     "data": {
      "text/html": [
       "<div>\n",
       "<style scoped>\n",
       "    .dataframe tbody tr th:only-of-type {\n",
       "        vertical-align: middle;\n",
       "    }\n",
       "\n",
       "    .dataframe tbody tr th {\n",
       "        vertical-align: top;\n",
       "    }\n",
       "\n",
       "    .dataframe thead th {\n",
       "        text-align: right;\n",
       "    }\n",
       "</style>\n",
       "<table border=\"1\" class=\"dataframe\">\n",
       "  <thead>\n",
       "    <tr style=\"text-align: right;\">\n",
       "      <th></th>\n",
       "      <th>drug.type</th>\n",
       "      <th>drug.value</th>\n",
       "      <th>gene.type</th>\n",
       "      <th>gene.value</th>\n",
       "      <th>disease.type</th>\n",
       "      <th>disease.value</th>\n",
       "      <th>entrez_id.type</th>\n",
       "      <th>entrez_id.value</th>\n",
       "      <th>drugLabel.xml:lang</th>\n",
       "      <th>drugLabel.type</th>\n",
       "      <th>drugLabel.value</th>\n",
       "      <th>geneLabel.xml:lang</th>\n",
       "      <th>geneLabel.type</th>\n",
       "      <th>geneLabel.value</th>\n",
       "      <th>diseaseLabel.xml:lang</th>\n",
       "      <th>diseaseLabel.type</th>\n",
       "      <th>diseaseLabel.value</th>\n",
       "    </tr>\n",
       "  </thead>\n",
       "  <tbody>\n",
       "    <tr>\n",
       "      <th>0</th>\n",
       "      <td>uri</td>\n",
       "      <td>http://www.wikidata.org/entity/Q90042407</td>\n",
       "      <td>uri</td>\n",
       "      <td>http://www.wikidata.org/entity/Q14886374</td>\n",
       "      <td>uri</td>\n",
       "      <td>http://www.wikidata.org/entity/Q615645</td>\n",
       "      <td>literal</td>\n",
       "      <td>2717</td>\n",
       "      <td>en</td>\n",
       "      <td>literal</td>\n",
       "      <td>Non-structural protein 14 [SARS-CoV-2]</td>\n",
       "      <td>en</td>\n",
       "      <td>literal</td>\n",
       "      <td>GLA</td>\n",
       "      <td>en</td>\n",
       "      <td>literal</td>\n",
       "      <td>Fabry disease</td>\n",
       "    </tr>\n",
       "    <tr>\n",
       "      <th>1</th>\n",
       "      <td>uri</td>\n",
       "      <td>http://www.wikidata.org/entity/Q471666</td>\n",
       "      <td>uri</td>\n",
       "      <td>http://www.wikidata.org/entity/Q18026535</td>\n",
       "      <td>uri</td>\n",
       "      <td>http://www.wikidata.org/entity/Q21124572</td>\n",
       "      <td>literal</td>\n",
       "      <td>2911</td>\n",
       "      <td>en</td>\n",
       "      <td>literal</td>\n",
       "      <td>AIDA</td>\n",
       "      <td>en</td>\n",
       "      <td>literal</td>\n",
       "      <td>GRM1</td>\n",
       "      <td>en</td>\n",
       "      <td>literal</td>\n",
       "      <td>autosomal recessive spinocerebellar ataxia 13</td>\n",
       "    </tr>\n",
       "    <tr>\n",
       "      <th>2</th>\n",
       "      <td>uri</td>\n",
       "      <td>http://www.wikidata.org/entity/Q5013612</td>\n",
       "      <td>uri</td>\n",
       "      <td>http://www.wikidata.org/entity/Q18026535</td>\n",
       "      <td>uri</td>\n",
       "      <td>http://www.wikidata.org/entity/Q21124572</td>\n",
       "      <td>literal</td>\n",
       "      <td>2911</td>\n",
       "      <td>en</td>\n",
       "      <td>literal</td>\n",
       "      <td>CPCCOEt</td>\n",
       "      <td>en</td>\n",
       "      <td>literal</td>\n",
       "      <td>GRM1</td>\n",
       "      <td>en</td>\n",
       "      <td>literal</td>\n",
       "      <td>autosomal recessive spinocerebellar ataxia 13</td>\n",
       "    </tr>\n",
       "    <tr>\n",
       "      <th>3</th>\n",
       "      <td>uri</td>\n",
       "      <td>http://www.wikidata.org/entity/Q471666</td>\n",
       "      <td>uri</td>\n",
       "      <td>http://www.wikidata.org/entity/Q18026535</td>\n",
       "      <td>uri</td>\n",
       "      <td>http://www.wikidata.org/entity/Q53661634</td>\n",
       "      <td>literal</td>\n",
       "      <td>2911</td>\n",
       "      <td>en</td>\n",
       "      <td>literal</td>\n",
       "      <td>AIDA</td>\n",
       "      <td>en</td>\n",
       "      <td>literal</td>\n",
       "      <td>GRM1</td>\n",
       "      <td>en</td>\n",
       "      <td>literal</td>\n",
       "      <td>spinocerebellar ataxia 44</td>\n",
       "    </tr>\n",
       "    <tr>\n",
       "      <th>4</th>\n",
       "      <td>uri</td>\n",
       "      <td>http://www.wikidata.org/entity/Q5013612</td>\n",
       "      <td>uri</td>\n",
       "      <td>http://www.wikidata.org/entity/Q18026535</td>\n",
       "      <td>uri</td>\n",
       "      <td>http://www.wikidata.org/entity/Q53661634</td>\n",
       "      <td>literal</td>\n",
       "      <td>2911</td>\n",
       "      <td>en</td>\n",
       "      <td>literal</td>\n",
       "      <td>CPCCOEt</td>\n",
       "      <td>en</td>\n",
       "      <td>literal</td>\n",
       "      <td>GRM1</td>\n",
       "      <td>en</td>\n",
       "      <td>literal</td>\n",
       "      <td>spinocerebellar ataxia 44</td>\n",
       "    </tr>\n",
       "    <tr>\n",
       "      <th>...</th>\n",
       "      <td>...</td>\n",
       "      <td>...</td>\n",
       "      <td>...</td>\n",
       "      <td>...</td>\n",
       "      <td>...</td>\n",
       "      <td>...</td>\n",
       "      <td>...</td>\n",
       "      <td>...</td>\n",
       "      <td>...</td>\n",
       "      <td>...</td>\n",
       "      <td>...</td>\n",
       "      <td>...</td>\n",
       "      <td>...</td>\n",
       "      <td>...</td>\n",
       "      <td>...</td>\n",
       "      <td>...</td>\n",
       "      <td>...</td>\n",
       "    </tr>\n",
       "    <tr>\n",
       "      <th>995</th>\n",
       "      <td>uri</td>\n",
       "      <td>http://www.wikidata.org/entity/Q4651211</td>\n",
       "      <td>uri</td>\n",
       "      <td>http://www.wikidata.org/entity/Q18026547</td>\n",
       "      <td>uri</td>\n",
       "      <td>http://www.wikidata.org/entity/Q187255</td>\n",
       "      <td>literal</td>\n",
       "      <td>2915</td>\n",
       "      <td>en</td>\n",
       "      <td>literal</td>\n",
       "      <td>ADX-47273</td>\n",
       "      <td>en</td>\n",
       "      <td>literal</td>\n",
       "      <td>GRM5</td>\n",
       "      <td>en</td>\n",
       "      <td>literal</td>\n",
       "      <td>rheumatoid arthritis</td>\n",
       "    </tr>\n",
       "    <tr>\n",
       "      <th>996</th>\n",
       "      <td>uri</td>\n",
       "      <td>http://www.wikidata.org/entity/Q5009995</td>\n",
       "      <td>uri</td>\n",
       "      <td>http://www.wikidata.org/entity/Q18026547</td>\n",
       "      <td>uri</td>\n",
       "      <td>http://www.wikidata.org/entity/Q187255</td>\n",
       "      <td>literal</td>\n",
       "      <td>2915</td>\n",
       "      <td>en</td>\n",
       "      <td>literal</td>\n",
       "      <td>CDPPB</td>\n",
       "      <td>en</td>\n",
       "      <td>literal</td>\n",
       "      <td>GRM5</td>\n",
       "      <td>en</td>\n",
       "      <td>literal</td>\n",
       "      <td>rheumatoid arthritis</td>\n",
       "    </tr>\n",
       "    <tr>\n",
       "      <th>997</th>\n",
       "      <td>uri</td>\n",
       "      <td>http://www.wikidata.org/entity/Q5014559</td>\n",
       "      <td>uri</td>\n",
       "      <td>http://www.wikidata.org/entity/Q18026547</td>\n",
       "      <td>uri</td>\n",
       "      <td>http://www.wikidata.org/entity/Q187255</td>\n",
       "      <td>literal</td>\n",
       "      <td>2915</td>\n",
       "      <td>en</td>\n",
       "      <td>literal</td>\n",
       "      <td>CTEP</td>\n",
       "      <td>en</td>\n",
       "      <td>literal</td>\n",
       "      <td>GRM5</td>\n",
       "      <td>en</td>\n",
       "      <td>literal</td>\n",
       "      <td>rheumatoid arthritis</td>\n",
       "    </tr>\n",
       "    <tr>\n",
       "      <th>998</th>\n",
       "      <td>uri</td>\n",
       "      <td>http://www.wikidata.org/entity/Q5443558</td>\n",
       "      <td>uri</td>\n",
       "      <td>http://www.wikidata.org/entity/Q18026547</td>\n",
       "      <td>uri</td>\n",
       "      <td>http://www.wikidata.org/entity/Q187255</td>\n",
       "      <td>literal</td>\n",
       "      <td>2915</td>\n",
       "      <td>en</td>\n",
       "      <td>literal</td>\n",
       "      <td>fenobam</td>\n",
       "      <td>en</td>\n",
       "      <td>literal</td>\n",
       "      <td>GRM5</td>\n",
       "      <td>en</td>\n",
       "      <td>literal</td>\n",
       "      <td>rheumatoid arthritis</td>\n",
       "    </tr>\n",
       "    <tr>\n",
       "      <th>999</th>\n",
       "      <td>uri</td>\n",
       "      <td>http://www.wikidata.org/entity/Q13566097</td>\n",
       "      <td>uri</td>\n",
       "      <td>http://www.wikidata.org/entity/Q18026547</td>\n",
       "      <td>uri</td>\n",
       "      <td>http://www.wikidata.org/entity/Q187255</td>\n",
       "      <td>literal</td>\n",
       "      <td>2915</td>\n",
       "      <td>en</td>\n",
       "      <td>literal</td>\n",
       "      <td>MTEP</td>\n",
       "      <td>en</td>\n",
       "      <td>literal</td>\n",
       "      <td>GRM5</td>\n",
       "      <td>en</td>\n",
       "      <td>literal</td>\n",
       "      <td>rheumatoid arthritis</td>\n",
       "    </tr>\n",
       "  </tbody>\n",
       "</table>\n",
       "<p>1000 rows × 17 columns</p>\n",
       "</div>"
      ],
      "text/plain": [
       "    drug.type                                drug.value gene.type  \\\n",
       "0         uri  http://www.wikidata.org/entity/Q90042407       uri   \n",
       "1         uri    http://www.wikidata.org/entity/Q471666       uri   \n",
       "2         uri   http://www.wikidata.org/entity/Q5013612       uri   \n",
       "3         uri    http://www.wikidata.org/entity/Q471666       uri   \n",
       "4         uri   http://www.wikidata.org/entity/Q5013612       uri   \n",
       "..        ...                                       ...       ...   \n",
       "995       uri   http://www.wikidata.org/entity/Q4651211       uri   \n",
       "996       uri   http://www.wikidata.org/entity/Q5009995       uri   \n",
       "997       uri   http://www.wikidata.org/entity/Q5014559       uri   \n",
       "998       uri   http://www.wikidata.org/entity/Q5443558       uri   \n",
       "999       uri  http://www.wikidata.org/entity/Q13566097       uri   \n",
       "\n",
       "                                   gene.value disease.type  \\\n",
       "0    http://www.wikidata.org/entity/Q14886374          uri   \n",
       "1    http://www.wikidata.org/entity/Q18026535          uri   \n",
       "2    http://www.wikidata.org/entity/Q18026535          uri   \n",
       "3    http://www.wikidata.org/entity/Q18026535          uri   \n",
       "4    http://www.wikidata.org/entity/Q18026535          uri   \n",
       "..                                        ...          ...   \n",
       "995  http://www.wikidata.org/entity/Q18026547          uri   \n",
       "996  http://www.wikidata.org/entity/Q18026547          uri   \n",
       "997  http://www.wikidata.org/entity/Q18026547          uri   \n",
       "998  http://www.wikidata.org/entity/Q18026547          uri   \n",
       "999  http://www.wikidata.org/entity/Q18026547          uri   \n",
       "\n",
       "                                disease.value entrez_id.type entrez_id.value  \\\n",
       "0      http://www.wikidata.org/entity/Q615645        literal            2717   \n",
       "1    http://www.wikidata.org/entity/Q21124572        literal            2911   \n",
       "2    http://www.wikidata.org/entity/Q21124572        literal            2911   \n",
       "3    http://www.wikidata.org/entity/Q53661634        literal            2911   \n",
       "4    http://www.wikidata.org/entity/Q53661634        literal            2911   \n",
       "..                                        ...            ...             ...   \n",
       "995    http://www.wikidata.org/entity/Q187255        literal            2915   \n",
       "996    http://www.wikidata.org/entity/Q187255        literal            2915   \n",
       "997    http://www.wikidata.org/entity/Q187255        literal            2915   \n",
       "998    http://www.wikidata.org/entity/Q187255        literal            2915   \n",
       "999    http://www.wikidata.org/entity/Q187255        literal            2915   \n",
       "\n",
       "    drugLabel.xml:lang drugLabel.type                         drugLabel.value  \\\n",
       "0                   en        literal  Non-structural protein 14 [SARS-CoV-2]   \n",
       "1                   en        literal                                    AIDA   \n",
       "2                   en        literal                                 CPCCOEt   \n",
       "3                   en        literal                                    AIDA   \n",
       "4                   en        literal                                 CPCCOEt   \n",
       "..                 ...            ...                                     ...   \n",
       "995                 en        literal                               ADX-47273   \n",
       "996                 en        literal                                   CDPPB   \n",
       "997                 en        literal                                    CTEP   \n",
       "998                 en        literal                                 fenobam   \n",
       "999                 en        literal                                    MTEP   \n",
       "\n",
       "    geneLabel.xml:lang geneLabel.type geneLabel.value diseaseLabel.xml:lang  \\\n",
       "0                   en        literal             GLA                    en   \n",
       "1                   en        literal            GRM1                    en   \n",
       "2                   en        literal            GRM1                    en   \n",
       "3                   en        literal            GRM1                    en   \n",
       "4                   en        literal            GRM1                    en   \n",
       "..                 ...            ...             ...                   ...   \n",
       "995                 en        literal            GRM5                    en   \n",
       "996                 en        literal            GRM5                    en   \n",
       "997                 en        literal            GRM5                    en   \n",
       "998                 en        literal            GRM5                    en   \n",
       "999                 en        literal            GRM5                    en   \n",
       "\n",
       "    diseaseLabel.type                             diseaseLabel.value  \n",
       "0             literal                                  Fabry disease  \n",
       "1             literal  autosomal recessive spinocerebellar ataxia 13  \n",
       "2             literal  autosomal recessive spinocerebellar ataxia 13  \n",
       "3             literal                      spinocerebellar ataxia 44  \n",
       "4             literal                      spinocerebellar ataxia 44  \n",
       "..                ...                                            ...  \n",
       "995           literal                           rheumatoid arthritis  \n",
       "996           literal                           rheumatoid arthritis  \n",
       "997           literal                           rheumatoid arthritis  \n",
       "998           literal                           rheumatoid arthritis  \n",
       "999           literal                           rheumatoid arthritis  \n",
       "\n",
       "[1000 rows x 17 columns]"
      ]
     },
     "execution_count": 7,
     "metadata": {},
     "output_type": "execute_result"
    }
   ],
   "source": [
    "result_table"
   ]
  },
  {
   "cell_type": "markdown",
   "metadata": {},
   "source": [
    "Compare the column names to the first line of the SPARQL query:\n",
    "\n",
    "SELECT ?drug ?drugLabel ?gene ?geneLabel ?entrez_id ?disease ?diseaseLabel\n",
    "\n",
    "Each of the SELECTed items (e.g. ?drug) results in 2 columns: one for its data type (either uri or literal) and one for its value (the thing you are probably looking for).  String literal values for labels have an additional column indicating which language they are in.  \n",
    "\n",
    "For the purposes of this exercise, we can simplify this to focus only on the string names of the drug, disease and gene in each row in the results.  As follows."
   ]
  },
  {
   "cell_type": "markdown",
   "metadata": {},
   "source": [
    "## Extract only the columns we care about"
   ]
  },
  {
   "cell_type": "code",
   "execution_count": 8,
   "metadata": {},
   "outputs": [],
   "source": [
    "simple_table = result_table[[\"drugLabel.value\", \"diseaseLabel.value\", \"geneLabel.value\"]]"
   ]
  },
  {
   "cell_type": "code",
   "execution_count": 9,
   "metadata": {},
   "outputs": [
    {
     "data": {
      "text/html": [
       "<div>\n",
       "<style scoped>\n",
       "    .dataframe tbody tr th:only-of-type {\n",
       "        vertical-align: middle;\n",
       "    }\n",
       "\n",
       "    .dataframe tbody tr th {\n",
       "        vertical-align: top;\n",
       "    }\n",
       "\n",
       "    .dataframe thead th {\n",
       "        text-align: right;\n",
       "    }\n",
       "</style>\n",
       "<table border=\"1\" class=\"dataframe\">\n",
       "  <thead>\n",
       "    <tr style=\"text-align: right;\">\n",
       "      <th></th>\n",
       "      <th>drugLabel.value</th>\n",
       "      <th>diseaseLabel.value</th>\n",
       "      <th>geneLabel.value</th>\n",
       "    </tr>\n",
       "  </thead>\n",
       "  <tbody>\n",
       "    <tr>\n",
       "      <th>0</th>\n",
       "      <td>Non-structural protein 14 [SARS-CoV-2]</td>\n",
       "      <td>Fabry disease</td>\n",
       "      <td>GLA</td>\n",
       "    </tr>\n",
       "    <tr>\n",
       "      <th>1</th>\n",
       "      <td>AIDA</td>\n",
       "      <td>autosomal recessive spinocerebellar ataxia 13</td>\n",
       "      <td>GRM1</td>\n",
       "    </tr>\n",
       "    <tr>\n",
       "      <th>2</th>\n",
       "      <td>CPCCOEt</td>\n",
       "      <td>autosomal recessive spinocerebellar ataxia 13</td>\n",
       "      <td>GRM1</td>\n",
       "    </tr>\n",
       "    <tr>\n",
       "      <th>3</th>\n",
       "      <td>AIDA</td>\n",
       "      <td>spinocerebellar ataxia 44</td>\n",
       "      <td>GRM1</td>\n",
       "    </tr>\n",
       "    <tr>\n",
       "      <th>4</th>\n",
       "      <td>CPCCOEt</td>\n",
       "      <td>spinocerebellar ataxia 44</td>\n",
       "      <td>GRM1</td>\n",
       "    </tr>\n",
       "  </tbody>\n",
       "</table>\n",
       "</div>"
      ],
      "text/plain": [
       "                          drugLabel.value  \\\n",
       "0  Non-structural protein 14 [SARS-CoV-2]   \n",
       "1                                    AIDA   \n",
       "2                                 CPCCOEt   \n",
       "3                                    AIDA   \n",
       "4                                 CPCCOEt   \n",
       "\n",
       "                              diseaseLabel.value geneLabel.value  \n",
       "0                                  Fabry disease             GLA  \n",
       "1  autosomal recessive spinocerebellar ataxia 13            GRM1  \n",
       "2  autosomal recessive spinocerebellar ataxia 13            GRM1  \n",
       "3                      spinocerebellar ataxia 44            GRM1  \n",
       "4                      spinocerebellar ataxia 44            GRM1  "
      ]
     },
     "execution_count": 9,
     "metadata": {},
     "output_type": "execute_result"
    }
   ],
   "source": [
    "simple_table.head()"
   ]
  },
  {
   "cell_type": "markdown",
   "metadata": {},
   "source": [
    "### Rename the columns of our simple table\n",
    "\n",
    "Let's delete the \"Label.value\" portion from the column names."
   ]
  },
  {
   "cell_type": "code",
   "execution_count": 10,
   "metadata": {
    "scrolled": true
   },
   "outputs": [],
   "source": [
    "simple_table = simple_table.rename(columns = lambda col: col.replace(\"Label.value\", \"\"))"
   ]
  },
  {
   "cell_type": "code",
   "execution_count": 11,
   "metadata": {},
   "outputs": [
    {
     "data": {
      "text/html": [
       "<div>\n",
       "<style scoped>\n",
       "    .dataframe tbody tr th:only-of-type {\n",
       "        vertical-align: middle;\n",
       "    }\n",
       "\n",
       "    .dataframe tbody tr th {\n",
       "        vertical-align: top;\n",
       "    }\n",
       "\n",
       "    .dataframe thead th {\n",
       "        text-align: right;\n",
       "    }\n",
       "</style>\n",
       "<table border=\"1\" class=\"dataframe\">\n",
       "  <thead>\n",
       "    <tr style=\"text-align: right;\">\n",
       "      <th></th>\n",
       "      <th>drug</th>\n",
       "      <th>disease</th>\n",
       "      <th>gene</th>\n",
       "    </tr>\n",
       "  </thead>\n",
       "  <tbody>\n",
       "    <tr>\n",
       "      <th>0</th>\n",
       "      <td>Non-structural protein 14 [SARS-CoV-2]</td>\n",
       "      <td>Fabry disease</td>\n",
       "      <td>GLA</td>\n",
       "    </tr>\n",
       "    <tr>\n",
       "      <th>1</th>\n",
       "      <td>AIDA</td>\n",
       "      <td>autosomal recessive spinocerebellar ataxia 13</td>\n",
       "      <td>GRM1</td>\n",
       "    </tr>\n",
       "    <tr>\n",
       "      <th>2</th>\n",
       "      <td>CPCCOEt</td>\n",
       "      <td>autosomal recessive spinocerebellar ataxia 13</td>\n",
       "      <td>GRM1</td>\n",
       "    </tr>\n",
       "    <tr>\n",
       "      <th>3</th>\n",
       "      <td>AIDA</td>\n",
       "      <td>spinocerebellar ataxia 44</td>\n",
       "      <td>GRM1</td>\n",
       "    </tr>\n",
       "    <tr>\n",
       "      <th>4</th>\n",
       "      <td>CPCCOEt</td>\n",
       "      <td>spinocerebellar ataxia 44</td>\n",
       "      <td>GRM1</td>\n",
       "    </tr>\n",
       "  </tbody>\n",
       "</table>\n",
       "</div>"
      ],
      "text/plain": [
       "                                     drug  \\\n",
       "0  Non-structural protein 14 [SARS-CoV-2]   \n",
       "1                                    AIDA   \n",
       "2                                 CPCCOEt   \n",
       "3                                    AIDA   \n",
       "4                                 CPCCOEt   \n",
       "\n",
       "                                         disease  gene  \n",
       "0                                  Fabry disease   GLA  \n",
       "1  autosomal recessive spinocerebellar ataxia 13  GRM1  \n",
       "2  autosomal recessive spinocerebellar ataxia 13  GRM1  \n",
       "3                      spinocerebellar ataxia 44  GRM1  \n",
       "4                      spinocerebellar ataxia 44  GRM1  "
      ]
     },
     "execution_count": 11,
     "metadata": {},
     "output_type": "execute_result"
    }
   ],
   "source": [
    "simple_table.head()"
   ]
  },
  {
   "cell_type": "markdown",
   "metadata": {},
   "source": [
    "We have just grabbed the three columns we care about and renamed them."
   ]
  },
  {
   "cell_type": "markdown",
   "metadata": {},
   "source": [
    "## Count the number of genes per (drug, disease) pair\n",
    "\n",
    "How many genes link each unique (drug, disease) pair? After counting, order the (drug, disease) pairs in descending order of number of linking genes.  This is one simple method for finding stronger connections between A and C concepts - based on the number of shared B concepts.  "
   ]
  },
  {
   "cell_type": "markdown",
   "metadata": {},
   "source": [
    "### Make unique (drug, disease) groups and count the number of genes for this group"
   ]
  },
  {
   "cell_type": "code",
   "execution_count": 12,
   "metadata": {},
   "outputs": [],
   "source": [
    "counts = simple_table.groupby([\"drug\", \"disease\"]).size()"
   ]
  },
  {
   "cell_type": "code",
   "execution_count": 13,
   "metadata": {},
   "outputs": [
    {
     "data": {
      "text/plain": [
       "drug                    disease                                             \n",
       "(-)-pentazocine         amyotrophic lateral sclerosis type 16                   1\n",
       "                        autosomal recessive distal spinal muscular atrophy 2    1\n",
       "                        coronary artery disease                                 1\n",
       "(RS)-aminoglutethimide  aromatase excess syndrome                               1\n",
       "(RS)-methadone          coronary artery disease                                 1\n",
       "dtype: int64"
      ]
     },
     "execution_count": 13,
     "metadata": {},
     "output_type": "execute_result"
    }
   ],
   "source": [
    "counts.head()"
   ]
  },
  {
   "cell_type": "markdown",
   "metadata": {},
   "source": [
    "### Turn result into a Pandas data frame (fancy smart table)"
   ]
  },
  {
   "cell_type": "code",
   "execution_count": 14,
   "metadata": {},
   "outputs": [],
   "source": [
    "counts = counts.to_frame(\"gene_count\")"
   ]
  },
  {
   "cell_type": "code",
   "execution_count": 15,
   "metadata": {},
   "outputs": [
    {
     "data": {
      "text/html": [
       "<div>\n",
       "<style scoped>\n",
       "    .dataframe tbody tr th:only-of-type {\n",
       "        vertical-align: middle;\n",
       "    }\n",
       "\n",
       "    .dataframe tbody tr th {\n",
       "        vertical-align: top;\n",
       "    }\n",
       "\n",
       "    .dataframe thead th {\n",
       "        text-align: right;\n",
       "    }\n",
       "</style>\n",
       "<table border=\"1\" class=\"dataframe\">\n",
       "  <thead>\n",
       "    <tr style=\"text-align: right;\">\n",
       "      <th></th>\n",
       "      <th></th>\n",
       "      <th>gene_count</th>\n",
       "    </tr>\n",
       "    <tr>\n",
       "      <th>drug</th>\n",
       "      <th>disease</th>\n",
       "      <th></th>\n",
       "    </tr>\n",
       "  </thead>\n",
       "  <tbody>\n",
       "    <tr>\n",
       "      <th rowspan=\"3\" valign=\"top\">(-)-pentazocine</th>\n",
       "      <th>amyotrophic lateral sclerosis type 16</th>\n",
       "      <td>1</td>\n",
       "    </tr>\n",
       "    <tr>\n",
       "      <th>autosomal recessive distal spinal muscular atrophy 2</th>\n",
       "      <td>1</td>\n",
       "    </tr>\n",
       "    <tr>\n",
       "      <th>coronary artery disease</th>\n",
       "      <td>1</td>\n",
       "    </tr>\n",
       "    <tr>\n",
       "      <th>(RS)-aminoglutethimide</th>\n",
       "      <th>aromatase excess syndrome</th>\n",
       "      <td>1</td>\n",
       "    </tr>\n",
       "    <tr>\n",
       "      <th>(RS)-methadone</th>\n",
       "      <th>coronary artery disease</th>\n",
       "      <td>1</td>\n",
       "    </tr>\n",
       "  </tbody>\n",
       "</table>\n",
       "</div>"
      ],
      "text/plain": [
       "                                                                           gene_count\n",
       "drug                   disease                                                       \n",
       "(-)-pentazocine        amyotrophic lateral sclerosis type 16                        1\n",
       "                       autosomal recessive distal spinal muscular atro...           1\n",
       "                       coronary artery disease                                      1\n",
       "(RS)-aminoglutethimide aromatase excess syndrome                                    1\n",
       "(RS)-methadone         coronary artery disease                                      1"
      ]
     },
     "execution_count": 15,
     "metadata": {},
     "output_type": "execute_result"
    }
   ],
   "source": [
    "counts.head()"
   ]
  },
  {
   "cell_type": "markdown",
   "metadata": {},
   "source": [
    "### Put the drug and disease labels back into columns"
   ]
  },
  {
   "cell_type": "code",
   "execution_count": 16,
   "metadata": {},
   "outputs": [],
   "source": [
    "counts = counts.reset_index()"
   ]
  },
  {
   "cell_type": "code",
   "execution_count": 17,
   "metadata": {},
   "outputs": [
    {
     "data": {
      "text/html": [
       "<div>\n",
       "<style scoped>\n",
       "    .dataframe tbody tr th:only-of-type {\n",
       "        vertical-align: middle;\n",
       "    }\n",
       "\n",
       "    .dataframe tbody tr th {\n",
       "        vertical-align: top;\n",
       "    }\n",
       "\n",
       "    .dataframe thead th {\n",
       "        text-align: right;\n",
       "    }\n",
       "</style>\n",
       "<table border=\"1\" class=\"dataframe\">\n",
       "  <thead>\n",
       "    <tr style=\"text-align: right;\">\n",
       "      <th></th>\n",
       "      <th>drug</th>\n",
       "      <th>disease</th>\n",
       "      <th>gene_count</th>\n",
       "    </tr>\n",
       "  </thead>\n",
       "  <tbody>\n",
       "    <tr>\n",
       "      <th>0</th>\n",
       "      <td>(-)-pentazocine</td>\n",
       "      <td>amyotrophic lateral sclerosis type 16</td>\n",
       "      <td>1</td>\n",
       "    </tr>\n",
       "    <tr>\n",
       "      <th>1</th>\n",
       "      <td>(-)-pentazocine</td>\n",
       "      <td>autosomal recessive distal spinal muscular atr...</td>\n",
       "      <td>1</td>\n",
       "    </tr>\n",
       "    <tr>\n",
       "      <th>2</th>\n",
       "      <td>(-)-pentazocine</td>\n",
       "      <td>coronary artery disease</td>\n",
       "      <td>1</td>\n",
       "    </tr>\n",
       "    <tr>\n",
       "      <th>3</th>\n",
       "      <td>(RS)-aminoglutethimide</td>\n",
       "      <td>aromatase excess syndrome</td>\n",
       "      <td>1</td>\n",
       "    </tr>\n",
       "    <tr>\n",
       "      <th>4</th>\n",
       "      <td>(RS)-methadone</td>\n",
       "      <td>coronary artery disease</td>\n",
       "      <td>1</td>\n",
       "    </tr>\n",
       "  </tbody>\n",
       "</table>\n",
       "</div>"
      ],
      "text/plain": [
       "                     drug                                            disease  \\\n",
       "0         (-)-pentazocine              amyotrophic lateral sclerosis type 16   \n",
       "1         (-)-pentazocine  autosomal recessive distal spinal muscular atr...   \n",
       "2         (-)-pentazocine                            coronary artery disease   \n",
       "3  (RS)-aminoglutethimide                          aromatase excess syndrome   \n",
       "4          (RS)-methadone                            coronary artery disease   \n",
       "\n",
       "   gene_count  \n",
       "0           1  \n",
       "1           1  \n",
       "2           1  \n",
       "3           1  \n",
       "4           1  "
      ]
     },
     "execution_count": 17,
     "metadata": {},
     "output_type": "execute_result"
    }
   ],
   "source": [
    "counts.head()"
   ]
  },
  {
   "cell_type": "markdown",
   "metadata": {},
   "source": [
    "### Sort the table in descending order of genes"
   ]
  },
  {
   "cell_type": "code",
   "execution_count": 18,
   "metadata": {},
   "outputs": [],
   "source": [
    "counts = counts.sort_values(\"gene_count\", ascending = False)"
   ]
  },
  {
   "cell_type": "code",
   "execution_count": 19,
   "metadata": {},
   "outputs": [
    {
     "data": {
      "text/html": [
       "<div>\n",
       "<style scoped>\n",
       "    .dataframe tbody tr th:only-of-type {\n",
       "        vertical-align: middle;\n",
       "    }\n",
       "\n",
       "    .dataframe tbody tr th {\n",
       "        vertical-align: top;\n",
       "    }\n",
       "\n",
       "    .dataframe thead th {\n",
       "        text-align: right;\n",
       "    }\n",
       "</style>\n",
       "<table border=\"1\" class=\"dataframe\">\n",
       "  <thead>\n",
       "    <tr style=\"text-align: right;\">\n",
       "      <th></th>\n",
       "      <th>drug</th>\n",
       "      <th>disease</th>\n",
       "      <th>gene_count</th>\n",
       "    </tr>\n",
       "  </thead>\n",
       "  <tbody>\n",
       "    <tr>\n",
       "      <th>125</th>\n",
       "      <td>Inclusion membrane protein E CTL0371</td>\n",
       "      <td>obesity</td>\n",
       "      <td>3</td>\n",
       "    </tr>\n",
       "    <tr>\n",
       "      <th>340</th>\n",
       "      <td>cediranib</td>\n",
       "      <td>acute myeloid leukemia</td>\n",
       "      <td>3</td>\n",
       "    </tr>\n",
       "    <tr>\n",
       "      <th>135</th>\n",
       "      <td>Inclusion membrane protein E CT_116</td>\n",
       "      <td>obesity</td>\n",
       "      <td>3</td>\n",
       "    </tr>\n",
       "    <tr>\n",
       "      <th>373</th>\n",
       "      <td>crenolanib</td>\n",
       "      <td>acute myeloid leukemia</td>\n",
       "      <td>3</td>\n",
       "    </tr>\n",
       "    <tr>\n",
       "      <th>872</th>\n",
       "      <td>sunitinib</td>\n",
       "      <td>acute myeloid leukemia</td>\n",
       "      <td>3</td>\n",
       "    </tr>\n",
       "  </tbody>\n",
       "</table>\n",
       "</div>"
      ],
      "text/plain": [
       "                                     drug                 disease  gene_count\n",
       "125  Inclusion membrane protein E CTL0371                 obesity           3\n",
       "340                             cediranib  acute myeloid leukemia           3\n",
       "135   Inclusion membrane protein E CT_116                 obesity           3\n",
       "373                            crenolanib  acute myeloid leukemia           3\n",
       "872                             sunitinib  acute myeloid leukemia           3"
      ]
     },
     "execution_count": 19,
     "metadata": {},
     "output_type": "execute_result"
    }
   ],
   "source": [
    "counts.head()"
   ]
  },
  {
   "cell_type": "markdown",
   "metadata": {},
   "source": [
    "### Number the results from 0 onwards"
   ]
  },
  {
   "cell_type": "code",
   "execution_count": 20,
   "metadata": {},
   "outputs": [],
   "source": [
    "counts = counts.reset_index(drop = True)"
   ]
  },
  {
   "cell_type": "code",
   "execution_count": 21,
   "metadata": {},
   "outputs": [
    {
     "data": {
      "text/html": [
       "<div>\n",
       "<style scoped>\n",
       "    .dataframe tbody tr th:only-of-type {\n",
       "        vertical-align: middle;\n",
       "    }\n",
       "\n",
       "    .dataframe tbody tr th {\n",
       "        vertical-align: top;\n",
       "    }\n",
       "\n",
       "    .dataframe thead th {\n",
       "        text-align: right;\n",
       "    }\n",
       "</style>\n",
       "<table border=\"1\" class=\"dataframe\">\n",
       "  <thead>\n",
       "    <tr style=\"text-align: right;\">\n",
       "      <th></th>\n",
       "      <th>drug</th>\n",
       "      <th>disease</th>\n",
       "      <th>gene_count</th>\n",
       "    </tr>\n",
       "  </thead>\n",
       "  <tbody>\n",
       "    <tr>\n",
       "      <th>0</th>\n",
       "      <td>Inclusion membrane protein E CTL0371</td>\n",
       "      <td>obesity</td>\n",
       "      <td>3</td>\n",
       "    </tr>\n",
       "    <tr>\n",
       "      <th>1</th>\n",
       "      <td>cediranib</td>\n",
       "      <td>acute myeloid leukemia</td>\n",
       "      <td>3</td>\n",
       "    </tr>\n",
       "    <tr>\n",
       "      <th>2</th>\n",
       "      <td>Inclusion membrane protein E CT_116</td>\n",
       "      <td>obesity</td>\n",
       "      <td>3</td>\n",
       "    </tr>\n",
       "    <tr>\n",
       "      <th>3</th>\n",
       "      <td>crenolanib</td>\n",
       "      <td>acute myeloid leukemia</td>\n",
       "      <td>3</td>\n",
       "    </tr>\n",
       "    <tr>\n",
       "      <th>4</th>\n",
       "      <td>sunitinib</td>\n",
       "      <td>acute myeloid leukemia</td>\n",
       "      <td>3</td>\n",
       "    </tr>\n",
       "  </tbody>\n",
       "</table>\n",
       "</div>"
      ],
      "text/plain": [
       "                                   drug                 disease  gene_count\n",
       "0  Inclusion membrane protein E CTL0371                 obesity           3\n",
       "1                             cediranib  acute myeloid leukemia           3\n",
       "2   Inclusion membrane protein E CT_116                 obesity           3\n",
       "3                            crenolanib  acute myeloid leukemia           3\n",
       "4                             sunitinib  acute myeloid leukemia           3"
      ]
     },
     "execution_count": 21,
     "metadata": {},
     "output_type": "execute_result"
    }
   ],
   "source": [
    "counts.head()"
   ]
  },
  {
   "cell_type": "markdown",
   "metadata": {},
   "source": [
    "---"
   ]
  },
  {
   "cell_type": "markdown",
   "metadata": {},
   "source": [
    "## Add the genes used to link each (drug, disease) pair\n",
    "\n",
    "Now add another column containing the actual genes linking each (drug, disease) pair."
   ]
  },
  {
   "cell_type": "markdown",
   "metadata": {},
   "source": [
    "### Create a dictionary containing the linking genes for each unique pair"
   ]
  },
  {
   "cell_type": "code",
   "execution_count": 22,
   "metadata": {},
   "outputs": [],
   "source": [
    "linking_genes = dict()\n",
    "for (drug, disease), small_table in simple_table.groupby([\"drug\", \"disease\"]):\n",
    "    linking_genes[(drug, disease)] = list(small_table[\"gene\"])"
   ]
  },
  {
   "cell_type": "markdown",
   "metadata": {},
   "source": [
    "### Example: retrieve the linking genes for (caffeine, obesity)"
   ]
  },
  {
   "cell_type": "code",
   "execution_count": 23,
   "metadata": {},
   "outputs": [
    {
     "ename": "KeyError",
     "evalue": "('Caffeine', 'obesity')",
     "output_type": "error",
     "traceback": [
      "\u001b[0;31m---------------------------------------------------------------------------\u001b[0m",
      "\u001b[0;31mKeyError\u001b[0m                                  Traceback (most recent call last)",
      "\u001b[0;32m/var/folders/sd/1vc_q83x5rn9jjrd0x47_cc00000gn/T/ipykernel_683/3396323777.py\u001b[0m in \u001b[0;36m<module>\u001b[0;34m\u001b[0m\n\u001b[0;32m----> 1\u001b[0;31m \u001b[0mlinking_genes\u001b[0m\u001b[0;34m[\u001b[0m\u001b[0;34m(\u001b[0m\u001b[0;34m\"Caffeine\"\u001b[0m\u001b[0;34m,\u001b[0m \u001b[0;34m\"obesity\"\u001b[0m\u001b[0;34m)\u001b[0m\u001b[0;34m]\u001b[0m\u001b[0;34m\u001b[0m\u001b[0;34m\u001b[0m\u001b[0m\n\u001b[0m",
      "\u001b[0;31mKeyError\u001b[0m: ('Caffeine', 'obesity')"
     ]
    }
   ],
   "source": [
    "linking_genes[(\"Caffeine\", \"obesity\")]"
   ]
  },
  {
   "cell_type": "markdown",
   "metadata": {},
   "source": [
    "### Make a new column containing the linking genes"
   ]
  },
  {
   "cell_type": "code",
   "execution_count": 24,
   "metadata": {},
   "outputs": [],
   "source": [
    "counts[\"genes\"] = counts[[\"drug\", \"disease\"]].apply(\n",
    "    lambda row: linking_genes[(row[\"drug\"], row[\"disease\"])],\n",
    "    axis = 1\n",
    ")"
   ]
  },
  {
   "cell_type": "code",
   "execution_count": 25,
   "metadata": {},
   "outputs": [
    {
     "data": {
      "text/html": [
       "<div>\n",
       "<style scoped>\n",
       "    .dataframe tbody tr th:only-of-type {\n",
       "        vertical-align: middle;\n",
       "    }\n",
       "\n",
       "    .dataframe tbody tr th {\n",
       "        vertical-align: top;\n",
       "    }\n",
       "\n",
       "    .dataframe thead th {\n",
       "        text-align: right;\n",
       "    }\n",
       "</style>\n",
       "<table border=\"1\" class=\"dataframe\">\n",
       "  <thead>\n",
       "    <tr style=\"text-align: right;\">\n",
       "      <th></th>\n",
       "      <th>drug</th>\n",
       "      <th>disease</th>\n",
       "      <th>gene_count</th>\n",
       "      <th>genes</th>\n",
       "    </tr>\n",
       "  </thead>\n",
       "  <tbody>\n",
       "    <tr>\n",
       "      <th>0</th>\n",
       "      <td>Inclusion membrane protein E CTL0371</td>\n",
       "      <td>obesity</td>\n",
       "      <td>3</td>\n",
       "      <td>[CDH2, CADM1, CDKAL1]</td>\n",
       "    </tr>\n",
       "    <tr>\n",
       "      <th>1</th>\n",
       "      <td>cediranib</td>\n",
       "      <td>acute myeloid leukemia</td>\n",
       "      <td>3</td>\n",
       "      <td>[KIT, PDGFRB, FLT3]</td>\n",
       "    </tr>\n",
       "    <tr>\n",
       "      <th>2</th>\n",
       "      <td>Inclusion membrane protein E CT_116</td>\n",
       "      <td>obesity</td>\n",
       "      <td>3</td>\n",
       "      <td>[CDH2, CADM1, CDKAL1]</td>\n",
       "    </tr>\n",
       "    <tr>\n",
       "      <th>3</th>\n",
       "      <td>crenolanib</td>\n",
       "      <td>acute myeloid leukemia</td>\n",
       "      <td>3</td>\n",
       "      <td>[KIT, PDGFRB, FLT3]</td>\n",
       "    </tr>\n",
       "    <tr>\n",
       "      <th>4</th>\n",
       "      <td>sunitinib</td>\n",
       "      <td>acute myeloid leukemia</td>\n",
       "      <td>3</td>\n",
       "      <td>[KIT, PDGFRB, FLT3]</td>\n",
       "    </tr>\n",
       "  </tbody>\n",
       "</table>\n",
       "</div>"
      ],
      "text/plain": [
       "                                   drug                 disease  gene_count  \\\n",
       "0  Inclusion membrane protein E CTL0371                 obesity           3   \n",
       "1                             cediranib  acute myeloid leukemia           3   \n",
       "2   Inclusion membrane protein E CT_116                 obesity           3   \n",
       "3                            crenolanib  acute myeloid leukemia           3   \n",
       "4                             sunitinib  acute myeloid leukemia           3   \n",
       "\n",
       "                   genes  \n",
       "0  [CDH2, CADM1, CDKAL1]  \n",
       "1    [KIT, PDGFRB, FLT3]  \n",
       "2  [CDH2, CADM1, CDKAL1]  \n",
       "3    [KIT, PDGFRB, FLT3]  \n",
       "4    [KIT, PDGFRB, FLT3]  "
      ]
     },
     "execution_count": 25,
     "metadata": {},
     "output_type": "execute_result"
    }
   ],
   "source": [
    "counts.head()"
   ]
  },
  {
   "cell_type": "markdown",
   "metadata": {},
   "source": [
    "## Save to file"
   ]
  },
  {
   "cell_type": "code",
   "execution_count": 26,
   "metadata": {},
   "outputs": [],
   "source": [
    "counts.to_csv(\"drug_disease_count.tsv\", sep = '\\t', index = False, encoding = 'utf-8')"
   ]
  },
  {
   "cell_type": "markdown",
   "metadata": {},
   "source": [
    "---"
   ]
  },
  {
   "cell_type": "markdown",
   "metadata": {},
   "source": [
    "## Make cytoscape file\n",
    "\n",
    "For the example query, the sorting based on shared gene count seems unsatisfying.  Now, lets look at all the results in a network view to see if any interesting patterns emerge that might shed some light on the data and how we might process it more effectively.  \n",
    "\n",
    "Below we will create a file suitable for loading into cytoscape.  It will contain the three edge types of interest, linking drugs to genes, diseases to genes, and drugs to diseases e.g.:\n",
    "\n",
    "source_node\tsource_type\tedge_type\ttarget_node\ttarget_type\n"
   ]
  },
  {
   "cell_type": "markdown",
   "metadata": {},
   "source": [
    "### Start with the drug and gene pairs"
   ]
  },
  {
   "cell_type": "code",
   "execution_count": 27,
   "metadata": {},
   "outputs": [],
   "source": [
    "drug_gene_links = simple_table[[\"drug\", \"gene\"]]"
   ]
  },
  {
   "cell_type": "code",
   "execution_count": 28,
   "metadata": {},
   "outputs": [
    {
     "data": {
      "text/html": [
       "<div>\n",
       "<style scoped>\n",
       "    .dataframe tbody tr th:only-of-type {\n",
       "        vertical-align: middle;\n",
       "    }\n",
       "\n",
       "    .dataframe tbody tr th {\n",
       "        vertical-align: top;\n",
       "    }\n",
       "\n",
       "    .dataframe thead th {\n",
       "        text-align: right;\n",
       "    }\n",
       "</style>\n",
       "<table border=\"1\" class=\"dataframe\">\n",
       "  <thead>\n",
       "    <tr style=\"text-align: right;\">\n",
       "      <th></th>\n",
       "      <th>drug</th>\n",
       "      <th>gene</th>\n",
       "    </tr>\n",
       "  </thead>\n",
       "  <tbody>\n",
       "    <tr>\n",
       "      <th>0</th>\n",
       "      <td>Non-structural protein 14 [SARS-CoV-2]</td>\n",
       "      <td>GLA</td>\n",
       "    </tr>\n",
       "    <tr>\n",
       "      <th>1</th>\n",
       "      <td>AIDA</td>\n",
       "      <td>GRM1</td>\n",
       "    </tr>\n",
       "    <tr>\n",
       "      <th>2</th>\n",
       "      <td>CPCCOEt</td>\n",
       "      <td>GRM1</td>\n",
       "    </tr>\n",
       "    <tr>\n",
       "      <th>3</th>\n",
       "      <td>AIDA</td>\n",
       "      <td>GRM1</td>\n",
       "    </tr>\n",
       "    <tr>\n",
       "      <th>4</th>\n",
       "      <td>CPCCOEt</td>\n",
       "      <td>GRM1</td>\n",
       "    </tr>\n",
       "  </tbody>\n",
       "</table>\n",
       "</div>"
      ],
      "text/plain": [
       "                                     drug  gene\n",
       "0  Non-structural protein 14 [SARS-CoV-2]   GLA\n",
       "1                                    AIDA  GRM1\n",
       "2                                 CPCCOEt  GRM1\n",
       "3                                    AIDA  GRM1\n",
       "4                                 CPCCOEt  GRM1"
      ]
     },
     "execution_count": 28,
     "metadata": {},
     "output_type": "execute_result"
    }
   ],
   "source": [
    "drug_gene_links.head()"
   ]
  },
  {
   "cell_type": "markdown",
   "metadata": {},
   "source": [
    "### Rename the columns"
   ]
  },
  {
   "cell_type": "code",
   "execution_count": 29,
   "metadata": {},
   "outputs": [],
   "source": [
    "drug_gene_links = drug_gene_links.rename(columns = {\"drug\": \"source_node\", \"gene\": \"target_node\"})"
   ]
  },
  {
   "cell_type": "code",
   "execution_count": 30,
   "metadata": {},
   "outputs": [
    {
     "data": {
      "text/html": [
       "<div>\n",
       "<style scoped>\n",
       "    .dataframe tbody tr th:only-of-type {\n",
       "        vertical-align: middle;\n",
       "    }\n",
       "\n",
       "    .dataframe tbody tr th {\n",
       "        vertical-align: top;\n",
       "    }\n",
       "\n",
       "    .dataframe thead th {\n",
       "        text-align: right;\n",
       "    }\n",
       "</style>\n",
       "<table border=\"1\" class=\"dataframe\">\n",
       "  <thead>\n",
       "    <tr style=\"text-align: right;\">\n",
       "      <th></th>\n",
       "      <th>source_node</th>\n",
       "      <th>target_node</th>\n",
       "    </tr>\n",
       "  </thead>\n",
       "  <tbody>\n",
       "    <tr>\n",
       "      <th>0</th>\n",
       "      <td>Non-structural protein 14 [SARS-CoV-2]</td>\n",
       "      <td>GLA</td>\n",
       "    </tr>\n",
       "    <tr>\n",
       "      <th>1</th>\n",
       "      <td>AIDA</td>\n",
       "      <td>GRM1</td>\n",
       "    </tr>\n",
       "    <tr>\n",
       "      <th>2</th>\n",
       "      <td>CPCCOEt</td>\n",
       "      <td>GRM1</td>\n",
       "    </tr>\n",
       "    <tr>\n",
       "      <th>3</th>\n",
       "      <td>AIDA</td>\n",
       "      <td>GRM1</td>\n",
       "    </tr>\n",
       "    <tr>\n",
       "      <th>4</th>\n",
       "      <td>CPCCOEt</td>\n",
       "      <td>GRM1</td>\n",
       "    </tr>\n",
       "  </tbody>\n",
       "</table>\n",
       "</div>"
      ],
      "text/plain": [
       "                              source_node target_node\n",
       "0  Non-structural protein 14 [SARS-CoV-2]         GLA\n",
       "1                                    AIDA        GRM1\n",
       "2                                 CPCCOEt        GRM1\n",
       "3                                    AIDA        GRM1\n",
       "4                                 CPCCOEt        GRM1"
      ]
     },
     "execution_count": 30,
     "metadata": {},
     "output_type": "execute_result"
    }
   ],
   "source": [
    "drug_gene_links.head()"
   ]
  },
  {
   "cell_type": "markdown",
   "metadata": {},
   "source": [
    "### Create a new column specifying the source node type"
   ]
  },
  {
   "cell_type": "code",
   "execution_count": 31,
   "metadata": {},
   "outputs": [],
   "source": [
    "drug_gene_links[\"source_type\"] = \"drug\""
   ]
  },
  {
   "cell_type": "code",
   "execution_count": 32,
   "metadata": {},
   "outputs": [
    {
     "data": {
      "text/html": [
       "<div>\n",
       "<style scoped>\n",
       "    .dataframe tbody tr th:only-of-type {\n",
       "        vertical-align: middle;\n",
       "    }\n",
       "\n",
       "    .dataframe tbody tr th {\n",
       "        vertical-align: top;\n",
       "    }\n",
       "\n",
       "    .dataframe thead th {\n",
       "        text-align: right;\n",
       "    }\n",
       "</style>\n",
       "<table border=\"1\" class=\"dataframe\">\n",
       "  <thead>\n",
       "    <tr style=\"text-align: right;\">\n",
       "      <th></th>\n",
       "      <th>source_node</th>\n",
       "      <th>target_node</th>\n",
       "      <th>source_type</th>\n",
       "    </tr>\n",
       "  </thead>\n",
       "  <tbody>\n",
       "    <tr>\n",
       "      <th>0</th>\n",
       "      <td>Non-structural protein 14 [SARS-CoV-2]</td>\n",
       "      <td>GLA</td>\n",
       "      <td>drug</td>\n",
       "    </tr>\n",
       "    <tr>\n",
       "      <th>1</th>\n",
       "      <td>AIDA</td>\n",
       "      <td>GRM1</td>\n",
       "      <td>drug</td>\n",
       "    </tr>\n",
       "    <tr>\n",
       "      <th>2</th>\n",
       "      <td>CPCCOEt</td>\n",
       "      <td>GRM1</td>\n",
       "      <td>drug</td>\n",
       "    </tr>\n",
       "    <tr>\n",
       "      <th>3</th>\n",
       "      <td>AIDA</td>\n",
       "      <td>GRM1</td>\n",
       "      <td>drug</td>\n",
       "    </tr>\n",
       "    <tr>\n",
       "      <th>4</th>\n",
       "      <td>CPCCOEt</td>\n",
       "      <td>GRM1</td>\n",
       "      <td>drug</td>\n",
       "    </tr>\n",
       "  </tbody>\n",
       "</table>\n",
       "</div>"
      ],
      "text/plain": [
       "                              source_node target_node source_type\n",
       "0  Non-structural protein 14 [SARS-CoV-2]         GLA        drug\n",
       "1                                    AIDA        GRM1        drug\n",
       "2                                 CPCCOEt        GRM1        drug\n",
       "3                                    AIDA        GRM1        drug\n",
       "4                                 CPCCOEt        GRM1        drug"
      ]
     },
     "execution_count": 32,
     "metadata": {},
     "output_type": "execute_result"
    }
   ],
   "source": [
    "drug_gene_links.head()"
   ]
  },
  {
   "cell_type": "markdown",
   "metadata": {},
   "source": [
    "### Create a new column containing the edge type"
   ]
  },
  {
   "cell_type": "code",
   "execution_count": 33,
   "metadata": {},
   "outputs": [],
   "source": [
    "drug_gene_links[\"edge_type\"] = \"interacts_with\""
   ]
  },
  {
   "cell_type": "code",
   "execution_count": 34,
   "metadata": {},
   "outputs": [
    {
     "data": {
      "text/html": [
       "<div>\n",
       "<style scoped>\n",
       "    .dataframe tbody tr th:only-of-type {\n",
       "        vertical-align: middle;\n",
       "    }\n",
       "\n",
       "    .dataframe tbody tr th {\n",
       "        vertical-align: top;\n",
       "    }\n",
       "\n",
       "    .dataframe thead th {\n",
       "        text-align: right;\n",
       "    }\n",
       "</style>\n",
       "<table border=\"1\" class=\"dataframe\">\n",
       "  <thead>\n",
       "    <tr style=\"text-align: right;\">\n",
       "      <th></th>\n",
       "      <th>source_node</th>\n",
       "      <th>target_node</th>\n",
       "      <th>source_type</th>\n",
       "      <th>edge_type</th>\n",
       "    </tr>\n",
       "  </thead>\n",
       "  <tbody>\n",
       "    <tr>\n",
       "      <th>0</th>\n",
       "      <td>Non-structural protein 14 [SARS-CoV-2]</td>\n",
       "      <td>GLA</td>\n",
       "      <td>drug</td>\n",
       "      <td>interacts_with</td>\n",
       "    </tr>\n",
       "    <tr>\n",
       "      <th>1</th>\n",
       "      <td>AIDA</td>\n",
       "      <td>GRM1</td>\n",
       "      <td>drug</td>\n",
       "      <td>interacts_with</td>\n",
       "    </tr>\n",
       "    <tr>\n",
       "      <th>2</th>\n",
       "      <td>CPCCOEt</td>\n",
       "      <td>GRM1</td>\n",
       "      <td>drug</td>\n",
       "      <td>interacts_with</td>\n",
       "    </tr>\n",
       "    <tr>\n",
       "      <th>3</th>\n",
       "      <td>AIDA</td>\n",
       "      <td>GRM1</td>\n",
       "      <td>drug</td>\n",
       "      <td>interacts_with</td>\n",
       "    </tr>\n",
       "    <tr>\n",
       "      <th>4</th>\n",
       "      <td>CPCCOEt</td>\n",
       "      <td>GRM1</td>\n",
       "      <td>drug</td>\n",
       "      <td>interacts_with</td>\n",
       "    </tr>\n",
       "  </tbody>\n",
       "</table>\n",
       "</div>"
      ],
      "text/plain": [
       "                              source_node target_node source_type  \\\n",
       "0  Non-structural protein 14 [SARS-CoV-2]         GLA        drug   \n",
       "1                                    AIDA        GRM1        drug   \n",
       "2                                 CPCCOEt        GRM1        drug   \n",
       "3                                    AIDA        GRM1        drug   \n",
       "4                                 CPCCOEt        GRM1        drug   \n",
       "\n",
       "        edge_type  \n",
       "0  interacts_with  \n",
       "1  interacts_with  \n",
       "2  interacts_with  \n",
       "3  interacts_with  \n",
       "4  interacts_with  "
      ]
     },
     "execution_count": 34,
     "metadata": {},
     "output_type": "execute_result"
    }
   ],
   "source": [
    "drug_gene_links.head()"
   ]
  },
  {
   "cell_type": "markdown",
   "metadata": {},
   "source": [
    "### Create a new column containing the target type"
   ]
  },
  {
   "cell_type": "code",
   "execution_count": 35,
   "metadata": {},
   "outputs": [],
   "source": [
    "drug_gene_links[\"target_type\"] = \"gene\""
   ]
  },
  {
   "cell_type": "code",
   "execution_count": 36,
   "metadata": {},
   "outputs": [
    {
     "data": {
      "text/html": [
       "<div>\n",
       "<style scoped>\n",
       "    .dataframe tbody tr th:only-of-type {\n",
       "        vertical-align: middle;\n",
       "    }\n",
       "\n",
       "    .dataframe tbody tr th {\n",
       "        vertical-align: top;\n",
       "    }\n",
       "\n",
       "    .dataframe thead th {\n",
       "        text-align: right;\n",
       "    }\n",
       "</style>\n",
       "<table border=\"1\" class=\"dataframe\">\n",
       "  <thead>\n",
       "    <tr style=\"text-align: right;\">\n",
       "      <th></th>\n",
       "      <th>source_node</th>\n",
       "      <th>target_node</th>\n",
       "      <th>source_type</th>\n",
       "      <th>edge_type</th>\n",
       "      <th>target_type</th>\n",
       "    </tr>\n",
       "  </thead>\n",
       "  <tbody>\n",
       "    <tr>\n",
       "      <th>0</th>\n",
       "      <td>Non-structural protein 14 [SARS-CoV-2]</td>\n",
       "      <td>GLA</td>\n",
       "      <td>drug</td>\n",
       "      <td>interacts_with</td>\n",
       "      <td>gene</td>\n",
       "    </tr>\n",
       "    <tr>\n",
       "      <th>1</th>\n",
       "      <td>AIDA</td>\n",
       "      <td>GRM1</td>\n",
       "      <td>drug</td>\n",
       "      <td>interacts_with</td>\n",
       "      <td>gene</td>\n",
       "    </tr>\n",
       "    <tr>\n",
       "      <th>2</th>\n",
       "      <td>CPCCOEt</td>\n",
       "      <td>GRM1</td>\n",
       "      <td>drug</td>\n",
       "      <td>interacts_with</td>\n",
       "      <td>gene</td>\n",
       "    </tr>\n",
       "    <tr>\n",
       "      <th>3</th>\n",
       "      <td>AIDA</td>\n",
       "      <td>GRM1</td>\n",
       "      <td>drug</td>\n",
       "      <td>interacts_with</td>\n",
       "      <td>gene</td>\n",
       "    </tr>\n",
       "    <tr>\n",
       "      <th>4</th>\n",
       "      <td>CPCCOEt</td>\n",
       "      <td>GRM1</td>\n",
       "      <td>drug</td>\n",
       "      <td>interacts_with</td>\n",
       "      <td>gene</td>\n",
       "    </tr>\n",
       "  </tbody>\n",
       "</table>\n",
       "</div>"
      ],
      "text/plain": [
       "                              source_node target_node source_type  \\\n",
       "0  Non-structural protein 14 [SARS-CoV-2]         GLA        drug   \n",
       "1                                    AIDA        GRM1        drug   \n",
       "2                                 CPCCOEt        GRM1        drug   \n",
       "3                                    AIDA        GRM1        drug   \n",
       "4                                 CPCCOEt        GRM1        drug   \n",
       "\n",
       "        edge_type target_type  \n",
       "0  interacts_with        gene  \n",
       "1  interacts_with        gene  \n",
       "2  interacts_with        gene  \n",
       "3  interacts_with        gene  \n",
       "4  interacts_with        gene  "
      ]
     },
     "execution_count": 36,
     "metadata": {},
     "output_type": "execute_result"
    }
   ],
   "source": [
    "drug_gene_links.head()"
   ]
  },
  {
   "cell_type": "markdown",
   "metadata": {},
   "source": [
    "## Repeat for disease gene pairs"
   ]
  },
  {
   "cell_type": "code",
   "execution_count": 33,
   "metadata": {},
   "outputs": [],
   "source": [
    "disease_gene_links = simple_table[[\"disease\", \"gene\"]]"
   ]
  },
  {
   "cell_type": "code",
   "execution_count": 34,
   "metadata": {},
   "outputs": [
    {
     "data": {
      "text/html": [
       "<div>\n",
       "<style scoped>\n",
       "    .dataframe tbody tr th:only-of-type {\n",
       "        vertical-align: middle;\n",
       "    }\n",
       "\n",
       "    .dataframe tbody tr th {\n",
       "        vertical-align: top;\n",
       "    }\n",
       "\n",
       "    .dataframe thead th {\n",
       "        text-align: right;\n",
       "    }\n",
       "</style>\n",
       "<table border=\"1\" class=\"dataframe\">\n",
       "  <thead>\n",
       "    <tr style=\"text-align: right;\">\n",
       "      <th></th>\n",
       "      <th>disease</th>\n",
       "      <th>gene</th>\n",
       "    </tr>\n",
       "  </thead>\n",
       "  <tbody>\n",
       "    <tr>\n",
       "      <th>0</th>\n",
       "      <td>pre-eclampsia</td>\n",
       "      <td>ADRA1D</td>\n",
       "    </tr>\n",
       "    <tr>\n",
       "      <th>1</th>\n",
       "      <td>pre-eclampsia</td>\n",
       "      <td>ADRA1D</td>\n",
       "    </tr>\n",
       "    <tr>\n",
       "      <th>2</th>\n",
       "      <td>pre-eclampsia</td>\n",
       "      <td>ADRA1D</td>\n",
       "    </tr>\n",
       "    <tr>\n",
       "      <th>3</th>\n",
       "      <td>pre-eclampsia</td>\n",
       "      <td>ADRA1D</td>\n",
       "    </tr>\n",
       "    <tr>\n",
       "      <th>4</th>\n",
       "      <td>pre-eclampsia</td>\n",
       "      <td>ADRA1D</td>\n",
       "    </tr>\n",
       "  </tbody>\n",
       "</table>\n",
       "</div>"
      ],
      "text/plain": [
       "         disease    gene\n",
       "0  pre-eclampsia  ADRA1D\n",
       "1  pre-eclampsia  ADRA1D\n",
       "2  pre-eclampsia  ADRA1D\n",
       "3  pre-eclampsia  ADRA1D\n",
       "4  pre-eclampsia  ADRA1D"
      ]
     },
     "execution_count": 34,
     "metadata": {},
     "output_type": "execute_result"
    }
   ],
   "source": [
    "disease_gene_links.head()"
   ]
  },
  {
   "cell_type": "markdown",
   "metadata": {},
   "source": [
    "## Rename the columns"
   ]
  },
  {
   "cell_type": "code",
   "execution_count": 35,
   "metadata": {},
   "outputs": [],
   "source": [
    "disease_gene_links = disease_gene_links.rename(columns = {\"disease\": \"source_node\", \"gene\": \"target_node\"})"
   ]
  },
  {
   "cell_type": "code",
   "execution_count": 36,
   "metadata": {},
   "outputs": [
    {
     "data": {
      "text/html": [
       "<div>\n",
       "<style scoped>\n",
       "    .dataframe tbody tr th:only-of-type {\n",
       "        vertical-align: middle;\n",
       "    }\n",
       "\n",
       "    .dataframe tbody tr th {\n",
       "        vertical-align: top;\n",
       "    }\n",
       "\n",
       "    .dataframe thead th {\n",
       "        text-align: right;\n",
       "    }\n",
       "</style>\n",
       "<table border=\"1\" class=\"dataframe\">\n",
       "  <thead>\n",
       "    <tr style=\"text-align: right;\">\n",
       "      <th></th>\n",
       "      <th>source_node</th>\n",
       "      <th>target_node</th>\n",
       "    </tr>\n",
       "  </thead>\n",
       "  <tbody>\n",
       "    <tr>\n",
       "      <th>0</th>\n",
       "      <td>pre-eclampsia</td>\n",
       "      <td>ADRA1D</td>\n",
       "    </tr>\n",
       "    <tr>\n",
       "      <th>1</th>\n",
       "      <td>pre-eclampsia</td>\n",
       "      <td>ADRA1D</td>\n",
       "    </tr>\n",
       "    <tr>\n",
       "      <th>2</th>\n",
       "      <td>pre-eclampsia</td>\n",
       "      <td>ADRA1D</td>\n",
       "    </tr>\n",
       "    <tr>\n",
       "      <th>3</th>\n",
       "      <td>pre-eclampsia</td>\n",
       "      <td>ADRA1D</td>\n",
       "    </tr>\n",
       "    <tr>\n",
       "      <th>4</th>\n",
       "      <td>pre-eclampsia</td>\n",
       "      <td>ADRA1D</td>\n",
       "    </tr>\n",
       "  </tbody>\n",
       "</table>\n",
       "</div>"
      ],
      "text/plain": [
       "     source_node target_node\n",
       "0  pre-eclampsia      ADRA1D\n",
       "1  pre-eclampsia      ADRA1D\n",
       "2  pre-eclampsia      ADRA1D\n",
       "3  pre-eclampsia      ADRA1D\n",
       "4  pre-eclampsia      ADRA1D"
      ]
     },
     "execution_count": 36,
     "metadata": {},
     "output_type": "execute_result"
    }
   ],
   "source": [
    "disease_gene_links.head()"
   ]
  },
  {
   "cell_type": "markdown",
   "metadata": {},
   "source": [
    "### Create the new columns"
   ]
  },
  {
   "cell_type": "code",
   "execution_count": 37,
   "metadata": {},
   "outputs": [],
   "source": [
    "disease_gene_links[\"source_type\"] = \"disease\"\n",
    "disease_gene_links[\"edge_type\"] = \"associated_with\"\n",
    "disease_gene_links[\"target_type\"] = \"gene\""
   ]
  },
  {
   "cell_type": "code",
   "execution_count": 38,
   "metadata": {},
   "outputs": [
    {
     "data": {
      "text/html": [
       "<div>\n",
       "<style scoped>\n",
       "    .dataframe tbody tr th:only-of-type {\n",
       "        vertical-align: middle;\n",
       "    }\n",
       "\n",
       "    .dataframe tbody tr th {\n",
       "        vertical-align: top;\n",
       "    }\n",
       "\n",
       "    .dataframe thead th {\n",
       "        text-align: right;\n",
       "    }\n",
       "</style>\n",
       "<table border=\"1\" class=\"dataframe\">\n",
       "  <thead>\n",
       "    <tr style=\"text-align: right;\">\n",
       "      <th></th>\n",
       "      <th>source_node</th>\n",
       "      <th>target_node</th>\n",
       "      <th>source_type</th>\n",
       "      <th>edge_type</th>\n",
       "      <th>target_type</th>\n",
       "    </tr>\n",
       "  </thead>\n",
       "  <tbody>\n",
       "    <tr>\n",
       "      <th>0</th>\n",
       "      <td>pre-eclampsia</td>\n",
       "      <td>ADRA1D</td>\n",
       "      <td>disease</td>\n",
       "      <td>associated_with</td>\n",
       "      <td>gene</td>\n",
       "    </tr>\n",
       "    <tr>\n",
       "      <th>1</th>\n",
       "      <td>pre-eclampsia</td>\n",
       "      <td>ADRA1D</td>\n",
       "      <td>disease</td>\n",
       "      <td>associated_with</td>\n",
       "      <td>gene</td>\n",
       "    </tr>\n",
       "    <tr>\n",
       "      <th>2</th>\n",
       "      <td>pre-eclampsia</td>\n",
       "      <td>ADRA1D</td>\n",
       "      <td>disease</td>\n",
       "      <td>associated_with</td>\n",
       "      <td>gene</td>\n",
       "    </tr>\n",
       "    <tr>\n",
       "      <th>3</th>\n",
       "      <td>pre-eclampsia</td>\n",
       "      <td>ADRA1D</td>\n",
       "      <td>disease</td>\n",
       "      <td>associated_with</td>\n",
       "      <td>gene</td>\n",
       "    </tr>\n",
       "    <tr>\n",
       "      <th>4</th>\n",
       "      <td>pre-eclampsia</td>\n",
       "      <td>ADRA1D</td>\n",
       "      <td>disease</td>\n",
       "      <td>associated_with</td>\n",
       "      <td>gene</td>\n",
       "    </tr>\n",
       "  </tbody>\n",
       "</table>\n",
       "</div>"
      ],
      "text/plain": [
       "     source_node target_node source_type        edge_type target_type\n",
       "0  pre-eclampsia      ADRA1D     disease  associated_with        gene\n",
       "1  pre-eclampsia      ADRA1D     disease  associated_with        gene\n",
       "2  pre-eclampsia      ADRA1D     disease  associated_with        gene\n",
       "3  pre-eclampsia      ADRA1D     disease  associated_with        gene\n",
       "4  pre-eclampsia      ADRA1D     disease  associated_with        gene"
      ]
     },
     "execution_count": 38,
     "metadata": {},
     "output_type": "execute_result"
    }
   ],
   "source": [
    "disease_gene_links.head()"
   ]
  },
  {
   "cell_type": "code",
   "execution_count": 39,
   "metadata": {},
   "outputs": [],
   "source": [
    "drug_disease_links = (simple_table\n",
    "    [[\"drug\", \"disease\"]]\n",
    "    .assign(\n",
    "        source_type = \"drug\",\n",
    "        edge_type = \"may treat\",\n",
    "        target_type = \"disease\"\n",
    "    )\n",
    "    .rename(columns = {\"drug\": \"source_node\", \"disease\": \"target_node\"})\n",
    ")"
   ]
  },
  {
   "cell_type": "markdown",
   "metadata": {},
   "source": [
    "# Join the (disease, gene), (drug, gene), and (drug, disease) tables together"
   ]
  },
  {
   "cell_type": "markdown",
   "metadata": {},
   "source": [
    "### Number of rows of each table"
   ]
  },
  {
   "cell_type": "code",
   "execution_count": 40,
   "metadata": {},
   "outputs": [
    {
     "data": {
      "text/plain": [
       "1000"
      ]
     },
     "execution_count": 40,
     "metadata": {},
     "output_type": "execute_result"
    }
   ],
   "source": [
    "len(drug_gene_links)"
   ]
  },
  {
   "cell_type": "code",
   "execution_count": 41,
   "metadata": {},
   "outputs": [
    {
     "data": {
      "text/plain": [
       "1000"
      ]
     },
     "execution_count": 41,
     "metadata": {},
     "output_type": "execute_result"
    }
   ],
   "source": [
    "len(disease_gene_links)"
   ]
  },
  {
   "cell_type": "code",
   "execution_count": 42,
   "metadata": {},
   "outputs": [
    {
     "data": {
      "text/plain": [
       "1000"
      ]
     },
     "execution_count": 42,
     "metadata": {},
     "output_type": "execute_result"
    }
   ],
   "source": [
    "len(drug_disease_links)"
   ]
  },
  {
   "cell_type": "markdown",
   "metadata": {},
   "source": [
    "### Join all three tables together"
   ]
  },
  {
   "cell_type": "code",
   "execution_count": 43,
   "metadata": {},
   "outputs": [],
   "source": [
    "cytoscape_edges = pd.concat([drug_gene_links, disease_gene_links, drug_disease_links])"
   ]
  },
  {
   "cell_type": "code",
   "execution_count": 44,
   "metadata": {},
   "outputs": [
    {
     "data": {
      "text/html": [
       "<div>\n",
       "<style scoped>\n",
       "    .dataframe tbody tr th:only-of-type {\n",
       "        vertical-align: middle;\n",
       "    }\n",
       "\n",
       "    .dataframe tbody tr th {\n",
       "        vertical-align: top;\n",
       "    }\n",
       "\n",
       "    .dataframe thead th {\n",
       "        text-align: right;\n",
       "    }\n",
       "</style>\n",
       "<table border=\"1\" class=\"dataframe\">\n",
       "  <thead>\n",
       "    <tr style=\"text-align: right;\">\n",
       "      <th></th>\n",
       "      <th>source_node</th>\n",
       "      <th>target_node</th>\n",
       "      <th>source_type</th>\n",
       "      <th>edge_type</th>\n",
       "      <th>target_type</th>\n",
       "    </tr>\n",
       "  </thead>\n",
       "  <tbody>\n",
       "    <tr>\n",
       "      <th>0</th>\n",
       "      <td>epinephrine</td>\n",
       "      <td>ADRA1D</td>\n",
       "      <td>drug</td>\n",
       "      <td>interacts_with</td>\n",
       "      <td>gene</td>\n",
       "    </tr>\n",
       "    <tr>\n",
       "      <th>1</th>\n",
       "      <td>norepinephrine</td>\n",
       "      <td>ADRA1D</td>\n",
       "      <td>drug</td>\n",
       "      <td>interacts_with</td>\n",
       "      <td>gene</td>\n",
       "    </tr>\n",
       "    <tr>\n",
       "      <th>2</th>\n",
       "      <td>clozapine</td>\n",
       "      <td>ADRA1D</td>\n",
       "      <td>drug</td>\n",
       "      <td>interacts_with</td>\n",
       "      <td>gene</td>\n",
       "    </tr>\n",
       "    <tr>\n",
       "      <th>3</th>\n",
       "      <td>terazosin</td>\n",
       "      <td>ADRA1D</td>\n",
       "      <td>drug</td>\n",
       "      <td>interacts_with</td>\n",
       "      <td>gene</td>\n",
       "    </tr>\n",
       "    <tr>\n",
       "      <th>4</th>\n",
       "      <td>indoramin</td>\n",
       "      <td>ADRA1D</td>\n",
       "      <td>drug</td>\n",
       "      <td>interacts_with</td>\n",
       "      <td>gene</td>\n",
       "    </tr>\n",
       "  </tbody>\n",
       "</table>\n",
       "</div>"
      ],
      "text/plain": [
       "      source_node target_node source_type       edge_type target_type\n",
       "0     epinephrine      ADRA1D        drug  interacts_with        gene\n",
       "1  norepinephrine      ADRA1D        drug  interacts_with        gene\n",
       "2       clozapine      ADRA1D        drug  interacts_with        gene\n",
       "3       terazosin      ADRA1D        drug  interacts_with        gene\n",
       "4       indoramin      ADRA1D        drug  interacts_with        gene"
      ]
     },
     "execution_count": 44,
     "metadata": {},
     "output_type": "execute_result"
    }
   ],
   "source": [
    "cytoscape_edges.head()"
   ]
  },
  {
   "cell_type": "code",
   "execution_count": 45,
   "metadata": {},
   "outputs": [
    {
     "data": {
      "text/plain": [
       "3000"
      ]
     },
     "execution_count": 45,
     "metadata": {},
     "output_type": "execute_result"
    }
   ],
   "source": [
    "len(cytoscape_edges)"
   ]
  },
  {
   "cell_type": "markdown",
   "metadata": {},
   "source": [
    "Note that the final result has 1785 (= 595 * 3) rows. (595 was the original number of results returned)"
   ]
  },
  {
   "cell_type": "markdown",
   "metadata": {},
   "source": [
    "### Reorder columns"
   ]
  },
  {
   "cell_type": "code",
   "execution_count": 46,
   "metadata": {},
   "outputs": [],
   "source": [
    "cytoscape_edges = cytoscape_edges[[\"source_node\", \"source_type\", \"edge_type\", \"target_node\", \"target_type\"]]"
   ]
  },
  {
   "cell_type": "code",
   "execution_count": 47,
   "metadata": {},
   "outputs": [
    {
     "data": {
      "text/html": [
       "<div>\n",
       "<style scoped>\n",
       "    .dataframe tbody tr th:only-of-type {\n",
       "        vertical-align: middle;\n",
       "    }\n",
       "\n",
       "    .dataframe tbody tr th {\n",
       "        vertical-align: top;\n",
       "    }\n",
       "\n",
       "    .dataframe thead th {\n",
       "        text-align: right;\n",
       "    }\n",
       "</style>\n",
       "<table border=\"1\" class=\"dataframe\">\n",
       "  <thead>\n",
       "    <tr style=\"text-align: right;\">\n",
       "      <th></th>\n",
       "      <th>source_node</th>\n",
       "      <th>source_type</th>\n",
       "      <th>edge_type</th>\n",
       "      <th>target_node</th>\n",
       "      <th>target_type</th>\n",
       "    </tr>\n",
       "  </thead>\n",
       "  <tbody>\n",
       "    <tr>\n",
       "      <th>0</th>\n",
       "      <td>epinephrine</td>\n",
       "      <td>drug</td>\n",
       "      <td>interacts_with</td>\n",
       "      <td>ADRA1D</td>\n",
       "      <td>gene</td>\n",
       "    </tr>\n",
       "    <tr>\n",
       "      <th>1</th>\n",
       "      <td>norepinephrine</td>\n",
       "      <td>drug</td>\n",
       "      <td>interacts_with</td>\n",
       "      <td>ADRA1D</td>\n",
       "      <td>gene</td>\n",
       "    </tr>\n",
       "    <tr>\n",
       "      <th>2</th>\n",
       "      <td>clozapine</td>\n",
       "      <td>drug</td>\n",
       "      <td>interacts_with</td>\n",
       "      <td>ADRA1D</td>\n",
       "      <td>gene</td>\n",
       "    </tr>\n",
       "    <tr>\n",
       "      <th>3</th>\n",
       "      <td>terazosin</td>\n",
       "      <td>drug</td>\n",
       "      <td>interacts_with</td>\n",
       "      <td>ADRA1D</td>\n",
       "      <td>gene</td>\n",
       "    </tr>\n",
       "    <tr>\n",
       "      <th>4</th>\n",
       "      <td>indoramin</td>\n",
       "      <td>drug</td>\n",
       "      <td>interacts_with</td>\n",
       "      <td>ADRA1D</td>\n",
       "      <td>gene</td>\n",
       "    </tr>\n",
       "  </tbody>\n",
       "</table>\n",
       "</div>"
      ],
      "text/plain": [
       "      source_node source_type       edge_type target_node target_type\n",
       "0     epinephrine        drug  interacts_with      ADRA1D        gene\n",
       "1  norepinephrine        drug  interacts_with      ADRA1D        gene\n",
       "2       clozapine        drug  interacts_with      ADRA1D        gene\n",
       "3       terazosin        drug  interacts_with      ADRA1D        gene\n",
       "4       indoramin        drug  interacts_with      ADRA1D        gene"
      ]
     },
     "execution_count": 47,
     "metadata": {},
     "output_type": "execute_result"
    }
   ],
   "source": [
    "cytoscape_edges.head()"
   ]
  },
  {
   "cell_type": "markdown",
   "metadata": {},
   "source": [
    "## Save file to disk"
   ]
  },
  {
   "cell_type": "code",
   "execution_count": 48,
   "metadata": {},
   "outputs": [],
   "source": [
    "cytoscape_edges.to_csv(\"drug_gene_disease_network.txt\", sep = '\\t', index = False, encoding = 'utf-8')"
   ]
  },
  {
   "cell_type": "markdown",
   "metadata": {},
   "source": [
    "#open a new network in cytoscape and load the file by: File..Import..Network\n",
    "#use Cytoscape to develop a visualization \n",
    "#submit the tab-delimited output files, an image of your network, and an explanation of what you did as your assignment\n",
    "#Are there any notable hubs in the network?\n",
    "#Could you extend the code to identify them automatically?\n",
    "#can you adapt the code to search for a specific drug or a specific disease?"
   ]
  },
  {
   "cell_type": "code",
   "execution_count": null,
   "metadata": {},
   "outputs": [],
   "source": []
  }
 ],
 "metadata": {
  "kernelspec": {
   "display_name": "Python 3 (ipykernel)",
   "language": "python",
   "name": "python3"
  },
  "language_info": {
   "codemirror_mode": {
    "name": "ipython",
    "version": 3
   },
   "file_extension": ".py",
   "mimetype": "text/x-python",
   "name": "python",
   "nbconvert_exporter": "python",
   "pygments_lexer": "ipython3",
   "version": "3.9.9"
  }
 },
 "nbformat": 4,
 "nbformat_minor": 1
}
